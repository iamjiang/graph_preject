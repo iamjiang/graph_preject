{
 "cells": [
  {
   "cell_type": "code",
   "execution_count": 1,
   "metadata": {},
   "outputs": [],
   "source": [
    "# !pip install --quiet --pre dgl-cu101\n",
    "# !pip install --quiet catboost\n",
    "# !pip install --quiet category-encoders==2.2.2\n",
    "# !pip install --quiet /mnt/dgl_cu102-0.6.0-cp36-cp36m-manylinux1_x86_64.whl\n",
    "# !pip install --quiet torch==1.6.0"
   ]
  },
  {
   "cell_type": "code",
   "execution_count": 1,
   "metadata": {},
   "outputs": [
    {
     "name": "stderr",
     "output_type": "stream",
     "text": [
      "Using backend: pytorch\n"
     ]
    },
    {
     "name": "stdout",
     "output_type": "stream",
     "text": [
      "0.20.1\n",
      "1.6.0\n"
     ]
    }
   ],
   "source": [
    "import argparse\n",
    "import itertools\n",
    "import time\n",
    "import math\n",
    "import pickle\n",
    "import random\n",
    "from tqdm import tqdm\n",
    "tqdm.pandas(position=0, leave=True)\n",
    "\n",
    "from collections import defaultdict as ddict\n",
    "import pandas as pd\n",
    "import numpy as np\n",
    "from numpy import save,load,savetxt,loadtxt,savez_compressed\n",
    "import json\n",
    "import os\n",
    "\n",
    "from sklearn import metrics\n",
    "from sklearn.metrics import roc_auc_score, f1_score,average_precision_score\n",
    "from sklearn.metrics import precision_recall_fscore_support\n",
    "from sklearn.metrics import precision_recall_curve\n",
    "from sklearn.metrics import auc as auc_score\n",
    "from sklearn.metrics import roc_curve\n",
    "from sklearn.preprocessing import LabelEncoder, label_binarize\n",
    "\n",
    "import catboost\n",
    "from catboost import CatBoostClassifier, CatBoostRegressor, Pool, sum_models\n",
    "# import category_encoders\n",
    "# from category_encoders import CatBoostEncoder\n",
    "\n",
    "import matplotlib.pyplot as plt\n",
    "%matplotlib inline\n",
    "plt.rcParams['figure.figsize']=(5.0,4.0)\n",
    "plt.rcParams['image.interpolation']='nearest'\n",
    "plt.rcParams['image.cmap']='gray'\n",
    "import warnings\n",
    "warnings.filterwarnings('ignore')\n",
    "import utils\n",
    "# import tsne_func\n",
    "\n",
    "import torch \n",
    "import torch.nn as nn\n",
    "import torch.nn.functional as F\n",
    "from torch.utils.data import Dataset\n",
    "from torch.utils.data import DataLoader\n",
    "\n",
    "import dgl\n",
    "import dgl.nn as dglnn\n",
    "import dgl.function as Fn\n",
    "\n",
    "data_dir=\"/workspace/cjiang/eagle_project/CAP_graph/dataset/\"\n",
    "root_dir=\"/workspace/cjiang/eagle_project/CAP_graph/BGNN/\"\n",
    "\n",
    "os.chdir(root_dir)\n",
    "\n",
    "print(catboost.__version__)\n",
    "# print(category_encoders.__version__)\n",
    "print(torch.__version__)"
   ]
  },
  {
   "cell_type": "code",
   "execution_count": 2,
   "metadata": {},
   "outputs": [],
   "source": [
    "def seed_everything(seed):\n",
    "    random.seed(seed)\n",
    "    torch.manual_seed(seed)\n",
    "    torch.cuda.manual_seed_all(seed)\n",
    "    torch.backends.cudnn.deterministic = True\n",
    "    torch.backends.cudnn.benchmark = False\n",
    "    np.random.seed(seed)\n",
    "    os.environ['PYTHONHASHSEED'] = str(seed)\n",
    "    \n",
    "seed_everything(101)"
   ]
  },
  {
   "cell_type": "code",
   "execution_count": 3,
   "metadata": {},
   "outputs": [
    {
     "name": "stdout",
     "output_type": "stream",
     "text": [
      "It took 13.8632 seconds to load graph\n"
     ]
    }
   ],
   "source": [
    "KG_dir=\"/workspace/cjiang/eagle_project/CAP_graph/BGNN/\"\n",
    "\n",
    "start=time.time()\n",
    "with open(os.path.join(KG_dir,'CAP_Graph_v1'), 'rb') as f:\n",
    "    G,multi_label,binary_label,\\\n",
    "    train_mask_multi_label,  val_mask_multi_label,  test_mask_multi_label,\\\n",
    "    train_mask_binary_label, val_mask_binary_label, test_mask_binary_label= pickle.load(f)\n",
    "end=time.time()\n",
    "print(\"It took {:0.4f} seconds to load graph\".format(end-start))"
   ]
  },
  {
   "cell_type": "code",
   "execution_count": 4,
   "metadata": {},
   "outputs": [
    {
     "data": {
      "text/plain": [
       "['usaayr',\n",
       " 'AGE_BAND',\n",
       " 'ORIGEL',\n",
       " 'ELIG2',\n",
       " 'SEX',\n",
       " 'MARST',\n",
       " 'BRANCH',\n",
       " 'ENLPAYGD',\n",
       " 'MILST',\n",
       " 'MLIST_OrigStat',\n",
       " 'STATE']"
      ]
     },
     "execution_count": 4,
     "metadata": {},
     "output_type": "execute_result"
    }
   ],
   "source": [
    "usaanr_feat=[]\n",
    "for key, scheme in G.node_attr_schemes(ntype=\"usaanr\").items():\n",
    "    usaanr_feat.append(key)\n",
    "usaanr_feat=[x for x in usaanr_feat if x not in ['usaanr','cmpyelig','ACTCORP','Segment']]\n",
    "usaanr_feat"
   ]
  },
  {
   "cell_type": "code",
   "execution_count": 5,
   "metadata": {},
   "outputs": [
    {
     "name": "stderr",
     "output_type": "stream",
     "text": [
      "100%|██████████| 11/11 [08:12<00:00, 44.73s/it]\n"
     ]
    }
   ],
   "source": [
    "class graph_2_df:\n",
    "    def __init__(self,g):\n",
    "        \n",
    "        self.g=g\n",
    "        \n",
    "    def df_creation(self):\n",
    "        usaanr_feat=[]\n",
    "        for key, scheme in self.g.node_attr_schemes(ntype=\"usaanr\").items():\n",
    "            usaanr_feat.append(key)\n",
    "        usaanr_feat=[x for x in usaanr_feat if x not in ['usaanr','cmpyelig','ACTCORP','Segment']]\n",
    "        \n",
    "        DF=pd.DataFrame()\n",
    "        for i,col in enumerate(usaanr_feat):\n",
    "            ndata=self.g.nodes['usaanr'].data[col].squeeze().numpy()\n",
    "            DF[col]=ndata\n",
    "        \n",
    "        class_le=LabelEncoder()\n",
    "\n",
    "        for i in tqdm(range(len(DF.columns)),position=0,leave=True):\n",
    "            col=DF.columns[i]\n",
    "\n",
    "            DF[col]=class_le.fit_transform(DF[col])\n",
    "            DF[col]=DF[col].astype('str')\n",
    "                \n",
    "        return DF\n",
    "\n",
    "DF=graph_2_df(G).df_creation()\n"
   ]
  },
  {
   "cell_type": "code",
   "execution_count": 6,
   "metadata": {},
   "outputs": [
    {
     "data": {
      "text/plain": [
       "array([ 0,  1,  2,  3,  4,  5,  6,  7,  8,  9, 10])"
      ]
     },
     "execution_count": 6,
     "metadata": {},
     "output_type": "execute_result"
    }
   ],
   "source": [
    "categorical_index=np.where(DF.dtypes==object)[0]\n",
    "categorical_index"
   ]
  },
  {
   "cell_type": "code",
   "execution_count": 10,
   "metadata": {},
   "outputs": [],
   "source": [
    "def lift_gain_eval(logit,label,topk):\n",
    "    DF=pd.DataFrame(columns=[\"pred_score\",\"actual_label\"])\n",
    "    DF[\"pred_score\"]=logit\n",
    "    DF[\"actual_label\"]=label\n",
    "    DF.sort_values(by=\"pred_score\", ascending=False, inplace=True)\n",
    "    gain={}\n",
    "    for p in topk:\n",
    "        N=math.ceil(int(DF.shape[0]*p))\n",
    "        DF2=DF.nlargest(N,\"pred_score\",keep=\"first\")\n",
    "        gain[str(int(p*100))+\"%\"]=round(DF2.actual_label.sum()/(DF.actual_label.sum()),2)\n",
    "    return gain\n",
    "\n",
    "def get_class_count_weight(y,n_classes):\n",
    "    classes_count=[]\n",
    "    weight=[]\n",
    "    for i in range(n_classes):\n",
    "        count=np.sum(y.squeeze()==i)\n",
    "        classes_count.append(count)\n",
    "        weight.append(len(y)/(n_classes*count))\n",
    "    return classes_count,weight\n",
    "\n",
    "def evaluate(target, predicted):\n",
    "    true_label_mask=[1 if (np.argmax(x)-target[i])==0 else 0 for i,x in enumerate(predicted)]\n",
    "    nb_prediction=len(true_label_mask)\n",
    "    true_prediction=sum(true_label_mask)\n",
    "    false_prediction=nb_prediction-true_prediction\n",
    "    accuracy=true_prediction/nb_prediction\n",
    "    \n",
    "    precision, recall, fscore, support = precision_recall_fscore_support(target, predicted.argmax(axis=1))\n",
    "    auc = roc_auc_score(target.ravel(), torch.sigmoid(torch.from_numpy(predicted))[:,1].numpy().ravel())\n",
    "    \n",
    "    prec,rec,_ = precision_recall_curve(target.ravel(), torch.sigmoid(torch.from_numpy(predicted))[:,1].numpy().ravel())\n",
    "    \n",
    "    pr_auc=auc_score(rec,prec)\n",
    "    \n",
    "    arg1=predicted[:,1]\n",
    "    arg2=target\n",
    "    gain = lift_gain_eval(arg1,arg2,topk=[0.01,0.05,0.10])\n",
    "    \n",
    "    return {\n",
    "        \"nb_example\":len(target),\n",
    "        \"true_prediction\":true_prediction,\n",
    "        \"false_prediction\":false_prediction,\n",
    "        \"accuracy\":accuracy,\n",
    "        \"precision\":precision[1], \n",
    "        \"recall\":recall[1], \n",
    "        \"f1_score\":fscore[1],\n",
    "        \"AUC\":auc,\n",
    "        \"pr_auc\":pr_auc,\n",
    "        \"GAIN\":gain\n",
    "    }"
   ]
  },
  {
   "cell_type": "markdown",
   "metadata": {},
   "source": [
    "#### LABEL"
   ]
  },
  {
   "cell_type": "code",
   "execution_count": 11,
   "metadata": {},
   "outputs": [
    {
     "data": {
      "text/html": [
       "<style  type=\"text/css\" >\n",
       "</style><table id=\"T_4c62673a_01c5_11ec_9f76_0242ac110003\" ><thead>    <tr>        <th class=\"blank level0\" ></th>        <th class=\"col_heading level0 col0\" >Auto or Not</th>        <th class=\"col_heading level0 col1\" >count</th>        <th class=\"col_heading level0 col2\" >weight</th>    </tr></thead><tbody>\n",
       "                <tr>\n",
       "                        <th id=\"T_4c62673a_01c5_11ec_9f76_0242ac110003level0_row0\" class=\"row_heading level0 row0\" >0</th>\n",
       "                        <td id=\"T_4c62673a_01c5_11ec_9f76_0242ac110003row0_col0\" class=\"data row0 col0\" >No</td>\n",
       "                        <td id=\"T_4c62673a_01c5_11ec_9f76_0242ac110003row0_col1\" class=\"data row0 col1\" >19,358,913</td>\n",
       "                        <td id=\"T_4c62673a_01c5_11ec_9f76_0242ac110003row0_col2\" class=\"data row0 col2\" >0.66</td>\n",
       "            </tr>\n",
       "            <tr>\n",
       "                        <th id=\"T_4c62673a_01c5_11ec_9f76_0242ac110003level0_row1\" class=\"row_heading level0 row1\" >1</th>\n",
       "                        <td id=\"T_4c62673a_01c5_11ec_9f76_0242ac110003row1_col0\" class=\"data row1 col0\" >Yes</td>\n",
       "                        <td id=\"T_4c62673a_01c5_11ec_9f76_0242ac110003row1_col1\" class=\"data row1 col1\" >6,309,591</td>\n",
       "                        <td id=\"T_4c62673a_01c5_11ec_9f76_0242ac110003row1_col2\" class=\"data row1 col2\" >2.03</td>\n",
       "            </tr>\n",
       "    </tbody></table>"
      ],
      "text/plain": [
       "<pandas.io.formats.style.Styler at 0x7f514d6cdda0>"
      ]
     },
     "execution_count": 11,
     "metadata": {},
     "output_type": "execute_result"
    }
   ],
   "source": [
    "y=binary_label.squeeze().numpy()\n",
    "n_classes=torch.unique(binary_label).shape[0]\n",
    "classes_count,weight=get_class_count_weight(y,n_classes)\n",
    "imbalance_classes={}\n",
    "# imbalance_classes[\"category\"]=torch.unique(binary_label).tolist()\n",
    "imbalance_classes[\"Auto or Not\"]=[\"No\",\"Yes\"]\n",
    "imbalance_classes[\"count\"]=classes_count\n",
    "imbalance_classes[\"weight\"]=weight\n",
    "imbalance_classes=pd.DataFrame(imbalance_classes)\n",
    "imbalance_classes.style.format({\"count\":\"{:,}\",\"weight\":\"{:.2f}\"})"
   ]
  },
  {
   "cell_type": "code",
   "execution_count": 12,
   "metadata": {},
   "outputs": [
    {
     "data": {
      "text/plain": [
       "Text(0.5, 1.0, 'Distribution of Target Variables')"
      ]
     },
     "execution_count": 12,
     "metadata": {},
     "output_type": "execute_result"
    },
    {
     "data": {
      "image/png": "[encoded data removed]",
      "text/plain": [
       "<Figure size 360x288 with 1 Axes>"
      ]
     },
     "metadata": {
      "needs_background": "light"
     },
     "output_type": "display_data"
    }
   ],
   "source": [
    "import seaborn as sns\n",
    "sns.barplot(x=\"Auto or Not\",y=\"count\",data=imbalance_classes)\n",
    "plt.title(\"Distribution of Target Variables\")"
   ]
  },
  {
   "cell_type": "markdown",
   "metadata": {},
   "source": [
    "#### setting up Training, Validation and Test set"
   ]
  },
  {
   "cell_type": "code",
   "execution_count": 14,
   "metadata": {},
   "outputs": [
    {
     "name": "stdout",
     "output_type": "stream",
     "text": [
      "Training set    20,534,804\n",
      "validation set  2,566,850 \n",
      "test set        2,566,850 \n"
     ]
    }
   ],
   "source": [
    "train_idx=torch.nonzero(train_mask_binary_label.squeeze()).numpy()\n",
    "val_idx=torch.nonzero(val_mask_binary_label.squeeze()).numpy()\n",
    "test_idx=torch.nonzero(test_mask_binary_label.squeeze()).numpy()\n",
    "\n",
    "train_idx=torch.from_numpy(train_idx).squeeze()    \n",
    "val_idx=torch.from_numpy(val_idx).squeeze()    \n",
    "test_idx=torch.from_numpy(test_idx).squeeze()\n",
    "\n",
    "label_train=binary_label[train_idx].squeeze().numpy()\n",
    "label_val=binary_label[val_idx].squeeze().numpy()\n",
    "label_test=binary_label[test_idx].squeeze().numpy()\n",
    "\n",
    "df_train=DF.loc[train_idx,:]\n",
    "df_val=DF.loc[val_idx,:]\n",
    "df_test=DF.loc[test_idx,:]\n",
    "\n",
    "print('{:<15} {:<10,}'.format(\"Training set\",train_idx.shape[0]))\n",
    "print('{:<15} {:<10,}'.format(\"validation set\",val_idx.shape[0]))\n",
    "print('{:<15} {:<10,}'.format(\"test set\",test_idx.shape[0]))"
   ]
  },
  {
   "cell_type": "code",
   "execution_count": 15,
   "metadata": {},
   "outputs": [],
   "source": [
    "num_classes=torch.unique(torch.from_numpy(label_train)).shape[0]\n",
    "train_classes_num, train_classes_weight = get_class_count_weight(label_train,num_classes)"
   ]
  },
  {
   "cell_type": "code",
   "execution_count": 16,
   "metadata": {},
   "outputs": [
    {
     "name": "stdout",
     "output_type": "stream",
     "text": [
      "0:\tlearn: 0.6897200\ttest: 0.6897005\tbest: 0.6897005 (0)\ttotal: 110ms\tremaining: 5m 30s\n",
      "200:\tlearn: 0.4837792\ttest: 0.4836700\tbest: 0.4836700 (200)\ttotal: 22.1s\tremaining: 5m 8s\n",
      "400:\tlearn: 0.4633487\ttest: 0.4632950\tbest: 0.4632950 (400)\ttotal: 43.3s\tremaining: 4m 40s\n",
      "600:\tlearn: 0.4575611\ttest: 0.4575506\tbest: 0.4575506 (600)\ttotal: 1m 3s\tremaining: 4m 14s\n",
      "800:\tlearn: 0.4545142\ttest: 0.4545356\tbest: 0.4545356 (800)\ttotal: 1m 23s\tremaining: 3m 49s\n",
      "1000:\tlearn: 0.4525684\ttest: 0.4526254\tbest: 0.4526254 (1000)\ttotal: 1m 44s\tremaining: 3m 27s\n",
      "1200:\tlearn: 0.4512484\ttest: 0.4513199\tbest: 0.4513199 (1200)\ttotal: 2m 4s\tremaining: 3m 6s\n",
      "1400:\tlearn: 0.4502773\ttest: 0.4503662\tbest: 0.4503662 (1400)\ttotal: 2m 24s\tremaining: 2m 45s\n",
      "1600:\tlearn: 0.4495123\ttest: 0.4496009\tbest: 0.4496009 (1600)\ttotal: 2m 44s\tremaining: 2m 23s\n",
      "1800:\tlearn: 0.4488716\ttest: 0.4489627\tbest: 0.4489627 (1800)\ttotal: 3m 4s\tremaining: 2m 3s\n",
      "2000:\tlearn: 0.4483685\ttest: 0.4484607\tbest: 0.4484607 (2000)\ttotal: 3m 25s\tremaining: 1m 42s\n",
      "2200:\tlearn: 0.4479390\ttest: 0.4480322\tbest: 0.4480322 (2200)\ttotal: 3m 46s\tremaining: 1m 22s\n",
      "2400:\tlearn: 0.4475672\ttest: 0.4476625\tbest: 0.4476625 (2400)\ttotal: 4m 8s\tremaining: 1m 2s\n",
      "2600:\tlearn: 0.4472550\ttest: 0.4473507\tbest: 0.4473507 (2600)\ttotal: 4m 31s\tremaining: 41.6s\n",
      "2800:\tlearn: 0.4469729\ttest: 0.4470707\tbest: 0.4470707 (2800)\ttotal: 4m 53s\tremaining: 20.8s\n",
      "2999:\tlearn: 0.4467230\ttest: 0.4468263\tbest: 0.4468263 (2999)\ttotal: 5m 15s\tremaining: 0us\n",
      "bestTest = 0.4468263268\n",
      "bestIteration = 2999\n",
      "CPU times: user 10min 57s, sys: 4min 28s, total: 15min 25s\n",
      "Wall time: 7min 50s\n"
     ]
    },
    {
     "data": {
      "text/plain": [
       "<catboost.core.CatBoostClassifier at 0x7f514d2a9828>"
      ]
     },
     "execution_count": 16,
     "metadata": {},
     "output_type": "execute_result"
    }
   ],
   "source": [
    "%%time\n",
    "params = {'loss_function':'MultiClass',\n",
    "         'learning_rate' : 0.01,\n",
    "         'iterations' : 3000,\n",
    "         'cat_features' : categorical_index,\n",
    "         'early_stopping_rounds'  : 200,\n",
    "         'random_seed' : 101,\n",
    "         'task_type' : \"GPU\",\n",
    "         'class_weights':train_classes_weight,\n",
    "         'verbose' : 200}\n",
    "\n",
    "model=CatBoostClassifier(**params)\n",
    "model.fit(df_train, label_train, eval_set=(df_val,label_val),use_best_model=True,early_stopping_rounds=50)"
   ]
  },
  {
   "cell_type": "markdown",
   "metadata": {},
   "source": [
    "#### Performance Evaluation"
   ]
  },
  {
   "cell_type": "code",
   "execution_count": 17,
   "metadata": {},
   "outputs": [
    {
     "data": {
      "text/plain": [
       "{'nb_example': 20534804,\n",
       " 'true_prediction': 15255334,\n",
       " 'false_prediction': 5279470,\n",
       " 'accuracy': 0.7429013688175451,\n",
       " 'precision': 0.48644566142695234,\n",
       " 'recall': 0.8240292110839985,\n",
       " 'f1_score': 0.6117560023914702,\n",
       " 'AUC': 0.8578242907910664,\n",
       " 'pr_auc': 0.6496103009747048,\n",
       " 'GAIN': {'1%': 0.04, '5%': 0.17, '10%': 0.3}}"
      ]
     },
     "execution_count": 17,
     "metadata": {},
     "output_type": "execute_result"
    }
   ],
   "source": [
    "LOGIT_train = model.predict_proba(df_train)\n",
    "LABEL_train = label_train\n",
    "train_PV=evaluate(LABEL_train, LOGIT_train)\n",
    "train_PV"
   ]
  },
  {
   "cell_type": "code",
   "execution_count": 18,
   "metadata": {},
   "outputs": [
    {
     "data": {
      "text/plain": [
       "{'nb_example': 2566850,\n",
       " 'true_prediction': 1906426,\n",
       " 'false_prediction': 660424,\n",
       " 'accuracy': 0.7427103258858133,\n",
       " 'precision': 0.4862123794255852,\n",
       " 'recall': 0.8234021544981528,\n",
       " 'f1_score': 0.6113987137317666,\n",
       " 'AUC': 0.8576032557618176,\n",
       " 'pr_auc': 0.6498680921570028,\n",
       " 'GAIN': {'1%': 0.04, '5%': 0.17, '10%': 0.3}}"
      ]
     },
     "execution_count": 18,
     "metadata": {},
     "output_type": "execute_result"
    }
   ],
   "source": [
    "LOGIT_val = model.predict_proba(df_val)\n",
    "LABEL_val = label_val\n",
    "val_PV=evaluate(LABEL_val, LOGIT_val)\n",
    "val_PV"
   ]
  },
  {
   "cell_type": "code",
   "execution_count": 19,
   "metadata": {},
   "outputs": [
    {
     "data": {
      "text/plain": [
       "{'nb_example': 2566850,\n",
       " 'true_prediction': 1907008,\n",
       " 'false_prediction': 659842,\n",
       " 'accuracy': 0.742937062937063,\n",
       " 'precision': 0.48648420997462777,\n",
       " 'recall': 0.8238316594263653,\n",
       " 'f1_score': 0.61173203095119,\n",
       " 'AUC': 0.8580194199823665,\n",
       " 'pr_auc': 0.6502865149765485,\n",
       " 'GAIN': {'1%': 0.04, '5%': 0.17, '10%': 0.3}}"
      ]
     },
     "execution_count": 19,
     "metadata": {},
     "output_type": "execute_result"
    }
   ],
   "source": [
    "LOGIT_test = model.predict_proba(df_test)\n",
    "LABEL_test = label_test\n",
    "test_PV=evaluate(LABEL_test, LOGIT_test)\n",
    "test_PV"
   ]
  },
  {
   "cell_type": "markdown",
   "metadata": {},
   "source": [
    "#### Model Save"
   ]
  },
  {
   "cell_type": "code",
   "execution_count": 20,
   "metadata": {},
   "outputs": [],
   "source": [
    "if not os.path.exists(\"model_save\"):\n",
    "    os.makedirs(\"model_save\")\n",
    "model.save_model(\"model_save/CatBoost\")"
   ]
  },
  {
   "cell_type": "markdown",
   "metadata": {},
   "source": [
    "#### Score Test Dataset"
   ]
  },
  {
   "cell_type": "code",
   "execution_count": 21,
   "metadata": {},
   "outputs": [
    {
     "name": "stdout",
     "output_type": "stream",
     "text": [
      "CPU times: user 48.1 s, sys: 2.4 s, total: 50.5 s\n",
      "Wall time: 18 s\n"
     ]
    }
   ],
   "source": [
    "%%time\n",
    "LOGIT_test = model.predict_proba(df_test)\n",
    "LABEL_test = label_test\n",
    "\n",
    "savez_compressed(\"model_save/Catboost_LOGIT.npz\", LOGIT_test)\n",
    "savez_compressed(\"model_save/Catboost_LABEL.npz\", LABEL_test)\n",
    "\n",
    "# os.system(\"rm /mnt/bgnn/model_save/Catboost_LOGIT.npz\")\n",
    "# os.system(\"rm /mnt/bgnn/model_save/Catboost_LABEL.npz\")"
   ]
  },
  {
   "cell_type": "code",
   "execution_count": 22,
   "metadata": {},
   "outputs": [
    {
     "name": "stdout",
     "output_type": "stream",
     "text": [
      "\n",
      "==> Running Validation on validation set \n",
      "\n",
      "\n",
      "True_Prediction: 1,907,008 | False_Prediction: 659,842 | accuracy: 74.29% |  precision: 48.65% | recall: 82.38% | F1_score: 61.17% | Gain_top-10%: 0.3 |ROC_AUC: 85.8% | PR_AUC: 65.0%\n"
     ]
    }
   ],
   "source": [
    "\n",
    "fin_logits_graph = load(\"model_save/Catboost_LOGIT.npz\")['arr_0']\n",
    "fin_targets_graph = load(\"model_save/Catboost_LABEL.npz\")['arr_0']\n",
    "\n",
    "tmp_graph=evaluate(fin_targets_graph, fin_logits_graph)\n",
    "print(\"\")\n",
    "print(\"==> Running Validation on validation set \\n\")\n",
    "print(\"\")\n",
    "\n",
    "print(\"True_Prediction: {:,} | False_Prediction: {:,} | accuracy: {:.2%} |  precision: {:.2%} | recall: {:.2%} | F1_score: {:.2%} | Gain_top-10%: {:.1f} |\\\n",
    "ROC_AUC: {:.1%} | PR_AUC: {:.1%}\".format(tmp_graph[\"true_prediction\"], tmp_graph[\"false_prediction\"], tmp_graph[\"accuracy\"], \\\n",
    "                                                        tmp_graph[\"precision\"], tmp_graph[\"recall\"], tmp_graph[\"f1_score\"], tmp_graph[\"GAIN\"]['10%'], \\\n",
    "                                                        tmp_graph[\"AUC\"], tmp_graph[\"pr_auc\"]))"
   ]
  },
  {
   "cell_type": "code",
   "execution_count": 23,
   "metadata": {},
   "outputs": [
    {
     "data": {
      "text/plain": [
       "{'nb_example': 2566850,\n",
       " 'true_prediction': 1907008,\n",
       " 'false_prediction': 659842,\n",
       " 'accuracy': 0.742937062937063,\n",
       " 'precision': 0.48648420997462777,\n",
       " 'recall': 0.8238316594263653,\n",
       " 'f1_score': 0.61173203095119,\n",
       " 'AUC': 0.8580194199823665,\n",
       " 'pr_auc': 0.6502865149765485,\n",
       " 'GAIN': {'1%': 0.04, '5%': 0.17, '10%': 0.3}}"
      ]
     },
     "execution_count": 23,
     "metadata": {},
     "output_type": "execute_result"
    }
   ],
   "source": [
    "tmp_graph"
   ]
  },
  {
   "cell_type": "code",
   "execution_count": null,
   "metadata": {},
   "outputs": [],
   "source": []
  },
  {
   "cell_type": "code",
   "execution_count": null,
   "metadata": {},
   "outputs": [],
   "source": []
  }
 ],
 "metadata": {
  "kernelspec": {
   "display_name": "Python 3",
   "language": "python",
   "name": "python3"
  },
  "language_info": {
   "codemirror_mode": {
    "name": "ipython",
    "version": 3
   },
   "file_extension": ".py",
   "mimetype": "text/x-python",
   "name": "python",
   "nbconvert_exporter": "python",
   "pygments_lexer": "ipython3",
   "version": "3.6.7"
  }
 },
 "nbformat": 4,
 "nbformat_minor": 4
}
