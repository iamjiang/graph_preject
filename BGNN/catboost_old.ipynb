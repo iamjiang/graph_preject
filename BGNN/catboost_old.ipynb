{
 "cells": [
  {
   "cell_type": "code",
   "execution_count": 1,
   "metadata": {},
   "outputs": [],
   "source": [
    "# !pip install --quiet --pre dgl-cu101\n",
    "# !pip install --quiet catboost\n",
    "# !pip install --quiet category-encoders==2.2.2\n",
    "# !pip install --quiet /mnt/dgl_cu102-0.6.0-cp36-cp36m-manylinux1_x86_64.whl\n",
    "# !pip install --quiet torch==1.6.0"
   ]
  },
  {
   "cell_type": "code",
   "execution_count": 1,
   "metadata": {},
   "outputs": [
    {
     "name": "stderr",
     "output_type": "stream",
     "text": [
      "Using backend: pytorch\n"
     ]
    },
    {
     "name": "stdout",
     "output_type": "stream",
     "text": [
      "0.20.1\n",
      "1.6.0\n"
     ]
    }
   ],
   "source": [
    "import argparse\n",
    "import itertools\n",
    "import time\n",
    "import math\n",
    "import pickle\n",
    "import random\n",
    "from tqdm import tqdm\n",
    "tqdm.pandas(position=0, leave=True)\n",
    "\n",
    "from collections import defaultdict as ddict\n",
    "import pandas as pd\n",
    "import numpy as np\n",
    "from numpy import save,load,savetxt,loadtxt,savez_compressed\n",
    "import json\n",
    "import os\n",
    "\n",
    "from sklearn import metrics\n",
    "from sklearn.metrics import roc_auc_score, f1_score,average_precision_score\n",
    "from sklearn.metrics import precision_recall_fscore_support\n",
    "from sklearn.metrics import precision_recall_curve\n",
    "from sklearn.metrics import auc as auc_score\n",
    "from sklearn.metrics import roc_curve\n",
    "from sklearn.preprocessing import LabelEncoder, label_binarize\n",
    "\n",
    "import catboost\n",
    "from catboost import CatBoostClassifier, CatBoostRegressor, Pool, sum_models\n",
    "# import category_encoders\n",
    "# from category_encoders import CatBoostEncoder\n",
    "\n",
    "import matplotlib.pyplot as plt\n",
    "%matplotlib inline\n",
    "plt.rcParams['figure.figsize']=(5.0,4.0)\n",
    "plt.rcParams['image.interpolation']='nearest'\n",
    "plt.rcParams['image.cmap']='gray'\n",
    "import warnings\n",
    "warnings.filterwarnings('ignore')\n",
    "import utils\n",
    "# import tsne_func\n",
    "\n",
    "import torch \n",
    "import torch.nn as nn\n",
    "import torch.nn.functional as F\n",
    "from torch.utils.data import Dataset\n",
    "from torch.utils.data import DataLoader\n",
    "\n",
    "import dgl\n",
    "import dgl.nn as dglnn\n",
    "import dgl.function as Fn\n",
    "\n",
    "data_dir=\"/workspace/cjiang/eagle_project/CAP_graph/dataset/\"\n",
    "root_dir=\"/workspace/cjiang/eagle_project/CAP_graph/BGNN/\"\n",
    "\n",
    "os.chdir(root_dir)\n",
    "\n",
    "print(catboost.__version__)\n",
    "# print(category_encoders.__version__)\n",
    "print(torch.__version__)"
   ]
  },
  {
   "cell_type": "code",
   "execution_count": 2,
   "metadata": {},
   "outputs": [],
   "source": [
    "def seed_everything(seed):\n",
    "    random.seed(seed)\n",
    "    torch.manual_seed(seed)\n",
    "    torch.cuda.manual_seed_all(seed)\n",
    "    torch.backends.cudnn.deterministic = True\n",
    "    torch.backends.cudnn.benchmark = False\n",
    "    np.random.seed(seed)\n",
    "    os.environ['PYTHONHASHSEED'] = str(seed)\n",
    "    \n",
    "seed_everything(101)"
   ]
  },
  {
   "cell_type": "code",
   "execution_count": 3,
   "metadata": {},
   "outputs": [
    {
     "name": "stdout",
     "output_type": "stream",
     "text": [
      "It took 23.2669 seconds to load graph\n"
     ]
    }
   ],
   "source": [
    "KG_dir=\"/workspace/cjiang/eagle_project/CAP_graph/BGNN/\"\n",
    "\n",
    "start=time.time()\n",
    "with open(os.path.join(KG_dir,'CAP_Graph_07082021'), 'rb') as f:\n",
    "    G,multi_label,binary_label,\\\n",
    "    train_mask_multi_label,  val_mask_multi_label,  test_mask_multi_label,\\\n",
    "    train_mask_binary_label, val_mask_binary_label, test_mask_binary_label= pickle.load(f)\n",
    "end=time.time()\n",
    "print(\"It took {:0.4f} seconds to load graph\".format(end-start))"
   ]
  },
  {
   "cell_type": "code",
   "execution_count": 4,
   "metadata": {},
   "outputs": [
    {
     "data": {
      "text/html": [
       "<div>\n",
       "<style scoped>\n",
       "    .dataframe tbody tr th:only-of-type {\n",
       "        vertical-align: middle;\n",
       "    }\n",
       "\n",
       "    .dataframe tbody tr th {\n",
       "        vertical-align: top;\n",
       "    }\n",
       "\n",
       "    .dataframe thead th {\n",
       "        text-align: right;\n",
       "    }\n",
       "</style>\n",
       "<table border=\"1\" class=\"dataframe\">\n",
       "  <thead>\n",
       "    <tr style=\"text-align: right;\">\n",
       "      <th></th>\n",
       "      <th>segment</th>\n",
       "      <th>auto_policy</th>\n",
       "    </tr>\n",
       "  </thead>\n",
       "  <tbody>\n",
       "    <tr>\n",
       "      <th>0</th>\n",
       "      <td>1</td>\n",
       "      <td>1</td>\n",
       "    </tr>\n",
       "    <tr>\n",
       "      <th>1</th>\n",
       "      <td>5</td>\n",
       "      <td>0</td>\n",
       "    </tr>\n",
       "  </tbody>\n",
       "</table>\n",
       "</div>"
      ],
      "text/plain": [
       "   segment  auto_policy\n",
       "0        1            1\n",
       "1        5            0"
      ]
     },
     "execution_count": 4,
     "metadata": {},
     "output_type": "execute_result"
    }
   ],
   "source": [
    "tempt=pd.DataFrame()\n",
    "tempt['segment']=G.nodes['usaanr'].data['Segment'].squeeze().numpy()\n",
    "tempt['auto_policy']=binary_label.squeeze().numpy()\n",
    "tempt.head(2)"
   ]
  },
  {
   "cell_type": "code",
   "execution_count": 5,
   "metadata": {},
   "outputs": [
    {
     "data": {
      "text/plain": [
       "segment\n",
       "0     1650589\n",
       "1     1571682\n",
       "2     1342896\n",
       "3     1237712\n",
       "4     1017241\n",
       "5    18848384\n",
       "Name: auto_policy, dtype: int64"
      ]
     },
     "execution_count": 5,
     "metadata": {},
     "output_type": "execute_result"
    }
   ],
   "source": [
    "tempt.groupby(\"segment\")['auto_policy'].count()"
   ]
  },
  {
   "cell_type": "code",
   "execution_count": 7,
   "metadata": {},
   "outputs": [
    {
     "data": {
      "text/plain": [
       "Graph(num_nodes={'usaanr': 25668504},\n",
       "      num_edges={('usaanr', 'AUTO_RELATED', 'usaanr'): 7947060, ('usaanr', 'Brother_Sister', 'usaanr'): 651444, ('usaanr', 'Busi_rel_Other', 'usaanr'): 1039214, ('usaanr', 'Child', 'usaanr'): 11765795, ('usaanr', 'Ex-Spouse', 'usaanr'): 3877972, ('usaanr', 'Parent', 'usaanr'): 11765795, ('usaanr', 'Pers_rel_Other', 'usaanr'): 2012514, ('usaanr', 'SPONSEE', 'usaanr'): 16775141, ('usaanr', 'SPONSOR', 'usaanr'): 16775141, ('usaanr', 'Spouse', 'usaanr'): 16016119, ('usaanr', 'Step-Child', 'usaanr'): 1240193, ('usaanr', 'Step-Parent', 'usaanr'): 1240193},\n",
       "      metagraph=[('usaanr', 'usaanr', 'AUTO_RELATED'), ('usaanr', 'usaanr', 'Brother_Sister'), ('usaanr', 'usaanr', 'Busi_rel_Other'), ('usaanr', 'usaanr', 'Child'), ('usaanr', 'usaanr', 'Ex-Spouse'), ('usaanr', 'usaanr', 'Parent'), ('usaanr', 'usaanr', 'Pers_rel_Other'), ('usaanr', 'usaanr', 'SPONSEE'), ('usaanr', 'usaanr', 'SPONSOR'), ('usaanr', 'usaanr', 'Spouse'), ('usaanr', 'usaanr', 'Step-Child'), ('usaanr', 'usaanr', 'Step-Parent')])"
      ]
     },
     "execution_count": 7,
     "metadata": {},
     "output_type": "execute_result"
    }
   ],
   "source": [
    "G"
   ]
  },
  {
   "cell_type": "code",
   "execution_count": 8,
   "metadata": {},
   "outputs": [
    {
     "data": {
      "text/html": [
       "<div>\n",
       "<style scoped>\n",
       "    .dataframe tbody tr th:only-of-type {\n",
       "        vertical-align: middle;\n",
       "    }\n",
       "\n",
       "    .dataframe tbody tr th {\n",
       "        vertical-align: top;\n",
       "    }\n",
       "\n",
       "    .dataframe thead th {\n",
       "        text-align: right;\n",
       "    }\n",
       "</style>\n",
       "<table border=\"1\" class=\"dataframe\">\n",
       "  <thead>\n",
       "    <tr style=\"text-align: right;\">\n",
       "      <th></th>\n",
       "      <th>usaayr</th>\n",
       "      <th>AGE_BAND</th>\n",
       "      <th>ORIGEL</th>\n",
       "      <th>ELIG2</th>\n",
       "      <th>SEX</th>\n",
       "      <th>MARST</th>\n",
       "      <th>BRANCH</th>\n",
       "      <th>MILST</th>\n",
       "      <th>MLIST_OrigStat</th>\n",
       "      <th>ENLPAYGD</th>\n",
       "      <th>STATE</th>\n",
       "    </tr>\n",
       "  </thead>\n",
       "  <tbody>\n",
       "    <tr>\n",
       "      <th>0</th>\n",
       "      <td>29</td>\n",
       "      <td>5</td>\n",
       "      <td>0</td>\n",
       "      <td>0</td>\n",
       "      <td>1</td>\n",
       "      <td>2</td>\n",
       "      <td>1</td>\n",
       "      <td>2</td>\n",
       "      <td>2</td>\n",
       "      <td>14</td>\n",
       "      <td>32</td>\n",
       "    </tr>\n",
       "    <tr>\n",
       "      <th>1</th>\n",
       "      <td>54</td>\n",
       "      <td>4</td>\n",
       "      <td>24</td>\n",
       "      <td>5</td>\n",
       "      <td>1</td>\n",
       "      <td>2</td>\n",
       "      <td>0</td>\n",
       "      <td>0</td>\n",
       "      <td>2</td>\n",
       "      <td>24</td>\n",
       "      <td>45</td>\n",
       "    </tr>\n",
       "  </tbody>\n",
       "</table>\n",
       "</div>"
      ],
      "text/plain": [
       "   usaayr  AGE_BAND  ORIGEL  ELIG2  SEX  MARST  BRANCH  MILST  MLIST_OrigStat  \\\n",
       "0      29         5       0      0    1      2       1      2               2   \n",
       "1      54         4      24      5    1      2       0      0               2   \n",
       "\n",
       "   ENLPAYGD  STATE  \n",
       "0        14     32  \n",
       "1        24     45  "
      ]
     },
     "execution_count": 8,
     "metadata": {},
     "output_type": "execute_result"
    }
   ],
   "source": [
    "df=pd.DataFrame()\n",
    "df['usaayr']=G.nodes['usaanr'].data['usaayr'].squeeze().numpy()\n",
    "df['AGE_BAND']=G.nodes['usaanr'].data['AGE_BAND'].squeeze().numpy()\n",
    "df['ORIGEL']=G.nodes['usaanr'].data['ORIGEL'].squeeze().numpy()\n",
    "df['ELIG2']=G.nodes['usaanr'].data['ELIG2'].squeeze().numpy()\n",
    "df['SEX']=G.nodes['usaanr'].data['SEX'].squeeze().numpy()\n",
    "df['MARST']=G.nodes['usaanr'].data['MARST'].squeeze().numpy()\n",
    "df['BRANCH']=G.nodes['usaanr'].data['BRANCH'].squeeze().numpy()\n",
    "df['MILST']=G.nodes['usaanr'].data['MILST'].squeeze().numpy()\n",
    "df['MLIST_OrigStat']=G.nodes['usaanr'].data['MLIST_OrigStat'].squeeze().numpy()\n",
    "df['ENLPAYGD']=G.nodes['usaanr'].data['ENLPAYGD'].squeeze().numpy()\n",
    "df['STATE']=G.nodes['usaanr'].data['STATE'].squeeze().numpy()\n",
    "df.head(2)"
   ]
  },
  {
   "cell_type": "code",
   "execution_count": 9,
   "metadata": {},
   "outputs": [
    {
     "data": {
      "text/plain": [
       "Index(['usaayr', 'AGE_BAND', 'ORIGEL', 'ELIG2', 'SEX', 'MARST', 'BRANCH',\n",
       "       'MILST', 'MLIST_OrigStat', 'ENLPAYGD', 'STATE'],\n",
       "      dtype='object')"
      ]
     },
     "execution_count": 9,
     "metadata": {},
     "output_type": "execute_result"
    }
   ],
   "source": [
    "df.columns"
   ]
  },
  {
   "cell_type": "code",
   "execution_count": 11,
   "metadata": {},
   "outputs": [
    {
     "name": "stderr",
     "output_type": "stream",
     "text": [
      "100%|██████████| 12/12 [03:22<00:00, 16.89s/it]\n"
     ]
    },
    {
     "data": {
      "text/plain": [
       "array([], dtype=int64)"
      ]
     },
     "execution_count": 11,
     "metadata": {},
     "output_type": "execute_result"
    }
   ],
   "source": [
    "feat=['usaayr','AGE_BAND','ORIGEL', 'ELIG2', 'SEX', 'MARST','BRANCH',\\\n",
    "      'MILST','MLIST_OrigStat','ENLPAYGD','STATE','ZIPCD']\n",
    "\n",
    "df=df.loc[:,feat]\n",
    "\n",
    "for col in df:\n",
    "    df[col]=df[col].astype('str')\n",
    "\n",
    "class_le=LabelEncoder()\n",
    "\n",
    "for i in tqdm(range(len(df.columns)),position=0,leave=True):\n",
    "    col=df.columns[i]\n",
    "    if df[col].dtype==\"object\":\n",
    "        df[col]=df[col].astype('str')\n",
    "        df[col]=class_le.fit_transform(df[col])\n",
    "        \n",
    "categorical_index=np.where(df.dtypes==object)[0]\n",
    "categorical_index"
   ]
  },
  {
   "cell_type": "code",
   "execution_count": 20,
   "metadata": {},
   "outputs": [],
   "source": [
    "# def encode_cat_features(X, y, cat_features, train_mask, val_mask, test_mask):\n",
    "#     enc = CatBoostEncoder()\n",
    "#     A = X.to_numpy(copy=True)\n",
    "#     b = y.to_numpy(copy=True)\n",
    "#     A[np.ix_(train_mask, cat_features)] = enc.fit_transform(A[np.ix_(train_mask, cat_features)], b[train_mask])\n",
    "#     A[np.ix_(val_mask + test_mask, cat_features)] = enc.transform(A[np.ix_(val_mask + test_mask, cat_features)])\n",
    "#     A = A.astype(float)\n",
    "#     return pd.DataFrame(A, columns=X.columns)"
   ]
  },
  {
   "cell_type": "code",
   "execution_count": 12,
   "metadata": {},
   "outputs": [],
   "source": [
    "def lift_gain_eval(logit,label,topk):\n",
    "    DF=pd.DataFrame(columns=[\"pred_score\",\"actual_label\"])\n",
    "    DF[\"pred_score\"]=logit\n",
    "    DF[\"actual_label\"]=label\n",
    "    DF.sort_values(by=\"pred_score\", ascending=False, inplace=True)\n",
    "    gain={}\n",
    "    for p in topk:\n",
    "        N=math.ceil(int(DF.shape[0]*p))\n",
    "        DF2=DF.nlargest(N,\"pred_score\",keep=\"first\")\n",
    "        gain[str(int(p*100))+\"%\"]=round(DF2.actual_label.sum()/(DF.actual_label.sum()),2)\n",
    "    return gain\n",
    "\n",
    "def get_class_count_weight(y,n_classes):\n",
    "    classes_count=[]\n",
    "    weight=[]\n",
    "    for i in range(n_classes):\n",
    "        count=np.sum(y.squeeze()==i)\n",
    "        classes_count.append(count)\n",
    "        weight.append(len(y)/(n_classes*count))\n",
    "    return classes_count,weight\n",
    "\n",
    "def evaluate(target, predicted):\n",
    "    true_label_mask=[1 if (np.argmax(x)-target[i])==0 else 0 for i,x in enumerate(predicted)]\n",
    "    nb_prediction=len(true_label_mask)\n",
    "    true_prediction=sum(true_label_mask)\n",
    "    false_prediction=nb_prediction-true_prediction\n",
    "    accuracy=true_prediction/nb_prediction\n",
    "    \n",
    "    precision, recall, fscore, support = precision_recall_fscore_support(target, predicted.argmax(axis=1))\n",
    "    auc = roc_auc_score(target.ravel(), torch.sigmoid(torch.from_numpy(predicted))[:,1].numpy().ravel())\n",
    "    \n",
    "    prec,rec,_ = precision_recall_curve(target.ravel(), torch.sigmoid(torch.from_numpy(predicted))[:,1].numpy().ravel())\n",
    "    \n",
    "    pr_auc=auc_score(rec,prec)\n",
    "    \n",
    "    arg1=predicted[:,1]\n",
    "    arg2=target\n",
    "    gain = lift_gain_eval(arg1,arg2,topk=[0.01,0.05,0.10])\n",
    "    \n",
    "    return {\n",
    "        \"nb_example\":len(target),\n",
    "        \"true_prediction\":true_prediction,\n",
    "        \"false_prediction\":false_prediction,\n",
    "        \"accuracy\":accuracy,\n",
    "        \"precision\":precision[1], \n",
    "        \"recall\":recall[1], \n",
    "        \"f1_score\":fscore[1],\n",
    "        \"AUC\":auc,\n",
    "        \"pr_auc\":pr_auc,\n",
    "        \"GAIN\":gain\n",
    "    }"
   ]
  },
  {
   "cell_type": "markdown",
   "metadata": {},
   "source": [
    "#### LABEL"
   ]
  },
  {
   "cell_type": "code",
   "execution_count": 13,
   "metadata": {},
   "outputs": [
    {
     "data": {
      "text/html": [
       "<style  type=\"text/css\" >\n",
       "</style><table id=\"T_f556af2e_f926_11eb_b5d0_0242ac110003\" ><thead>    <tr>        <th class=\"blank level0\" ></th>        <th class=\"col_heading level0 col0\" >Auto or Not</th>        <th class=\"col_heading level0 col1\" >count</th>        <th class=\"col_heading level0 col2\" >weight</th>    </tr></thead><tbody>\n",
       "                <tr>\n",
       "                        <th id=\"T_f556af2e_f926_11eb_b5d0_0242ac110003level0_row0\" class=\"row_heading level0 row0\" >0</th>\n",
       "                        <td id=\"T_f556af2e_f926_11eb_b5d0_0242ac110003row0_col0\" class=\"data row0 col0\" >No</td>\n",
       "                        <td id=\"T_f556af2e_f926_11eb_b5d0_0242ac110003row0_col1\" class=\"data row0 col1\" >19,358,913</td>\n",
       "                        <td id=\"T_f556af2e_f926_11eb_b5d0_0242ac110003row0_col2\" class=\"data row0 col2\" >0.66</td>\n",
       "            </tr>\n",
       "            <tr>\n",
       "                        <th id=\"T_f556af2e_f926_11eb_b5d0_0242ac110003level0_row1\" class=\"row_heading level0 row1\" >1</th>\n",
       "                        <td id=\"T_f556af2e_f926_11eb_b5d0_0242ac110003row1_col0\" class=\"data row1 col0\" >Yes</td>\n",
       "                        <td id=\"T_f556af2e_f926_11eb_b5d0_0242ac110003row1_col1\" class=\"data row1 col1\" >6,309,591</td>\n",
       "                        <td id=\"T_f556af2e_f926_11eb_b5d0_0242ac110003row1_col2\" class=\"data row1 col2\" >2.03</td>\n",
       "            </tr>\n",
       "    </tbody></table>"
      ],
      "text/plain": [
       "<pandas.io.formats.style.Styler at 0x7f5401c44b70>"
      ]
     },
     "execution_count": 13,
     "metadata": {},
     "output_type": "execute_result"
    }
   ],
   "source": [
    "y=binary_label.squeeze().numpy()\n",
    "n_classes=torch.unique(binary_label).shape[0]\n",
    "classes_count,weight=get_class_count_weight(y,n_classes)\n",
    "imbalance_classes={}\n",
    "# imbalance_classes[\"category\"]=torch.unique(binary_label).tolist()\n",
    "imbalance_classes[\"Auto or Not\"]=[\"No\",\"Yes\"]\n",
    "imbalance_classes[\"count\"]=classes_count\n",
    "imbalance_classes[\"weight\"]=weight\n",
    "imbalance_classes=pd.DataFrame(imbalance_classes)\n",
    "imbalance_classes.style.format({\"count\":\"{:,}\",\"weight\":\"{:.2f}\"})"
   ]
  },
  {
   "cell_type": "code",
   "execution_count": 14,
   "metadata": {},
   "outputs": [
    {
     "data": {
      "text/plain": [
       "<matplotlib.axes._subplots.AxesSubplot at 0x7f53fba3d048>"
      ]
     },
     "execution_count": 14,
     "metadata": {},
     "output_type": "execute_result"
    },
    {
     "data": {
      "image/png": "[encoded data removed]",
      "text/plain": [
       "<Figure size 360x288 with 1 Axes>"
      ]
     },
     "metadata": {
      "needs_background": "light"
     },
     "output_type": "display_data"
    }
   ],
   "source": [
    "import seaborn as sns\n",
    "sns.barplot(x=\"Auto or Not\",y=\"count\",data=imbalance_classes)"
   ]
  },
  {
   "cell_type": "markdown",
   "metadata": {},
   "source": [
    "#### setting up Training, Validation and Test set"
   ]
  },
  {
   "cell_type": "code",
   "execution_count": 15,
   "metadata": {},
   "outputs": [
    {
     "name": "stdout",
     "output_type": "stream",
     "text": [
      "Training set    20,534,804\n",
      "validation set  2,566,850 \n",
      "test set        2,566,850 \n"
     ]
    }
   ],
   "source": [
    "train_idx=torch.nonzero(train_mask_binary_label.squeeze()).numpy()\n",
    "val_idx=torch.nonzero(val_mask_binary_label.squeeze()).numpy()\n",
    "test_idx=torch.nonzero(test_mask_binary_label.squeeze()).numpy()\n",
    "\n",
    "train_idx=torch.from_numpy(train_idx).squeeze()    \n",
    "val_idx=torch.from_numpy(val_idx).squeeze()    \n",
    "test_idx=torch.from_numpy(test_idx).squeeze()\n",
    "\n",
    "label_train=binary_label[train_idx].squeeze().numpy()\n",
    "label_val=binary_label[val_idx].squeeze().numpy()\n",
    "label_test=binary_label[test_idx].squeeze().numpy()\n",
    "\n",
    "df_train=df.loc[train_idx,:]\n",
    "df_val=df.loc[val_idx,:]\n",
    "df_test=df.loc[test_idx,:]\n",
    "\n",
    "print('{:<15} {:<10,}'.format(\"Training set\",train_idx.shape[0]))\n",
    "print('{:<15} {:<10,}'.format(\"validation set\",val_idx.shape[0]))\n",
    "print('{:<15} {:<10,}'.format(\"test set\",test_idx.shape[0]))"
   ]
  },
  {
   "cell_type": "code",
   "execution_count": 16,
   "metadata": {},
   "outputs": [],
   "source": [
    "# tempt=df_train\n",
    "# tempt[\"auto_policy\"]=label_train\n",
    "# # tempt.head(2)\n",
    "\n",
    "# tempt.groupby(\"Segment\")[\"auto_policy\"].sum()"
   ]
  },
  {
   "cell_type": "code",
   "execution_count": null,
   "metadata": {},
   "outputs": [],
   "source": []
  },
  {
   "cell_type": "code",
   "execution_count": 17,
   "metadata": {},
   "outputs": [],
   "source": [
    "num_classes=torch.unique(torch.from_numpy(label_train)).shape[0]\n",
    "train_classes_num, train_classes_weight = get_class_count_weight(label_train,num_classes)"
   ]
  },
  {
   "cell_type": "code",
   "execution_count": 18,
   "metadata": {},
   "outputs": [
    {
     "name": "stdout",
     "output_type": "stream",
     "text": [
      "0:\tlearn: 0.6897757\ttest: 0.6897786\tbest: 0.6897786 (0)\ttotal: 58.8ms\tremaining: 2m 56s\n",
      "200:\tlearn: 0.4880490\ttest: 0.4878634\tbest: 0.4878634 (200)\ttotal: 8.31s\tremaining: 1m 55s\n",
      "400:\tlearn: 0.4689548\ttest: 0.4688118\tbest: 0.4688118 (400)\ttotal: 16.6s\tremaining: 1m 47s\n",
      "600:\tlearn: 0.4630101\ttest: 0.4629009\tbest: 0.4629009 (600)\ttotal: 25s\tremaining: 1m 39s\n",
      "800:\tlearn: 0.4594386\ttest: 0.4593547\tbest: 0.4593547 (800)\ttotal: 33.5s\tremaining: 1m 31s\n",
      "1000:\tlearn: 0.4568814\ttest: 0.4568266\tbest: 0.4568266 (1000)\ttotal: 41.9s\tremaining: 1m 23s\n",
      "1200:\tlearn: 0.4551188\ttest: 0.4550915\tbest: 0.4550915 (1200)\ttotal: 50.4s\tremaining: 1m 15s\n",
      "1400:\tlearn: 0.4537791\ttest: 0.4537744\tbest: 0.4537744 (1400)\ttotal: 58.8s\tremaining: 1m 7s\n",
      "1600:\tlearn: 0.4527281\ttest: 0.4527400\tbest: 0.4527400 (1600)\ttotal: 1m 7s\tremaining: 58.6s\n",
      "1800:\tlearn: 0.4518669\ttest: 0.4518891\tbest: 0.4518891 (1800)\ttotal: 1m 15s\tremaining: 50.1s\n",
      "2000:\tlearn: 0.4511046\ttest: 0.4511374\tbest: 0.4511374 (2000)\ttotal: 1m 23s\tremaining: 41.7s\n",
      "2200:\tlearn: 0.4504731\ttest: 0.4505106\tbest: 0.4505106 (2200)\ttotal: 1m 31s\tremaining: 33.3s\n",
      "2400:\tlearn: 0.4499134\ttest: 0.4499580\tbest: 0.4499580 (2400)\ttotal: 1m 40s\tremaining: 25s\n",
      "2600:\tlearn: 0.4494099\ttest: 0.4494614\tbest: 0.4494614 (2600)\ttotal: 1m 48s\tremaining: 16.6s\n",
      "2800:\tlearn: 0.4489703\ttest: 0.4490324\tbest: 0.4490324 (2800)\ttotal: 1m 56s\tremaining: 8.29s\n",
      "2999:\tlearn: 0.4485995\ttest: 0.4486646\tbest: 0.4486646 (2999)\ttotal: 2m 4s\tremaining: 0us\n",
      "bestTest = 0.4486646221\n",
      "bestIteration = 2999\n",
      "CPU times: user 2min 37s, sys: 1min 42s, total: 4min 20s\n",
      "Wall time: 2min 13s\n"
     ]
    },
    {
     "data": {
      "text/plain": [
       "<catboost.core.CatBoostClassifier at 0x7f53fb972860>"
      ]
     },
     "execution_count": 18,
     "metadata": {},
     "output_type": "execute_result"
    }
   ],
   "source": [
    "%%time\n",
    "params = {'loss_function':'MultiClass',\n",
    "         'learning_rate' : 0.01,\n",
    "         'iterations' : 3000,\n",
    "         'cat_features' : categorical_index,\n",
    "         'early_stopping_rounds'  : 200,\n",
    "         'random_seed' : 101,\n",
    "         'task_type' : \"GPU\",\n",
    "         'class_weights':train_classes_weight,\n",
    "         'verbose' : 200}\n",
    "\n",
    "model=CatBoostClassifier(**params)\n",
    "model.fit(df_train, label_train, eval_set=(df_val,label_val),use_best_model=True,early_stopping_rounds=50)"
   ]
  },
  {
   "cell_type": "code",
   "execution_count": 19,
   "metadata": {},
   "outputs": [
    {
     "name": "stdout",
     "output_type": "stream",
     "text": [
      "Test Set Performance\n",
      "precision: 48.45% | recall: 82.45% | F1_score: 61.04% | ROC_AUC: 85.7% | PR_AUC: 64.7%\n"
     ]
    }
   ],
   "source": [
    "preds_proba_test = model.predict_proba(df_test)\n",
    "\n",
    "prec_test, recall_test, fscore_test, support_test = precision_recall_fscore_support(label_test, preds_proba_test.argmax(axis=1))\n",
    "test_auc = roc_auc_score(label_test, preds_proba_test[:,1])\n",
    "\n",
    "prec, rec,_=precision_recall_curve(label_test, preds_proba_test[:,1])\n",
    "test_pr_auc=auc_score(rec,prec)\n",
    "\n",
    "print(\"Test Set Performance\")\n",
    "print(\"precision: {:.2%} | recall: {:.2%} | F1_score: {:.2%} | ROC_AUC: {:.1%} | PR_AUC: {:.1%}\"\\\n",
    "      .format(prec_test[1], recall_test[1], fscore_test[1],  test_auc, test_pr_auc))"
   ]
  },
  {
   "cell_type": "markdown",
   "metadata": {},
   "source": [
    "#### Performance Evaluation"
   ]
  },
  {
   "cell_type": "code",
   "execution_count": 24,
   "metadata": {},
   "outputs": [
    {
     "data": {
      "text/plain": [
       "{'nb_example': 20534804,\n",
       " 'true_prediction': 15221080,\n",
       " 'false_prediction': 5313724,\n",
       " 'accuracy': 0.7412332740064137,\n",
       " 'precision': 0.48451878657535663,\n",
       " 'recall': 0.8248012500017334,\n",
       " 'f1_score': 0.6104415874692035,\n",
       " 'AUC': 0.8565397671732771,\n",
       " 'pr_auc': 0.6461057942011375,\n",
       " 'GAIN': {'1%': 0.04, '5%': 0.17, '10%': 0.3}}"
      ]
     },
     "execution_count": 24,
     "metadata": {},
     "output_type": "execute_result"
    }
   ],
   "source": [
    "LOGIT_train = model.predict_proba(df_train)\n",
    "LABEL_train = label_train\n",
    "train_PV=evaluate(LABEL_train, LOGIT_train)\n",
    "train_PV"
   ]
  },
  {
   "cell_type": "code",
   "execution_count": 25,
   "metadata": {},
   "outputs": [
    {
     "data": {
      "text/plain": [
       "{'nb_example': 2566850,\n",
       " 'true_prediction': 1902187,\n",
       " 'false_prediction': 664663,\n",
       " 'accuracy': 0.7410588854042893,\n",
       " 'precision': 0.4843088617872553,\n",
       " 'recall': 0.8243625972527533,\n",
       " 'f1_score': 0.6101548382026123,\n",
       " 'AUC': 0.8563962739590291,\n",
       " 'pr_auc': 0.6464814616538147,\n",
       " 'GAIN': {'1%': 0.04, '5%': 0.17, '10%': 0.3}}"
      ]
     },
     "execution_count": 25,
     "metadata": {},
     "output_type": "execute_result"
    }
   ],
   "source": [
    "LOGIT_val = model.predict_proba(df_val)\n",
    "LABEL_val = label_val\n",
    "val_PV=evaluate(LABEL_val, LOGIT_val)\n",
    "val_PV"
   ]
  },
  {
   "cell_type": "code",
   "execution_count": 26,
   "metadata": {},
   "outputs": [
    {
     "data": {
      "text/plain": [
       "{'nb_example': 2566850,\n",
       " 'true_prediction': 1902677,\n",
       " 'false_prediction': 664173,\n",
       " 'accuracy': 0.7412497808598087,\n",
       " 'precision': 0.4845324337363761,\n",
       " 'recall': 0.8245004825987109,\n",
       " 'f1_score': 0.6103700227322725,\n",
       " 'AUC': 0.8567869679774657,\n",
       " 'pr_auc': 0.6468921970183911,\n",
       " 'GAIN': {'1%': 0.04, '5%': 0.17, '10%': 0.3}}"
      ]
     },
     "execution_count": 26,
     "metadata": {},
     "output_type": "execute_result"
    }
   ],
   "source": [
    "LOGIT_test = model.predict_proba(df_test)\n",
    "LABEL_test = label_test\n",
    "test_PV=evaluate(LABEL_test, LOGIT_test)\n",
    "test_PV"
   ]
  },
  {
   "cell_type": "markdown",
   "metadata": {},
   "source": [
    "#### Model Save"
   ]
  },
  {
   "cell_type": "code",
   "execution_count": 2,
   "metadata": {},
   "outputs": [],
   "source": [
    "if not os.path.exists(\"model_save\"):\n",
    "    os.makedirs(\"model_save\")"
   ]
  },
  {
   "cell_type": "code",
   "execution_count": 20,
   "metadata": {},
   "outputs": [],
   "source": [
    "# if not os.path.exists(\"/mnt/bgnn/model_save/\"):\n",
    "#     os.makedirs(\"/mnt/bgnn/model_save/\")\n",
    "# model.save_model(\"/mnt/bgnn/model_save/CatBoost\")\n",
    "# !hdfs dfs -put -f /mnt/bgnn/model_save/CatBoost  /dz/dz_6104/disc.db/BGNN/CatBoost\n",
    "# os.system(\"rm /mnt/bgnn/model_save/CatBoost\")"
   ]
  },
  {
   "cell_type": "markdown",
   "metadata": {},
   "source": [
    "#### Score Test Dataset"
   ]
  },
  {
   "cell_type": "code",
   "execution_count": 21,
   "metadata": {},
   "outputs": [
    {
     "name": "stdout",
     "output_type": "stream",
     "text": [
      "CPU times: user 32.7 s, sys: 316 ms, total: 33 s\n",
      "Wall time: 3.34 s\n"
     ]
    }
   ],
   "source": [
    "%%time\n",
    "# if not os.path.exists(\"/mnt/bgnn/model_save/\"):\n",
    "#     os.makedirs(\"/mnt/bgnn/model_save/\")\n",
    "    \n",
    "LOGIT_test = model.predict_proba(df_test)\n",
    "LABEL_test = label_test\n",
    "\n",
    "# savez_compressed(\"/mnt/bgnn/model_save/Catboost_LOGIT.npz\", LOGIT_test)\n",
    "# savez_compressed(\"/mnt/bgnn/model_save/Catboost_LABEL.npz\", LABEL_test)\n",
    "# !hdfs dfs -put -f /mnt/bgnn/model_save/Catboost_LOGIT.npz  /dz/dz_6104/disc.db/BGNN/Catboost_LOGIT.npz\n",
    "# !hdfs dfs -put -f /mnt/bgnn/model_save/Catboost_LABEL.npz  /dz/dz_6104/disc.db/BGNN/Catboost_LABEL.npz\n",
    "# os.system(\"rm /mnt/bgnn/model_save/Catboost_LOGIT.npz\")\n",
    "# os.system(\"rm /mnt/bgnn/model_save/Catboost_LABEL.npz\")"
   ]
  },
  {
   "cell_type": "code",
   "execution_count": 22,
   "metadata": {},
   "outputs": [
    {
     "name": "stdout",
     "output_type": "stream",
     "text": [
      "\n",
      "==> Running Validation on validation set \n",
      "\n",
      "\n",
      "True_Prediction: 1,902,677 | False_Prediction: 664,173 | accuracy: 74.12% |  precision: 48.45% | recall: 82.45% | F1_score: 61.04% | Gain_top-10%: 0.3 |ROC_AUC: 85.7% | PR_AUC: 64.7%\n"
     ]
    }
   ],
   "source": [
    "# path=\"/home/ubuntu\"\n",
    "# if not os.path.isfile(os.path.join(path,\"Catboost_LOGIT.npz\")):\n",
    "#     !hdfs dfs -get  /dz/dz_6104/disc.db/BGNN/Catboost_LOGIT.npz     /home/ubuntu\n",
    "#     !hdfs dfs -get  /dz/dz_6104/disc.db/BGNN/Catboost_LABEL.npz     /home/ubuntu\n",
    "\n",
    "# fin_logits_graph = load(\"/home/ubuntu/Catboost_LOGIT.npz\")['arr_0']\n",
    "# fin_targets_graph = load(\"/home/ubuntu/Catboost_LABEL.npz\")['arr_0']\n",
    "\n",
    "fin_logits_graph = LOGIT_test\n",
    "fin_targets_graph = LABEL_test\n",
    "\n",
    "tmp_graph=evaluate(fin_targets_graph, fin_logits_graph)\n",
    "print(\"\")\n",
    "print(\"==> Running Validation on validation set \\n\")\n",
    "print(\"\")\n",
    "\n",
    "print(\"True_Prediction: {:,} | False_Prediction: {:,} | accuracy: {:.2%} |  precision: {:.2%} | recall: {:.2%} | F1_score: {:.2%} | Gain_top-10%: {:.1f} |\\\n",
    "ROC_AUC: {:.1%} | PR_AUC: {:.1%}\".format(tmp_graph[\"true_prediction\"], tmp_graph[\"false_prediction\"], tmp_graph[\"accuracy\"], \\\n",
    "                                                        tmp_graph[\"precision\"], tmp_graph[\"recall\"], tmp_graph[\"f1_score\"], tmp_graph[\"GAIN\"]['10%'], \\\n",
    "                                                        tmp_graph[\"AUC\"], tmp_graph[\"pr_auc\"]))"
   ]
  },
  {
   "cell_type": "code",
   "execution_count": 23,
   "metadata": {},
   "outputs": [
    {
     "data": {
      "text/plain": [
       "{'nb_example': 2566850,\n",
       " 'true_prediction': 1902677,\n",
       " 'false_prediction': 664173,\n",
       " 'accuracy': 0.7412497808598087,\n",
       " 'precision': 0.4845324337363761,\n",
       " 'recall': 0.8245004825987109,\n",
       " 'f1_score': 0.6103700227322725,\n",
       " 'AUC': 0.8567869679774657,\n",
       " 'pr_auc': 0.6468921970183911,\n",
       " 'GAIN': {'1%': 0.04, '5%': 0.17, '10%': 0.3}}"
      ]
     },
     "execution_count": 23,
     "metadata": {},
     "output_type": "execute_result"
    }
   ],
   "source": [
    "tmp_graph"
   ]
  },
  {
   "cell_type": "code",
   "execution_count": null,
   "metadata": {},
   "outputs": [],
   "source": []
  },
  {
   "cell_type": "code",
   "execution_count": null,
   "metadata": {},
   "outputs": [],
   "source": []
  }
 ],
 "metadata": {
  "kernelspec": {
   "display_name": "Python 3",
   "language": "python",
   "name": "python3"
  },
  "language_info": {
   "codemirror_mode": {
    "name": "ipython",
    "version": 3
   },
   "file_extension": ".py",
   "mimetype": "text/x-python",
   "name": "python",
   "nbconvert_exporter": "python",
   "pygments_lexer": "ipython3",
   "version": "3.6.7"
  }
 },
 "nbformat": 4,
 "nbformat_minor": 4
}
