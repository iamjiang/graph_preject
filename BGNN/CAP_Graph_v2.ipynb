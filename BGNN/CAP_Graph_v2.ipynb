{
 "cells": [
  {
   "cell_type": "code",
   "execution_count": null,
   "metadata": {},
   "outputs": [],
   "source": [
    "# !pip install --quiet --pre --upgrade dgl-cu101\n",
    "# !pip install --quiet torch==1.6.0"
   ]
  },
  {
   "cell_type": "code",
   "execution_count": 1,
   "metadata": {},
   "outputs": [
    {
     "name": "stderr",
     "output_type": "stream",
     "text": [
      "Using backend: pytorch\n",
      "0it [00:00, ?it/s]\n"
     ]
    },
    {
     "name": "stdout",
     "output_type": "stream",
     "text": [
      "torch version       1.6.0               \n",
      "DGL version         0.8a210816          \n"
     ]
    }
   ],
   "source": [
    "import os\n",
    "import numpy as np\n",
    "import pandas as pd\n",
    "import scipy.sparse as sp\n",
    "import time\n",
    "import torch\n",
    "import torch.nn as nn\n",
    "import torch.nn.functional as F\n",
    "import dgl\n",
    "import dgl.function as fn\n",
    "from dgl.nn.pytorch import GATConv\n",
    "# from bipartite_gatconv import BipartiteGATConv\n",
    "from collections import defaultdict\n",
    "from tqdm import tqdm\n",
    "tqdm().pandas()\n",
    "import pickle\n",
    "import seaborn as sns\n",
    "from sklearn.preprocessing import LabelEncoder\n",
    "from sklearn.model_selection import train_test_split\n",
    "\n",
    "import matplotlib.pyplot as plt\n",
    "%matplotlib inline\n",
    "plt.rcParams['figure.figsize']=(5.0,4.0)\n",
    "plt.rcParams['image.interpolation']='nearest'\n",
    "plt.rcParams['image.cmap']='gray'\n",
    "import warnings\n",
    "warnings.filterwarnings('ignore')\n",
    "\n",
    "data_dir=\"/workspace/cjiang/eagle_project/CAP_graph/dataset/\"\n",
    "root_dir=\"/workspace/cjiang/eagle_project/CAP_graph/\"\n",
    "\n",
    "os.chdir(root_dir)\n",
    "\n",
    "print(\"{:<20}{:<20}\".format(\"torch version\",torch.__version__))\n",
    "print(\"{:<20}{:<20}\".format(\"DGL version\",dgl.__version__))\n"
   ]
  },
  {
   "cell_type": "markdown",
   "metadata": {},
   "source": [
    "#### Load Dataset"
   ]
  },
  {
   "cell_type": "code",
   "execution_count": 2,
   "metadata": {},
   "outputs": [],
   "source": [
    "def read_csv(data_dir, file):\n",
    "    start=time.time()\n",
    "    df=pd.read_csv(os.path.join(data_dir,file))\n",
    "    df.drop_duplicates(inplace=True)\n",
    "    end=time.time()\n",
    "    print(\"Dataloading running time is {:0.4f}\".format(end-start))\n",
    "    print(\"The Shape of Dataset is {}\".format(df.shape))\n",
    "    return df\n",
    "\n",
    "def to_pickle(data_dir,file_in,file_out):\n",
    "    start=time.time()\n",
    "    file_in.to_pickle(os.path.join(data_dir,file_out))\n",
    "    end=time.time()\n",
    "    print(\"pickle time is {:0.4f}\".format(end-start))\n",
    "    \n",
    "def read_pickle(data_dir,file):\n",
    "    start=time.time()\n",
    "    df=pd.read_pickle(os.path.join(data_dir,file))\n",
    "    end=time.time()\n",
    "    print(\"loading time is {:0.4f}\".format(end-start))\n",
    "    print(\"The Shape of Dataset is {}\".format(df.shape))\n",
    "    return df"
   ]
  },
  {
   "cell_type": "code",
   "execution_count": 3,
   "metadata": {},
   "outputs": [
    {
     "name": "stdout",
     "output_type": "stream",
     "text": [
      "Dataloading running time is 50.3536\n",
      "The Shape of Dataset is (48212539, 3)\n",
      "pickle time is 8.8928\n",
      "loading time is 6.0177\n",
      "The Shape of Dataset is (48212539, 3)\n"
     ]
    }
   ],
   "source": [
    "Pers_Edges=read_csv(data_dir, 'Pers_Edges.csv')\n",
    "to_pickle(data_dir,Pers_Edges,'Pers_Edges_pickle')\n",
    "Pers_Edges=read_pickle(data_dir,'Pers_Edges_pickle')"
   ]
  },
  {
   "cell_type": "code",
   "execution_count": 4,
   "metadata": {},
   "outputs": [
    {
     "name": "stdout",
     "output_type": "stream",
     "text": [
      "Dataloading running time is 24.2838\n",
      "The Shape of Dataset is (21591077, 3)\n",
      "pickle time is 3.4007\n",
      "loading time is 2.2511\n",
      "The Shape of Dataset is (21591077, 3)\n"
     ]
    }
   ],
   "source": [
    "Busi_Edges=read_csv(data_dir, 'Busi_Edges.csv')\n",
    "to_pickle(data_dir,Busi_Edges,'Busi_Edges_pickle')\n",
    "Busi_Edges=read_pickle(data_dir,'Busi_Edges_pickle')"
   ]
  },
  {
   "cell_type": "code",
   "execution_count": 5,
   "metadata": {},
   "outputs": [
    {
     "name": "stdout",
     "output_type": "stream",
     "text": [
      "Dataloading running time is 32.1309\n",
      "The Shape of Dataset is (29150140, 3)\n",
      "pickle time is 4.3226\n",
      "loading time is 2.7150\n",
      "The Shape of Dataset is (29150140, 3)\n"
     ]
    }
   ],
   "source": [
    "zipcode_Edges=read_csv(data_dir, 'zipcode_Edges.csv')\n",
    "to_pickle(data_dir,zipcode_Edges,'zipcode_Edges_pickle')\n",
    "zipcode_Edges=read_pickle(data_dir,'zipcode_Edges_pickle')"
   ]
  },
  {
   "cell_type": "code",
   "execution_count": 6,
   "metadata": {},
   "outputs": [
    {
     "name": "stdout",
     "output_type": "stream",
     "text": [
      "Dataloading running time is 31.8512\n",
      "The Shape of Dataset is (34724514, 3)\n",
      "pickle time is 7.3816\n",
      "loading time is 4.6937\n",
      "The Shape of Dataset is (34724514, 3)\n"
     ]
    }
   ],
   "source": [
    "Product_Edges=read_csv(data_dir, 'Product_Edges.csv')\n",
    "to_pickle(data_dir,Product_Edges,'Product_Edges_pickle')\n",
    "Product_Edges=read_pickle(data_dir,'Product_Edges_pickle')"
   ]
  },
  {
   "cell_type": "code",
   "execution_count": 7,
   "metadata": {},
   "outputs": [
    {
     "name": "stdout",
     "output_type": "stream",
     "text": [
      "Dataloading running time is 262.8473\n",
      "The Shape of Dataset is (29150140, 28)\n",
      "pickle time is 57.4555\n",
      "loading time is 47.0746\n",
      "The Shape of Dataset is (29150140, 28)\n"
     ]
    }
   ],
   "source": [
    "vertices=read_csv(data_dir, 'vertices_clean.csv')\n",
    "to_pickle(data_dir,vertices,'vertices_pickle')\n",
    "vertices=read_pickle(data_dir,'vertices_pickle')"
   ]
  },
  {
   "cell_type": "markdown",
   "metadata": {},
   "source": [
    "#### Transform product edge data and create product bit vector"
   ]
  },
  {
   "cell_type": "code",
   "execution_count": 8,
   "metadata": {},
   "outputs": [],
   "source": [
    "Product_Edges=Product_Edges[Product_Edges[\"dst\"].isin([\"P_AUTO\",\"P_HOME\",\"P_RENT\"])]"
   ]
  },
  {
   "cell_type": "code",
   "execution_count": 9,
   "metadata": {},
   "outputs": [],
   "source": [
    "def map_prod(LIST):\n",
    "    if (LIST.count(\"P_AUTO\")==1) and (LIST.count(\"P_HOME\")==1) and (LIST.count(\"P_RENT\")==1):\n",
    "        return [1,1,1,\"111\"]\n",
    "    elif (LIST.count(\"P_AUTO\")==1) and (LIST.count(\"P_HOME\")==1) and (LIST.count(\"P_RENT\")==0):\n",
    "        return [1,1,0,\"110\"]\n",
    "    elif (LIST.count(\"P_AUTO\")==1) and (LIST.count(\"P_HOME\")==0) and (LIST.count(\"P_RENT\")==1):\n",
    "        return [1,0,1,\"101\"]\n",
    "    elif (LIST.count(\"P_AUTO\")==0) and (LIST.count(\"P_HOME\")==1) and (LIST.count(\"P_RENT\")==1):\n",
    "        return [0,1,1,\"011\"]\n",
    "    elif (LIST.count(\"P_AUTO\")==1) and (LIST.count(\"P_HOME\")==0) and (LIST.count(\"P_RENT\")==0):\n",
    "        return [1,0,0,\"100\"]\n",
    "    elif (LIST.count(\"P_AUTO\")==0) and (LIST.count(\"P_HOME\")==1) and (LIST.count(\"P_RENT\")==0):\n",
    "        return [0,1,0,\"010\"]\n",
    "    elif (LIST.count(\"P_AUTO\")==0) and (LIST.count(\"P_HOME\")==0) and (LIST.count(\"P_RENT\")==1):\n",
    "        return [0,0,1,\"001\"]\n",
    "    elif (LIST.count(\"P_AUTO\")==0) and (LIST.count(\"P_HOME\")==0) and (LIST.count(\"P_RENT\")==0):\n",
    "        return [0,0,0,\"000\"]"
   ]
  },
  {
   "cell_type": "code",
   "execution_count": 10,
   "metadata": {},
   "outputs": [],
   "source": [
    "# import numba as nb\n",
    "# @nb.jit(nopython=True)\n",
    "def Flatten_Product(Product_Edges):\n",
    "    Product_Edges.sort_values(by=\"src\",inplace=True)\n",
    "    src, _, dst=np.array(Product_Edges).transpose()\n",
    "    row=np.unique(src).shape[0]\n",
    "    col=np.unique(dst).shape[0]\n",
    "    Flatten_df=np.zeros([row,col+2],dtype=int)   ### usaa_number,  P_AUTO,  P_HOME,  P_RENT,  Product_bit_Vector\n",
    "    \n",
    "    uniq_v, uniq_e=np.unique(Product_Edges[\"src\"],return_inverse=True)\n",
    "    _, idx=np.unique(uniq_e,return_index=True)\n",
    "\n",
    "    for i in tqdm(np.arange(len(uniq_v))):\n",
    "        \n",
    "        if i!=len(uniq_v)-1:\n",
    "            Flatten_df[i][0]=list(set(Product_Edges[idx[i]:idx[i+1]].src.astype(int)))[0]\n",
    "            Flatten_df[i][1:5]=map_prod(list(set(Product_Edges[idx[i]:idx[i+1]].dst)))\n",
    "        else:\n",
    "            Flatten_df[i][0]=list(set(Product_Edges[idx[i]:].src.astype(int)))[0]\n",
    "            Flatten_df[i][1:5]=map_prod(list(set(Product_Edges[idx[i]:].dst)))\n",
    "    \n",
    "    Flatten_df=pd.DataFrame(Flatten_df,columns=[\"USAA_Number\",\"P_AUTO\",\"P_HOME\",\"P_RENT\",\"Prod_Trace\"])\n",
    "    Flatten_df[\"Prod_Trace\"]=Flatten_df[\"Prod_Trace\"].apply(lambda x : '{0:0>3}'.format(x)) ## add the leading zero in some prod_trace\n",
    "    \n",
    "    return Flatten_df"
   ]
  },
  {
   "cell_type": "code",
   "execution_count": null,
   "metadata": {},
   "outputs": [],
   "source": [
    "# Flatten_df=Flatten_Product(Product_Edges)"
   ]
  },
  {
   "cell_type": "code",
   "execution_count": 11,
   "metadata": {},
   "outputs": [
    {
     "name": "stdout",
     "output_type": "stream",
     "text": [
      "loading time is 1.0855\n",
      "The Shape of Dataset is (7512788, 5)\n"
     ]
    }
   ],
   "source": [
    "# to_pickle(data_dir,Flatten_df,'Flatten_Product_pickle')\n",
    "Flatten_Product_pickle=read_pickle(data_dir,'Flatten_Product_pickle')"
   ]
  },
  {
   "cell_type": "code",
   "execution_count": 12,
   "metadata": {},
   "outputs": [
    {
     "data": {
      "text/html": [
       "<style  type=\"text/css\" >\n",
       "</style><table id=\"T_42a95d10_ff73_11eb_b9b8_0242ac110004\" ><thead>    <tr>        <th class=\"blank level0\" ></th>        <th class=\"col_heading level0 col0\" >product</th>        <th class=\"col_heading level0 col1\" >count</th>        <th class=\"col_heading level0 col2\" >percentage</th>    </tr></thead><tbody>\n",
       "                <tr>\n",
       "                        <th id=\"T_42a95d10_ff73_11eb_b9b8_0242ac110004level0_row0\" class=\"row_heading level0 row0\" >0</th>\n",
       "                        <td id=\"T_42a95d10_ff73_11eb_b9b8_0242ac110004row0_col0\" class=\"data row0 col0\" >110</td>\n",
       "                        <td id=\"T_42a95d10_ff73_11eb_b9b8_0242ac110004row0_col1\" class=\"data row0 col1\" >3,051,344</td>\n",
       "                        <td id=\"T_42a95d10_ff73_11eb_b9b8_0242ac110004row0_col2\" class=\"data row0 col2\" >40.62%</td>\n",
       "            </tr>\n",
       "            <tr>\n",
       "                        <th id=\"T_42a95d10_ff73_11eb_b9b8_0242ac110004level0_row1\" class=\"row_heading level0 row1\" >1</th>\n",
       "                        <td id=\"T_42a95d10_ff73_11eb_b9b8_0242ac110004row1_col0\" class=\"data row1 col0\" >100</td>\n",
       "                        <td id=\"T_42a95d10_ff73_11eb_b9b8_0242ac110004row1_col1\" class=\"data row1 col1\" >2,431,160</td>\n",
       "                        <td id=\"T_42a95d10_ff73_11eb_b9b8_0242ac110004row1_col2\" class=\"data row1 col2\" >32.36%</td>\n",
       "            </tr>\n",
       "            <tr>\n",
       "                        <th id=\"T_42a95d10_ff73_11eb_b9b8_0242ac110004level0_row2\" class=\"row_heading level0 row2\" >2</th>\n",
       "                        <td id=\"T_42a95d10_ff73_11eb_b9b8_0242ac110004row2_col0\" class=\"data row2 col0\" >101</td>\n",
       "                        <td id=\"T_42a95d10_ff73_11eb_b9b8_0242ac110004row2_col1\" class=\"data row2 col1\" >1,438,036</td>\n",
       "                        <td id=\"T_42a95d10_ff73_11eb_b9b8_0242ac110004row2_col2\" class=\"data row2 col2\" >19.14%</td>\n",
       "            </tr>\n",
       "            <tr>\n",
       "                        <th id=\"T_42a95d10_ff73_11eb_b9b8_0242ac110004level0_row3\" class=\"row_heading level0 row3\" >3</th>\n",
       "                        <td id=\"T_42a95d10_ff73_11eb_b9b8_0242ac110004row3_col0\" class=\"data row3 col0\" >001</td>\n",
       "                        <td id=\"T_42a95d10_ff73_11eb_b9b8_0242ac110004row3_col1\" class=\"data row3 col1\" >281,768</td>\n",
       "                        <td id=\"T_42a95d10_ff73_11eb_b9b8_0242ac110004row3_col2\" class=\"data row3 col2\" >3.75%</td>\n",
       "            </tr>\n",
       "            <tr>\n",
       "                        <th id=\"T_42a95d10_ff73_11eb_b9b8_0242ac110004level0_row4\" class=\"row_heading level0 row4\" >4</th>\n",
       "                        <td id=\"T_42a95d10_ff73_11eb_b9b8_0242ac110004row4_col0\" class=\"data row4 col0\" >010</td>\n",
       "                        <td id=\"T_42a95d10_ff73_11eb_b9b8_0242ac110004row4_col1\" class=\"data row4 col1\" >248,768</td>\n",
       "                        <td id=\"T_42a95d10_ff73_11eb_b9b8_0242ac110004row4_col2\" class=\"data row4 col2\" >3.31%</td>\n",
       "            </tr>\n",
       "            <tr>\n",
       "                        <th id=\"T_42a95d10_ff73_11eb_b9b8_0242ac110004level0_row5\" class=\"row_heading level0 row5\" >5</th>\n",
       "                        <td id=\"T_42a95d10_ff73_11eb_b9b8_0242ac110004row5_col0\" class=\"data row5 col0\" >111</td>\n",
       "                        <td id=\"T_42a95d10_ff73_11eb_b9b8_0242ac110004row5_col1\" class=\"data row5 col1\" >58,662</td>\n",
       "                        <td id=\"T_42a95d10_ff73_11eb_b9b8_0242ac110004row5_col2\" class=\"data row5 col2\" >0.78%</td>\n",
       "            </tr>\n",
       "            <tr>\n",
       "                        <th id=\"T_42a95d10_ff73_11eb_b9b8_0242ac110004level0_row6\" class=\"row_heading level0 row6\" >6</th>\n",
       "                        <td id=\"T_42a95d10_ff73_11eb_b9b8_0242ac110004row6_col0\" class=\"data row6 col0\" >011</td>\n",
       "                        <td id=\"T_42a95d10_ff73_11eb_b9b8_0242ac110004row6_col1\" class=\"data row6 col1\" >3,050</td>\n",
       "                        <td id=\"T_42a95d10_ff73_11eb_b9b8_0242ac110004row6_col2\" class=\"data row6 col2\" >0.04%</td>\n",
       "            </tr>\n",
       "    </tbody></table>"
      ],
      "text/plain": [
       "<pandas.io.formats.style.Styler at 0x7efb991a4518>"
      ]
     },
     "execution_count": 12,
     "metadata": {},
     "output_type": "execute_result"
    }
   ],
   "source": [
    "tempt1=pd.DataFrame(Flatten_Product_pickle[\"Prod_Trace\"].value_counts()).reset_index().rename(columns={'index':'product','Prod_Trace':'count'})\n",
    "tempt2=pd.DataFrame(Flatten_Product_pickle[\"Prod_Trace\"].value_counts(normalize=True)).reset_index().rename(columns={'index':'product','Prod_Trace':'percentage'})\n",
    "tempt1.merge(tempt2, on=\"product\", how=\"inner\").style.format({'count':'{:,}','percentage':'{:.2%}'})"
   ]
  },
  {
   "cell_type": "code",
   "execution_count": 13,
   "metadata": {},
   "outputs": [
    {
     "name": "stdout",
     "output_type": "stream",
     "text": [
      "Pers_Edges Dataframe:\n",
      "        src     rel       dst\n",
      "0  50777622  Parent  53997959\n",
      "1  50777622  Parent  57122393\n",
      "\n",
      "Busi_Edges Dataframe:\n",
      "        src             rel       dst\n",
      "0  50777622  Busi_rel_Other  57122393\n",
      "1  50777622         SPONSOR  53995390\n",
      "\n",
      "zipcode_Edges Dataframe:\n",
      "        src         rel    dst\n",
      "0  50777622  Located_In  28210\n",
      "1  50777626  Located_In  98177\n",
      "\n",
      "Product_Edges Dataframe:\n",
      "   USAA_Number  P_AUTO  P_HOME  P_RENT Prod_Trace\n",
      "0     50777622       1       1       0        110\n",
      "1     50777628       1       1       0        110\n"
     ]
    }
   ],
   "source": [
    "print(\"Pers_Edges Dataframe:\")\n",
    "print(Pers_Edges.head(2))\n",
    "print()\n",
    "print(\"Busi_Edges Dataframe:\")\n",
    "print(Busi_Edges.head(2))\n",
    "print()\n",
    "print(\"zipcode_Edges Dataframe:\")\n",
    "print(zipcode_Edges.head(2))\n",
    "print()\n",
    "print(\"Product_Edges Dataframe:\")\n",
    "print(Flatten_Product_pickle.head(2))"
   ]
  },
  {
   "cell_type": "markdown",
   "metadata": {},
   "source": [
    "#### Create bi-directional relationship"
   ]
  },
  {
   "cell_type": "code",
   "execution_count": 14,
   "metadata": {},
   "outputs": [],
   "source": [
    "def datashow(dataframe):\n",
    "    tempt1=pd.DataFrame(dataframe.rel.value_counts()).reset_index().rename(columns={'index':'rels','rel':'count'})\n",
    "    tempt2=pd.DataFrame(dataframe.rel.value_counts(normalize=True)).reset_index().rename(columns={'index':'rels','rel':'percentage'})\n",
    "    return tempt1.merge(tempt2, on=\"rels\", how=\"inner\").style.format({'count':'{:,}','percentage':'{:.2%}'})\n",
    "\n",
    "def make_bidirectional(dataframe, rel_types, rev_rel_types):\n",
    "    \"\"\"\n",
    "    dataframe :    triplet(src, rel, dst)\n",
    "    rel_types:     relationship to be inversed bidirectiohally\n",
    "    rev_rel_types: the inversed relationship name\n",
    "    \"\"\"\n",
    "    np_df=np.array(dataframe)\n",
    "    src,rel,dst=np_df.transpose()\n",
    "    rel_v2=rel.copy()\n",
    "    for idx, val in enumerate(rel_types):\n",
    "        rel_v2[rel==val]=rev_rel_types[idx]\n",
    "        \n",
    "    src,dst=np.concatenate((src,dst)), np.concatenate((dst, src))\n",
    "    rel=np.concatenate((rel, rel_v2))\n",
    "    \n",
    "    DF=pd.DataFrame(sorted(zip(src, rel, dst)),columns=['src','rel','dst'])\n",
    "    DF.drop_duplicates(inplace=True)\n",
    "    \n",
    "    return DF"
   ]
  },
  {
   "cell_type": "code",
   "execution_count": 15,
   "metadata": {},
   "outputs": [
    {
     "data": {
      "text/html": [
       "<style  type=\"text/css\" >\n",
       "</style><table id=\"T_46ffd9de_ff73_11eb_b9b8_0242ac110004\" ><thead>    <tr>        <th class=\"blank level0\" ></th>        <th class=\"col_heading level0 col0\" >rels</th>        <th class=\"col_heading level0 col1\" >count</th>        <th class=\"col_heading level0 col2\" >percentage</th>    </tr></thead><tbody>\n",
       "                <tr>\n",
       "                        <th id=\"T_46ffd9de_ff73_11eb_b9b8_0242ac110004level0_row0\" class=\"row_heading level0 row0\" >0</th>\n",
       "                        <td id=\"T_46ffd9de_ff73_11eb_b9b8_0242ac110004row0_col0\" class=\"data row0 col0\" >SPONSOR</td>\n",
       "                        <td id=\"T_46ffd9de_ff73_11eb_b9b8_0242ac110004row0_col1\" class=\"data row0 col1\" >16,775,141</td>\n",
       "                        <td id=\"T_46ffd9de_ff73_11eb_b9b8_0242ac110004row0_col2\" class=\"data row0 col2\" >77.69%</td>\n",
       "            </tr>\n",
       "            <tr>\n",
       "                        <th id=\"T_46ffd9de_ff73_11eb_b9b8_0242ac110004level0_row1\" class=\"row_heading level0 row1\" >1</th>\n",
       "                        <td id=\"T_46ffd9de_ff73_11eb_b9b8_0242ac110004row1_col0\" class=\"data row1 col0\" >AUTO_RELATED</td>\n",
       "                        <td id=\"T_46ffd9de_ff73_11eb_b9b8_0242ac110004row1_col1\" class=\"data row1 col1\" >4,070,627</td>\n",
       "                        <td id=\"T_46ffd9de_ff73_11eb_b9b8_0242ac110004row1_col2\" class=\"data row1 col2\" >18.85%</td>\n",
       "            </tr>\n",
       "            <tr>\n",
       "                        <th id=\"T_46ffd9de_ff73_11eb_b9b8_0242ac110004level0_row2\" class=\"row_heading level0 row2\" >2</th>\n",
       "                        <td id=\"T_46ffd9de_ff73_11eb_b9b8_0242ac110004row2_col0\" class=\"data row2 col0\" >Busi_rel_Other</td>\n",
       "                        <td id=\"T_46ffd9de_ff73_11eb_b9b8_0242ac110004row2_col1\" class=\"data row2 col1\" >745,309</td>\n",
       "                        <td id=\"T_46ffd9de_ff73_11eb_b9b8_0242ac110004row2_col2\" class=\"data row2 col2\" >3.45%</td>\n",
       "            </tr>\n",
       "    </tbody></table>"
      ],
      "text/plain": [
       "<pandas.io.formats.style.Styler at 0x7efb991a3b38>"
      ]
     },
     "execution_count": 15,
     "metadata": {},
     "output_type": "execute_result"
    }
   ],
   "source": [
    "datashow(Busi_Edges)"
   ]
  },
  {
   "cell_type": "code",
   "execution_count": 16,
   "metadata": {},
   "outputs": [
    {
     "name": "stdout",
     "output_type": "stream",
     "text": [
      "Busi_rel_Other                Busi_rel_Other                \n",
      "SPONSOR                       SPONSEE                       \n",
      "AUTO_RELATED                  AUTO_RELATED                  \n"
     ]
    }
   ],
   "source": [
    "rel_types=Busi_Edges.rel.unique().tolist()  ## ['Busi_rel_Other', 'SPONSOR', 'AUTO_RELATED']\n",
    "rev_rel_types=['Busi_rel_Other','SPONSEE','AUTO_RELATED']\n",
    "for idx, val in enumerate(rel_types):\n",
    "    print(\"{:<30}{:<30}\".format(val, rev_rel_types[idx]))"
   ]
  },
  {
   "cell_type": "code",
   "execution_count": 17,
   "metadata": {},
   "outputs": [
    {
     "name": "stdout",
     "output_type": "stream",
     "text": [
      "CPU times: user 2min 45s, sys: 10.9 s, total: 2min 56s\n",
      "Wall time: 2min 29s\n"
     ]
    }
   ],
   "source": [
    "%%time\n",
    "rel_types=Busi_Edges.rel.unique().tolist()  ## ['Busi_rel_Other', 'SPONSOR', 'AUTO_RELATED']\n",
    "rev_rel_types=['Busi_rel_Other','SPONSEE','AUTO_RELATED']\n",
    "Busi_Edges_bi=make_bidirectional(Busi_Edges, rel_types, rev_rel_types)"
   ]
  },
  {
   "cell_type": "code",
   "execution_count": 18,
   "metadata": {},
   "outputs": [
    {
     "data": {
      "text/html": [
       "<style  type=\"text/css\" >\n",
       "</style><table id=\"T_a8b795f4_ff73_11eb_b9b8_0242ac110004\" ><thead>    <tr>        <th class=\"blank level0\" ></th>        <th class=\"col_heading level0 col0\" >rels</th>        <th class=\"col_heading level0 col1\" >count</th>        <th class=\"col_heading level0 col2\" >percentage</th>    </tr></thead><tbody>\n",
       "                <tr>\n",
       "                        <th id=\"T_a8b795f4_ff73_11eb_b9b8_0242ac110004level0_row0\" class=\"row_heading level0 row0\" >0</th>\n",
       "                        <td id=\"T_a8b795f4_ff73_11eb_b9b8_0242ac110004row0_col0\" class=\"data row0 col0\" >SPONSOR</td>\n",
       "                        <td id=\"T_a8b795f4_ff73_11eb_b9b8_0242ac110004row0_col1\" class=\"data row0 col1\" >16,775,141</td>\n",
       "                        <td id=\"T_a8b795f4_ff73_11eb_b9b8_0242ac110004row0_col2\" class=\"data row0 col2\" >39.44%</td>\n",
       "            </tr>\n",
       "            <tr>\n",
       "                        <th id=\"T_a8b795f4_ff73_11eb_b9b8_0242ac110004level0_row1\" class=\"row_heading level0 row1\" >1</th>\n",
       "                        <td id=\"T_a8b795f4_ff73_11eb_b9b8_0242ac110004row1_col0\" class=\"data row1 col0\" >SPONSEE</td>\n",
       "                        <td id=\"T_a8b795f4_ff73_11eb_b9b8_0242ac110004row1_col1\" class=\"data row1 col1\" >16,775,141</td>\n",
       "                        <td id=\"T_a8b795f4_ff73_11eb_b9b8_0242ac110004row1_col2\" class=\"data row1 col2\" >39.44%</td>\n",
       "            </tr>\n",
       "            <tr>\n",
       "                        <th id=\"T_a8b795f4_ff73_11eb_b9b8_0242ac110004level0_row2\" class=\"row_heading level0 row2\" >2</th>\n",
       "                        <td id=\"T_a8b795f4_ff73_11eb_b9b8_0242ac110004row2_col0\" class=\"data row2 col0\" >AUTO_RELATED</td>\n",
       "                        <td id=\"T_a8b795f4_ff73_11eb_b9b8_0242ac110004row2_col1\" class=\"data row2 col1\" >7,947,060</td>\n",
       "                        <td id=\"T_a8b795f4_ff73_11eb_b9b8_0242ac110004row2_col2\" class=\"data row2 col2\" >18.68%</td>\n",
       "            </tr>\n",
       "            <tr>\n",
       "                        <th id=\"T_a8b795f4_ff73_11eb_b9b8_0242ac110004level0_row3\" class=\"row_heading level0 row3\" >3</th>\n",
       "                        <td id=\"T_a8b795f4_ff73_11eb_b9b8_0242ac110004row3_col0\" class=\"data row3 col0\" >Busi_rel_Other</td>\n",
       "                        <td id=\"T_a8b795f4_ff73_11eb_b9b8_0242ac110004row3_col1\" class=\"data row3 col1\" >1,039,214</td>\n",
       "                        <td id=\"T_a8b795f4_ff73_11eb_b9b8_0242ac110004row3_col2\" class=\"data row3 col2\" >2.44%</td>\n",
       "            </tr>\n",
       "    </tbody></table>"
      ],
      "text/plain": [
       "<pandas.io.formats.style.Styler at 0x7efb94e49198>"
      ]
     },
     "execution_count": 18,
     "metadata": {},
     "output_type": "execute_result"
    }
   ],
   "source": [
    "datashow(Busi_Edges_bi)"
   ]
  },
  {
   "cell_type": "code",
   "execution_count": 19,
   "metadata": {},
   "outputs": [
    {
     "data": {
      "text/html": [
       "<style  type=\"text/css\" >\n",
       "</style><table id=\"T_ae5cf9cc_ff73_11eb_b9b8_0242ac110004\" ><thead>    <tr>        <th class=\"blank level0\" ></th>        <th class=\"col_heading level0 col0\" >rels</th>        <th class=\"col_heading level0 col1\" >count</th>        <th class=\"col_heading level0 col2\" >percentage</th>    </tr></thead><tbody>\n",
       "                <tr>\n",
       "                        <th id=\"T_ae5cf9cc_ff73_11eb_b9b8_0242ac110004level0_row0\" class=\"row_heading level0 row0\" >0</th>\n",
       "                        <td id=\"T_ae5cf9cc_ff73_11eb_b9b8_0242ac110004row0_col0\" class=\"data row0 col0\" >Located_In</td>\n",
       "                        <td id=\"T_ae5cf9cc_ff73_11eb_b9b8_0242ac110004row0_col1\" class=\"data row0 col1\" >29,150,140</td>\n",
       "                        <td id=\"T_ae5cf9cc_ff73_11eb_b9b8_0242ac110004row0_col2\" class=\"data row0 col2\" >100.00%</td>\n",
       "            </tr>\n",
       "    </tbody></table>"
      ],
      "text/plain": [
       "<pandas.io.formats.style.Styler at 0x7efb94de79b0>"
      ]
     },
     "execution_count": 19,
     "metadata": {},
     "output_type": "execute_result"
    }
   ],
   "source": [
    "# datashow(zipcode_Edges)"
   ]
  },
  {
   "cell_type": "code",
   "execution_count": 20,
   "metadata": {},
   "outputs": [
    {
     "data": {
      "text/plain": [
       "37150"
      ]
     },
     "execution_count": 20,
     "metadata": {},
     "output_type": "execute_result"
    }
   ],
   "source": [
    "# zipcode_Edges['dst'].unique().shape[0]"
   ]
  },
  {
   "cell_type": "code",
   "execution_count": 21,
   "metadata": {},
   "outputs": [
    {
     "name": "stdout",
     "output_type": "stream",
     "text": [
      "CPU times: user 3min, sys: 16.4 s, total: 3min 16s\n",
      "Wall time: 2min 49s\n"
     ]
    }
   ],
   "source": [
    "# %%time\n",
    "# rel_types=zipcode_Edges.rel.unique().tolist()  ## ['Located_In']\n",
    "# rev_rel_types=[\"Location_of\"]\n",
    "# zipcode_Edges_bi=make_bidirectional(zipcode_Edges, rel_types, rev_rel_types)"
   ]
  },
  {
   "cell_type": "code",
   "execution_count": 22,
   "metadata": {},
   "outputs": [
    {
     "data": {
      "text/html": [
       "<style  type=\"text/css\" >\n",
       "</style><table id=\"T_1de4a9f2_ff74_11eb_b9b8_0242ac110004\" ><thead>    <tr>        <th class=\"blank level0\" ></th>        <th class=\"col_heading level0 col0\" >rels</th>        <th class=\"col_heading level0 col1\" >count</th>        <th class=\"col_heading level0 col2\" >percentage</th>    </tr></thead><tbody>\n",
       "                <tr>\n",
       "                        <th id=\"T_1de4a9f2_ff74_11eb_b9b8_0242ac110004level0_row0\" class=\"row_heading level0 row0\" >0</th>\n",
       "                        <td id=\"T_1de4a9f2_ff74_11eb_b9b8_0242ac110004row0_col0\" class=\"data row0 col0\" >Located_In</td>\n",
       "                        <td id=\"T_1de4a9f2_ff74_11eb_b9b8_0242ac110004row0_col1\" class=\"data row0 col1\" >29,150,140</td>\n",
       "                        <td id=\"T_1de4a9f2_ff74_11eb_b9b8_0242ac110004row0_col2\" class=\"data row0 col2\" >50.00%</td>\n",
       "            </tr>\n",
       "            <tr>\n",
       "                        <th id=\"T_1de4a9f2_ff74_11eb_b9b8_0242ac110004level0_row1\" class=\"row_heading level0 row1\" >1</th>\n",
       "                        <td id=\"T_1de4a9f2_ff74_11eb_b9b8_0242ac110004row1_col0\" class=\"data row1 col0\" >Location_of</td>\n",
       "                        <td id=\"T_1de4a9f2_ff74_11eb_b9b8_0242ac110004row1_col1\" class=\"data row1 col1\" >29,150,140</td>\n",
       "                        <td id=\"T_1de4a9f2_ff74_11eb_b9b8_0242ac110004row1_col2\" class=\"data row1 col2\" >50.00%</td>\n",
       "            </tr>\n",
       "    </tbody></table>"
      ],
      "text/plain": [
       "<pandas.io.formats.style.Styler at 0x7efb94de7a58>"
      ]
     },
     "execution_count": 22,
     "metadata": {},
     "output_type": "execute_result"
    }
   ],
   "source": [
    "# datashow(zipcode_Edges_bi)"
   ]
  },
  {
   "cell_type": "code",
   "execution_count": 23,
   "metadata": {},
   "outputs": [
    {
     "data": {
      "text/html": [
       "<style  type=\"text/css\" >\n",
       "</style><table id=\"T_277664b0_ff74_11eb_b9b8_0242ac110004\" ><thead>    <tr>        <th class=\"blank level0\" ></th>        <th class=\"col_heading level0 col0\" >rels</th>        <th class=\"col_heading level0 col1\" >count</th>        <th class=\"col_heading level0 col2\" >percentage</th>    </tr></thead><tbody>\n",
       "                <tr>\n",
       "                        <th id=\"T_277664b0_ff74_11eb_b9b8_0242ac110004level0_row0\" class=\"row_heading level0 row0\" >0</th>\n",
       "                        <td id=\"T_277664b0_ff74_11eb_b9b8_0242ac110004row0_col0\" class=\"data row0 col0\" >Spouse</td>\n",
       "                        <td id=\"T_277664b0_ff74_11eb_b9b8_0242ac110004row0_col1\" class=\"data row0 col1\" >15,956,458</td>\n",
       "                        <td id=\"T_277664b0_ff74_11eb_b9b8_0242ac110004row0_col2\" class=\"data row0 col2\" >33.10%</td>\n",
       "            </tr>\n",
       "            <tr>\n",
       "                        <th id=\"T_277664b0_ff74_11eb_b9b8_0242ac110004level0_row1\" class=\"row_heading level0 row1\" >1</th>\n",
       "                        <td id=\"T_277664b0_ff74_11eb_b9b8_0242ac110004row1_col0\" class=\"data row1 col0\" >Child</td>\n",
       "                        <td id=\"T_277664b0_ff74_11eb_b9b8_0242ac110004row1_col1\" class=\"data row1 col1\" >11,718,115</td>\n",
       "                        <td id=\"T_277664b0_ff74_11eb_b9b8_0242ac110004row1_col2\" class=\"data row1 col2\" >24.31%</td>\n",
       "            </tr>\n",
       "            <tr>\n",
       "                        <th id=\"T_277664b0_ff74_11eb_b9b8_0242ac110004level0_row2\" class=\"row_heading level0 row2\" >2</th>\n",
       "                        <td id=\"T_277664b0_ff74_11eb_b9b8_0242ac110004row2_col0\" class=\"data row2 col0\" >Parent</td>\n",
       "                        <td id=\"T_277664b0_ff74_11eb_b9b8_0242ac110004row2_col1\" class=\"data row2 col1\" >11,681,786</td>\n",
       "                        <td id=\"T_277664b0_ff74_11eb_b9b8_0242ac110004row2_col2\" class=\"data row2 col2\" >24.23%</td>\n",
       "            </tr>\n",
       "            <tr>\n",
       "                        <th id=\"T_277664b0_ff74_11eb_b9b8_0242ac110004level0_row3\" class=\"row_heading level0 row3\" >3</th>\n",
       "                        <td id=\"T_277664b0_ff74_11eb_b9b8_0242ac110004row3_col0\" class=\"data row3 col0\" >Ex-Spouse</td>\n",
       "                        <td id=\"T_277664b0_ff74_11eb_b9b8_0242ac110004row3_col1\" class=\"data row3 col1\" >3,819,326</td>\n",
       "                        <td id=\"T_277664b0_ff74_11eb_b9b8_0242ac110004row3_col2\" class=\"data row3 col2\" >7.92%</td>\n",
       "            </tr>\n",
       "            <tr>\n",
       "                        <th id=\"T_277664b0_ff74_11eb_b9b8_0242ac110004level0_row4\" class=\"row_heading level0 row4\" >4</th>\n",
       "                        <td id=\"T_277664b0_ff74_11eb_b9b8_0242ac110004row4_col0\" class=\"data row4 col0\" >Pers_rel_Other</td>\n",
       "                        <td id=\"T_277664b0_ff74_11eb_b9b8_0242ac110004row4_col1\" class=\"data row4 col1\" >1,948,427</td>\n",
       "                        <td id=\"T_277664b0_ff74_11eb_b9b8_0242ac110004row4_col2\" class=\"data row4 col2\" >4.04%</td>\n",
       "            </tr>\n",
       "            <tr>\n",
       "                        <th id=\"T_277664b0_ff74_11eb_b9b8_0242ac110004level0_row5\" class=\"row_heading level0 row5\" >5</th>\n",
       "                        <td id=\"T_277664b0_ff74_11eb_b9b8_0242ac110004row5_col0\" class=\"data row5 col0\" >Step-Parent/Mother</td>\n",
       "                        <td id=\"T_277664b0_ff74_11eb_b9b8_0242ac110004row5_col1\" class=\"data row5 col1\" >1,223,167</td>\n",
       "                        <td id=\"T_277664b0_ff74_11eb_b9b8_0242ac110004row5_col2\" class=\"data row5 col2\" >2.54%</td>\n",
       "            </tr>\n",
       "            <tr>\n",
       "                        <th id=\"T_277664b0_ff74_11eb_b9b8_0242ac110004level0_row6\" class=\"row_heading level0 row6\" >6</th>\n",
       "                        <td id=\"T_277664b0_ff74_11eb_b9b8_0242ac110004row6_col0\" class=\"data row6 col0\" >Step-Child</td>\n",
       "                        <td id=\"T_277664b0_ff74_11eb_b9b8_0242ac110004row6_col1\" class=\"data row6 col1\" >1,223,071</td>\n",
       "                        <td id=\"T_277664b0_ff74_11eb_b9b8_0242ac110004row6_col2\" class=\"data row6 col2\" >2.54%</td>\n",
       "            </tr>\n",
       "            <tr>\n",
       "                        <th id=\"T_277664b0_ff74_11eb_b9b8_0242ac110004level0_row7\" class=\"row_heading level0 row7\" >7</th>\n",
       "                        <td id=\"T_277664b0_ff74_11eb_b9b8_0242ac110004row7_col0\" class=\"data row7 col0\" >Brother_Sister</td>\n",
       "                        <td id=\"T_277664b0_ff74_11eb_b9b8_0242ac110004row7_col1\" class=\"data row7 col1\" >642,189</td>\n",
       "                        <td id=\"T_277664b0_ff74_11eb_b9b8_0242ac110004row7_col2\" class=\"data row7 col2\" >1.33%</td>\n",
       "            </tr>\n",
       "    </tbody></table>"
      ],
      "text/plain": [
       "<pandas.io.formats.style.Styler at 0x7efd849c58d0>"
      ]
     },
     "execution_count": 23,
     "metadata": {},
     "output_type": "execute_result"
    }
   ],
   "source": [
    "Pers_Edges=Pers_Edges.replace(to_replace =\"Step-Parent/Mother\",value =\"Step-Parent\")\n",
    "datashow(Pers_Edges)"
   ]
  },
  {
   "cell_type": "code",
   "execution_count": 24,
   "metadata": {},
   "outputs": [
    {
     "name": "stdout",
     "output_type": "stream",
     "text": [
      "Parent                        Child                         \n",
      "Spouse                        Spouse                        \n",
      "Child                         Parent                        \n",
      "Ex-Spouse                     Ex-Spouse                     \n",
      "Pers_rel_Other                Pers_rel_Other                \n",
      "Brother_Sister                Brother_Sister                \n",
      "Step-Parent/Mother            Step-Child                    \n",
      "Step-Child                    Step-Parent                   \n"
     ]
    }
   ],
   "source": [
    "rel_types=Pers_Edges.rel.unique().tolist()  \n",
    "rev_rel_types=['Child','Spouse','Parent','Ex-Spouse','Pers_rel_Other','Brother_Sister','Step-Child','Step-Parent']\n",
    "for idx, val in enumerate(rel_types):\n",
    "    print(\"{:<30}{:<30}\".format(val, rev_rel_types[idx]))"
   ]
  },
  {
   "cell_type": "code",
   "execution_count": 25,
   "metadata": {},
   "outputs": [
    {
     "name": "stdout",
     "output_type": "stream",
     "text": [
      "CPU times: user 5min 59s, sys: 29 s, total: 6min 28s\n",
      "Wall time: 5min 58s\n"
     ]
    }
   ],
   "source": [
    "%%time\n",
    "Pers_Edges_bi=make_bidirectional(Pers_Edges, rel_types, rev_rel_types)"
   ]
  },
  {
   "cell_type": "code",
   "execution_count": 26,
   "metadata": {},
   "outputs": [
    {
     "data": {
      "text/html": [
       "<style  type=\"text/css\" >\n",
       "</style><table id=\"T_0832ad60_ff75_11eb_b9b8_0242ac110004\" ><thead>    <tr>        <th class=\"blank level0\" ></th>        <th class=\"col_heading level0 col0\" >rels</th>        <th class=\"col_heading level0 col1\" >count</th>        <th class=\"col_heading level0 col2\" >percentage</th>    </tr></thead><tbody>\n",
       "                <tr>\n",
       "                        <th id=\"T_0832ad60_ff75_11eb_b9b8_0242ac110004level0_row0\" class=\"row_heading level0 row0\" >0</th>\n",
       "                        <td id=\"T_0832ad60_ff75_11eb_b9b8_0242ac110004row0_col0\" class=\"data row0 col0\" >Spouse</td>\n",
       "                        <td id=\"T_0832ad60_ff75_11eb_b9b8_0242ac110004row0_col1\" class=\"data row0 col1\" >16,016,119</td>\n",
       "                        <td id=\"T_0832ad60_ff75_11eb_b9b8_0242ac110004row0_col2\" class=\"data row0 col2\" >32.18%</td>\n",
       "            </tr>\n",
       "            <tr>\n",
       "                        <th id=\"T_0832ad60_ff75_11eb_b9b8_0242ac110004level0_row1\" class=\"row_heading level0 row1\" >1</th>\n",
       "                        <td id=\"T_0832ad60_ff75_11eb_b9b8_0242ac110004row1_col0\" class=\"data row1 col0\" >Parent</td>\n",
       "                        <td id=\"T_0832ad60_ff75_11eb_b9b8_0242ac110004row1_col1\" class=\"data row1 col1\" >11,765,795</td>\n",
       "                        <td id=\"T_0832ad60_ff75_11eb_b9b8_0242ac110004row1_col2\" class=\"data row1 col2\" >23.64%</td>\n",
       "            </tr>\n",
       "            <tr>\n",
       "                        <th id=\"T_0832ad60_ff75_11eb_b9b8_0242ac110004level0_row2\" class=\"row_heading level0 row2\" >2</th>\n",
       "                        <td id=\"T_0832ad60_ff75_11eb_b9b8_0242ac110004row2_col0\" class=\"data row2 col0\" >Child</td>\n",
       "                        <td id=\"T_0832ad60_ff75_11eb_b9b8_0242ac110004row2_col1\" class=\"data row2 col1\" >11,765,795</td>\n",
       "                        <td id=\"T_0832ad60_ff75_11eb_b9b8_0242ac110004row2_col2\" class=\"data row2 col2\" >23.64%</td>\n",
       "            </tr>\n",
       "            <tr>\n",
       "                        <th id=\"T_0832ad60_ff75_11eb_b9b8_0242ac110004level0_row3\" class=\"row_heading level0 row3\" >3</th>\n",
       "                        <td id=\"T_0832ad60_ff75_11eb_b9b8_0242ac110004row3_col0\" class=\"data row3 col0\" >Ex-Spouse</td>\n",
       "                        <td id=\"T_0832ad60_ff75_11eb_b9b8_0242ac110004row3_col1\" class=\"data row3 col1\" >3,877,972</td>\n",
       "                        <td id=\"T_0832ad60_ff75_11eb_b9b8_0242ac110004row3_col2\" class=\"data row3 col2\" >7.79%</td>\n",
       "            </tr>\n",
       "            <tr>\n",
       "                        <th id=\"T_0832ad60_ff75_11eb_b9b8_0242ac110004level0_row4\" class=\"row_heading level0 row4\" >4</th>\n",
       "                        <td id=\"T_0832ad60_ff75_11eb_b9b8_0242ac110004row4_col0\" class=\"data row4 col0\" >Pers_rel_Other</td>\n",
       "                        <td id=\"T_0832ad60_ff75_11eb_b9b8_0242ac110004row4_col1\" class=\"data row4 col1\" >2,012,514</td>\n",
       "                        <td id=\"T_0832ad60_ff75_11eb_b9b8_0242ac110004row4_col2\" class=\"data row4 col2\" >4.04%</td>\n",
       "            </tr>\n",
       "            <tr>\n",
       "                        <th id=\"T_0832ad60_ff75_11eb_b9b8_0242ac110004level0_row5\" class=\"row_heading level0 row5\" >5</th>\n",
       "                        <td id=\"T_0832ad60_ff75_11eb_b9b8_0242ac110004row5_col0\" class=\"data row5 col0\" >Step-Child</td>\n",
       "                        <td id=\"T_0832ad60_ff75_11eb_b9b8_0242ac110004row5_col1\" class=\"data row5 col1\" >1,240,193</td>\n",
       "                        <td id=\"T_0832ad60_ff75_11eb_b9b8_0242ac110004row5_col2\" class=\"data row5 col2\" >2.49%</td>\n",
       "            </tr>\n",
       "            <tr>\n",
       "                        <th id=\"T_0832ad60_ff75_11eb_b9b8_0242ac110004level0_row6\" class=\"row_heading level0 row6\" >6</th>\n",
       "                        <td id=\"T_0832ad60_ff75_11eb_b9b8_0242ac110004row6_col0\" class=\"data row6 col0\" >Step-Parent/Mother</td>\n",
       "                        <td id=\"T_0832ad60_ff75_11eb_b9b8_0242ac110004row6_col1\" class=\"data row6 col1\" >1,223,167</td>\n",
       "                        <td id=\"T_0832ad60_ff75_11eb_b9b8_0242ac110004row6_col2\" class=\"data row6 col2\" >2.46%</td>\n",
       "            </tr>\n",
       "            <tr>\n",
       "                        <th id=\"T_0832ad60_ff75_11eb_b9b8_0242ac110004level0_row7\" class=\"row_heading level0 row7\" >7</th>\n",
       "                        <td id=\"T_0832ad60_ff75_11eb_b9b8_0242ac110004row7_col0\" class=\"data row7 col0\" >Step-Parent</td>\n",
       "                        <td id=\"T_0832ad60_ff75_11eb_b9b8_0242ac110004row7_col1\" class=\"data row7 col1\" >1,223,071</td>\n",
       "                        <td id=\"T_0832ad60_ff75_11eb_b9b8_0242ac110004row7_col2\" class=\"data row7 col2\" >2.46%</td>\n",
       "            </tr>\n",
       "            <tr>\n",
       "                        <th id=\"T_0832ad60_ff75_11eb_b9b8_0242ac110004level0_row8\" class=\"row_heading level0 row8\" >8</th>\n",
       "                        <td id=\"T_0832ad60_ff75_11eb_b9b8_0242ac110004row8_col0\" class=\"data row8 col0\" >Brother_Sister</td>\n",
       "                        <td id=\"T_0832ad60_ff75_11eb_b9b8_0242ac110004row8_col1\" class=\"data row8 col1\" >651,444</td>\n",
       "                        <td id=\"T_0832ad60_ff75_11eb_b9b8_0242ac110004row8_col2\" class=\"data row8 col2\" >1.31%</td>\n",
       "            </tr>\n",
       "    </tbody></table>"
      ],
      "text/plain": [
       "<pandas.io.formats.style.Styler at 0x7efb94de7080>"
      ]
     },
     "execution_count": 26,
     "metadata": {},
     "output_type": "execute_result"
    }
   ],
   "source": [
    "datashow(Pers_Edges_bi)"
   ]
  },
  {
   "cell_type": "markdown",
   "metadata": {},
   "source": [
    "#### Construct a Heterogeneous Graph"
   ]
  },
  {
   "cell_type": "markdown",
   "metadata": {},
   "source": [
    "#### re-label source nodes and destination nodes for each node type"
   ]
  },
  {
   "cell_type": "code",
   "execution_count": 27,
   "metadata": {},
   "outputs": [
    {
     "name": "stdout",
     "output_type": "stream",
     "text": [
      "CPU times: user 7min 57s, sys: 24.5 s, total: 8min 22s\n",
      "Wall time: 8min 14s\n"
     ]
    }
   ],
   "source": [
    "%%time\n",
    "#### relabel the nodes of USAA Member such that they are continous integers from 0 to max\n",
    "src_pers, _ ,dst_pers=np.array(Pers_Edges_bi).transpose()\n",
    "src_busi, _ ,dst_busi=np.array(Busi_Edges_bi).transpose()\n",
    "all_usaanr=np.concatenate((src_pers,dst_pers,src_busi,dst_busi))\n",
    "uniq_usaanr = np.unique(all_usaanr)\n",
    "\n",
    "vertices=vertices[vertices['usaanr'].isin(uniq_usaanr)]\n",
    "\n",
    "zipcode_Edges=zipcode_Edges[zipcode_Edges['src'].isin(uniq_usaanr)]\n",
    "rel_types=zipcode_Edges.rel.unique().tolist()  ## ['Located_In']\n",
    "rev_rel_types=[\"Location_of\"]\n",
    "zipcode_Edges_bi=make_bidirectional(zipcode_Edges, rel_types, rev_rel_types)\n",
    "\n",
    "src_zipcode, _ ,dst_zipcode=np.array(zipcode_Edges_bi[zipcode_Edges_bi['rel']==\"Located_In\"]).transpose()\n",
    "uniq_zipcode = np.unique(dst_zipcode)\n",
    "\n",
    "uniq_usaanr.sort()\n",
    "uniq_zipcode.sort()\n",
    "usaanr_map = {id:idx for idx, id in enumerate(uniq_usaanr)}\n",
    "zipcode_map = {id:idx for idx, id in enumerate(uniq_zipcode)}"
   ]
  },
  {
   "cell_type": "code",
   "execution_count": 28,
   "metadata": {},
   "outputs": [
    {
     "name": "stdout",
     "output_type": "stream",
     "text": [
      "29150140\n",
      "29150138\n",
      "29150138\n"
     ]
    }
   ],
   "source": [
    "Pers_Edges_bi['src'] = list(map(usaanr_map.get, Pers_Edges_bi['src']))\n",
    "Pers_Edges_bi['dst'] = list(map(usaanr_map.get, Pers_Edges_bi['dst']))\n",
    "print(len(usaanr_map))\n",
    "print(Pers_Edges_bi['src'].unique().max())\n",
    "print(Pers_Edges_bi['dst'].unique().max())"
   ]
  },
  {
   "cell_type": "code",
   "execution_count": 29,
   "metadata": {},
   "outputs": [
    {
     "name": "stdout",
     "output_type": "stream",
     "text": [
      "29150140\n",
      "29150138\n",
      "29150138\n"
     ]
    }
   ],
   "source": [
    "Busi_Edges_bi['src'] = list(map(usaanr_map.get, Busi_Edges_bi['src']))\n",
    "Busi_Edges_bi['dst'] = list(map(usaanr_map.get, Busi_Edges_bi['dst']))\n",
    "print(len(usaanr_map))\n",
    "print(Busi_Edges_bi['src'].unique().max())\n",
    "print(Busi_Edges_bi['dst'].unique().max())"
   ]
  },
  {
   "cell_type": "code",
   "execution_count": 30,
   "metadata": {},
   "outputs": [
    {
     "name": "stdout",
     "output_type": "stream",
     "text": [
      "29150140\n",
      "29150139\n",
      "37150\n",
      "29150139\n"
     ]
    }
   ],
   "source": [
    "zipcode_Edges_v1=zipcode_Edges_bi[zipcode_Edges_bi['rel']==\"Located_In\"]\n",
    "zipcode_Edges_v1['src'] = list(map(usaanr_map.get, zipcode_Edges_v1['src']))\n",
    "zipcode_Edges_v1['dst'] = list(map(zipcode_map.get, zipcode_Edges_v1['dst']))\n",
    "\n",
    "zipcode_Edges_v2=zipcode_Edges_bi[zipcode_Edges_bi['rel']==\"Location_of\"]\n",
    "zipcode_Edges_v2['src'] = list(map(zipcode_map.get, zipcode_Edges_v2['src']))\n",
    "zipcode_Edges_v2['dst'] = list(map(usaanr_map.get, zipcode_Edges_v2['dst']))\n",
    "\n",
    "zipcode_Edges_bi=zipcode_Edges_v1.append(zipcode_Edges_v2,ignore_index=True)\n",
    "print(len(usaanr_map))\n",
    "print(zipcode_Edges_bi['src'].unique().max())\n",
    "print(len(zipcode_map))\n",
    "print(zipcode_Edges_bi['dst'].unique().max())"
   ]
  },
  {
   "cell_type": "markdown",
   "metadata": {},
   "source": [
    "#### Re-label Edges types"
   ]
  },
  {
   "cell_type": "code",
   "execution_count": 31,
   "metadata": {},
   "outputs": [],
   "source": [
    "# relation_encoder=LabelEncoder()\n",
    "# relation_encoder.fit(pd.concat([Pers_Edges['rel'],Busi_Edges['rel'],zipcode_Edges['rel']]))"
   ]
  },
  {
   "cell_type": "code",
   "execution_count": 32,
   "metadata": {},
   "outputs": [
    {
     "name": "stdout",
     "output_type": "stream",
     "text": [
      "CPU times: user 1min 33s, sys: 11.2 s, total: 1min 44s\n",
      "Wall time: 1min 10s\n"
     ]
    }
   ],
   "source": [
    "%%time\n",
    "pers_rel_nums = {\"rel\":     {\"Parent\": 0, \"Child\": 1, \"Spouse\": 2,\"Ex-Spouse\": 3,\"Brother_Sister\": 4, \"Step-Parent\": 5, \"Step-Child\": 6, \"Pers_rel_Other\": 7}}\n",
    "busi_rel_nums = {\"rel\":     {\"SPONSOR\": 8, \"SPONSEE\": 9, \"AUTO_RELATED\": 10,\"Busi_rel_Other\":11}}\n",
    "zipcode_rel_nums = {\"rel\":     {\"Located_In\": 12,\"Location_of\": 13}}\n",
    "\n",
    "# start=time.time()\n",
    "Pers_Edges_bi.replace(pers_rel_nums, inplace=True)\n",
    "Busi_Edges_bi.replace(busi_rel_nums, inplace=True)\n",
    "zipcode_Edges_bi.replace(zipcode_rel_nums, inplace=True)\n",
    "\n",
    "# end=time.time()\n",
    "# print(\"running time is {:0.4f}\".format(end-start))"
   ]
  },
  {
   "cell_type": "code",
   "execution_count": 33,
   "metadata": {},
   "outputs": [
    {
     "name": "stdout",
     "output_type": "stream",
     "text": [
      "[0 2 1 3 7 4 5 'Step-Parent/Mother' 6]\n",
      "[10 11  8  9]\n",
      "[12 13]\n"
     ]
    }
   ],
   "source": [
    "print(Pers_Edges_bi['rel'].unique())\n",
    "print(Busi_Edges_bi['rel'].unique())\n",
    "print(zipcode_Edges_bi['rel'].unique())"
   ]
  },
  {
   "cell_type": "code",
   "execution_count": 34,
   "metadata": {},
   "outputs": [],
   "source": [
    "data_dict=dict()\n",
    "\n",
    "### Personal Relationship ###\n",
    "rel=np.array(Pers_Edges_bi['rel'])\n",
    "src_pers=np.array(Pers_Edges_bi['src'])\n",
    "dst_pers=np.array(Pers_Edges_bi['dst'])\n",
    "\n",
    "data_dict.update({('usaanr', 'Parent', 'usaanr')  :         (src_pers[rel==0], dst_pers[rel==0])})\n",
    "data_dict.update({('usaanr', 'Child', 'usaanr')   :         (src_pers[rel==1], dst_pers[rel==1])})\n",
    "data_dict.update({('usaanr', 'Spouse', 'usaanr')  :         (src_pers[rel==2], dst_pers[rel==2])})\n",
    "data_dict.update({('usaanr', 'Ex-Spouse', 'usaanr')  :      (src_pers[rel==3], dst_pers[rel==3])})\n",
    "data_dict.update({('usaanr', 'Brother_Sister', 'usaanr')  : (src_pers[rel==4], dst_pers[rel==4])})\n",
    "data_dict.update({('usaanr', 'Step-Parent', 'usaanr')     : (src_pers[rel==5], dst_pers[rel==5])})\n",
    "data_dict.update({('usaanr', 'Step-Child', 'usaanr')    :   (src_pers[rel==6], dst_pers[rel==6])})\n",
    "data_dict.update({('usaanr', 'Pers_rel_Other', 'usaanr')  : (src_pers[rel==7], dst_pers[rel==7])})\n",
    "\n",
    "### Business Relationship ###\n",
    "rel=np.array(Busi_Edges_bi['rel'])\n",
    "src_busi=np.array(Busi_Edges_bi['src'])\n",
    "dst_busi=np.array(Busi_Edges_bi['dst'])\n",
    "\n",
    "data_dict.update({('usaanr', 'SPONSOR', 'usaanr')    :      (src_busi[rel==8], dst_busi[rel==8])})\n",
    "data_dict.update({('usaanr', 'SPONSEE', 'usaanr')    :      (src_busi[rel==9], dst_busi[rel==9])})\n",
    "data_dict.update({('usaanr', 'AUTO_RELATED', 'usaanr')   :  (src_busi[rel==10], dst_busi[rel==10])})\n",
    "data_dict.update({('usaanr', 'Busi_rel_Other', 'usaanr') :  (src_busi[rel==11], dst_busi[rel==11])})\n",
    "\n",
    "### zipcode relationship ###\n",
    "zipcode_Edges_v1=zipcode_Edges_bi[zipcode_Edges_bi['rel']==12]\n",
    "src_v1=np.array(zipcode_Edges_v1['src'])\n",
    "dst_v1=np.array(zipcode_Edges_v1['dst'])\n",
    "\n",
    "zipcode_Edges_v2=zipcode_Edges_bi[zipcode_Edges_bi['rel']==13]\n",
    "src_v2=np.array(zipcode_Edges_v2['src'])\n",
    "dst_v2=np.array(zipcode_Edges_v2['dst'])\n",
    "\n",
    "data_dict.update({('usaanr', 'Located_In', 'zipcode')  :   (src_v1, dst_v1)})\n",
    "data_dict.update({('zipcode', 'Location_of','usaanr')  :   (src_v2, dst_v2)})"
   ]
  },
  {
   "cell_type": "code",
   "execution_count": 35,
   "metadata": {},
   "outputs": [
    {
     "name": "stdout",
     "output_type": "stream",
     "text": [
      "running time is 0.6366\n"
     ]
    }
   ],
   "source": [
    "start=time.time()\n",
    "g = dgl.heterograph(data_dict)\n",
    "end=time.time()\n",
    "print(\"running time is {:0.4f}\".format(end-start))"
   ]
  },
  {
   "cell_type": "markdown",
   "metadata": {},
   "source": [
    "#### Assign Edges Types"
   ]
  },
  {
   "cell_type": "code",
   "execution_count": 36,
   "metadata": {},
   "outputs": [],
   "source": [
    "g.edges['Parent'].data[\"etype\"]=torch.zeros(g.num_edges(\"Parent\"))\n",
    "g.edges['Child'].data[\"etype\"]=torch.ones(g.num_edges(\"Child\"))\n",
    "g.edges['Spouse'].data[\"etype\"]=torch.ones(g.num_edges(\"Spouse\"))*2\n",
    "g.edges['Ex-Spouse'].data[\"etype\"]=torch.ones(g.num_edges(\"Ex-Spouse\"))*3\n",
    "g.edges['Brother_Sister'].data[\"etype\"]=torch.ones(g.num_edges(\"Brother_Sister\"))*4\n",
    "g.edges['Step-Parent'].data[\"etype\"]=torch.ones(g.num_edges(\"Step-Parent\"))*5\n",
    "g.edges['Step-Child'].data[\"etype\"]=torch.ones(g.num_edges(\"Step-Child\"))*6\n",
    "g.edges['Pers_rel_Other'].data[\"etype\"]=torch.ones(g.num_edges(\"Pers_rel_Other\"))*7\n",
    "g.edges['SPONSOR'].data[\"etype\"]=torch.ones(g.num_edges(\"SPONSOR\"))*8\n",
    "g.edges['SPONSEE'].data[\"etype\"]=torch.ones(g.num_edges(\"SPONSEE\"))*9\n",
    "g.edges['AUTO_RELATED'].data[\"etype\"]=torch.ones(g.num_edges(\"AUTO_RELATED\"))*10\n",
    "g.edges['Busi_rel_Other'].data[\"etype\"]=torch.ones(g.num_edges(\"Busi_rel_Other\"))*11\n",
    "\n",
    "g.edges['Located_In'].data[\"etype\"]=torch.ones(g.num_edges(\"Located_In\"))*12\n",
    "g.edges['Location_of'].data[\"etype\"]=torch.ones(g.num_edges(\"Location_of\"))*13"
   ]
  },
  {
   "cell_type": "code",
   "execution_count": 37,
   "metadata": {},
   "outputs": [],
   "source": [
    "def graph_show(G):\n",
    "    print('*'*50)\n",
    "    print(\"Node_types: \" , G.ntypes)\n",
    "    print(\"Edge_types: \" , G.etypes)\n",
    "    print('*'*50)\n",
    "    print(\"Canonical Etypes of Graph is:\\n\")\n",
    "    for srctype, etype, dsttype in G.canonical_etypes:\n",
    "        print(\"{:<20}{:<20}{:<20}\".format(srctype, etype, dsttype))\n",
    "    print('*'*50)\n",
    "    Total_ntype_num=0\n",
    "    for i in G.ntypes:\n",
    "        print(f\"number of ntype={i:<20}  {G.number_of_nodes(i):<15,}\")\n",
    "        Total_ntype_num+=G.number_of_nodes(i)\n",
    "    print('*'*50)\n",
    "    print(\"Total number of nodes is {:,}\".format(Total_ntype_num))\n",
    "    print('*'*50)\n",
    "    Total_edge_num=0\n",
    "    for j in G.etypes:\n",
    "        print(f\"number of etype={j:<20}  {G.number_of_edges(j):<15,}\")\n",
    "        Total_edge_num+=G.number_of_edges(j)\n",
    "    print('*'*50)\n",
    "    print(\"Total number of edges is {:,}\".format(Total_edge_num))\n",
    "    print('*'*50)\n",
    "    for nty in G.ntypes:\n",
    "        if G.nodes[nty].data!={}:\n",
    "            print('*'*50)\n",
    "            print(f\"The attributes for the node type={nty}\")\n",
    "            print('*'*50)\n",
    "            for key, scheme in G.node_attr_schemes(ntype=nty).items():\n",
    "                print(\"{:<40}{}\".format(key,G.nodes[nty].data[key].shape))"
   ]
  },
  {
   "cell_type": "code",
   "execution_count": 38,
   "metadata": {},
   "outputs": [
    {
     "name": "stdout",
     "output_type": "stream",
     "text": [
      "**************************************************\n",
      "Node_types:  ['usaanr', 'zipcode']\n",
      "Edge_types:  ['AUTO_RELATED', 'Brother_Sister', 'Busi_rel_Other', 'Child', 'Ex-Spouse', 'Located_In', 'Parent', 'Pers_rel_Other', 'SPONSEE', 'SPONSOR', 'Spouse', 'Step-Child', 'Step-Parent', 'Location_of']\n",
      "**************************************************\n",
      "Canonical Etypes of Graph is:\n",
      "\n",
      "usaanr              AUTO_RELATED        usaanr              \n",
      "usaanr              Brother_Sister      usaanr              \n",
      "usaanr              Busi_rel_Other      usaanr              \n",
      "usaanr              Child               usaanr              \n",
      "usaanr              Ex-Spouse           usaanr              \n",
      "usaanr              Located_In          zipcode             \n",
      "usaanr              Parent              usaanr              \n",
      "usaanr              Pers_rel_Other      usaanr              \n",
      "usaanr              SPONSEE             usaanr              \n",
      "usaanr              SPONSOR             usaanr              \n",
      "usaanr              Spouse              usaanr              \n",
      "usaanr              Step-Child          usaanr              \n",
      "usaanr              Step-Parent         usaanr              \n",
      "zipcode             Location_of         usaanr              \n",
      "**************************************************\n",
      "number of ntype=usaanr                29,150,140     \n",
      "number of ntype=zipcode               37,150         \n",
      "**************************************************\n",
      "Total number of nodes is 29,187,290\n",
      "**************************************************\n",
      "number of etype=AUTO_RELATED          7,947,060      \n",
      "number of etype=Brother_Sister        651,444        \n",
      "number of etype=Busi_rel_Other        1,039,214      \n",
      "number of etype=Child                 11,765,795     \n",
      "number of etype=Ex-Spouse             3,877,972      \n",
      "number of etype=Located_In            29,150,140     \n",
      "number of etype=Parent                11,765,795     \n",
      "number of etype=Pers_rel_Other        2,012,514      \n",
      "number of etype=SPONSEE               16,775,141     \n",
      "number of etype=SPONSOR               16,775,141     \n",
      "number of etype=Spouse                16,016,119     \n",
      "number of etype=Step-Child            1,240,193      \n",
      "number of etype=Step-Parent           1,223,071      \n",
      "number of etype=Location_of           29,150,140     \n",
      "**************************************************\n",
      "Total number of edges is 149,389,739\n",
      "**************************************************\n"
     ]
    }
   ],
   "source": [
    "graph_show(g)"
   ]
  },
  {
   "cell_type": "markdown",
   "metadata": {},
   "source": [
    "#### Adding features/attributes to the nodes of USAA Members\n",
    "The CAP dataset has some features for USAA Member.\n",
    "\n",
    "* usaayr:  USAA Number Issue Year\n",
    "* AGE / AGE BUCKET\n",
    "* ORIGEL :  Original Eligibility\n",
    "* ELIG2 : Current Eligibility\n",
    "* cmpyelig: Company Eligibility\n",
    "* Segment: Alpha ~ Juliet\n",
    "* SEX\n",
    "* MARST : Marriage Status\n",
    "* MILST : Military Status\n",
    "* MLIST_OrigStat: Original Military Status\n",
    "* ENLPAYGD: Military Pay Grade\n",
    "* BRANCH: Military BRANCH of Service\n",
    "* ACTCORP : Corporate Active Status\n",
    "* STATE\n",
    "\n",
    "We use label encoding for all categorial variables. <br>\n",
    "In addition, there is a node data \"type\" that indicates the node type of usaa member, zipcode in the heterogenous graph. <br>\n",
    "The nodes of zipcode don't have the same features as the node of member. "
   ]
  },
  {
   "cell_type": "code",
   "execution_count": 39,
   "metadata": {},
   "outputs": [
    {
     "data": {
      "text/plain": [
       "Index(['usaanr', 'USAAISSUSDT', 'usaayr', 'AGE', 'AGE_BAND', 'ORIGEL', 'ELIG2',\n",
       "       'cmpyelig', 'SEX', 'MARST', 'PERSST', 'DEATHSDT', 'BRANCH', 'MILST',\n",
       "       'MLIST_OrigStat', 'enl1stsdt', 'COMMSDT', 'ENLPAYGD', 'ACTCORP',\n",
       "       'ZIPCD', 'STATE', 'Segment', 'AUT_POL_ANN_PRM_AMT',\n",
       "       'HO_FIRE_POL_PRM_AMT', 'REN_POL_PRM_AMT', 'UMB_POL_PRM_AMT',\n",
       "       'TOT_PRM_AMT', 'PROD_TRACE'],\n",
       "      dtype='object')"
      ]
     },
     "execution_count": 39,
     "metadata": {},
     "output_type": "execute_result"
    }
   ],
   "source": [
    "vertices.columns"
   ]
  },
  {
   "cell_type": "code",
   "execution_count": 40,
   "metadata": {},
   "outputs": [],
   "source": [
    "# assert g.number_of_nodes(ntype=\"usaanr\")==vertices.shape[0], \"the shape of feature data is not equal to the number of USAA member\""
   ]
  },
  {
   "cell_type": "markdown",
   "metadata": {},
   "source": [
    "#### sort the vertices dataframe based on the order of nodes in graph"
   ]
  },
  {
   "cell_type": "code",
   "execution_count": 41,
   "metadata": {},
   "outputs": [
    {
     "name": "stdout",
     "output_type": "stream",
     "text": [
      "size of original vertices 29,150,140     \n",
      "size of updated vertices 29,150,140     \n"
     ]
    }
   ],
   "source": [
    "if g.number_of_nodes(ntype=\"usaanr\")==vertices.shape[0]:\n",
    "    vertices_v2=vertices\n",
    "else:\n",
    "    vertices_v2=vertices[vertices['usaanr'].isin(all_usaanr)]\n",
    "print(\"{:<20} {:<15,}\".format(\"size of original vertices\",vertices.shape[0]))\n",
    "print(\"{:<20} {:<15,}\".format(\"size of updated vertices\",vertices_v2.shape[0]))"
   ]
  },
  {
   "cell_type": "code",
   "execution_count": 42,
   "metadata": {},
   "outputs": [
    {
     "name": "stdout",
     "output_type": "stream",
     "text": [
      "pickle time is 54.2025\n",
      "loading time is 40.0490\n",
      "The Shape of Dataset is (29150140, 28)\n"
     ]
    }
   ],
   "source": [
    "vertices_v2['usaanr'] = list(map(usaanr_map.get, vertices_v2['usaanr']))\n",
    "vertices_v2.sort_values(by=[\"usaanr\"],inplace=True)\n",
    "\n",
    "to_pickle(data_dir,vertices_v2,'vertices_reindex_pickle')\n",
    "vertices=read_pickle(data_dir,'vertices_reindex_pickle')"
   ]
  },
  {
   "cell_type": "markdown",
   "metadata": {},
   "source": [
    "#### Create node type feature\n",
    "The reason I create node type feature is to embedding the node USAA Member , product and zipcode separately. Unlike the node of usaanr,  the nodes of zipcode don't have other features except for node type"
   ]
  },
  {
   "cell_type": "code",
   "execution_count": 43,
   "metadata": {},
   "outputs": [],
   "source": [
    "#### Nodes type feature\n",
    "g.nodes['usaanr'].data['type'] = torch.zeros(size=[g.number_of_nodes(ntype='usaanr'),1]).long()\n",
    "g.nodes['zipcode'].data['type'] = torch.ones(size=[g.number_of_nodes(ntype='zipcode'),1]).long()"
   ]
  },
  {
   "cell_type": "code",
   "execution_count": 44,
   "metadata": {},
   "outputs": [],
   "source": [
    "#### Bin the numerical variable\n",
    "def Bin_Numerical(args,b):\n",
    "#     if args==0:\n",
    "#         return str(0)\n",
    "    for i in range(len(b)-1):\n",
    "        if args>=b[i] and args<=b[i+1]:\n",
    "#             return str((int(b[i]), int(b[i+1])))\n",
    "            return int(i)"
   ]
  },
  {
   "cell_type": "code",
   "execution_count": 45,
   "metadata": {},
   "outputs": [],
   "source": [
    "feat=['usaanr','usaayr','AGE_BAND','ORIGEL', 'ELIG2', 'cmpyelig','SEX', 'MARST','BRANCH','ENLPAYGD','MILST',\n",
    "       'MLIST_OrigStat','ACTCORP', 'STATE', 'Segment']\n",
    "vertices_feat=vertices.loc[:,feat]\n",
    "\n",
    "for col in vertices_feat:\n",
    "    if col !='usaanr':\n",
    "        vertices_feat[col]=vertices_feat[col].astype('str')\n",
    "    \n",
    "class_le=LabelEncoder()\n",
    "\n",
    "for col in vertices_feat.columns:\n",
    "    if vertices_feat[col].dtype==\"object\" and col !='usaanr':\n",
    "        vertices_feat[col]=vertices_feat[col].astype('str')\n",
    "        vertices_feat[col]=class_le.fit_transform(vertices_feat[col])"
   ]
  },
  {
   "cell_type": "code",
   "execution_count": 46,
   "metadata": {},
   "outputs": [],
   "source": [
    "for col in vertices_feat.columns:\n",
    "    g.nodes['usaanr'].data[col]= torch.tensor( np.expand_dims(np.array(vertices_feat[col]), 1) )"
   ]
  },
  {
   "cell_type": "markdown",
   "metadata": {},
   "source": [
    "#### Create label\n",
    "There are two kinds of labels.\n",
    "\n",
    "* multi-classification label:     Auto, Home and Rental\n",
    "* binary-classification label:    Auto or Non-Auto"
   ]
  },
  {
   "cell_type": "code",
   "execution_count": 47,
   "metadata": {},
   "outputs": [
    {
     "data": {
      "text/html": [
       "<div>\n",
       "<style scoped>\n",
       "    .dataframe tbody tr th:only-of-type {\n",
       "        vertical-align: middle;\n",
       "    }\n",
       "\n",
       "    .dataframe tbody tr th {\n",
       "        vertical-align: top;\n",
       "    }\n",
       "\n",
       "    .dataframe thead th {\n",
       "        text-align: right;\n",
       "    }\n",
       "</style>\n",
       "<table border=\"1\" class=\"dataframe\">\n",
       "  <thead>\n",
       "    <tr style=\"text-align: right;\">\n",
       "      <th></th>\n",
       "      <th>USAA_Number</th>\n",
       "      <th>P_AUTO</th>\n",
       "      <th>P_HOME</th>\n",
       "      <th>P_RENT</th>\n",
       "      <th>Prod_Trace</th>\n",
       "    </tr>\n",
       "  </thead>\n",
       "  <tbody>\n",
       "    <tr>\n",
       "      <th>0</th>\n",
       "      <td>50777622</td>\n",
       "      <td>1</td>\n",
       "      <td>1</td>\n",
       "      <td>0</td>\n",
       "      <td>110</td>\n",
       "    </tr>\n",
       "    <tr>\n",
       "      <th>1</th>\n",
       "      <td>50777628</td>\n",
       "      <td>1</td>\n",
       "      <td>1</td>\n",
       "      <td>0</td>\n",
       "      <td>110</td>\n",
       "    </tr>\n",
       "  </tbody>\n",
       "</table>\n",
       "</div>"
      ],
      "text/plain": [
       "   USAA_Number  P_AUTO  P_HOME  P_RENT Prod_Trace\n",
       "0     50777622       1       1       0        110\n",
       "1     50777628       1       1       0        110"
      ]
     },
     "execution_count": 47,
     "metadata": {},
     "output_type": "execute_result"
    }
   ],
   "source": [
    "Flatten_Product_pickle.head(2)"
   ]
  },
  {
   "cell_type": "code",
   "execution_count": 48,
   "metadata": {},
   "outputs": [
    {
     "data": {
      "text/plain": [
       "29148839"
      ]
     },
     "execution_count": 48,
     "metadata": {},
     "output_type": "execute_result"
    }
   ],
   "source": [
    "prod_df=Flatten_Product_pickle[Flatten_Product_pickle[\"USAA_Number\"].isin(all_usaanr)]\n",
    "prod_df=prod_df.loc[:,[\"USAA_Number\",\"P_AUTO\",\"Prod_Trace\"]].rename(columns={\"USAA_Number\":\"usaanr\"})\n",
    "prod_df['usaanr'] = list(map(usaanr_map.get, prod_df['usaanr']))\n",
    "prod_df['usaanr'].unique().max()  ### usaanr is not indexed consecutively"
   ]
  },
  {
   "cell_type": "code",
   "execution_count": 49,
   "metadata": {},
   "outputs": [
    {
     "name": "stdout",
     "output_type": "stream",
     "text": [
      "loading time is 30.8819\n",
      "The Shape of Dataset is (29150140, 28)\n"
     ]
    }
   ],
   "source": [
    "vertices=read_pickle(data_dir,'vertices_reindex_pickle')"
   ]
  },
  {
   "cell_type": "code",
   "execution_count": 50,
   "metadata": {},
   "outputs": [
    {
     "data": {
      "text/plain": [
       "(dtype('int64'), dtype('int64'))"
      ]
     },
     "execution_count": 50,
     "metadata": {},
     "output_type": "execute_result"
    }
   ],
   "source": [
    "vertices.usaanr.dtypes, prod_df.usaanr.dtypes"
   ]
  },
  {
   "cell_type": "code",
   "execution_count": 51,
   "metadata": {},
   "outputs": [],
   "source": [
    "vertices[\"usaanr\"]=vertices[\"usaanr\"].astype(str)\n",
    "prod_df[\"usaanr\"]=prod_df[\"usaanr\"].astype(str)\n",
    "vertices_v1=vertices.merge(prod_df, on='usaanr', how=\"left\").loc[:,['usaanr','P_AUTO','Prod_Trace']]\n",
    "vertices_v1[\"Prod_Trace\"]=vertices_v1[\"Prod_Trace\"].astype(str)\n",
    "vertices_v1[\"P_AUTO\"]=vertices_v1[\"P_AUTO\"].astype(str)                     "
   ]
  },
  {
   "cell_type": "code",
   "execution_count": 52,
   "metadata": {},
   "outputs": [
    {
     "data": {
      "text/plain": [
       "((array(['0.0', '1.0', 'nan'], dtype=object),\n",
       "  array([  533586,  6979202, 21637352])),\n",
       " (array(['001', '010', '011', '100', '101', '110', '111', 'nan'],\n",
       "        dtype=object),\n",
       "  array([  281768,   248768,     3050,  2431160,  1438036,  3051344,\n",
       "            58662, 21637352])))"
      ]
     },
     "execution_count": 52,
     "metadata": {},
     "output_type": "execute_result"
    }
   ],
   "source": [
    "np.unique(vertices_v1[\"P_AUTO\"],return_counts=True), np.unique(vertices_v1[\"Prod_Trace\"],return_counts=True)"
   ]
  },
  {
   "cell_type": "code",
   "execution_count": 53,
   "metadata": {},
   "outputs": [],
   "source": [
    "# 1 : customers own Auto,  0: customers owns some products but not Auto, 2: customers didn't own any product\n",
    "rep_nums = {\"P_AUTO\":     {\"1.0\": \"1\", \"0.0\": \"0\", \"nan\": \"2\"}}  \n",
    "vertices_v1.replace(rep_nums, inplace=True)\n",
    "\n",
    "rep_nums = {\"Prod_Trace\":     {\"nan\": \"000\"}}  \n",
    "vertices_v1.replace(rep_nums, inplace=True)\n",
    "\n",
    "# vertices_v1.sort_values(by=[\"usaanr\"],inplace=True)  ### will the sort change the order of node in graph "
   ]
  },
  {
   "cell_type": "code",
   "execution_count": 54,
   "metadata": {},
   "outputs": [
    {
     "data": {
      "text/html": [
       "<style  type=\"text/css\" >\n",
       "</style><table id=\"T_11c7e25e_ff7b_11eb_b9b8_0242ac110004\" ><thead>    <tr>        <th class=\"blank level0\" ></th>        <th class=\"col_heading level0 col0\" >product</th>        <th class=\"col_heading level0 col1\" >product_type</th>        <th class=\"col_heading level0 col2\" >count</th>        <th class=\"col_heading level0 col3\" >percentage</th>    </tr></thead><tbody>\n",
       "                <tr>\n",
       "                        <th id=\"T_11c7e25e_ff7b_11eb_b9b8_0242ac110004level0_row0\" class=\"row_heading level0 row0\" >0</th>\n",
       "                        <td id=\"T_11c7e25e_ff7b_11eb_b9b8_0242ac110004row0_col0\" class=\"data row0 col0\" >000</td>\n",
       "                        <td id=\"T_11c7e25e_ff7b_11eb_b9b8_0242ac110004row0_col1\" class=\"data row0 col1\" >No Product</td>\n",
       "                        <td id=\"T_11c7e25e_ff7b_11eb_b9b8_0242ac110004row0_col2\" class=\"data row0 col2\" >21,637,352</td>\n",
       "                        <td id=\"T_11c7e25e_ff7b_11eb_b9b8_0242ac110004row0_col3\" class=\"data row0 col3\" >74.23%</td>\n",
       "            </tr>\n",
       "            <tr>\n",
       "                        <th id=\"T_11c7e25e_ff7b_11eb_b9b8_0242ac110004level0_row1\" class=\"row_heading level0 row1\" >1</th>\n",
       "                        <td id=\"T_11c7e25e_ff7b_11eb_b9b8_0242ac110004row1_col0\" class=\"data row1 col0\" >110</td>\n",
       "                        <td id=\"T_11c7e25e_ff7b_11eb_b9b8_0242ac110004row1_col1\" class=\"data row1 col1\" >Auto+Home</td>\n",
       "                        <td id=\"T_11c7e25e_ff7b_11eb_b9b8_0242ac110004row1_col2\" class=\"data row1 col2\" >3,051,344</td>\n",
       "                        <td id=\"T_11c7e25e_ff7b_11eb_b9b8_0242ac110004row1_col3\" class=\"data row1 col3\" >10.47%</td>\n",
       "            </tr>\n",
       "            <tr>\n",
       "                        <th id=\"T_11c7e25e_ff7b_11eb_b9b8_0242ac110004level0_row2\" class=\"row_heading level0 row2\" >2</th>\n",
       "                        <td id=\"T_11c7e25e_ff7b_11eb_b9b8_0242ac110004row2_col0\" class=\"data row2 col0\" >100</td>\n",
       "                        <td id=\"T_11c7e25e_ff7b_11eb_b9b8_0242ac110004row2_col1\" class=\"data row2 col1\" >Auto Only</td>\n",
       "                        <td id=\"T_11c7e25e_ff7b_11eb_b9b8_0242ac110004row2_col2\" class=\"data row2 col2\" >2,431,160</td>\n",
       "                        <td id=\"T_11c7e25e_ff7b_11eb_b9b8_0242ac110004row2_col3\" class=\"data row2 col3\" >8.34%</td>\n",
       "            </tr>\n",
       "            <tr>\n",
       "                        <th id=\"T_11c7e25e_ff7b_11eb_b9b8_0242ac110004level0_row3\" class=\"row_heading level0 row3\" >3</th>\n",
       "                        <td id=\"T_11c7e25e_ff7b_11eb_b9b8_0242ac110004row3_col0\" class=\"data row3 col0\" >101</td>\n",
       "                        <td id=\"T_11c7e25e_ff7b_11eb_b9b8_0242ac110004row3_col1\" class=\"data row3 col1\" >Auto+Rental</td>\n",
       "                        <td id=\"T_11c7e25e_ff7b_11eb_b9b8_0242ac110004row3_col2\" class=\"data row3 col2\" >1,438,036</td>\n",
       "                        <td id=\"T_11c7e25e_ff7b_11eb_b9b8_0242ac110004row3_col3\" class=\"data row3 col3\" >4.93%</td>\n",
       "            </tr>\n",
       "            <tr>\n",
       "                        <th id=\"T_11c7e25e_ff7b_11eb_b9b8_0242ac110004level0_row4\" class=\"row_heading level0 row4\" >4</th>\n",
       "                        <td id=\"T_11c7e25e_ff7b_11eb_b9b8_0242ac110004row4_col0\" class=\"data row4 col0\" >001</td>\n",
       "                        <td id=\"T_11c7e25e_ff7b_11eb_b9b8_0242ac110004row4_col1\" class=\"data row4 col1\" >Rental Only</td>\n",
       "                        <td id=\"T_11c7e25e_ff7b_11eb_b9b8_0242ac110004row4_col2\" class=\"data row4 col2\" >281,768</td>\n",
       "                        <td id=\"T_11c7e25e_ff7b_11eb_b9b8_0242ac110004row4_col3\" class=\"data row4 col3\" >0.97%</td>\n",
       "            </tr>\n",
       "            <tr>\n",
       "                        <th id=\"T_11c7e25e_ff7b_11eb_b9b8_0242ac110004level0_row5\" class=\"row_heading level0 row5\" >5</th>\n",
       "                        <td id=\"T_11c7e25e_ff7b_11eb_b9b8_0242ac110004row5_col0\" class=\"data row5 col0\" >010</td>\n",
       "                        <td id=\"T_11c7e25e_ff7b_11eb_b9b8_0242ac110004row5_col1\" class=\"data row5 col1\" >Home Only</td>\n",
       "                        <td id=\"T_11c7e25e_ff7b_11eb_b9b8_0242ac110004row5_col2\" class=\"data row5 col2\" >248,768</td>\n",
       "                        <td id=\"T_11c7e25e_ff7b_11eb_b9b8_0242ac110004row5_col3\" class=\"data row5 col3\" >0.85%</td>\n",
       "            </tr>\n",
       "            <tr>\n",
       "                        <th id=\"T_11c7e25e_ff7b_11eb_b9b8_0242ac110004level0_row6\" class=\"row_heading level0 row6\" >6</th>\n",
       "                        <td id=\"T_11c7e25e_ff7b_11eb_b9b8_0242ac110004row6_col0\" class=\"data row6 col0\" >111</td>\n",
       "                        <td id=\"T_11c7e25e_ff7b_11eb_b9b8_0242ac110004row6_col1\" class=\"data row6 col1\" >Auto+Home+Rental</td>\n",
       "                        <td id=\"T_11c7e25e_ff7b_11eb_b9b8_0242ac110004row6_col2\" class=\"data row6 col2\" >58,662</td>\n",
       "                        <td id=\"T_11c7e25e_ff7b_11eb_b9b8_0242ac110004row6_col3\" class=\"data row6 col3\" >0.20%</td>\n",
       "            </tr>\n",
       "            <tr>\n",
       "                        <th id=\"T_11c7e25e_ff7b_11eb_b9b8_0242ac110004level0_row7\" class=\"row_heading level0 row7\" >7</th>\n",
       "                        <td id=\"T_11c7e25e_ff7b_11eb_b9b8_0242ac110004row7_col0\" class=\"data row7 col0\" >011</td>\n",
       "                        <td id=\"T_11c7e25e_ff7b_11eb_b9b8_0242ac110004row7_col1\" class=\"data row7 col1\" >Home+Rental</td>\n",
       "                        <td id=\"T_11c7e25e_ff7b_11eb_b9b8_0242ac110004row7_col2\" class=\"data row7 col2\" >3,050</td>\n",
       "                        <td id=\"T_11c7e25e_ff7b_11eb_b9b8_0242ac110004row7_col3\" class=\"data row7 col3\" >0.01%</td>\n",
       "            </tr>\n",
       "    </tbody></table>"
      ],
      "text/plain": [
       "<pandas.io.formats.style.Styler at 0x7efb9914f6a0>"
      ]
     },
     "execution_count": 54,
     "metadata": {},
     "output_type": "execute_result"
    }
   ],
   "source": [
    "tempt1=pd.DataFrame(vertices_v1[\"Prod_Trace\"].value_counts()).reset_index().rename(columns={'index':'product','Prod_Trace':'count'})\n",
    "tempt2=pd.DataFrame(vertices_v1[\"Prod_Trace\"].value_counts(normalize=True)).reset_index().rename(columns={'index':'product','Prod_Trace':'percentage'})\n",
    "tempt3=tempt1.merge(tempt2, on=\"product\", how=\"inner\")\n",
    "tempt3[\"product_type\"]=[\"No Product\", \"Auto+Home\",\"Auto Only\",\"Auto+Rental\",\"Rental Only\",\"Home Only\",\"Auto+Home+Rental\",\"Home+Rental\"]\n",
    "tempt3=tempt3[[\"product\",\"product_type\",\"count\",\"percentage\"]]\n",
    "tempt3.style.format({'count':'{:,}','percentage':'{:.2%}'})"
   ]
  },
  {
   "cell_type": "code",
   "execution_count": 55,
   "metadata": {},
   "outputs": [
    {
     "data": {
      "text/html": [
       "<style  type=\"text/css\" >\n",
       "</style><table id=\"T_1a0c73da_ff7b_11eb_b9b8_0242ac110004\" ><thead>    <tr>        <th class=\"blank level0\" ></th>        <th class=\"col_heading level0 col0\" >product</th>        <th class=\"col_heading level0 col1\" >count</th>        <th class=\"col_heading level0 col2\" >percentage</th>    </tr></thead><tbody>\n",
       "                <tr>\n",
       "                        <th id=\"T_1a0c73da_ff7b_11eb_b9b8_0242ac110004level0_row0\" class=\"row_heading level0 row0\" >0</th>\n",
       "                        <td id=\"T_1a0c73da_ff7b_11eb_b9b8_0242ac110004row0_col0\" class=\"data row0 col0\" >000</td>\n",
       "                        <td id=\"T_1a0c73da_ff7b_11eb_b9b8_0242ac110004row0_col1\" class=\"data row0 col1\" >21,637,352</td>\n",
       "                        <td id=\"T_1a0c73da_ff7b_11eb_b9b8_0242ac110004row0_col2\" class=\"data row0 col2\" >74.23%</td>\n",
       "            </tr>\n",
       "            <tr>\n",
       "                        <th id=\"T_1a0c73da_ff7b_11eb_b9b8_0242ac110004level0_row1\" class=\"row_heading level0 row1\" >1</th>\n",
       "                        <td id=\"T_1a0c73da_ff7b_11eb_b9b8_0242ac110004row1_col0\" class=\"data row1 col0\" >110</td>\n",
       "                        <td id=\"T_1a0c73da_ff7b_11eb_b9b8_0242ac110004row1_col1\" class=\"data row1 col1\" >3,110,006</td>\n",
       "                        <td id=\"T_1a0c73da_ff7b_11eb_b9b8_0242ac110004row1_col2\" class=\"data row1 col2\" >10.67%</td>\n",
       "            </tr>\n",
       "            <tr>\n",
       "                        <th id=\"T_1a0c73da_ff7b_11eb_b9b8_0242ac110004level0_row2\" class=\"row_heading level0 row2\" >2</th>\n",
       "                        <td id=\"T_1a0c73da_ff7b_11eb_b9b8_0242ac110004row2_col0\" class=\"data row2 col0\" >100</td>\n",
       "                        <td id=\"T_1a0c73da_ff7b_11eb_b9b8_0242ac110004row2_col1\" class=\"data row2 col1\" >2,431,160</td>\n",
       "                        <td id=\"T_1a0c73da_ff7b_11eb_b9b8_0242ac110004row2_col2\" class=\"data row2 col2\" >8.34%</td>\n",
       "            </tr>\n",
       "            <tr>\n",
       "                        <th id=\"T_1a0c73da_ff7b_11eb_b9b8_0242ac110004level0_row3\" class=\"row_heading level0 row3\" >3</th>\n",
       "                        <td id=\"T_1a0c73da_ff7b_11eb_b9b8_0242ac110004row3_col0\" class=\"data row3 col0\" >101</td>\n",
       "                        <td id=\"T_1a0c73da_ff7b_11eb_b9b8_0242ac110004row3_col1\" class=\"data row3 col1\" >1,438,036</td>\n",
       "                        <td id=\"T_1a0c73da_ff7b_11eb_b9b8_0242ac110004row3_col2\" class=\"data row3 col2\" >4.93%</td>\n",
       "            </tr>\n",
       "            <tr>\n",
       "                        <th id=\"T_1a0c73da_ff7b_11eb_b9b8_0242ac110004level0_row4\" class=\"row_heading level0 row4\" >4</th>\n",
       "                        <td id=\"T_1a0c73da_ff7b_11eb_b9b8_0242ac110004row4_col0\" class=\"data row4 col0\" >001</td>\n",
       "                        <td id=\"T_1a0c73da_ff7b_11eb_b9b8_0242ac110004row4_col1\" class=\"data row4 col1\" >281,768</td>\n",
       "                        <td id=\"T_1a0c73da_ff7b_11eb_b9b8_0242ac110004row4_col2\" class=\"data row4 col2\" >0.97%</td>\n",
       "            </tr>\n",
       "            <tr>\n",
       "                        <th id=\"T_1a0c73da_ff7b_11eb_b9b8_0242ac110004level0_row5\" class=\"row_heading level0 row5\" >5</th>\n",
       "                        <td id=\"T_1a0c73da_ff7b_11eb_b9b8_0242ac110004row5_col0\" class=\"data row5 col0\" >010</td>\n",
       "                        <td id=\"T_1a0c73da_ff7b_11eb_b9b8_0242ac110004row5_col1\" class=\"data row5 col1\" >251,818</td>\n",
       "                        <td id=\"T_1a0c73da_ff7b_11eb_b9b8_0242ac110004row5_col2\" class=\"data row5 col2\" >0.86%</td>\n",
       "            </tr>\n",
       "    </tbody></table>"
      ],
      "text/plain": [
       "<pandas.io.formats.style.Styler at 0x7efb991a4390>"
      ]
     },
     "execution_count": 55,
     "metadata": {},
     "output_type": "execute_result"
    }
   ],
   "source": [
    "### due to some rare category,  merge \"Auto + Home + Rental\" to \"Auto + Home\", merge \"Home + Rental\" to \"Home Only\"\n",
    "rep_nums = {\"Prod_Trace\":     {\"111\": \"110\",  \"011\":\"010\"}}  \n",
    "vertices_v1.replace(rep_nums, inplace=True)\n",
    "tempt1=pd.DataFrame(vertices_v1[\"Prod_Trace\"].value_counts()).reset_index().rename(columns={'index':'product','Prod_Trace':'count'})\n",
    "tempt2=pd.DataFrame(vertices_v1[\"Prod_Trace\"].value_counts(normalize=True)).reset_index().rename(columns={'index':'product','Prod_Trace':'percentage'})\n",
    "tempt1.merge(tempt2, on=\"product\", how=\"inner\").style.format({'count':'{:,}','percentage':'{:.2%}'})"
   ]
  },
  {
   "cell_type": "code",
   "execution_count": 56,
   "metadata": {},
   "outputs": [
    {
     "data": {
      "text/plain": [
       "{'000': 0, '001': 1, '010': 2, '100': 3, '101': 4, '110': 5}"
      ]
     },
     "execution_count": 56,
     "metadata": {},
     "output_type": "execute_result"
    }
   ],
   "source": [
    "Prod_Trace = vertices_v1[\"Prod_Trace\"].unique()\n",
    "Prod_Trace.sort()\n",
    "product_map = {id:idx for idx, id in enumerate(Prod_Trace)}\n",
    "product_map"
   ]
  },
  {
   "cell_type": "code",
   "execution_count": 57,
   "metadata": {},
   "outputs": [
    {
     "data": {
      "text/plain": [
       "(tensor([0, 1, 2, 3, 4, 5]),\n",
       " tensor([21637352,   281768,   251818,  2431160,  1438036,  3110006]))"
      ]
     },
     "execution_count": 57,
     "metadata": {},
     "output_type": "execute_result"
    }
   ],
   "source": [
    "vertices_v1['Prod_Trace_map'] = list(map(product_map.get, vertices_v1['Prod_Trace']))\n",
    "multi_label=torch.tensor(np.expand_dims(np.array(vertices_v1.loc[:,\"Prod_Trace_map\"]),1))\n",
    "torch.unique(multi_label.squeeze(),return_counts=True)"
   ]
  },
  {
   "cell_type": "code",
   "execution_count": 58,
   "metadata": {},
   "outputs": [
    {
     "data": {
      "text/html": [
       "<style  type=\"text/css\" >\n",
       "</style><table id=\"T_2989b930_ff7b_11eb_b9b8_0242ac110004\" ><thead>    <tr>        <th class=\"blank level0\" ></th>        <th class=\"col_heading level0 col0\" >product</th>        <th class=\"col_heading level0 col1\" >product_type</th>        <th class=\"col_heading level0 col2\" >count</th>        <th class=\"col_heading level0 col3\" >percentage</th>    </tr></thead><tbody>\n",
       "                <tr>\n",
       "                        <th id=\"T_2989b930_ff7b_11eb_b9b8_0242ac110004level0_row0\" class=\"row_heading level0 row0\" >0</th>\n",
       "                        <td id=\"T_2989b930_ff7b_11eb_b9b8_0242ac110004row0_col0\" class=\"data row0 col0\" >2</td>\n",
       "                        <td id=\"T_2989b930_ff7b_11eb_b9b8_0242ac110004row0_col1\" class=\"data row0 col1\" >No Product</td>\n",
       "                        <td id=\"T_2989b930_ff7b_11eb_b9b8_0242ac110004row0_col2\" class=\"data row0 col2\" >21,637,352</td>\n",
       "                        <td id=\"T_2989b930_ff7b_11eb_b9b8_0242ac110004row0_col3\" class=\"data row0 col3\" >74.23%</td>\n",
       "            </tr>\n",
       "            <tr>\n",
       "                        <th id=\"T_2989b930_ff7b_11eb_b9b8_0242ac110004level0_row1\" class=\"row_heading level0 row1\" >1</th>\n",
       "                        <td id=\"T_2989b930_ff7b_11eb_b9b8_0242ac110004row1_col0\" class=\"data row1 col0\" >1</td>\n",
       "                        <td id=\"T_2989b930_ff7b_11eb_b9b8_0242ac110004row1_col1\" class=\"data row1 col1\" >Auto only</td>\n",
       "                        <td id=\"T_2989b930_ff7b_11eb_b9b8_0242ac110004row1_col2\" class=\"data row1 col2\" >6,979,202</td>\n",
       "                        <td id=\"T_2989b930_ff7b_11eb_b9b8_0242ac110004row1_col3\" class=\"data row1 col3\" >23.94%</td>\n",
       "            </tr>\n",
       "            <tr>\n",
       "                        <th id=\"T_2989b930_ff7b_11eb_b9b8_0242ac110004level0_row2\" class=\"row_heading level0 row2\" >2</th>\n",
       "                        <td id=\"T_2989b930_ff7b_11eb_b9b8_0242ac110004row2_col0\" class=\"data row2 col0\" >0</td>\n",
       "                        <td id=\"T_2989b930_ff7b_11eb_b9b8_0242ac110004row2_col1\" class=\"data row2 col1\" >Other Products but not Auto</td>\n",
       "                        <td id=\"T_2989b930_ff7b_11eb_b9b8_0242ac110004row2_col2\" class=\"data row2 col2\" >533,586</td>\n",
       "                        <td id=\"T_2989b930_ff7b_11eb_b9b8_0242ac110004row2_col3\" class=\"data row2 col3\" >1.83%</td>\n",
       "            </tr>\n",
       "    </tbody></table>"
      ],
      "text/plain": [
       "<pandas.io.formats.style.Styler at 0x7ef05f77d5c0>"
      ]
     },
     "execution_count": 58,
     "metadata": {},
     "output_type": "execute_result"
    }
   ],
   "source": [
    "tempt1=pd.DataFrame(vertices_v1[\"P_AUTO\"].value_counts()).reset_index().rename(columns={'index':'product','P_AUTO':'count'})\n",
    "tempt2=pd.DataFrame(vertices_v1[\"P_AUTO\"].value_counts(normalize=True)).reset_index().rename(columns={'index':'product','P_AUTO':'percentage'})\n",
    "tempt3=tempt1.merge(tempt2, on=\"product\", how=\"inner\")\n",
    "tempt3[\"product_type\"]=[\"No Product\", \"Auto only\",\"Other Products but not Auto\"]\n",
    "tempt3=tempt3[[\"product\",\"product_type\",\"count\",\"percentage\"]]\n",
    "tempt3.style.format({'count':'{:,}','percentage':'{:.2%}'})"
   ]
  },
  {
   "cell_type": "code",
   "execution_count": 59,
   "metadata": {},
   "outputs": [
    {
     "data": {
      "text/html": [
       "<style  type=\"text/css\" >\n",
       "</style><table id=\"T_306e608e_ff7b_11eb_b9b8_0242ac110004\" ><thead>    <tr>        <th class=\"blank level0\" ></th>        <th class=\"col_heading level0 col0\" >product</th>        <th class=\"col_heading level0 col1\" >product_type</th>        <th class=\"col_heading level0 col2\" >count</th>        <th class=\"col_heading level0 col3\" >percentage</th>    </tr></thead><tbody>\n",
       "                <tr>\n",
       "                        <th id=\"T_306e608e_ff7b_11eb_b9b8_0242ac110004level0_row0\" class=\"row_heading level0 row0\" >0</th>\n",
       "                        <td id=\"T_306e608e_ff7b_11eb_b9b8_0242ac110004row0_col0\" class=\"data row0 col0\" >0</td>\n",
       "                        <td id=\"T_306e608e_ff7b_11eb_b9b8_0242ac110004row0_col1\" class=\"data row0 col1\" >No Auto</td>\n",
       "                        <td id=\"T_306e608e_ff7b_11eb_b9b8_0242ac110004row0_col2\" class=\"data row0 col2\" >22,170,938</td>\n",
       "                        <td id=\"T_306e608e_ff7b_11eb_b9b8_0242ac110004row0_col3\" class=\"data row0 col3\" >76.06%</td>\n",
       "            </tr>\n",
       "            <tr>\n",
       "                        <th id=\"T_306e608e_ff7b_11eb_b9b8_0242ac110004level0_row1\" class=\"row_heading level0 row1\" >1</th>\n",
       "                        <td id=\"T_306e608e_ff7b_11eb_b9b8_0242ac110004row1_col0\" class=\"data row1 col0\" >1</td>\n",
       "                        <td id=\"T_306e608e_ff7b_11eb_b9b8_0242ac110004row1_col1\" class=\"data row1 col1\" >Auto Only</td>\n",
       "                        <td id=\"T_306e608e_ff7b_11eb_b9b8_0242ac110004row1_col2\" class=\"data row1 col2\" >6,979,202</td>\n",
       "                        <td id=\"T_306e608e_ff7b_11eb_b9b8_0242ac110004row1_col3\" class=\"data row1 col3\" >23.94%</td>\n",
       "            </tr>\n",
       "    </tbody></table>"
      ],
      "text/plain": [
       "<pandas.io.formats.style.Styler at 0x7ef05f77de10>"
      ]
     },
     "execution_count": 59,
     "metadata": {},
     "output_type": "execute_result"
    }
   ],
   "source": [
    "### combine the category of 0 and 2 because the category of 0 is too rare\n",
    "rep_nums = {\"P_AUTO\":     {\"2\": \"0\"}}  \n",
    "vertices_v1.replace(rep_nums, inplace=True)\n",
    "tempt1=pd.DataFrame(vertices_v1[\"P_AUTO\"].value_counts()).reset_index().rename(columns={'index':'product','P_AUTO':'count'})\n",
    "tempt2=pd.DataFrame(vertices_v1[\"P_AUTO\"].value_counts(normalize=True)).reset_index().rename(columns={'index':'product','P_AUTO':'percentage'})\n",
    "tempt3=tempt1.merge(tempt2, on=\"product\", how=\"inner\")\n",
    "tempt3[\"product_type\"]=[\"No Auto\",\"Auto Only\"]\n",
    "tempt3=tempt3[[\"product\",\"product_type\",\"count\",\"percentage\"]]\n",
    "tempt3.style.format({'count':'{:,}','percentage':'{:.2%}'})"
   ]
  },
  {
   "cell_type": "code",
   "execution_count": 60,
   "metadata": {},
   "outputs": [
    {
     "data": {
      "text/plain": [
       "(tensor([0, 1]), tensor([22170938,  6979202]))"
      ]
     },
     "execution_count": 60,
     "metadata": {},
     "output_type": "execute_result"
    }
   ],
   "source": [
    "vertices_v1[\"P_AUTO\"]=vertices_v1[\"P_AUTO\"].astype(int)\n",
    "binary_label=torch.tensor(np.expand_dims(np.array(vertices_v1.loc[:,\"P_AUTO\"]),1))\n",
    "torch.unique(binary_label.squeeze(),return_counts=True)"
   ]
  },
  {
   "cell_type": "markdown",
   "metadata": {},
   "source": [
    "#### Create training(80%), validation(10%) and test(10%) mask based on each category of product"
   ]
  },
  {
   "cell_type": "code",
   "execution_count": 61,
   "metadata": {},
   "outputs": [],
   "source": [
    "def mask_func(train_idx,all_idx):\n",
    "    train_idx=pd.DataFrame({\"idx\":train_idx})\n",
    "    all_idx=pd.DataFrame({\"idx\":all_idx})\n",
    "    all_index = all_idx.set_index(['idx']).index\n",
    "    train_index = train_idx.set_index(['idx']).index\n",
    "    mask = all_index.isin(train_index)\n",
    "    return mask\n",
    "\n",
    "def mask_creation(G,node_labels):\n",
    "    \n",
    "    train_idx=[]\n",
    "    val_idx=[]\n",
    "    test_idx=[]\n",
    "    \n",
    "    LABEL=node_labels.numpy().squeeze()\n",
    "    IDX=np.arange(LABEL.shape[0])\n",
    "    prod_list=np.unique(LABEL).tolist()\n",
    "    \n",
    "    for i in tqdm(range(len(prod_list)),position=0,leave=True):\n",
    "        _idx=IDX[LABEL==prod_list[i]]\n",
    "        np.random.seed(101)\n",
    "        np.random.shuffle(_idx)\n",
    "        test_idx.extend(_idx[:len(_idx)//10])\n",
    "        val_idx.extend(_idx[len(_idx)//10 : len(_idx)//5])\n",
    "        train_idx.extend(_idx[len(_idx)//5:])\n",
    "\n",
    "    all_idx=np.arange(G.number_of_nodes(ntype=\"usaanr\"))\n",
    "\n",
    "    test_idx=np.array(test_idx)\n",
    "    val_idx=np.array(val_idx)\n",
    "    train_idx=np.array(train_idx)\n",
    "\n",
    "    train_mask=mask_func(train_idx,all_idx)\n",
    "    val_mask=mask_func(val_idx,all_idx)\n",
    "    test_mask=mask_func(test_idx,all_idx)\n",
    "\n",
    "    train_mask=torch.tensor(train_mask,dtype=bool)\n",
    "    val_mask=torch.tensor(val_mask,dtype=bool)\n",
    "    test_mask=torch.tensor(test_mask,dtype=bool)\n",
    "    \n",
    "    return train_mask, val_mask, test_mask"
   ]
  },
  {
   "cell_type": "code",
   "execution_count": 62,
   "metadata": {},
   "outputs": [
    {
     "name": "stderr",
     "output_type": "stream",
     "text": [
      "100%|██████████| 6/6 [00:03<00:00,  1.67it/s]\n"
     ]
    },
    {
     "name": "stdout",
     "output_type": "stream",
     "text": [
      "dimension of training mask    23,320,114\n",
      "dimension of val mask         2,915,015 \n",
      "dimension of test mask        2,915,011 \n"
     ]
    }
   ],
   "source": [
    "train_mask_multi_label, val_mask_multi_label, test_mask_multi_label=mask_creation(g,multi_label)\n",
    "print(\"{:<30}{:<10,}\".format(\"dimension of training mask\", torch.sum(train_mask_multi_label).item()))\n",
    "print(\"{:<30}{:<10,}\".format(\"dimension of val mask\", torch.sum(val_mask_multi_label).item()))\n",
    "print(\"{:<30}{:<10,}\".format(\"dimension of test mask\", torch.sum(test_mask_multi_label).item()))"
   ]
  },
  {
   "cell_type": "code",
   "execution_count": 63,
   "metadata": {},
   "outputs": [
    {
     "name": "stderr",
     "output_type": "stream",
     "text": [
      "100%|██████████| 2/2 [00:03<00:00,  1.63s/it]\n"
     ]
    },
    {
     "name": "stdout",
     "output_type": "stream",
     "text": [
      "dimension of training mask    23,320,113\n",
      "dimension of val mask         2,915,014 \n",
      "dimension of test mask        2,915,013 \n"
     ]
    }
   ],
   "source": [
    "train_mask_binary_label, val_mask_binary_label, test_mask_binary_label=mask_creation(g,binary_label)\n",
    "print(\"{:<30}{:<10,}\".format(\"dimension of training mask\", torch.sum(train_mask_binary_label).item()))\n",
    "print(\"{:<30}{:<10,}\".format(\"dimension of val mask\", torch.sum(val_mask_binary_label).item()))\n",
    "print(\"{:<30}{:<10,}\".format(\"dimension of test mask\", torch.sum(test_mask_binary_label).item()))"
   ]
  },
  {
   "cell_type": "markdown",
   "metadata": {},
   "source": [
    "#### Training Set"
   ]
  },
  {
   "cell_type": "code",
   "execution_count": 64,
   "metadata": {},
   "outputs": [
    {
     "data": {
      "text/html": [
       "<style  type=\"text/css\" >\n",
       "</style><table id=\"T_56fed0bc_ff7b_11eb_b9b8_0242ac110004\" ><thead>    <tr>        <th class=\"blank level0\" ></th>        <th class=\"col_heading level0 col0\" >Auto or Not</th>        <th class=\"col_heading level0 col1\" >count</th>        <th class=\"col_heading level0 col2\" >percentage</th>    </tr></thead><tbody>\n",
       "                <tr>\n",
       "                        <th id=\"T_56fed0bc_ff7b_11eb_b9b8_0242ac110004level0_row0\" class=\"row_heading level0 row0\" >0</th>\n",
       "                        <td id=\"T_56fed0bc_ff7b_11eb_b9b8_0242ac110004row0_col0\" class=\"data row0 col0\" >No</td>\n",
       "                        <td id=\"T_56fed0bc_ff7b_11eb_b9b8_0242ac110004row0_col1\" class=\"data row0 col1\" >17,736,751</td>\n",
       "                        <td id=\"T_56fed0bc_ff7b_11eb_b9b8_0242ac110004row0_col2\" class=\"data row0 col2\" >76.06%</td>\n",
       "            </tr>\n",
       "            <tr>\n",
       "                        <th id=\"T_56fed0bc_ff7b_11eb_b9b8_0242ac110004level0_row1\" class=\"row_heading level0 row1\" >1</th>\n",
       "                        <td id=\"T_56fed0bc_ff7b_11eb_b9b8_0242ac110004row1_col0\" class=\"data row1 col0\" >Yes</td>\n",
       "                        <td id=\"T_56fed0bc_ff7b_11eb_b9b8_0242ac110004row1_col1\" class=\"data row1 col1\" >5,583,362</td>\n",
       "                        <td id=\"T_56fed0bc_ff7b_11eb_b9b8_0242ac110004row1_col2\" class=\"data row1 col2\" >23.94%</td>\n",
       "            </tr>\n",
       "    </tbody></table>"
      ],
      "text/plain": [
       "<pandas.io.formats.style.Styler at 0x7efb991a4dd8>"
      ]
     },
     "execution_count": 64,
     "metadata": {},
     "output_type": "execute_result"
    }
   ],
   "source": [
    "tempt1=pd.DataFrame(vertices_v1.iloc[np.where(train_mask_binary_label.numpy())]['P_AUTO'].value_counts(dropna=False)).reset_index().\\\n",
    "rename(columns={'index':'Auto or Not','P_AUTO':'count'}).replace({'Auto or Not':     {0: \"No\",1:\"Yes\"}})\n",
    "tempt2=pd.DataFrame(vertices_v1.iloc[np.where(train_mask_binary_label.numpy())]['P_AUTO'].value_counts(normalize=True,dropna=False)).reset_index().\\\n",
    "rename(columns={'index':'Auto or Not','P_AUTO':'percentage'}).replace({'Auto or Not':     {0: \"No\",1:\"Yes\"}})\n",
    "tempt3=tempt1.merge(tempt2, on=\"Auto or Not\", how=\"inner\")\n",
    "tempt3.style.format({'count':'{:,}','percentage':'{:.2%}'})"
   ]
  },
  {
   "cell_type": "code",
   "execution_count": 65,
   "metadata": {},
   "outputs": [
    {
     "data": {
      "text/html": [
       "<style  type=\"text/css\" >\n",
       "</style><table id=\"T_5d50a274_ff7b_11eb_b9b8_0242ac110004\" ><thead>    <tr>        <th class=\"blank level0\" ></th>        <th class=\"col_heading level0 col0\" >Product_Type</th>        <th class=\"col_heading level0 col1\" >count</th>        <th class=\"col_heading level0 col2\" >percentage</th>    </tr></thead><tbody>\n",
       "                <tr>\n",
       "                        <th id=\"T_5d50a274_ff7b_11eb_b9b8_0242ac110004level0_row0\" class=\"row_heading level0 row0\" >0</th>\n",
       "                        <td id=\"T_5d50a274_ff7b_11eb_b9b8_0242ac110004row0_col0\" class=\"data row0 col0\" >No Product</td>\n",
       "                        <td id=\"T_5d50a274_ff7b_11eb_b9b8_0242ac110004row0_col1\" class=\"data row0 col1\" >17,309,882</td>\n",
       "                        <td id=\"T_5d50a274_ff7b_11eb_b9b8_0242ac110004row0_col2\" class=\"data row0 col2\" >74.23%</td>\n",
       "            </tr>\n",
       "            <tr>\n",
       "                        <th id=\"T_5d50a274_ff7b_11eb_b9b8_0242ac110004level0_row1\" class=\"row_heading level0 row1\" >1</th>\n",
       "                        <td id=\"T_5d50a274_ff7b_11eb_b9b8_0242ac110004row1_col0\" class=\"data row1 col0\" >Auto + Home</td>\n",
       "                        <td id=\"T_5d50a274_ff7b_11eb_b9b8_0242ac110004row1_col1\" class=\"data row1 col1\" >2,488,005</td>\n",
       "                        <td id=\"T_5d50a274_ff7b_11eb_b9b8_0242ac110004row1_col2\" class=\"data row1 col2\" >10.67%</td>\n",
       "            </tr>\n",
       "            <tr>\n",
       "                        <th id=\"T_5d50a274_ff7b_11eb_b9b8_0242ac110004level0_row2\" class=\"row_heading level0 row2\" >2</th>\n",
       "                        <td id=\"T_5d50a274_ff7b_11eb_b9b8_0242ac110004row2_col0\" class=\"data row2 col0\" >Auto Only</td>\n",
       "                        <td id=\"T_5d50a274_ff7b_11eb_b9b8_0242ac110004row2_col1\" class=\"data row2 col1\" >1,944,928</td>\n",
       "                        <td id=\"T_5d50a274_ff7b_11eb_b9b8_0242ac110004row2_col2\" class=\"data row2 col2\" >8.34%</td>\n",
       "            </tr>\n",
       "            <tr>\n",
       "                        <th id=\"T_5d50a274_ff7b_11eb_b9b8_0242ac110004level0_row3\" class=\"row_heading level0 row3\" >3</th>\n",
       "                        <td id=\"T_5d50a274_ff7b_11eb_b9b8_0242ac110004row3_col0\" class=\"data row3 col0\" >Auto + Rental</td>\n",
       "                        <td id=\"T_5d50a274_ff7b_11eb_b9b8_0242ac110004row3_col1\" class=\"data row3 col1\" >1,150,429</td>\n",
       "                        <td id=\"T_5d50a274_ff7b_11eb_b9b8_0242ac110004row3_col2\" class=\"data row3 col2\" >4.93%</td>\n",
       "            </tr>\n",
       "            <tr>\n",
       "                        <th id=\"T_5d50a274_ff7b_11eb_b9b8_0242ac110004level0_row4\" class=\"row_heading level0 row4\" >4</th>\n",
       "                        <td id=\"T_5d50a274_ff7b_11eb_b9b8_0242ac110004row4_col0\" class=\"data row4 col0\" >Rental Only</td>\n",
       "                        <td id=\"T_5d50a274_ff7b_11eb_b9b8_0242ac110004row4_col1\" class=\"data row4 col1\" >225,415</td>\n",
       "                        <td id=\"T_5d50a274_ff7b_11eb_b9b8_0242ac110004row4_col2\" class=\"data row4 col2\" >0.97%</td>\n",
       "            </tr>\n",
       "            <tr>\n",
       "                        <th id=\"T_5d50a274_ff7b_11eb_b9b8_0242ac110004level0_row5\" class=\"row_heading level0 row5\" >5</th>\n",
       "                        <td id=\"T_5d50a274_ff7b_11eb_b9b8_0242ac110004row5_col0\" class=\"data row5 col0\" >Home Only</td>\n",
       "                        <td id=\"T_5d50a274_ff7b_11eb_b9b8_0242ac110004row5_col1\" class=\"data row5 col1\" >201,455</td>\n",
       "                        <td id=\"T_5d50a274_ff7b_11eb_b9b8_0242ac110004row5_col2\" class=\"data row5 col2\" >0.86%</td>\n",
       "            </tr>\n",
       "    </tbody></table>"
      ],
      "text/plain": [
       "<pandas.io.formats.style.Styler at 0x7ef0d9c19400>"
      ]
     },
     "execution_count": 65,
     "metadata": {},
     "output_type": "execute_result"
    }
   ],
   "source": [
    "tempt1=pd.DataFrame(vertices_v1.iloc[np.where(train_mask_multi_label.numpy())]['Prod_Trace'].value_counts(dropna=False)).reset_index().\\\n",
    "rename(columns={'index':'Product_Type','Prod_Trace':'count'}).replace({'Product_Type':     {'000': \"No Product\", '001': \"Rental Only\", '010': \"Home Only\", '100': \"Auto Only\", '101': \"Auto + Rental\", '110': \"Auto + Home\"}})\n",
    "tempt2=pd.DataFrame(vertices_v1.iloc[np.where(train_mask_multi_label.numpy())]['Prod_Trace'].value_counts(normalize=True,dropna=False)).reset_index().\\\n",
    "rename(columns={'index':'Product_Type','Prod_Trace':'percentage'}).replace({'Product_Type':     {'000': \"No Product\", '001': \"Rental Only\", '010': \"Home Only\", '100': \"Auto Only\", '101': \"Auto + Rental\", '110': \"Auto + Home\"}})\n",
    "tempt3=tempt1.merge(tempt2, on=\"Product_Type\", how=\"inner\")\n",
    "tempt3.style.format({'count':'{:,}','percentage':'{:.2%}'})"
   ]
  },
  {
   "cell_type": "markdown",
   "metadata": {},
   "source": [
    "#### Validation Set"
   ]
  },
  {
   "cell_type": "code",
   "execution_count": 66,
   "metadata": {},
   "outputs": [
    {
     "data": {
      "text/html": [
       "<style  type=\"text/css\" >\n",
       "</style><table id=\"T_5dec16b4_ff7b_11eb_b9b8_0242ac110004\" ><thead>    <tr>        <th class=\"blank level0\" ></th>        <th class=\"col_heading level0 col0\" >Auto or Not</th>        <th class=\"col_heading level0 col1\" >count</th>        <th class=\"col_heading level0 col2\" >percentage</th>    </tr></thead><tbody>\n",
       "                <tr>\n",
       "                        <th id=\"T_5dec16b4_ff7b_11eb_b9b8_0242ac110004level0_row0\" class=\"row_heading level0 row0\" >0</th>\n",
       "                        <td id=\"T_5dec16b4_ff7b_11eb_b9b8_0242ac110004row0_col0\" class=\"data row0 col0\" >No</td>\n",
       "                        <td id=\"T_5dec16b4_ff7b_11eb_b9b8_0242ac110004row0_col1\" class=\"data row0 col1\" >2,217,094</td>\n",
       "                        <td id=\"T_5dec16b4_ff7b_11eb_b9b8_0242ac110004row0_col2\" class=\"data row0 col2\" >76.06%</td>\n",
       "            </tr>\n",
       "            <tr>\n",
       "                        <th id=\"T_5dec16b4_ff7b_11eb_b9b8_0242ac110004level0_row1\" class=\"row_heading level0 row1\" >1</th>\n",
       "                        <td id=\"T_5dec16b4_ff7b_11eb_b9b8_0242ac110004row1_col0\" class=\"data row1 col0\" >Yes</td>\n",
       "                        <td id=\"T_5dec16b4_ff7b_11eb_b9b8_0242ac110004row1_col1\" class=\"data row1 col1\" >697,920</td>\n",
       "                        <td id=\"T_5dec16b4_ff7b_11eb_b9b8_0242ac110004row1_col2\" class=\"data row1 col2\" >23.94%</td>\n",
       "            </tr>\n",
       "    </tbody></table>"
      ],
      "text/plain": [
       "<pandas.io.formats.style.Styler at 0x7ef05f77d5f8>"
      ]
     },
     "execution_count": 66,
     "metadata": {},
     "output_type": "execute_result"
    }
   ],
   "source": [
    "tempt1=pd.DataFrame(vertices_v1.iloc[np.where(val_mask_binary_label.numpy())]['P_AUTO'].value_counts(dropna=False)).reset_index().\\\n",
    "rename(columns={'index':'Auto or Not','P_AUTO':'count'}).replace({'Auto or Not':     {0: \"No\",1:\"Yes\"}})\n",
    "tempt2=pd.DataFrame(vertices_v1.iloc[np.where(val_mask_binary_label.numpy())]['P_AUTO'].value_counts(normalize=True,dropna=False)).reset_index().\\\n",
    "rename(columns={'index':'Auto or Not','P_AUTO':'percentage'}).replace({'Auto or Not':     {0: \"No\",1:\"Yes\"}})\n",
    "tempt3=tempt1.merge(tempt2, on=\"Auto or Not\", how=\"inner\")\n",
    "tempt3.style.format({'count':'{:,}','percentage':'{:.2%}'})"
   ]
  },
  {
   "cell_type": "code",
   "execution_count": 67,
   "metadata": {},
   "outputs": [
    {
     "data": {
      "text/html": [
       "<style  type=\"text/css\" >\n",
       "</style><table id=\"T_5f1b7b38_ff7b_11eb_b9b8_0242ac110004\" ><thead>    <tr>        <th class=\"blank level0\" ></th>        <th class=\"col_heading level0 col0\" >Product_Type</th>        <th class=\"col_heading level0 col1\" >count</th>        <th class=\"col_heading level0 col2\" >percentage</th>    </tr></thead><tbody>\n",
       "                <tr>\n",
       "                        <th id=\"T_5f1b7b38_ff7b_11eb_b9b8_0242ac110004level0_row0\" class=\"row_heading level0 row0\" >0</th>\n",
       "                        <td id=\"T_5f1b7b38_ff7b_11eb_b9b8_0242ac110004row0_col0\" class=\"data row0 col0\" >No Product</td>\n",
       "                        <td id=\"T_5f1b7b38_ff7b_11eb_b9b8_0242ac110004row0_col1\" class=\"data row0 col1\" >2,163,735</td>\n",
       "                        <td id=\"T_5f1b7b38_ff7b_11eb_b9b8_0242ac110004row0_col2\" class=\"data row0 col2\" >74.23%</td>\n",
       "            </tr>\n",
       "            <tr>\n",
       "                        <th id=\"T_5f1b7b38_ff7b_11eb_b9b8_0242ac110004level0_row1\" class=\"row_heading level0 row1\" >1</th>\n",
       "                        <td id=\"T_5f1b7b38_ff7b_11eb_b9b8_0242ac110004row1_col0\" class=\"data row1 col0\" >Auto + Home</td>\n",
       "                        <td id=\"T_5f1b7b38_ff7b_11eb_b9b8_0242ac110004row1_col1\" class=\"data row1 col1\" >311,001</td>\n",
       "                        <td id=\"T_5f1b7b38_ff7b_11eb_b9b8_0242ac110004row1_col2\" class=\"data row1 col2\" >10.67%</td>\n",
       "            </tr>\n",
       "            <tr>\n",
       "                        <th id=\"T_5f1b7b38_ff7b_11eb_b9b8_0242ac110004level0_row2\" class=\"row_heading level0 row2\" >2</th>\n",
       "                        <td id=\"T_5f1b7b38_ff7b_11eb_b9b8_0242ac110004row2_col0\" class=\"data row2 col0\" >Auto Only</td>\n",
       "                        <td id=\"T_5f1b7b38_ff7b_11eb_b9b8_0242ac110004row2_col1\" class=\"data row2 col1\" >243,116</td>\n",
       "                        <td id=\"T_5f1b7b38_ff7b_11eb_b9b8_0242ac110004row2_col2\" class=\"data row2 col2\" >8.34%</td>\n",
       "            </tr>\n",
       "            <tr>\n",
       "                        <th id=\"T_5f1b7b38_ff7b_11eb_b9b8_0242ac110004level0_row3\" class=\"row_heading level0 row3\" >3</th>\n",
       "                        <td id=\"T_5f1b7b38_ff7b_11eb_b9b8_0242ac110004row3_col0\" class=\"data row3 col0\" >Auto + Rental</td>\n",
       "                        <td id=\"T_5f1b7b38_ff7b_11eb_b9b8_0242ac110004row3_col1\" class=\"data row3 col1\" >143,804</td>\n",
       "                        <td id=\"T_5f1b7b38_ff7b_11eb_b9b8_0242ac110004row3_col2\" class=\"data row3 col2\" >4.93%</td>\n",
       "            </tr>\n",
       "            <tr>\n",
       "                        <th id=\"T_5f1b7b38_ff7b_11eb_b9b8_0242ac110004level0_row4\" class=\"row_heading level0 row4\" >4</th>\n",
       "                        <td id=\"T_5f1b7b38_ff7b_11eb_b9b8_0242ac110004row4_col0\" class=\"data row4 col0\" >Rental Only</td>\n",
       "                        <td id=\"T_5f1b7b38_ff7b_11eb_b9b8_0242ac110004row4_col1\" class=\"data row4 col1\" >28,177</td>\n",
       "                        <td id=\"T_5f1b7b38_ff7b_11eb_b9b8_0242ac110004row4_col2\" class=\"data row4 col2\" >0.97%</td>\n",
       "            </tr>\n",
       "            <tr>\n",
       "                        <th id=\"T_5f1b7b38_ff7b_11eb_b9b8_0242ac110004level0_row5\" class=\"row_heading level0 row5\" >5</th>\n",
       "                        <td id=\"T_5f1b7b38_ff7b_11eb_b9b8_0242ac110004row5_col0\" class=\"data row5 col0\" >Home Only</td>\n",
       "                        <td id=\"T_5f1b7b38_ff7b_11eb_b9b8_0242ac110004row5_col1\" class=\"data row5 col1\" >25,182</td>\n",
       "                        <td id=\"T_5f1b7b38_ff7b_11eb_b9b8_0242ac110004row5_col2\" class=\"data row5 col2\" >0.86%</td>\n",
       "            </tr>\n",
       "    </tbody></table>"
      ],
      "text/plain": [
       "<pandas.io.formats.style.Styler at 0x7ef05f77d780>"
      ]
     },
     "execution_count": 67,
     "metadata": {},
     "output_type": "execute_result"
    }
   ],
   "source": [
    "tempt1=pd.DataFrame(vertices_v1.iloc[np.where(val_mask_multi_label.numpy())]['Prod_Trace'].value_counts(dropna=False)).reset_index().\\\n",
    "rename(columns={'index':'Product_Type','Prod_Trace':'count'}).replace({'Product_Type':     {'000': \"No Product\", '001': \"Rental Only\", '010': \"Home Only\", '100': \"Auto Only\", '101': \"Auto + Rental\", '110': \"Auto + Home\"}})\n",
    "tempt2=pd.DataFrame(vertices_v1.iloc[np.where(val_mask_multi_label.numpy())]['Prod_Trace'].value_counts(normalize=True,dropna=False)).reset_index().\\\n",
    "rename(columns={'index':'Product_Type','Prod_Trace':'percentage'}).replace({'Product_Type':     {'000': \"No Product\", '001': \"Rental Only\", '010': \"Home Only\", '100': \"Auto Only\", '101': \"Auto + Rental\", '110': \"Auto + Home\"}})\n",
    "tempt3=tempt1.merge(tempt2, on=\"Product_Type\", how=\"inner\")\n",
    "tempt3.style.format({'count':'{:,}','percentage':'{:.2%}'})"
   ]
  },
  {
   "cell_type": "markdown",
   "metadata": {},
   "source": [
    "#### Test Set"
   ]
  },
  {
   "cell_type": "code",
   "execution_count": 68,
   "metadata": {},
   "outputs": [
    {
     "data": {
      "text/html": [
       "<style  type=\"text/css\" >\n",
       "</style><table id=\"T_5fb44c82_ff7b_11eb_b9b8_0242ac110004\" ><thead>    <tr>        <th class=\"blank level0\" ></th>        <th class=\"col_heading level0 col0\" >Auto or Not</th>        <th class=\"col_heading level0 col1\" >count</th>        <th class=\"col_heading level0 col2\" >percentage</th>    </tr></thead><tbody>\n",
       "                <tr>\n",
       "                        <th id=\"T_5fb44c82_ff7b_11eb_b9b8_0242ac110004level0_row0\" class=\"row_heading level0 row0\" >0</th>\n",
       "                        <td id=\"T_5fb44c82_ff7b_11eb_b9b8_0242ac110004row0_col0\" class=\"data row0 col0\" >No</td>\n",
       "                        <td id=\"T_5fb44c82_ff7b_11eb_b9b8_0242ac110004row0_col1\" class=\"data row0 col1\" >2,217,093</td>\n",
       "                        <td id=\"T_5fb44c82_ff7b_11eb_b9b8_0242ac110004row0_col2\" class=\"data row0 col2\" >76.06%</td>\n",
       "            </tr>\n",
       "            <tr>\n",
       "                        <th id=\"T_5fb44c82_ff7b_11eb_b9b8_0242ac110004level0_row1\" class=\"row_heading level0 row1\" >1</th>\n",
       "                        <td id=\"T_5fb44c82_ff7b_11eb_b9b8_0242ac110004row1_col0\" class=\"data row1 col0\" >Yes</td>\n",
       "                        <td id=\"T_5fb44c82_ff7b_11eb_b9b8_0242ac110004row1_col1\" class=\"data row1 col1\" >697,920</td>\n",
       "                        <td id=\"T_5fb44c82_ff7b_11eb_b9b8_0242ac110004row1_col2\" class=\"data row1 col2\" >23.94%</td>\n",
       "            </tr>\n",
       "    </tbody></table>"
      ],
      "text/plain": [
       "<pandas.io.formats.style.Styler at 0x7ef05f77d0f0>"
      ]
     },
     "execution_count": 68,
     "metadata": {},
     "output_type": "execute_result"
    }
   ],
   "source": [
    "tempt1=pd.DataFrame(vertices_v1.iloc[np.where(test_mask_binary_label.numpy())]['P_AUTO'].value_counts(dropna=False)).reset_index().\\\n",
    "rename(columns={'index':'Auto or Not','P_AUTO':'count'}).replace({'Auto or Not':     {0: \"No\",1:\"Yes\"}})\n",
    "tempt2=pd.DataFrame(vertices_v1.iloc[np.where(test_mask_binary_label.numpy())]['P_AUTO'].value_counts(normalize=True,dropna=False)).reset_index().\\\n",
    "rename(columns={'index':'Auto or Not','P_AUTO':'percentage'}).replace({'Auto or Not':     {0: \"No\",1:\"Yes\"}})\n",
    "tempt3=tempt1.merge(tempt2, on=\"Auto or Not\", how=\"inner\")\n",
    "tempt3.style.format({'count':'{:,}','percentage':'{:.2%}'})"
   ]
  },
  {
   "cell_type": "code",
   "execution_count": 69,
   "metadata": {},
   "outputs": [
    {
     "data": {
      "text/html": [
       "<style  type=\"text/css\" >\n",
       "</style><table id=\"T_612e1660_ff7b_11eb_b9b8_0242ac110004\" ><thead>    <tr>        <th class=\"blank level0\" ></th>        <th class=\"col_heading level0 col0\" >Product_Type</th>        <th class=\"col_heading level0 col1\" >count</th>        <th class=\"col_heading level0 col2\" >percentage</th>    </tr></thead><tbody>\n",
       "                <tr>\n",
       "                        <th id=\"T_612e1660_ff7b_11eb_b9b8_0242ac110004level0_row0\" class=\"row_heading level0 row0\" >0</th>\n",
       "                        <td id=\"T_612e1660_ff7b_11eb_b9b8_0242ac110004row0_col0\" class=\"data row0 col0\" >No Product</td>\n",
       "                        <td id=\"T_612e1660_ff7b_11eb_b9b8_0242ac110004row0_col1\" class=\"data row0 col1\" >2,163,735</td>\n",
       "                        <td id=\"T_612e1660_ff7b_11eb_b9b8_0242ac110004row0_col2\" class=\"data row0 col2\" >74.23%</td>\n",
       "            </tr>\n",
       "            <tr>\n",
       "                        <th id=\"T_612e1660_ff7b_11eb_b9b8_0242ac110004level0_row1\" class=\"row_heading level0 row1\" >1</th>\n",
       "                        <td id=\"T_612e1660_ff7b_11eb_b9b8_0242ac110004row1_col0\" class=\"data row1 col0\" >Auto + Home</td>\n",
       "                        <td id=\"T_612e1660_ff7b_11eb_b9b8_0242ac110004row1_col1\" class=\"data row1 col1\" >311,000</td>\n",
       "                        <td id=\"T_612e1660_ff7b_11eb_b9b8_0242ac110004row1_col2\" class=\"data row1 col2\" >10.67%</td>\n",
       "            </tr>\n",
       "            <tr>\n",
       "                        <th id=\"T_612e1660_ff7b_11eb_b9b8_0242ac110004level0_row2\" class=\"row_heading level0 row2\" >2</th>\n",
       "                        <td id=\"T_612e1660_ff7b_11eb_b9b8_0242ac110004row2_col0\" class=\"data row2 col0\" >Auto Only</td>\n",
       "                        <td id=\"T_612e1660_ff7b_11eb_b9b8_0242ac110004row2_col1\" class=\"data row2 col1\" >243,116</td>\n",
       "                        <td id=\"T_612e1660_ff7b_11eb_b9b8_0242ac110004row2_col2\" class=\"data row2 col2\" >8.34%</td>\n",
       "            </tr>\n",
       "            <tr>\n",
       "                        <th id=\"T_612e1660_ff7b_11eb_b9b8_0242ac110004level0_row3\" class=\"row_heading level0 row3\" >3</th>\n",
       "                        <td id=\"T_612e1660_ff7b_11eb_b9b8_0242ac110004row3_col0\" class=\"data row3 col0\" >Auto + Rental</td>\n",
       "                        <td id=\"T_612e1660_ff7b_11eb_b9b8_0242ac110004row3_col1\" class=\"data row3 col1\" >143,803</td>\n",
       "                        <td id=\"T_612e1660_ff7b_11eb_b9b8_0242ac110004row3_col2\" class=\"data row3 col2\" >4.93%</td>\n",
       "            </tr>\n",
       "            <tr>\n",
       "                        <th id=\"T_612e1660_ff7b_11eb_b9b8_0242ac110004level0_row4\" class=\"row_heading level0 row4\" >4</th>\n",
       "                        <td id=\"T_612e1660_ff7b_11eb_b9b8_0242ac110004row4_col0\" class=\"data row4 col0\" >Rental Only</td>\n",
       "                        <td id=\"T_612e1660_ff7b_11eb_b9b8_0242ac110004row4_col1\" class=\"data row4 col1\" >28,176</td>\n",
       "                        <td id=\"T_612e1660_ff7b_11eb_b9b8_0242ac110004row4_col2\" class=\"data row4 col2\" >0.97%</td>\n",
       "            </tr>\n",
       "            <tr>\n",
       "                        <th id=\"T_612e1660_ff7b_11eb_b9b8_0242ac110004level0_row5\" class=\"row_heading level0 row5\" >5</th>\n",
       "                        <td id=\"T_612e1660_ff7b_11eb_b9b8_0242ac110004row5_col0\" class=\"data row5 col0\" >Home Only</td>\n",
       "                        <td id=\"T_612e1660_ff7b_11eb_b9b8_0242ac110004row5_col1\" class=\"data row5 col1\" >25,181</td>\n",
       "                        <td id=\"T_612e1660_ff7b_11eb_b9b8_0242ac110004row5_col2\" class=\"data row5 col2\" >0.86%</td>\n",
       "            </tr>\n",
       "    </tbody></table>"
      ],
      "text/plain": [
       "<pandas.io.formats.style.Styler at 0x7ef05f77d4a8>"
      ]
     },
     "execution_count": 69,
     "metadata": {},
     "output_type": "execute_result"
    }
   ],
   "source": [
    "tempt1=pd.DataFrame(vertices_v1.iloc[np.where(test_mask_multi_label.numpy())]['Prod_Trace'].value_counts(dropna=False)).reset_index().\\\n",
    "rename(columns={'index':'Product_Type','Prod_Trace':'count'}).replace({'Product_Type':     {'000': \"No Product\", '001': \"Rental Only\", '010': \"Home Only\", '100': \"Auto Only\", '101': \"Auto + Rental\", '110': \"Auto + Home\"}})\n",
    "tempt2=pd.DataFrame(vertices_v1.iloc[np.where(test_mask_multi_label.numpy())]['Prod_Trace'].value_counts(normalize=True,dropna=False)).reset_index().\\\n",
    "rename(columns={'index':'Product_Type','Prod_Trace':'percentage'}).replace({'Product_Type':     {'000': \"No Product\", '001': \"Rental Only\", '010': \"Home Only\", '100': \"Auto Only\", '101': \"Auto + Rental\", '110': \"Auto + Home\"}})\n",
    "tempt3=tempt1.merge(tempt2, on=\"Product_Type\", how=\"inner\")\n",
    "tempt3.style.format({'count':'{:,}','percentage':'{:.2%}'})"
   ]
  },
  {
   "cell_type": "markdown",
   "metadata": {},
   "source": [
    "#### Save Graph"
   ]
  },
  {
   "cell_type": "code",
   "execution_count": 70,
   "metadata": {},
   "outputs": [
    {
     "name": "stdout",
     "output_type": "stream",
     "text": [
      "It took 26.7131 seconds to save graph database\n"
     ]
    }
   ],
   "source": [
    "data_dir=\"/workspace/cjiang/eagle_project/CAP_graph/BGNN/\"\n",
    "start=time.time()\n",
    "with open(os.path.join(data_dir,\"CAP_Graph_v2\"),\"wb\") as f:\n",
    "    pickle.dump((g,multi_label,binary_label,\\\n",
    "                 train_mask_multi_label,  val_mask_multi_label,  test_mask_multi_label,\\\n",
    "                 train_mask_binary_label, val_mask_binary_label, test_mask_binary_label),f)\n",
    "end=time.time()\n",
    "print(\"It took {:0.4f} seconds to save graph database\".format(end-start))"
   ]
  },
  {
   "cell_type": "code",
   "execution_count": 71,
   "metadata": {},
   "outputs": [
    {
     "name": "stdout",
     "output_type": "stream",
     "text": [
      "It took 30.8951 seconds to load graph database\n"
     ]
    }
   ],
   "source": [
    "start=time.time()\n",
    "with open(os.path.join(data_dir,\"CAP_Graph_v2\"),\"rb\") as f:\n",
    "    G,multi_label,binary_label,\\\n",
    "    train_mask_multi_label,  val_mask_multi_label,  test_mask_multi_label,\\\n",
    "    train_mask_binary_label, val_mask_binary_label, test_mask_binary_label=pickle.load(f)\n",
    "end=time.time()\n",
    "print(\"It took {:0.4f} seconds to load graph database\".format(end-start))"
   ]
  },
  {
   "cell_type": "code",
   "execution_count": 72,
   "metadata": {},
   "outputs": [
    {
     "name": "stdout",
     "output_type": "stream",
     "text": [
      "**************************************************\n",
      "Node_types:  ['usaanr', 'zipcode']\n",
      "Edge_types:  ['AUTO_RELATED', 'Brother_Sister', 'Busi_rel_Other', 'Child', 'Ex-Spouse', 'Located_In', 'Parent', 'Pers_rel_Other', 'SPONSEE', 'SPONSOR', 'Spouse', 'Step-Child', 'Step-Parent', 'Location_of']\n",
      "**************************************************\n",
      "Canonical Etypes of Graph is:\n",
      "\n",
      "usaanr              AUTO_RELATED        usaanr              \n",
      "usaanr              Brother_Sister      usaanr              \n",
      "usaanr              Busi_rel_Other      usaanr              \n",
      "usaanr              Child               usaanr              \n",
      "usaanr              Ex-Spouse           usaanr              \n",
      "usaanr              Located_In          zipcode             \n",
      "usaanr              Parent              usaanr              \n",
      "usaanr              Pers_rel_Other      usaanr              \n",
      "usaanr              SPONSEE             usaanr              \n",
      "usaanr              SPONSOR             usaanr              \n",
      "usaanr              Spouse              usaanr              \n",
      "usaanr              Step-Child          usaanr              \n",
      "usaanr              Step-Parent         usaanr              \n",
      "zipcode             Location_of         usaanr              \n",
      "**************************************************\n",
      "number of ntype=usaanr                29,150,140     \n",
      "number of ntype=zipcode               37,150         \n",
      "**************************************************\n",
      "Total number of nodes is 29,187,290\n",
      "**************************************************\n",
      "number of etype=AUTO_RELATED          7,947,060      \n",
      "number of etype=Brother_Sister        651,444        \n",
      "number of etype=Busi_rel_Other        1,039,214      \n",
      "number of etype=Child                 11,765,795     \n",
      "number of etype=Ex-Spouse             3,877,972      \n",
      "number of etype=Located_In            29,150,140     \n",
      "number of etype=Parent                11,765,795     \n",
      "number of etype=Pers_rel_Other        2,012,514      \n",
      "number of etype=SPONSEE               16,775,141     \n",
      "number of etype=SPONSOR               16,775,141     \n",
      "number of etype=Spouse                16,016,119     \n",
      "number of etype=Step-Child            1,240,193      \n",
      "number of etype=Step-Parent           1,223,071      \n",
      "number of etype=Location_of           29,150,140     \n",
      "**************************************************\n",
      "Total number of edges is 149,389,739\n",
      "**************************************************\n",
      "**************************************************\n",
      "The attributes for the node type=usaanr\n",
      "**************************************************\n",
      "type                                    torch.Size([29150140, 1])\n",
      "usaanr                                  torch.Size([29150140, 1])\n",
      "usaayr                                  torch.Size([29150140, 1])\n",
      "AGE_BAND                                torch.Size([29150140, 1])\n",
      "ORIGEL                                  torch.Size([29150140, 1])\n",
      "ELIG2                                   torch.Size([29150140, 1])\n",
      "cmpyelig                                torch.Size([29150140, 1])\n",
      "SEX                                     torch.Size([29150140, 1])\n",
      "MARST                                   torch.Size([29150140, 1])\n",
      "BRANCH                                  torch.Size([29150140, 1])\n",
      "ENLPAYGD                                torch.Size([29150140, 1])\n",
      "MILST                                   torch.Size([29150140, 1])\n",
      "MLIST_OrigStat                          torch.Size([29150140, 1])\n",
      "ACTCORP                                 torch.Size([29150140, 1])\n",
      "STATE                                   torch.Size([29150140, 1])\n",
      "Segment                                 torch.Size([29150140, 1])\n",
      "**************************************************\n",
      "The attributes for the node type=zipcode\n",
      "**************************************************\n",
      "type                                    torch.Size([37150, 1])\n"
     ]
    }
   ],
   "source": [
    "graph_show(G)"
   ]
  },
  {
   "cell_type": "markdown",
   "metadata": {},
   "source": [
    "#### count the number of nodes whose in-degree ==0"
   ]
  },
  {
   "cell_type": "code",
   "execution_count": null,
   "metadata": {},
   "outputs": [],
   "source": [
    "# C=torch.empty(G.num_nodes('usaanr'))\n",
    "# for etype in G.etypes:\n",
    "#     C+=G.in_degrees(etype=etype)\n",
    "# print(\"{:<35}{:<10,} \".format(\"The number of zero in-degree nodes is \",torch.sum(C==0)))"
   ]
  },
  {
   "cell_type": "markdown",
   "metadata": {},
   "source": [
    "#### Find metapaths in the generated heterogeneous graph"
   ]
  },
  {
   "cell_type": "code",
   "execution_count": null,
   "metadata": {},
   "outputs": [],
   "source": [
    "G.metagraph"
   ]
  },
  {
   "cell_type": "code",
   "execution_count": null,
   "metadata": {},
   "outputs": [],
   "source": [
    "import itertools\n",
    "\n",
    "def get_all_possible_metapaths(g, K):\n",
    "    possible_metapaths = []\n",
    "    metagraph = g.metagraph\n",
    "    # Iterate over all possible K-length sequences of all canonical edge types\n",
    "    for metapath in itertools.product(g.canonical_etypes, repeat=K):\n",
    "        # Check if the sequence indeed connects and forms a metapath.\n",
    "        # If the destination node type of an edge type is not the same as the source\n",
    "        # node type of the next edge type, then the sequence is not a valid metapath.\n",
    "        is_valid = True\n",
    "        previous_ntype = None\n",
    "        for srctype, etype, dsttype in metapath:\n",
    "            if previous_ntype is not None and srctype != previous_ntype:\n",
    "                is_valid = False\n",
    "                break\n",
    "            previous_ntype = dsttype\n",
    "\n",
    "        if is_valid:\n",
    "            possible_metapaths.append(metapath)\n",
    "    filtered_metapaths = []\n",
    "    for metapath in possible_metapaths:\n",
    "        result_g = dgl.metapath_reachable_graph(g, metapath)\n",
    "        if result_g.number_of_edges() > 0:\n",
    "            filtered_metapaths.append(metapath)\n",
    "    return filtered_metapaths\n",
    "\n",
    "def pretty_print_metapath(metapath):\n",
    "    # This function just pretty-prints the metapath\n",
    "    item_list = sum([['(' + etype[1] + ')', etype[2]] for etype in metapath], [])\n",
    "    item_list.insert(0, metapath[0][0])\n",
    "    return ' -- '.join(item_list)"
   ]
  },
  {
   "cell_type": "code",
   "execution_count": null,
   "metadata": {},
   "outputs": [],
   "source": [
    "for K in range(1, 3):\n",
    "    print('### Length', K, 'metapaths ###')\n",
    "    possible_metapaths = get_all_possible_metapaths(G, K)\n",
    "    # print the metapaths\n",
    "    for metapath in possible_metapaths:\n",
    "        print(pretty_print_metapath(metapath))"
   ]
  },
  {
   "cell_type": "code",
   "execution_count": null,
   "metadata": {},
   "outputs": [],
   "source": [
    "print(\"Total number of metapath(length 2) is {}\".format(len(possible_metapaths)))"
   ]
  }
 ],
 "metadata": {
  "kernelspec": {
   "display_name": "Python 3",
   "language": "python",
   "name": "python3"
  },
  "language_info": {
   "codemirror_mode": {
    "name": "ipython",
    "version": 3
   },
   "file_extension": ".py",
   "mimetype": "text/x-python",
   "name": "python",
   "nbconvert_exporter": "python",
   "pygments_lexer": "ipython3",
   "version": "3.6.7"
  }
 },
 "nbformat": 4,
 "nbformat_minor": 4
}
