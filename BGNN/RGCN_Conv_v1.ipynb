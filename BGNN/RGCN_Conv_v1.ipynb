{
 "cells": [
  {
   "cell_type": "code",
   "execution_count": 1,
   "metadata": {},
   "outputs": [
    {
     "name": "stderr",
     "output_type": "stream",
     "text": [
      "Using backend: pytorch\n"
     ]
    },
    {
     "name": "stdout",
     "output_type": "stream",
     "text": [
      "torch version is 1.6.0\n",
      "DGL version is 0.8a210818\n"
     ]
    }
   ],
   "source": [
    "import argparse\n",
    "import itertools\n",
    "import os\n",
    "import numpy as np\n",
    "from numpy import save,load,savetxt,loadtxt,savez_compressed\n",
    "from sklearn import metrics\n",
    "from sklearn.metrics import roc_auc_score, f1_score,average_precision_score\n",
    "from sklearn.metrics import precision_recall_fscore_support \n",
    "from sklearn.metrics import precision_recall_curve\n",
    "from sklearn.metrics import auc as auc_score\n",
    "from sklearn.metrics import roc_curve\n",
    "from sklearn.preprocessing import LabelEncoder, label_binarize\n",
    "\n",
    "import pandas as pd\n",
    "import scipy.sparse as sp\n",
    "import time\n",
    "from tqdm import tqdm, tqdm_notebook,tnrange\n",
    "tqdm.pandas(position=0, leave=True)\n",
    "import math \n",
    "import torch as th\n",
    "import torch.nn as nn\n",
    "import torch.nn.functional as F\n",
    "import dgl\n",
    "from dgl import edge_subgraph\n",
    "import dgl.nn as dglnn\n",
    "import dgl.function as fn\n",
    "\n",
    "import functools\n",
    "import seaborn as sns\n",
    "import pickle\n",
    "import random\n",
    "\n",
    "import matplotlib.pyplot as plt\n",
    "%matplotlib inline\n",
    "plt.rcParams['figure.figsize']=(5.0,4.0)\n",
    "plt.rcParams['image.interpolation']='nearest'\n",
    "plt.rcParams['image.cmap']='gray'\n",
    "import warnings\n",
    "warnings.filterwarnings('ignore')\n",
    "import utils\n",
    "\n",
    "print(\"torch version is {}\".format(th.__version__))\n",
    "print(\"DGL version is {}\".format(dgl.__version__))"
   ]
  },
  {
   "cell_type": "code",
   "execution_count": 2,
   "metadata": {},
   "outputs": [],
   "source": [
    "def seed_everything(seed):\n",
    "    random.seed(seed)\n",
    "    th.manual_seed(seed)\n",
    "    th.cuda.manual_seed_all(seed)\n",
    "    th.backends.cudnn.deterministic = True\n",
    "    th.backends.cudnn.benchmark = False\n",
    "    np.random.seed(seed)\n",
    "    os.environ['PYTHONHASHSEED'] = str(seed)\n",
    "    \n",
    "seed_everything(101)"
   ]
  },
  {
   "cell_type": "markdown",
   "metadata": {},
   "source": [
    "#### load graph data"
   ]
  },
  {
   "cell_type": "code",
   "execution_count": 3,
   "metadata": {},
   "outputs": [
    {
     "name": "stdout",
     "output_type": "stream",
     "text": [
      "It took 10.1665 seconds to load graph\n"
     ]
    }
   ],
   "source": [
    "KG_dir=\"/workspace/cjiang/eagle_project/CAP_graph/BGNN/\"\n",
    "\n",
    "start=time.time()\n",
    "with open(os.path.join(KG_dir,'CAP_Graph_v1'), 'rb') as f:\n",
    "    hg,multi_label,binary_label,\\\n",
    "    train_mask_multi_label,  val_mask_multi_label,  test_mask_multi_label,\\\n",
    "    train_mask_binary_label, val_mask_binary_label, test_mask_binary_label= pickle.load(f)\n",
    "end=time.time()\n",
    "print(\"It took {:0.4f} seconds to load graph\".format(end-start))\n"
   ]
  },
  {
   "cell_type": "code",
   "execution_count": 4,
   "metadata": {},
   "outputs": [],
   "source": [
    "hg.nodes['usaanr'].data[\"binary_label\"]= binary_label\n",
    "hg.nodes['usaanr'].data[\"train_mask\"]= th.tensor( np.expand_dims(np.array(train_mask_binary_label), 1) )\n",
    "hg.nodes['usaanr'].data[\"val_mask\"]= th.tensor( np.expand_dims(np.array(val_mask_binary_label), 1) )\n",
    "hg.nodes['usaanr'].data[\"test_mask\"]= th.tensor( np.expand_dims(np.array(test_mask_binary_label), 1) )"
   ]
  },
  {
   "cell_type": "code",
   "execution_count": 5,
   "metadata": {},
   "outputs": [],
   "source": [
    "G=hg"
   ]
  },
  {
   "cell_type": "markdown",
   "metadata": {},
   "source": [
    "#### sampling data"
   ]
  },
  {
   "cell_type": "code",
   "execution_count": 6,
   "metadata": {},
   "outputs": [],
   "source": [
    "# dict_edges={}\n",
    "# for etype in hg.etypes:\n",
    "#     dict_edges[etype]=th.arange(hg.num_edges(etype))[0:10000]\n",
    "# G=dgl.edge_subgraph(hg,dict_edges)\n",
    "\n",
    "# utils.graph_show(G)"
   ]
  },
  {
   "cell_type": "markdown",
   "metadata": {},
   "source": [
    "#### convert Heterogeneous Graph into Homogeneous Graph"
   ]
  },
  {
   "cell_type": "code",
   "execution_count": 7,
   "metadata": {},
   "outputs": [],
   "source": [
    "G.edges['Parent'].data[\"etype\"]=th.zeros(G.num_edges(\"Parent\"))\n",
    "G.edges['Child'].data[\"etype\"]=th.ones(G.num_edges(\"Child\"))\n",
    "G.edges['Spouse'].data[\"etype\"]=th.ones(G.num_edges(\"Spouse\"))*2\n",
    "G.edges['Ex-Spouse'].data[\"etype\"]=th.ones(G.num_edges(\"Ex-Spouse\"))*3\n",
    "G.edges['Brother_Sister'].data[\"etype\"]=th.ones(G.num_edges(\"Brother_Sister\"))*4\n",
    "G.edges['Step-Parent'].data[\"etype\"]=th.ones(G.num_edges(\"Step-Parent\"))*5\n",
    "G.edges['Step-Child'].data[\"etype\"]=th.ones(G.num_edges(\"Step-Child\"))*6\n",
    "G.edges['Pers_rel_Other'].data[\"etype\"]=th.ones(G.num_edges(\"Pers_rel_Other\"))*7\n",
    "G.edges['SPONSOR'].data[\"etype\"]=th.ones(G.num_edges(\"SPONSOR\"))*8\n",
    "G.edges['SPONSEE'].data[\"etype\"]=th.ones(G.num_edges(\"SPONSEE\"))*9\n",
    "G.edges['AUTO_RELATED'].data[\"etype\"]=th.ones(G.num_edges(\"AUTO_RELATED\"))*10\n",
    "G.edges['Busi_rel_Other'].data[\"etype\"]=th.ones(G.num_edges(\"Busi_rel_Other\"))*11"
   ]
  },
  {
   "cell_type": "code",
   "execution_count": 8,
   "metadata": {},
   "outputs": [],
   "source": [
    "# calculate norm for each edge type and store in edge\n",
    "for canonical_etype in G.canonical_etypes:\n",
    "    u, v, eid = G.all_edges(form='all', etype=canonical_etype)\n",
    "    _, inverse_index, count = th.unique(v, return_inverse=True, return_counts=True)\n",
    "    degrees = count[inverse_index]\n",
    "    norm = th.ones(eid.shape[0]).float() / degrees.float()\n",
    "    norm = norm.unsqueeze(1)\n",
    "    G.edges[canonical_etype].data['norm'] = norm"
   ]
  },
  {
   "cell_type": "code",
   "execution_count": 9,
   "metadata": {},
   "outputs": [],
   "source": [
    "usaanr_feat=[]\n",
    "for key, scheme in G.node_attr_schemes(ntype=\"usaanr\").items():\n",
    "    usaanr_feat.append(key)\n",
    "# usaanr_feat=[x for x in usaanr_feat if x not in ['ZIPCD','AGE','train_mask','val_mask','test_mask']]\n",
    "\n",
    "# print()\n",
    "# print(\"The features associated with USAA Member are\\n \")\n",
    "# for i in usaanr_feat:\n",
    "#     print(i)\n",
    "\n",
    "g, ntype_count, etype_count=dgl.to_homogeneous(G,ndata=usaanr_feat,edata=['norm','etype'],store_type=True,return_count=True)\n",
    "\n",
    "num_nodes=g.num_nodes()\n",
    "node_ids=th.arange(num_nodes)\n",
    "edge_norm=g.edata['norm']\n",
    "edge_type=g.edata['etype'].long()\n",
    "\n",
    "g.ndata['ntype']=g.ndata.pop(dgl.NTYPE)\n",
    "\n",
    "num_rels=g.edata['etype'].unique().max().item()+1"
   ]
  },
  {
   "cell_type": "code",
   "execution_count": 10,
   "metadata": {},
   "outputs": [
    {
     "name": "stdout",
     "output_type": "stream",
     "text": [
      "norm\n",
      "etype\n"
     ]
    }
   ],
   "source": [
    "### Remove some features from edges \n",
    "_ID=g.edata.pop(\"_ID\")\n",
    "_TYPE=g.edata.pop(\"_TYPE\")\n",
    "\n",
    "for key, val in g.edge_attr_schemes().items():\n",
    "    print(key)"
   ]
  },
  {
   "cell_type": "code",
   "execution_count": 11,
   "metadata": {},
   "outputs": [
    {
     "name": "stdout",
     "output_type": "stream",
     "text": [
      "usaayr\n",
      "AGE_BAND\n",
      "ORIGEL\n",
      "ELIG2\n",
      "SEX\n",
      "MARST\n",
      "BRANCH\n",
      "ENLPAYGD\n",
      "MILST\n",
      "MLIST_OrigStat\n",
      "STATE\n"
     ]
    }
   ],
   "source": [
    "### Remove some features from nodes so that the graph only contain the features used in the model\n",
    "train_mask=g.ndata.pop(\"train_mask\")\n",
    "val_mask=g.ndata.pop(\"val_mask\")\n",
    "test_mask=g.ndata.pop(\"test_mask\")\n",
    "_ID=g.ndata.pop(\"_ID\")\n",
    "ntype=g.ndata.pop(\"ntype\")\n",
    "binary_label=g.ndata.pop(\"binary_label\")\n",
    "\n",
    "usaanr=g.ndata.pop(\"usaanr\")\n",
    "cmpyelig=g.ndata.pop(\"cmpyelig\")\n",
    "ACTCORP=g.ndata.pop(\"ACTCORP\")\n",
    "Segment=g.ndata.pop(\"Segment\")\n",
    "# zipcd=g.ndata.pop(\"ZIPCD\")\n",
    "# PERSST=g.ndata.pop(\"PERSST\")\n",
    "# DEATHSDT=g.ndata.pop(\"DEATHSDT\")\n",
    "# enl1stsdt=g.ndata.pop(\"enl1stsdt\")\n",
    "# COMMSDT=g.ndata.pop(\"COMMSDT\")\n",
    "\n",
    "for key, val in g.node_attr_schemes().items():\n",
    "    print(key)"
   ]
  },
  {
   "cell_type": "markdown",
   "metadata": {},
   "source": [
    "<img src=\"CAP_Graph_Structure.PNG\" alt=\"drawing\" width=\"750\"/> "
   ]
  },
  {
   "cell_type": "code",
   "execution_count": 12,
   "metadata": {},
   "outputs": [],
   "source": [
    "feat_list=[]\n",
    "for key, scheme in g.node_attr_schemes().items():\n",
    "    feat_list.append(key)"
   ]
  },
  {
   "cell_type": "code",
   "execution_count": 13,
   "metadata": {},
   "outputs": [],
   "source": [
    "## USAA Members Features Embedding\n",
    "class USAANR_Embedding(nn.Module):\n",
    "    def __init__(self,G,feature_size,feat_list):\n",
    "        super(USAANR_Embedding,self).__init__()\n",
    "#         self.device=G.device\n",
    "        self.G=G.to(device)\n",
    "        self.feature_size=feature_size\n",
    "        self.feat_list=feat_list\n",
    "        ## Embedding matrices for features of nodes.\n",
    "        self.emb = nn.ModuleDict()\n",
    "        \n",
    "        for i,col in enumerate(self.feat_list):\n",
    "            self.emb[col]=nn.Embedding(G.ndata[col].max().item()+1, feature_size)\n",
    "    \n",
    "    def forward(self, nid):\n",
    "        nid=nid.to(device)\n",
    "        extra_repr=[]\n",
    "        \n",
    "        for i,col in enumerate(self.feat_list):\n",
    "            ndata=self.G.ndata[col]\n",
    "            extra_repr.append(self.emb[col](ndata[nid]).squeeze(1))\n",
    "        return th.stack(extra_repr, 0).sum(0)\n",
    "    \n",
    "class RelGraphConv(nn.Module):\n",
    "\n",
    "    def __init__(self,\n",
    "                 in_feat,\n",
    "                 out_feat,\n",
    "                 num_rels,\n",
    "                 regularizer=\"basis\",\n",
    "                 num_bases=None,\n",
    "                 bias=True,\n",
    "                 activation=None,\n",
    "                 self_loop=True,\n",
    "                 low_mem=False,\n",
    "                 dropout=0.0,\n",
    "                 layer_norm=False):\n",
    "        super(RelGraphConv, self).__init__()\n",
    "        self.in_feat = in_feat\n",
    "        self.out_feat = out_feat\n",
    "        self.num_rels = num_rels\n",
    "        self.regularizer = regularizer\n",
    "        self.num_bases = num_bases\n",
    "        if self.num_bases is None or self.num_bases > self.num_rels or self.num_bases <= 0:\n",
    "            self.num_bases = self.num_rels\n",
    "        self.bias = bias\n",
    "        self.activation = activation\n",
    "        self.self_loop = self_loop\n",
    "        self.low_mem = low_mem\n",
    "        self.layer_norm = layer_norm\n",
    "\n",
    "        if regularizer == \"basis\":\n",
    "            # add basis weights\n",
    "            self.weight = nn.Parameter(th.Tensor(self.num_bases, self.in_feat, self.out_feat))\n",
    "            if self.num_bases < self.num_rels:\n",
    "                # linear combination coefficients\n",
    "                self.w_comp = nn.Parameter(th.Tensor(self.num_rels, self.num_bases))\n",
    "            nn.init.xavier_uniform_(self.weight, gain=nn.init.calculate_gain('relu'))\n",
    "            if self.num_bases < self.num_rels:\n",
    "                nn.init.xavier_uniform_(self.w_comp,\n",
    "                                        gain=nn.init.calculate_gain('relu'))\n",
    "            # message func\n",
    "            self.message_func = self.basis_message_func\n",
    "        else:\n",
    "            raise ValueError(\"Regularizer must be 'basis' \")\n",
    "\n",
    "        # bias\n",
    "        if self.bias:\n",
    "            self.h_bias = nn.Parameter(th.Tensor(out_feat))\n",
    "            nn.init.zeros_(self.h_bias)\n",
    "\n",
    "        # layer norm\n",
    "        if self.layer_norm:\n",
    "            self.layer_norm_weight = nn.LayerNorm(out_feat, elementwise_affine=True)\n",
    "\n",
    "        # weight for self loop\n",
    "        if self.self_loop:\n",
    "            self.loop_weight = nn.Parameter(th.Tensor(in_feat, out_feat))\n",
    "            nn.init.xavier_uniform_(self.loop_weight,\n",
    "                                    gain=nn.init.calculate_gain('relu'))\n",
    "\n",
    "        self.dropout = nn.Dropout(dropout)\n",
    "\n",
    "    def basis_message_func(self, edges, etypes, e_weights=None):\n",
    "        \"\"\"Message function for basis regularizer.\n",
    "        Parameters\n",
    "        ----------\n",
    "        edges : dgl.EdgeBatch\n",
    "            Input to DGL message UDF.\n",
    "        etypes : torch.Tensor or list[int]\n",
    "            Edge type data. Could be either:\n",
    "                * An :math:`(|E|,)` dense tensor. Each element corresponds to the edge's type ID.\n",
    "                  Preferred format if ``lowmem == False``.\n",
    "                * An integer list. The i^th element is the number of edges of the i^th type.\n",
    "                  This requires the input graph to store edges sorted by their type IDs.\n",
    "                  Preferred format if ``lowmem == True``.\n",
    "        \"\"\"\n",
    "        if self.num_bases < self.num_rels:\n",
    "            # generate all weights from bases\n",
    "            weight = self.weight.view(self.num_bases,\n",
    "                                      self.in_feat * self.out_feat)\n",
    "            weight = th.matmul(self.w_comp, weight).view(\n",
    "                self.num_rels, self.in_feat, self.out_feat)\n",
    "        else:\n",
    "            weight = self.weight\n",
    "\n",
    "        h = edges.src['h']\n",
    "        device = h.device\n",
    "        \n",
    "        if \"e_weights\" in edges.data.keys():\n",
    "            h=h*edges.data['e_weights']\n",
    "\n",
    "        if self.low_mem:\n",
    "            # A more memory-friendly implementation.\n",
    "            # Calculate msg @ W_r before put msg into edge.\n",
    "            assert isinstance(etypes, list)\n",
    "            h_t = th.split(h, etypes)\n",
    "            msg = []\n",
    "            for etype in range(self.num_rels):\n",
    "                if h_t[etype].shape[0] == 0:\n",
    "                    continue\n",
    "                msg.append(th.matmul(h_t[etype], weight[etype]))\n",
    "            msg = th.cat(msg)\n",
    "        else:\n",
    "            # Use batched matmult\n",
    "            weight = weight.index_select(0, etypes)\n",
    "            msg = th.bmm(h.unsqueeze(1), weight).squeeze(1)\n",
    "\n",
    "        if 'norm' in edges.data:\n",
    "            msg = msg * edges.data['norm']\n",
    "        return {'msg': msg}\n",
    "    \n",
    "    def forward(self, g, feat, etypes, norm=None):\n",
    "        \"\"\"Forward computation.\n",
    "        Parameters\n",
    "        ----------\n",
    "        g : DGLGraph\n",
    "            The graph.\n",
    "        feat : torch.Tensor\n",
    "            Input node features. Could be either\n",
    "                * :math:`(|V|, D)` dense tensor\n",
    "                * :math:`(|V|,)` int64 vector, representing the categorical values of each\n",
    "                  node. It then treat the input feature as an one-hot encoding feature.\n",
    "        etypes : torch.Tensor or list[int]\n",
    "            Edge type data. Could be either\n",
    "                * An :math:`(|E|,)` dense tensor. Each element corresponds to the edge's type ID.\n",
    "                  Preferred format if ``lowmem == False``.\n",
    "                * An integer list. The i^th element is the number of edges of the i^th type.\n",
    "                  This requires the input graph to store edges sorted by their type IDs.\n",
    "                  Preferred format if ``lowmem == True``.\n",
    "        norm : torch.Tensor\n",
    "            Optional edge normalizer tensor. Shape: :math:`(|E|, 1)`.\n",
    "        Returns\n",
    "        -------\n",
    "        torch.Tensor\n",
    "            New node features.\n",
    "        Notes\n",
    "        -----\n",
    "        Under the ``low_mem`` mode, DGL will sort the graph based on the edge types\n",
    "        and compute message passing one type at a time. DGL recommends sorts the\n",
    "        graph beforehand (and cache it if possible) and provides the integer list\n",
    "        format to the ``etypes`` argument. Use DGL's :func:`~dgl.to_homogeneous` API\n",
    "        to get a sorted homogeneous graph from a heterogeneous graph. Pass ``return_count=True``\n",
    "        to it to get the ``etypes`` in integer list.\n",
    "        \"\"\"\n",
    "        if isinstance(etypes, th.Tensor):\n",
    "            if len(etypes) != g.num_edges():\n",
    "                raise DGLError('\"etypes\" tensor must have length equal to the number of edges'\n",
    "                               ' in the graph. But got {} and {}.'.format(\n",
    "                                   len(etypes), g.num_edges()))\n",
    "            if self.low_mem and not (feat.dtype == th.int64 and feat.ndim == 1):\n",
    "                # Low-mem optimization is not enabled for node ID input. When enabled,\n",
    "                # it first sorts the graph based on the edge types (the sorting will not\n",
    "                # change the node IDs). It then converts the etypes tensor to an integer\n",
    "                # list, where each element is the number of edges of the type.\n",
    "                # Sort the graph based on the etypes\n",
    "                sorted_etypes, index = th.sort(etypes)\n",
    "                g = edge_subgraph(g, index, preserve_nodes=True)\n",
    "                # Create a new etypes to be an integer list of number of edges.\n",
    "                pos = th.searchsorted(sorted_etypes, th.arange(self.num_rels, device=g.device))\n",
    "                num = th.tensor([len(etypes)], device=g.device)\n",
    "                etypes = (th.cat([pos[1:], num]) - pos).tolist()\n",
    "                if norm is not None:\n",
    "                    norm = norm[index]\n",
    "\n",
    "        with g.local_scope():\n",
    "            g.srcdata['h'] = feat\n",
    "            if norm is not None:\n",
    "                g.edata['norm'] = norm\n",
    "            if self.self_loop:\n",
    "                loop_message = utils.matmul_maybe_select(feat[:g.number_of_dst_nodes()],\n",
    "                                                         self.loop_weight)\n",
    "            # message passing\n",
    "            g.update_all(functools.partial(self.message_func, etypes=etypes),\n",
    "                             fn.sum(msg='msg', out='h'))\n",
    "            # apply bias and activation\n",
    "            node_repr = g.dstdata['h']\n",
    "            if self.layer_norm:\n",
    "                node_repr = self.layer_norm_weight(node_repr)\n",
    "            if self.bias:\n",
    "                node_repr = node_repr + self.h_bias\n",
    "            if self.self_loop:\n",
    "                node_repr = node_repr + loop_message\n",
    "            if self.activation:\n",
    "                node_repr = self.activation(node_repr)\n",
    "            node_repr = self.dropout(node_repr)\n",
    "            \n",
    "            return node_repr\n",
    "        \n",
    "class EntityClassify(nn.Module):\n",
    "\n",
    "    def __init__(self,\n",
    "                 g,\n",
    "                 feat_list,\n",
    "                 h_dim,\n",
    "                 out_dim,\n",
    "                 num_rels,\n",
    "                 num_bases=None,\n",
    "                 num_hidden_layers=1,\n",
    "                 dropout=0,\n",
    "                 use_self_loop=False,\n",
    "                 low_mem=True,\n",
    "                 layer_norm=False):\n",
    "        super(EntityClassify, self).__init__()\n",
    "        self.g=g\n",
    "        self.feat_list=feat_list\n",
    "        self.h_dim = h_dim\n",
    "        self.out_dim = out_dim\n",
    "        self.num_rels = num_rels\n",
    "        self.num_bases = None if num_bases < 0 else num_bases\n",
    "        self.num_hidden_layers = num_hidden_layers\n",
    "        self.dropout = dropout\n",
    "        self.use_self_loop = use_self_loop\n",
    "        self.low_mem = low_mem\n",
    "        self.layer_norm = layer_norm\n",
    "        \n",
    "        self.node_embed = USAANR_Embedding(self.g,self.h_dim,self.feat_list)\n",
    "        \n",
    "        self.layers = nn.ModuleList()\n",
    "        # i2h\n",
    "        self.layers.append(RelGraphConv(\n",
    "            self.h_dim, self.h_dim, self.num_rels, \"basis\",\n",
    "            self.num_bases, activation=F.relu, self_loop=self.use_self_loop,\n",
    "            low_mem=self.low_mem, dropout=self.dropout, layer_norm = layer_norm))\n",
    "        # h2h\n",
    "        for idx in range(self.num_hidden_layers):\n",
    "            self.layers.append(RelGraphConv(\n",
    "                self.h_dim, self.h_dim, self.num_rels, \"basis\",\n",
    "                self.num_bases, activation=F.relu, self_loop=self.use_self_loop,\n",
    "                low_mem=self.low_mem, dropout=self.dropout, layer_norm = layer_norm))\n",
    "        # h2o\n",
    "#         self.layers.append(RelGraphConv(\n",
    "#             self.h_dim, self.out_dim, self.num_rels, \"basis\",\n",
    "#             self.num_bases, activation=None,\n",
    "#             self_loop=self.use_self_loop,\n",
    "#             low_mem=self.low_mem, layer_norm = layer_norm))\n",
    "\n",
    "        self.classifier = nn.Linear(self.h_dim, self.out_dim)\n",
    "\n",
    "    def forward(self, blocks, input_nodes):\n",
    "        \n",
    "        H=self.node_embed(input_nodes)\n",
    "        \n",
    "        if not isinstance(blocks,list):\n",
    "            # full graph training\n",
    "            for layer in self.layers:\n",
    "                H = layer(blocks, H)\n",
    "            \n",
    "        else:\n",
    "            for layer, block in zip(self.layers, blocks):\n",
    "                block = block\n",
    "                H = layer(block, H, block.edata['etype'], block.edata['norm'])\n",
    "        \n",
    "        logits = self.classifier(H)\n",
    "        \n",
    "        return logits, H\n",
    "\n",
    "def lift_gain_eval(logit,label,topk):\n",
    "    DF=pd.DataFrame(columns=[\"pred_score\",\"actual_label\"])\n",
    "    DF[\"pred_score\"]=logit\n",
    "    DF[\"actual_label\"]=label\n",
    "    DF.sort_values(by=\"pred_score\", ascending=False, inplace=True)\n",
    "    gain={}\n",
    "    for p in topk:\n",
    "        N=math.ceil(int(DF.shape[0]*p))\n",
    "        DF2=DF.nlargest(N,\"pred_score\",keep=\"first\")\n",
    "        gain[str(int(p*100))+\"%\"]=round(DF2.actual_label.sum()/(DF.actual_label.sum()),2)\n",
    "    return gain\n",
    "\n",
    "def get_class_count_weight(y,n_classes):\n",
    "    classes_count=[]\n",
    "    weight=[]\n",
    "    for i in range(n_classes):\n",
    "        count=np.sum(y.squeeze()==i)\n",
    "        classes_count.append(count)\n",
    "        weight.append(len(y)/(n_classes*count))\n",
    "    return classes_count,weight\n",
    "\n",
    "def eval_loop_func(model, loader, labels, device, loss_weight, num_classes):\n",
    "    model.eval()\n",
    "    fin_targets=[]\n",
    "    fin_outputs=[]\n",
    "    losses=[]\n",
    "    for input_nodes, seeds, blocks in tqdm(loader, position=0, leave=True):\n",
    "        blocks = [blk.to(device) for blk in blocks]\n",
    "        seeds = seeds.to(device)\n",
    "        \n",
    "        input_nodes=input_nodes.to(device)\n",
    "\n",
    "        lbl = labels[seeds].squeeze().to(device)\n",
    "        \n",
    "        with th.no_grad():\n",
    "            logits,h = model(blocks,input_nodes)\n",
    "            if loss_weight is None:\n",
    "                loss = F.cross_entropy(logits.view(-1, num_classes), lbl.to(device))\n",
    "            else:\n",
    "                loss = F.cross_entropy(logits.view(-1, num_classes), lbl.to(device),weight=loss_weight.float())        \n",
    "            losses.append(loss.item())\n",
    "        fin_targets.append(lbl.cpu().detach().numpy())\n",
    "        fin_outputs.append(logits.cpu().detach().numpy())\n",
    "    return np.concatenate(fin_outputs), np.concatenate(fin_targets), losses\n",
    "\n",
    "def evaluate(target, predicted):\n",
    "    true_label_mask=[1 if (np.argmax(x)-target[i])==0 else 0 for i,x in enumerate(predicted)]\n",
    "    nb_prediction=len(true_label_mask)\n",
    "    true_prediction=sum(true_label_mask)\n",
    "    false_prediction=nb_prediction-true_prediction\n",
    "    accuracy=true_prediction/nb_prediction\n",
    "    \n",
    "    precision, recall, fscore, support = precision_recall_fscore_support(target, predicted.argmax(axis=1))\n",
    "    auc = roc_auc_score(target.ravel(), th.sigmoid(th.from_numpy(predicted))[:,1].numpy().ravel())\n",
    "    \n",
    "    prec,rec,_ = precision_recall_curve(target.ravel(), th.sigmoid(th.from_numpy(predicted))[:,1].numpy().ravel())\n",
    "    \n",
    "    pr_auc=auc_score(rec,prec)\n",
    "    \n",
    "    arg1=predicted[:,1]\n",
    "    arg2=target\n",
    "    gain = lift_gain_eval(arg1,arg2,topk=[0.01,0.05,0.10])\n",
    "    \n",
    "    return {\n",
    "        \"nb_example\":len(target),\n",
    "        \"true_prediction\":true_prediction,\n",
    "        \"false_prediction\":false_prediction,\n",
    "        \"accuracy\":accuracy,\n",
    "        \"precision\":precision[1], \n",
    "        \"recall\":recall[1], \n",
    "        \"f1_score\":fscore[1],\n",
    "        \"AUC\":auc,\n",
    "        \"pr_auc\":pr_auc,\n",
    "        \"GAIN\":gain\n",
    "    }"
   ]
  },
  {
   "cell_type": "markdown",
   "metadata": {},
   "source": [
    "#### setting"
   ]
  },
  {
   "cell_type": "code",
   "execution_count": 14,
   "metadata": {},
   "outputs": [
    {
     "name": "stdout",
     "output_type": "stream",
     "text": [
      "Namespace(batch_size=10240, dropout=0.2, fanout=None, gpu=0, h_dim=64, l2norm=0.001, layer_norm=True, loss_weight=True, low_mem=True, lr=0.001, n_epochs=3, num_bases=5, num_layers=1, num_mini_batch=8, num_worker=0, out_dim=1, seed=101, use_self_loop=True)\n"
     ]
    }
   ],
   "source": [
    "parser = argparse.ArgumentParser(description='RGCN')\n",
    "parser.add_argument(\"--dropout\", type=float, default=0,\n",
    "        help=\"dropout probability\")\n",
    "parser.add_argument(\"--h_dim\", type=int, default=128,\n",
    "        help=\"number of hidden units\")\n",
    "parser.add_argument(\"--out_dim\", type=int, default=1,\n",
    "        help=\"output dimension\")\n",
    "parser.add_argument(\"--gpu\", type=int, default=0,\n",
    "        help=\"gpu\")\n",
    "parser.add_argument(\"--lr\", type=float, default=1e-5,\n",
    "        help=\"learning rate\")\n",
    "parser.add_argument(\"--num_bases\", type=int, default=-1,\n",
    "        help=\"number of filter weight matrices, default: -1 [use all]\")\n",
    "parser.add_argument(\"--num_layers\", type=int, default=1,\n",
    "        help=\"number of propagation rounds\")\n",
    "parser.add_argument(\"-e\", \"--n_epochs\", type=int, default=1,\n",
    "        help=\"number of training epochs\")\n",
    "parser.add_argument(\"--l2norm\", type=float, default=0,\n",
    "        help=\"l2 norm coef\")\n",
    "parser.add_argument(\"--use_self_loop\", default=True, action='store_true',\n",
    "        help=\"include self feature as a special relation\")\n",
    "parser.add_argument(\"--batch-size\", type=int, default=1024,\n",
    "        help=\"Mini-batch size. If -1, use full graph training.\")\n",
    "parser.add_argument(\"--num_mini_batch\", type=int, default=8,\n",
    "        help=\"Number of minibatch.\")\n",
    "parser.add_argument(\"--fanout\", type=int, default=None,\n",
    "        help=\"Fan-out of neighbor sampling.\")\n",
    "parser.add_argument(\"--seed\",  type=int,default=101,\n",
    "        help=\"random seed for np.random.seed, torch.manual_seed and torch.cuda.manual_seed.\")\n",
    "\n",
    "parser.add_argument(\"--loss_weight\",  type=bool,default=True,  ## number of label=0/number of label=1\n",
    "        help=\"weight for unbalance data\")\n",
    "parser.add_argument(\"--num_worker\",  type=int,default=0,  \n",
    "        help=\"number of worker for neighbor sampling\") \n",
    "parser.add_argument('--low_mem',  action='store_true')\n",
    "parser.add_argument('--layer_norm',  action='store_true')\n",
    "args,unknown=parser.parse_known_args()\n",
    "\n",
    "args.num_layers=1\n",
    "args.dropout=0.2\n",
    "args.lr=1e-3\n",
    "args.l2norm=1e-3\n",
    "args.n_epochs=3\n",
    "args.num_bases=5\n",
    "args.h_dim=64\n",
    "args.batch_size=1024*10\n",
    "args.low_mem=True\n",
    "args.layer_norm=True\n",
    "print(args)"
   ]
  },
  {
   "cell_type": "markdown",
   "metadata": {},
   "source": [
    "#### Label"
   ]
  },
  {
   "cell_type": "code",
   "execution_count": 15,
   "metadata": {},
   "outputs": [
    {
     "data": {
      "text/html": [
       "<style  type=\"text/css\" >\n",
       "</style><table id=\"T_9c41442c_01e5_11ec_92f6_0242ac110003\" ><thead>    <tr>        <th class=\"blank level0\" ></th>        <th class=\"col_heading level0 col0\" >Auto or Not</th>        <th class=\"col_heading level0 col1\" >count</th>        <th class=\"col_heading level0 col2\" >weight</th>    </tr></thead><tbody>\n",
       "                <tr>\n",
       "                        <th id=\"T_9c41442c_01e5_11ec_92f6_0242ac110003level0_row0\" class=\"row_heading level0 row0\" >0</th>\n",
       "                        <td id=\"T_9c41442c_01e5_11ec_92f6_0242ac110003row0_col0\" class=\"data row0 col0\" >No</td>\n",
       "                        <td id=\"T_9c41442c_01e5_11ec_92f6_0242ac110003row0_col1\" class=\"data row0 col1\" >19,358,913</td>\n",
       "                        <td id=\"T_9c41442c_01e5_11ec_92f6_0242ac110003row0_col2\" class=\"data row0 col2\" >0.66</td>\n",
       "            </tr>\n",
       "            <tr>\n",
       "                        <th id=\"T_9c41442c_01e5_11ec_92f6_0242ac110003level0_row1\" class=\"row_heading level0 row1\" >1</th>\n",
       "                        <td id=\"T_9c41442c_01e5_11ec_92f6_0242ac110003row1_col0\" class=\"data row1 col0\" >Yes</td>\n",
       "                        <td id=\"T_9c41442c_01e5_11ec_92f6_0242ac110003row1_col1\" class=\"data row1 col1\" >6,309,591</td>\n",
       "                        <td id=\"T_9c41442c_01e5_11ec_92f6_0242ac110003row1_col2\" class=\"data row1 col2\" >2.03</td>\n",
       "            </tr>\n",
       "    </tbody></table>"
      ],
      "text/plain": [
       "<pandas.io.formats.style.Styler at 0x7f09e02b3fd0>"
      ]
     },
     "execution_count": 15,
     "metadata": {},
     "output_type": "execute_result"
    }
   ],
   "source": [
    "y=binary_label.squeeze().numpy()\n",
    "n_classes=th.unique(binary_label).shape[0]\n",
    "classes_count,weight=get_class_count_weight(y,n_classes)\n",
    "imbalance_classes={}\n",
    "# imbalance_classes[\"category\"]=th.unique(binary_label).tolist()\n",
    "imbalance_classes[\"Auto or Not\"]=[\"No\",\"Yes\"]\n",
    "imbalance_classes[\"count\"]=classes_count\n",
    "imbalance_classes[\"weight\"]=weight\n",
    "imbalance_classes=pd.DataFrame(imbalance_classes)\n",
    "imbalance_classes.style.format({\"count\":\"{:,}\",\"weight\":\"{:.2f}\"})"
   ]
  },
  {
   "cell_type": "code",
   "execution_count": 16,
   "metadata": {},
   "outputs": [
    {
     "data": {
      "text/plain": [
       "<matplotlib.axes._subplots.AxesSubplot at 0x7f09e02b3080>"
      ]
     },
     "execution_count": 16,
     "metadata": {},
     "output_type": "execute_result"
    },
    {
     "data": {
      "image/png": "[encoded data removed]",
      "text/plain": [
       "<Figure size 360x288 with 1 Axes>"
      ]
     },
     "metadata": {
      "needs_background": "light"
     },
     "output_type": "display_data"
    }
   ],
   "source": [
    "import seaborn as sns\n",
    "sns.barplot(x=\"Auto or Not\",y=\"count\",data=imbalance_classes)"
   ]
  },
  {
   "cell_type": "markdown",
   "metadata": {},
   "source": [
    "#### setting up training, validation and test set "
   ]
  },
  {
   "cell_type": "code",
   "execution_count": 17,
   "metadata": {},
   "outputs": [
    {
     "name": "stdout",
     "output_type": "stream",
     "text": [
      "Training set    20,534,804\n",
      "validation set  2,566,850 \n",
      "test set        2,566,850 \n"
     ]
    }
   ],
   "source": [
    "train_idx=th.nonzero(train_mask.squeeze()).numpy()\n",
    "val_idx=th.nonzero(val_mask.squeeze()).numpy()\n",
    "test_idx=th.nonzero(test_mask.squeeze()).numpy()\n",
    "\n",
    "train_idx=th.from_numpy(train_idx).squeeze()    \n",
    "val_idx=th.from_numpy(val_idx).squeeze()    \n",
    "test_idx=th.from_numpy(test_idx).squeeze()\n",
    "\n",
    "train_label=binary_label[train_idx].squeeze().numpy()\n",
    "val_label=binary_label[val_idx].squeeze().numpy()\n",
    "test_label=binary_label[test_idx].squeeze().numpy()\n",
    "\n",
    "print('{:<15} {:<10,}'.format(\"Training set\",train_idx.shape[0]))\n",
    "print('{:<15} {:<10,}'.format(\"validation set\",val_idx.shape[0]))\n",
    "print('{:<15} {:<10,}'.format(\"test set\",test_idx.shape[0]))"
   ]
  },
  {
   "cell_type": "code",
   "execution_count": 18,
   "metadata": {},
   "outputs": [
    {
     "name": "stdout",
     "output_type": "stream",
     "text": [
      "cuda:0\n"
     ]
    }
   ],
   "source": [
    "##### check cuda\n",
    "device=\"cpu\"\n",
    "use_cuda=args.gpu>=0 and th.cuda.is_available()\n",
    "if use_cuda:\n",
    "    th.cuda.set_device(args.gpu)\n",
    "    device='cuda:%d' % args.gpu\n",
    "print(device)"
   ]
  },
  {
   "cell_type": "code",
   "execution_count": 19,
   "metadata": {},
   "outputs": [],
   "source": [
    "num_classes=th.unique(th.from_numpy(train_label)).shape[0]\n",
    "if args.loss_weight:\n",
    "    train_classes_num, train_classes_weight = get_class_count_weight(train_label,num_classes)\n",
    "    loss_weight=th.tensor(train_classes_weight).to(device)\n",
    "else:\n",
    "    loss_weight=None"
   ]
  },
  {
   "cell_type": "code",
   "execution_count": 20,
   "metadata": {},
   "outputs": [
    {
     "data": {
      "text/plain": [
       "ModuleList(\n",
       "  (0): RelGraphConv(\n",
       "    (layer_norm_weight): LayerNorm((64,), eps=1e-05, elementwise_affine=True)\n",
       "    (dropout): Dropout(p=0.2, inplace=False)\n",
       "  )\n",
       "  (1): RelGraphConv(\n",
       "    (layer_norm_weight): LayerNorm((64,), eps=1e-05, elementwise_affine=True)\n",
       "    (dropout): Dropout(p=0.2, inplace=False)\n",
       "  )\n",
       ")"
      ]
     },
     "execution_count": 20,
     "metadata": {},
     "output_type": "execute_result"
    }
   ],
   "source": [
    "num_rels=g.edata['etype'].long().unique().max().item()+1\n",
    "num_nodes=g.num_nodes()\n",
    "\n",
    "# create model\n",
    "model = EntityClassify(g,\n",
    "                       feat_list,\n",
    "                       args.h_dim,\n",
    "                       n_classes,\n",
    "                       num_rels,\n",
    "                       num_bases=args.num_bases,\n",
    "                       num_hidden_layers=args.num_layers,\n",
    "                       dropout=args.dropout,\n",
    "                       use_self_loop=args.use_self_loop,\n",
    "                       low_mem=args.low_mem,\n",
    "                       layer_norm=args.layer_norm)\n",
    "if use_cuda:\n",
    "    model.cuda()\n",
    "\n",
    "model.layers"
   ]
  },
  {
   "cell_type": "code",
   "execution_count": 21,
   "metadata": {},
   "outputs": [],
   "source": [
    "optimizer = th.optim.Adam(model.parameters(), lr=args.lr, weight_decay=args.l2norm)"
   ]
  },
  {
   "cell_type": "code",
   "execution_count": 22,
   "metadata": {},
   "outputs": [
    {
     "name": "stdout",
     "output_type": "stream",
     "text": [
      "The number of minibatch in training set is 2,006\n",
      "The number of minibatch in validation set is 251\n",
      "The number of minibatch in test set is 251\n"
     ]
    }
   ],
   "source": [
    "# train sampler\n",
    "sampler = dgl.dataloading.MultiLayerNeighborSampler([args.fanout] * args.num_layers)\n",
    "train_loader = dgl.dataloading.NodeDataLoader(\n",
    "    g, train_idx, sampler,\n",
    "    batch_size=args.batch_size, shuffle=True, num_workers=args.num_worker)\n",
    "# validation sampler\n",
    "# we do not use full neighbor to save computation resources\n",
    "val_sampler = dgl.dataloading.MultiLayerNeighborSampler([args.fanout] * args.num_layers)\n",
    "val_loader = dgl.dataloading.NodeDataLoader(\n",
    "    g, val_idx, val_sampler,\n",
    "    batch_size=args.batch_size, shuffle=False, num_workers=args.num_worker)\n",
    "\n",
    "test_sampler = dgl.dataloading.MultiLayerNeighborSampler([args.fanout] * args.num_layers)\n",
    "test_loader = dgl.dataloading.NodeDataLoader(\n",
    "    g, test_idx, test_sampler,\n",
    "    batch_size=args.batch_size, shuffle=False, num_workers=args.num_worker)\n",
    "\n",
    "print(\"The number of minibatch in training set is {:,}\".format(len(train_loader)))\n",
    "print(\"The number of minibatch in validation set is {:,}\".format(len(val_loader)))\n",
    "print(\"The number of minibatch in test set is {:,}\".format(len(test_loader)))"
   ]
  },
  {
   "cell_type": "code",
   "execution_count": 23,
   "metadata": {},
   "outputs": [
    {
     "name": "stdout",
     "output_type": "stream",
     "text": [
      "The total # of parameter is 66,874\n"
     ]
    }
   ],
   "source": [
    "print(\"The total # of parameter is {:,}\".format(sum([p.nelement() for p in model.parameters()]) ) )"
   ]
  },
  {
   "cell_type": "code",
   "execution_count": 24,
   "metadata": {},
   "outputs": [
    {
     "name": "stdout",
     "output_type": "stream",
     "text": [
      "node_embed.emb.usaayr.weight                                          5,440          \n",
      "node_embed.emb.AGE_BAND.weight                                        448            \n",
      "node_embed.emb.ORIGEL.weight                                          2,752          \n",
      "node_embed.emb.ELIG2.weight                                           384            \n",
      "node_embed.emb.SEX.weight                                             320            \n",
      "node_embed.emb.MARST.weight                                           640            \n",
      "node_embed.emb.BRANCH.weight                                          1,088          \n",
      "node_embed.emb.ENLPAYGD.weight                                        1,600          \n",
      "node_embed.emb.MILST.weight                                           512            \n",
      "node_embed.emb.MLIST_OrigStat.weight                                  192            \n",
      "node_embed.emb.STATE.weight                                           3,712          \n",
      "layers.0.weight                                                       20,480         \n",
      "layers.0.w_comp                                                       60             \n",
      "layers.0.h_bias                                                       64             \n",
      "layers.0.loop_weight                                                  4,096          \n",
      "layers.0.layer_norm_weight.weight                                     64             \n",
      "layers.0.layer_norm_weight.bias                                       64             \n",
      "layers.1.weight                                                       20,480         \n",
      "layers.1.w_comp                                                       60             \n",
      "layers.1.h_bias                                                       64             \n",
      "layers.1.loop_weight                                                  4,096          \n",
      "layers.1.layer_norm_weight.weight                                     64             \n",
      "layers.1.layer_norm_weight.bias                                       64             \n",
      "classifier.weight                                                     128            \n",
      "classifier.bias                                                       2              \n"
     ]
    }
   ],
   "source": [
    "param_dict={n: p.nelement() for n, p in model.named_parameters()}\n",
    "for i,j in param_dict.items():\n",
    "    print(\"{:<70}{:<15,}\".format(i,j))"
   ]
  },
  {
   "cell_type": "code",
   "execution_count": 25,
   "metadata": {},
   "outputs": [
    {
     "name": "stderr",
     "output_type": "stream",
     "text": [
      "  0%|          | 0/3 [00:00<?, ?it/s]"
     ]
    },
    {
     "name": "stdout",
     "output_type": "stream",
     "text": [
      "start training...\n",
      "\n",
      "========= Epoch 1 /3\n",
      "Training...\n",
      "Batch 200 of 2006 | Loss 0.394  | Elapsed: 0:00:46\n",
      "Batch 400 of 2006 | Loss 0.380  | Elapsed: 0:01:21\n",
      "Batch 600 of 2006 | Loss 0.372  | Elapsed: 0:02:11\n",
      "Batch 800 of 2006 | Loss 0.369  | Elapsed: 0:03:20\n",
      "Batch 1000 of 2006 | Loss 0.367  | Elapsed: 0:04:12\n",
      "Batch 1200 of 2006 | Loss 0.366  | Elapsed: 0:05:16\n",
      "Batch 1400 of 2006 | Loss 0.365  | Elapsed: 0:06:43\n",
      "Batch 1600 of 2006 | Loss 0.362  | Elapsed: 0:07:15\n",
      "Batch 1800 of 2006 | Loss 0.362  | Elapsed: 0:08:12\n",
      "Batch 2000 of 2006 | Loss 0.361  | Elapsed: 0:09:13\n"
     ]
    },
    {
     "name": "stderr",
     "output_type": "stream",
     "text": [
      "  0%|          | 0/2006 [00:00<?, ?it/s]"
     ]
    },
    {
     "name": "stdout",
     "output_type": "stream",
     "text": [
      "\n",
      "\n",
      "Running Validation on training set\n",
      "\n"
     ]
    },
    {
     "name": "stderr",
     "output_type": "stream",
     "text": [
      "100%|██████████| 2006/2006 [02:06<00:00, 15.83it/s]\n",
      "  0%|          | 0/251 [00:00<?, ?it/s]"
     ]
    },
    {
     "name": "stdout",
     "output_type": "stream",
     "text": [
      "avg_loss: 0.49 | True_Prediction: 16,997,770 | False_Prediction: 3,537,034 | accuracy: 82.78% |  precision: 67.38% | recall: 58.02% | F1_score: 62.35% | Gain_top-10%: 0.3 |    ROC_AUC: 88.0% | PR_AUC: 69.5% | Elapsed: 0:05:34\n",
      "\n",
      "\n",
      "Running Validation on validation set\n",
      "\n"
     ]
    },
    {
     "name": "stderr",
     "output_type": "stream",
     "text": [
      "100%|██████████| 251/251 [00:13<00:00, 18.13it/s]\n",
      " 33%|███▎      | 1/3 [15:13<30:26, 913.50s/it]"
     ]
    },
    {
     "name": "stdout",
     "output_type": "stream",
     "text": [
      "avg_loss: 0.49 | True_Prediction: 2,124,463 | False_Prediction: 442,387 | accuracy: 82.77% |  precision: 67.37% | recall: 57.95% | F1_score: 62.31% | Gain_top-10%: 0.3 |    ROC_AUC: 88.0% | PR_AUC: 69.5% | Elapsed: 0:00:27\n",
      "\n",
      "========= Epoch 2 /3\n",
      "Training...\n",
      "Batch 200 of 2006 | Loss 0.360  | Elapsed: 0:00:38\n",
      "Batch 400 of 2006 | Loss 0.361  | Elapsed: 0:01:16\n",
      "Batch 600 of 2006 | Loss 0.358  | Elapsed: 0:01:42\n",
      "Batch 800 of 2006 | Loss 0.357  | Elapsed: 0:02:25\n",
      "Batch 1000 of 2006 | Loss 0.359  | Elapsed: 0:02:52\n",
      "Batch 1200 of 2006 | Loss 0.360  | Elapsed: 0:03:41\n",
      "Batch 1400 of 2006 | Loss 0.356  | Elapsed: 0:04:12\n",
      "Batch 1600 of 2006 | Loss 0.359  | Elapsed: 0:05:05\n",
      "Batch 1800 of 2006 | Loss 0.360  | Elapsed: 0:05:32\n",
      "Batch 2000 of 2006 | Loss 0.357  | Elapsed: 0:06:02\n"
     ]
    },
    {
     "name": "stderr",
     "output_type": "stream",
     "text": [
      "  0%|          | 0/2006 [00:00<?, ?it/s]"
     ]
    },
    {
     "name": "stdout",
     "output_type": "stream",
     "text": [
      "\n",
      "\n",
      "Running Validation on training set\n",
      "\n"
     ]
    },
    {
     "name": "stderr",
     "output_type": "stream",
     "text": [
      "100%|██████████| 2006/2006 [02:36<00:00, 12.85it/s]  \n",
      "  0%|          | 1/251 [00:00<00:27,  9.14it/s]"
     ]
    },
    {
     "name": "stdout",
     "output_type": "stream",
     "text": [
      "avg_loss: 0.52 | True_Prediction: 17,011,609 | False_Prediction: 3,523,195 | accuracy: 82.84% |  precision: 71.49% | recall: 50.24% | F1_score: 59.01% | Gain_top-10%: 0.3 |    ROC_AUC: 88.2% | PR_AUC: 69.9% | Elapsed: 0:04:25\n",
      "\n",
      "\n",
      "Running Validation on validation set\n",
      "\n"
     ]
    },
    {
     "name": "stderr",
     "output_type": "stream",
     "text": [
      "100%|██████████| 251/251 [00:12<00:00, 20.64it/s]\n",
      " 67%|██████▋   | 2/3 [27:10<14:14, 854.43s/it]"
     ]
    },
    {
     "name": "stdout",
     "output_type": "stream",
     "text": [
      "avg_loss: 0.52 | True_Prediction: 2,126,373 | False_Prediction: 440,477 | accuracy: 82.84% |  precision: 71.49% | recall: 50.22% | F1_score: 59.00% | Gain_top-10%: 0.3 |    ROC_AUC: 88.2% | PR_AUC: 69.9% | Elapsed: 0:00:25\n",
      "\n",
      "========= Epoch 3 /3\n",
      "Training...\n",
      "Batch 200 of 2006 | Loss 0.360  | Elapsed: 0:00:33\n",
      "Batch 400 of 2006 | Loss 0.358  | Elapsed: 0:01:02\n",
      "Batch 600 of 2006 | Loss 0.357  | Elapsed: 0:01:48\n",
      "Batch 800 of 2006 | Loss 0.360  | Elapsed: 0:02:17\n",
      "Batch 1000 of 2006 | Loss 0.358  | Elapsed: 0:02:44\n",
      "Batch 1200 of 2006 | Loss 0.358  | Elapsed: 0:03:35\n",
      "Batch 1400 of 2006 | Loss 0.355  | Elapsed: 0:04:03\n",
      "Batch 1600 of 2006 | Loss 0.359  | Elapsed: 0:04:35\n",
      "Batch 1800 of 2006 | Loss 0.354  | Elapsed: 0:05:10\n",
      "Batch 2000 of 2006 | Loss 0.358  | Elapsed: 0:07:00\n"
     ]
    },
    {
     "name": "stderr",
     "output_type": "stream",
     "text": [
      "  0%|          | 0/2006 [00:00<?, ?it/s]"
     ]
    },
    {
     "name": "stdout",
     "output_type": "stream",
     "text": [
      "\n",
      "\n",
      "Running Validation on training set\n",
      "\n"
     ]
    },
    {
     "name": "stderr",
     "output_type": "stream",
     "text": [
      "100%|██████████| 2006/2006 [02:07<00:00, 15.73it/s]\n",
      "  0%|          | 0/251 [00:00<?, ?it/s]"
     ]
    },
    {
     "name": "stdout",
     "output_type": "stream",
     "text": [
      "avg_loss: 0.51 | True_Prediction: 17,041,397 | False_Prediction: 3,493,407 | accuracy: 82.99% |  precision: 70.40% | recall: 53.14% | F1_score: 60.56% | Gain_top-10%: 0.3 |    ROC_AUC: 88.2% | PR_AUC: 70.1% | Elapsed: 0:11:57\n",
      "\n",
      "\n",
      "Running Validation on validation set\n",
      "\n"
     ]
    },
    {
     "name": "stderr",
     "output_type": "stream",
     "text": [
      "100%|██████████| 251/251 [00:16<00:00, 14.80it/s]\n",
      "100%|██████████| 3/3 [47:33<00:00, 951.20s/it]\n",
      "  1%|          | 2/251 [00:00<00:23, 10.65it/s]"
     ]
    },
    {
     "name": "stdout",
     "output_type": "stream",
     "text": [
      "avg_loss: 0.51 | True_Prediction: 2,130,358 | False_Prediction: 436,492 | accuracy: 83.00% |  precision: 70.44% | recall: 53.10% | F1_score: 60.56% | Gain_top-10%: 0.3 |    ROC_AUC: 88.2% | PR_AUC: 70.1% | Elapsed: 0:00:30\n",
      "\n",
      "\n",
      "Running Validation in Test Dataset\n",
      "\n"
     ]
    },
    {
     "name": "stderr",
     "output_type": "stream",
     "text": [
      "100%|██████████| 251/251 [00:11<00:00, 20.99it/s]\n"
     ]
    },
    {
     "name": "stdout",
     "output_type": "stream",
     "text": [
      "avg_loss: 0.51 | True_Prediction: 2,130,545 | False_Prediction: 436,305 | accuracy: 83.00% |  precision: 70.40% | recall: 53.24% | F1_score: 60.63% | Gain_top-10%: 0.3 |ROC_AUC: 88.3% | PR_AUC: 70.1% | Elapsed: 0:00:25\n"
     ]
    }
   ],
   "source": [
    "# %pdb\n",
    "LOSS_EPOCH=[]\n",
    "LABEL_TRAIN=[]\n",
    "\n",
    "# training loop\n",
    "print(\"start training...\")\n",
    "\n",
    "total_loss=0\n",
    "losses=[]\n",
    "\n",
    "LOGIT_train=[]\n",
    "LABEL_train=[]\n",
    "\n",
    "# th.manual_seed(args.seed)\n",
    "# th.cuda.manual_seed(args.seed)\n",
    "# th.cuda.manual_seed_all(args.seed)\n",
    "# np.ranom.seed(args.seed)\n",
    "# random.seed(args.seed)\n",
    "# th.backends.cudnn.deterministic=True\n",
    "\n",
    "for epoch in tqdm(range(0,args.n_epochs)):\n",
    "    \n",
    "    model.train()\n",
    "    IDX=[]\n",
    "    H=[]\n",
    "    \n",
    "    #====================================#\n",
    "    #            Traning                 #\n",
    "    #====================================#\n",
    "    print(\"\")\n",
    "    print(\"========= Epoch {:} /{:}\".format(epoch+1,args.n_epochs))\n",
    "    print(\"Training...\")\n",
    "    t0 = time.time()\n",
    "    for step, (input_nodes, seeds, blocks) in enumerate(train_loader):\n",
    "        blocks = [blk.to(device) for blk in blocks]\n",
    "        \n",
    "        seeds=seeds.to(device)\n",
    "        \n",
    "        labels_train=binary_label[seeds].to(device)       \n",
    "        \n",
    "        input_nodes=input_nodes.to(device)\n",
    "        \n",
    "        logits,h = model(blocks,input_nodes)\n",
    "        optimizer.zero_grad()\n",
    "    \n",
    "        if args.loss_weight :\n",
    "            loss = F.cross_entropy(logits.view(-1, num_classes), labels_train.squeeze().to(device))\n",
    "        else:\n",
    "            loss = F.cross_entropy(logits.view(-1, num_classes), labels_train.squeeze().to(device),weight=loss_weight.to(device))\n",
    "        \n",
    "        total_loss+=loss.item()\n",
    "        loss.backward()\n",
    "        optimizer.step()\n",
    "        losses.append(loss.item())\n",
    "        \n",
    "        arg1=logits[:,1].detach().cpu().numpy()\n",
    "        arg2=labels_train.cpu().numpy()\n",
    "                \n",
    "        train_gain = lift_gain_eval(arg1,arg2,topk=[0.01,0.05,0.10])\n",
    "        \n",
    "        train_acc = th.sum(logits.argmax(dim=1) == labels_train).item() / len(seeds)\n",
    "        precision, recall, fscore, support = precision_recall_fscore_support(labels_train.cpu().numpy(), logits.argmax(dim=1).cpu().numpy())\n",
    "\n",
    "        try:\n",
    "            train_auc = roc_auc_score(labels_train.detach().cpu().numpy().ravel(), th.sigmoid(logits)[:,1].detach().cpu().numpy().ravel())\n",
    "        except ValueError:\n",
    "            pass\n",
    "        \n",
    "        prec,rec,_ = precision_recall_curve(labels_train.detach().cpu().numpy().ravel(), th.sigmoid(logits)[:,1].detach().cpu().numpy().ravel())\n",
    "        if math.isnan(rec[0])==False:\n",
    "            train_pr_auc=auc_score(rec,prec)\n",
    "\n",
    "        IDX.extend(seeds.detach().cpu().numpy().tolist())\n",
    "        H.extend(h.detach().cpu().numpy().tolist())\n",
    "        LOGIT_train.extend(logits.detach().cpu().numpy().tolist())\n",
    "        LABEL_train.extend(binary_label[blocks[-1].dstdata[dgl.NID].cpu().numpy()].tolist())\n",
    "        \n",
    "        if step%(len(train_loader)//10)==0 and not step==0:\n",
    "\n",
    "            t1 = time.time()\n",
    "            elapsed=utils.format_time(t1-t0)\n",
    "            print(\"Batch {:} of {:} | Loss {:.3f}  | Elapsed: {:}\".\\\n",
    "                  format(step,len(train_loader),np.mean(losses[-10:]),elapsed)) \n",
    "            \n",
    "    LOSS_EPOCH.append(loss)\n",
    "\n",
    "    LABEL_TRAIN.append(binary_label[blocks[-1].ndata[dgl.NID]['_N'].cpu().numpy()])\n",
    "\n",
    "\n",
    "    model.eval()\n",
    "    print()\n",
    "    print(\"\")\n",
    "    print(\"Running Validation on training set\")\n",
    "    print(\"\")\n",
    "    fin_outputs, fin_targets, losses_tmp=eval_loop_func(model, train_loader, binary_label,  device, loss_weight, num_classes)\n",
    "    \n",
    "    avg_loss_train=np.mean(losses_tmp)\n",
    "    \n",
    "    tmp_mean_pool_train=evaluate(fin_targets.reshape(-1),fin_outputs)\n",
    "    \n",
    "    t2=time.time()\n",
    "    \n",
    "    print(\"avg_loss: {:.2f} | True_Prediction: {:,} | False_Prediction: {:,} | accuracy: {:.2%} |  precision: {:.2%} | recall: {:.2%} | F1_score: {:.2%} | Gain_top-10%: {:.1f} |\\\n",
    "    ROC_AUC: {:.1%} | PR_AUC: {:.1%} | Elapsed: {:}\".format(avg_loss_train, tmp_mean_pool_train[\"true_prediction\"], tmp_mean_pool_train[\"false_prediction\"], tmp_mean_pool_train[\"accuracy\"], \\\n",
    "                                                            tmp_mean_pool_train[\"precision\"], tmp_mean_pool_train[\"recall\"], tmp_mean_pool_train[\"f1_score\"], tmp_mean_pool_train[\"GAIN\"]['10%'], \\\n",
    "                                                            tmp_mean_pool_train[\"AUC\"], tmp_mean_pool_train[\"pr_auc\"], utils.format_time(t2-t1)))\n",
    "\n",
    "    #====================================#\n",
    "    #            Validation-set          #\n",
    "    #====================================#\n",
    "    \n",
    "    model.eval()\n",
    "    print()\n",
    "    print(\"\")\n",
    "    print(\"Running Validation on validation set\")\n",
    "    print(\"\")\n",
    "    \n",
    "    fin_outputs, fin_targets, losses_tmp=eval_loop_func(model, val_loader, binary_label,  device, loss_weight, num_classes)\n",
    "    \n",
    "    avg_loss_val=np.mean(losses_tmp)\n",
    "    \n",
    "    tmp_mean_pool_val=evaluate(fin_targets.reshape(-1),fin_outputs)\n",
    "    \n",
    "    t3=time.time()\n",
    "    \n",
    "    print(\"avg_loss: {:.2f} | True_Prediction: {:,} | False_Prediction: {:,} | accuracy: {:.2%} |  precision: {:.2%} | recall: {:.2%} | F1_score: {:.2%} | Gain_top-10%: {:.1f} |\\\n",
    "    ROC_AUC: {:.1%} | PR_AUC: {:.1%} | Elapsed: {:}\".format(avg_loss_val, tmp_mean_pool_val[\"true_prediction\"], tmp_mean_pool_val[\"false_prediction\"], tmp_mean_pool_val[\"accuracy\"], \\\n",
    "                                                            tmp_mean_pool_val[\"precision\"], tmp_mean_pool_val[\"recall\"], tmp_mean_pool_val[\"f1_score\"], tmp_mean_pool_val[\"GAIN\"]['10%'], \\\n",
    "                                                            tmp_mean_pool_val[\"AUC\"], tmp_mean_pool_val[\"pr_auc\"], utils.format_time(t3-t2)))\n",
    "    \n",
    "# if args.model_path is not None:\n",
    "#     th.save(model.state_dict(), args.model_path)\n",
    "    \n",
    "#====================================#\n",
    "#            Test-set                #\n",
    "#====================================#\n",
    "print()\n",
    "print(\"\")\n",
    "print(\"Running Validation in Test Dataset\")\n",
    "print(\"\")\n",
    "model.eval()\n",
    "\n",
    "fin_outputs, fin_targets, losses_tmp=eval_loop_func(model, test_loader, binary_label,  device, loss_weight, num_classes)\n",
    "    \n",
    "avg_loss_test=np.mean(losses_tmp)\n",
    "\n",
    "tmp_mean_pool_test=evaluate(fin_targets.reshape(-1),fin_outputs)\n",
    "\n",
    "t4=time.time()\n",
    "\n",
    "print(\"avg_loss: {:.2f} | True_Prediction: {:,} | False_Prediction: {:,} | accuracy: {:.2%} |  precision: {:.2%} | recall: {:.2%} | F1_score: {:.2%} | Gain_top-10%: {:.1f} |\\\n",
    "ROC_AUC: {:.1%} | PR_AUC: {:.1%} | Elapsed: {:}\".format(avg_loss_test, tmp_mean_pool_test[\"true_prediction\"], tmp_mean_pool_test[\"false_prediction\"], tmp_mean_pool_test[\"accuracy\"], \\\n",
    "                                                        tmp_mean_pool_test[\"precision\"], tmp_mean_pool_test[\"recall\"], tmp_mean_pool_test[\"f1_score\"], tmp_mean_pool_test[\"GAIN\"]['10%'], \\\n",
    "                                                        tmp_mean_pool_test[\"AUC\"], tmp_mean_pool_test[\"pr_auc\"], utils.format_time(t4-t3)))\n"
   ]
  },
  {
   "cell_type": "code",
   "execution_count": 26,
   "metadata": {},
   "outputs": [
    {
     "data": {
      "text/plain": [
       "{'nb_example': 20534804,\n",
       " 'true_prediction': 17041397,\n",
       " 'false_prediction': 3493407,\n",
       " 'accuracy': 0.8298787268678094,\n",
       " 'precision': 0.7039539295222259,\n",
       " 'recall': 0.5313935748215068,\n",
       " 'f1_score': 0.6056216470315169,\n",
       " 'AUC': 0.8824745259146608,\n",
       " 'pr_auc': 0.700638623330974,\n",
       " 'GAIN': {'1%': 0.04, '5%': 0.17, '10%': 0.32}}"
      ]
     },
     "execution_count": 26,
     "metadata": {},
     "output_type": "execute_result"
    }
   ],
   "source": [
    "tmp_mean_pool_train"
   ]
  },
  {
   "cell_type": "code",
   "execution_count": 27,
   "metadata": {},
   "outputs": [
    {
     "data": {
      "text/plain": [
       "{'nb_example': 2566850,\n",
       " 'true_prediction': 2130358,\n",
       " 'false_prediction': 436492,\n",
       " 'accuracy': 0.8299503282233087,\n",
       " 'precision': 0.7044236587216991,\n",
       " 'recall': 0.5310281650630231,\n",
       " 'f1_score': 0.6055578950412343,\n",
       " 'AUC': 0.8824690385470161,\n",
       " 'pr_auc': 0.7014102786876544,\n",
       " 'GAIN': {'1%': 0.04, '5%': 0.17, '10%': 0.32}}"
      ]
     },
     "execution_count": 27,
     "metadata": {},
     "output_type": "execute_result"
    }
   ],
   "source": [
    "tmp_mean_pool_val"
   ]
  },
  {
   "cell_type": "code",
   "execution_count": 28,
   "metadata": {},
   "outputs": [
    {
     "data": {
      "text/plain": [
       "{'nb_example': 2566850,\n",
       " 'true_prediction': 2130545,\n",
       " 'false_prediction': 436305,\n",
       " 'accuracy': 0.8300231801624559,\n",
       " 'precision': 0.7039671395938555,\n",
       " 'recall': 0.5323832451870882,\n",
       " 'f1_score': 0.6062687647376794,\n",
       " 'AUC': 0.8826077711002912,\n",
       " 'pr_auc': 0.7012635837925608,\n",
       " 'GAIN': {'1%': 0.04, '5%': 0.17, '10%': 0.32}}"
      ]
     },
     "execution_count": 28,
     "metadata": {},
     "output_type": "execute_result"
    }
   ],
   "source": [
    "tmp_mean_pool_test"
   ]
  },
  {
   "cell_type": "markdown",
   "metadata": {},
   "source": [
    "#### Score Test Dataset"
   ]
  },
  {
   "cell_type": "code",
   "execution_count": 31,
   "metadata": {},
   "outputs": [],
   "source": [
    "if not os.path.exists(\"model_save\"):\n",
    "    os.makedirs(\"model_save\")"
   ]
  },
  {
   "cell_type": "code",
   "execution_count": 32,
   "metadata": {},
   "outputs": [
    {
     "name": "stderr",
     "output_type": "stream",
     "text": [
      "100%|██████████| 251/251 [00:11<00:00, 21.43it/s]\n"
     ]
    },
    {
     "name": "stdout",
     "output_type": "stream",
     "text": [
      "\n",
      "==> Running Validation on validation set \n",
      "\n",
      "\n",
      "True_Prediction: 2,130,545 | False_Prediction: 436,305 | accuracy: 83.00% |  precision: 70.40% | recall: 53.24% | F1_score: 60.63% | Gain_top-10%: 0.3 |ROC_AUC: 88.3% | PR_AUC: 70.1%\n",
      "CPU times: user 1min 55s, sys: 8.95 s, total: 2min 4s\n",
      "Wall time: 26.2 s\n"
     ]
    }
   ],
   "source": [
    "%%time\n",
    "fin_outputs, fin_targets, losses_tmp=eval_loop_func(model, test_loader, binary_label,  device, loss_weight, num_classes)\n",
    "\n",
    "savez_compressed(\"model_save/Conv_LOGIT.npz\", fin_outputs)\n",
    "savez_compressed(\"model_save/Conv_LABEL.npz\", fin_targets)\n",
    "\n",
    "# os.system(\"rm model_save/HGT_LOGIT.npz\")\n",
    "# os.system(\"rm model_save/HGT_LABEL.npz\")\n",
    "\n",
    "fin_logits = load(\"model_save/Conv_LOGIT.npz\")['arr_0']\n",
    "fin_targets = load(\"model_save/Conv_LABEL.npz\")['arr_0']\n",
    "\n",
    "tmp_test=evaluate(fin_targets.reshape(-1),fin_logits)\n",
    "\n",
    "print(\"\")\n",
    "print(\"==> Running Validation on validation set \\n\")\n",
    "print(\"\")\n",
    "\n",
    "print(\"True_Prediction: {:,} | False_Prediction: {:,} | accuracy: {:.2%} |  precision: {:.2%} | recall: {:.2%} | F1_score: {:.2%} | Gain_top-10%: {:.1f} |\\\n",
    "ROC_AUC: {:.1%} | PR_AUC: {:.1%}\".format(tmp_test[\"true_prediction\"], tmp_test[\"false_prediction\"], tmp_test[\"accuracy\"], \\\n",
    "                                                        tmp_test[\"precision\"], tmp_test[\"recall\"], tmp_test[\"f1_score\"], tmp_test[\"GAIN\"]['10%'], \\\n",
    "                                                        tmp_test[\"AUC\"], tmp_test[\"pr_auc\"]))"
   ]
  },
  {
   "cell_type": "code",
   "execution_count": null,
   "metadata": {},
   "outputs": [],
   "source": []
  }
 ],
 "metadata": {
  "kernelspec": {
   "display_name": "Python 3",
   "language": "python",
   "name": "python3"
  },
  "language_info": {
   "codemirror_mode": {
    "name": "ipython",
    "version": 3
   },
   "file_extension": ".py",
   "mimetype": "text/x-python",
   "name": "python",
   "nbconvert_exporter": "python",
   "pygments_lexer": "ipython3",
   "version": "3.6.7"
  }
 },
 "nbformat": 4,
 "nbformat_minor": 4
}
