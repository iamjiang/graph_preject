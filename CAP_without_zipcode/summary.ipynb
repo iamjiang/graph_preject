{
 "cells": [
  {
   "cell_type": "code",
   "execution_count": 1,
   "metadata": {
    "jupyter": {
     "source_hidden": true
    }
   },
   "outputs": [],
   "source": [
    "import pandas as pd"
   ]
  },
  {
   "cell_type": "code",
   "execution_count": 15,
   "metadata": {},
   "outputs": [
    {
     "data": {
      "text/html": [
       "<style  type=\"text/css\" >\n",
       "</style><table id=\"T_76a54bbc_64c6_11eb_b430_0242ac110004\" ><thead>    <tr>        <th class=\"blank level0\" ></th>        <th class=\"col_heading level0 col0\" >model_type</th>        <th class=\"col_heading level0 col1\" >precision (macro)</th>        <th class=\"col_heading level0 col2\" >recall (macro)</th>        <th class=\"col_heading level0 col3\" >f1-score (macro)</th>    </tr></thead><tbody>\n",
       "                <tr>\n",
       "                        <th id=\"T_76a54bbc_64c6_11eb_b430_0242ac110004level0_row0\" class=\"row_heading level0 row0\" >0</th>\n",
       "                        <td id=\"T_76a54bbc_64c6_11eb_b430_0242ac110004row0_col0\" class=\"data row0 col0\" >MLP</td>\n",
       "                        <td id=\"T_76a54bbc_64c6_11eb_b430_0242ac110004row0_col1\" class=\"data row0 col1\" >9.11%</td>\n",
       "                        <td id=\"T_76a54bbc_64c6_11eb_b430_0242ac110004row0_col2\" class=\"data row0 col2\" >12.50%</td>\n",
       "                        <td id=\"T_76a54bbc_64c6_11eb_b430_0242ac110004row0_col3\" class=\"data row0 col3\" >10.54%</td>\n",
       "            </tr>\n",
       "            <tr>\n",
       "                        <th id=\"T_76a54bbc_64c6_11eb_b430_0242ac110004level0_row1\" class=\"row_heading level0 row1\" >1</th>\n",
       "                        <td id=\"T_76a54bbc_64c6_11eb_b430_0242ac110004row1_col0\" class=\"data row1 col0\" >GCN</td>\n",
       "                        <td id=\"T_76a54bbc_64c6_11eb_b430_0242ac110004row1_col1\" class=\"data row1 col1\" >51.95%</td>\n",
       "                        <td id=\"T_76a54bbc_64c6_11eb_b430_0242ac110004row1_col2\" class=\"data row1 col2\" >38.62%</td>\n",
       "                        <td id=\"T_76a54bbc_64c6_11eb_b430_0242ac110004row1_col3\" class=\"data row1 col3\" >38.35%</td>\n",
       "            </tr>\n",
       "            <tr>\n",
       "                        <th id=\"T_76a54bbc_64c6_11eb_b430_0242ac110004level0_row2\" class=\"row_heading level0 row2\" >2</th>\n",
       "                        <td id=\"T_76a54bbc_64c6_11eb_b430_0242ac110004row2_col0\" class=\"data row2 col0\" >GAT</td>\n",
       "                        <td id=\"T_76a54bbc_64c6_11eb_b430_0242ac110004row2_col1\" class=\"data row2 col1\" >53.40%</td>\n",
       "                        <td id=\"T_76a54bbc_64c6_11eb_b430_0242ac110004row2_col2\" class=\"data row2 col2\" >38.69%</td>\n",
       "                        <td id=\"T_76a54bbc_64c6_11eb_b430_0242ac110004row2_col3\" class=\"data row2 col3\" >38.52%</td>\n",
       "            </tr>\n",
       "            <tr>\n",
       "                        <th id=\"T_76a54bbc_64c6_11eb_b430_0242ac110004level0_row3\" class=\"row_heading level0 row3\" >3</th>\n",
       "                        <td id=\"T_76a54bbc_64c6_11eb_b430_0242ac110004row3_col0\" class=\"data row3 col0\" >Graphsage</td>\n",
       "                        <td id=\"T_76a54bbc_64c6_11eb_b430_0242ac110004row3_col1\" class=\"data row3 col1\" >53.54%</td>\n",
       "                        <td id=\"T_76a54bbc_64c6_11eb_b430_0242ac110004row3_col2\" class=\"data row3 col2\" >39.72%</td>\n",
       "                        <td id=\"T_76a54bbc_64c6_11eb_b430_0242ac110004row3_col3\" class=\"data row3 col3\" >40.25%</td>\n",
       "            </tr>\n",
       "            <tr>\n",
       "                        <th id=\"T_76a54bbc_64c6_11eb_b430_0242ac110004level0_row4\" class=\"row_heading level0 row4\" >4</th>\n",
       "                        <td id=\"T_76a54bbc_64c6_11eb_b430_0242ac110004row4_col0\" class=\"data row4 col0\" >HGT</td>\n",
       "                        <td id=\"T_76a54bbc_64c6_11eb_b430_0242ac110004row4_col1\" class=\"data row4 col1\" >58.58%</td>\n",
       "                        <td id=\"T_76a54bbc_64c6_11eb_b430_0242ac110004row4_col2\" class=\"data row4 col2\" >42.04%</td>\n",
       "                        <td id=\"T_76a54bbc_64c6_11eb_b430_0242ac110004row4_col3\" class=\"data row4 col3\" >43.50%</td>\n",
       "            </tr>\n",
       "    </tbody></table>"
      ],
      "text/plain": [
       "<pandas.io.formats.style.Styler at 0x7f4e2d795d30>"
      ]
     },
     "execution_count": 15,
     "metadata": {},
     "output_type": "execute_result"
    }
   ],
   "source": [
    "summary_table_macro={}\n",
    "summary_table_macro['model_type']=['MLP', 'GCN', 'GAT', 'Graphsage', 'HGT']\n",
    "summary_table_macro['precision (macro)']=[0.0911, 0.5195, 0.5340,0.5354, 0.5858]\n",
    "summary_table_macro['recall (macro)']=[0.1250, 0.3862, 0.3869,0.3972, 0.4204]\n",
    "summary_table_macro['f1-score (macro)']=[0.1054, 0.3835, 0.3852,0.4025, 0.4350]\n",
    "summary_table_macro=pd.DataFrame(summary_table_macro)\n",
    "summary_table_macro.style.format({'precision (macro)':'{:.2%}', 'recall (macro)':'{:.2%}', 'f1-score (macro)':'{:.2%}'})"
   ]
  },
  {
   "cell_type": "code",
   "execution_count": 16,
   "metadata": {
    "jupyter": {
     "source_hidden": true
    }
   },
   "outputs": [
    {
     "data": {
      "text/html": [
       "<style  type=\"text/css\" >\n",
       "</style><table id=\"T_7853aac6_64c6_11eb_b430_0242ac110004\" ><thead>    <tr>        <th class=\"blank level0\" ></th>        <th class=\"col_heading level0 col0\" ></th>        <th class=\"col_heading level0 col1\" >precision (weight)</th>        <th class=\"col_heading level0 col2\" >recall (weight)</th>        <th class=\"col_heading level0 col3\" >f1-score (weight)</th>    </tr></thead><tbody>\n",
       "                <tr>\n",
       "                        <th id=\"T_7853aac6_64c6_11eb_b430_0242ac110004level0_row0\" class=\"row_heading level0 row0\" >0</th>\n",
       "                        <td id=\"T_7853aac6_64c6_11eb_b430_0242ac110004row0_col0\" class=\"data row0 col0\" >MLP</td>\n",
       "                        <td id=\"T_7853aac6_64c6_11eb_b430_0242ac110004row0_col1\" class=\"data row0 col1\" >53.15%</td>\n",
       "                        <td id=\"T_7853aac6_64c6_11eb_b430_0242ac110004row0_col2\" class=\"data row0 col2\" >72.90%</td>\n",
       "                        <td id=\"T_7853aac6_64c6_11eb_b430_0242ac110004row0_col3\" class=\"data row0 col3\" >61.48%</td>\n",
       "            </tr>\n",
       "            <tr>\n",
       "                        <th id=\"T_7853aac6_64c6_11eb_b430_0242ac110004level0_row1\" class=\"row_heading level0 row1\" >1</th>\n",
       "                        <td id=\"T_7853aac6_64c6_11eb_b430_0242ac110004row1_col0\" class=\"data row1 col0\" >GCN</td>\n",
       "                        <td id=\"T_7853aac6_64c6_11eb_b430_0242ac110004row1_col1\" class=\"data row1 col1\" >91.26%</td>\n",
       "                        <td id=\"T_7853aac6_64c6_11eb_b430_0242ac110004row1_col2\" class=\"data row1 col2\" >91.78%</td>\n",
       "                        <td id=\"T_7853aac6_64c6_11eb_b430_0242ac110004row1_col3\" class=\"data row1 col3\" >90.62%</td>\n",
       "            </tr>\n",
       "            <tr>\n",
       "                        <th id=\"T_7853aac6_64c6_11eb_b430_0242ac110004level0_row2\" class=\"row_heading level0 row2\" >2</th>\n",
       "                        <td id=\"T_7853aac6_64c6_11eb_b430_0242ac110004row2_col0\" class=\"data row2 col0\" >GAT</td>\n",
       "                        <td id=\"T_7853aac6_64c6_11eb_b430_0242ac110004row2_col1\" class=\"data row2 col1\" >91.42%</td>\n",
       "                        <td id=\"T_7853aac6_64c6_11eb_b430_0242ac110004row2_col2\" class=\"data row2 col2\" >91.74%</td>\n",
       "                        <td id=\"T_7853aac6_64c6_11eb_b430_0242ac110004row2_col3\" class=\"data row2 col3\" >90.55%</td>\n",
       "            </tr>\n",
       "            <tr>\n",
       "                        <th id=\"T_7853aac6_64c6_11eb_b430_0242ac110004level0_row3\" class=\"row_heading level0 row3\" >3</th>\n",
       "                        <td id=\"T_7853aac6_64c6_11eb_b430_0242ac110004row3_col0\" class=\"data row3 col0\" >Graphsage</td>\n",
       "                        <td id=\"T_7853aac6_64c6_11eb_b430_0242ac110004row3_col1\" class=\"data row3 col1\" >91.45%</td>\n",
       "                        <td id=\"T_7853aac6_64c6_11eb_b430_0242ac110004row3_col2\" class=\"data row3 col2\" >91.83%</td>\n",
       "                        <td id=\"T_7853aac6_64c6_11eb_b430_0242ac110004row3_col3\" class=\"data row3 col3\" >90.78%</td>\n",
       "            </tr>\n",
       "            <tr>\n",
       "                        <th id=\"T_7853aac6_64c6_11eb_b430_0242ac110004level0_row4\" class=\"row_heading level0 row4\" >4</th>\n",
       "                        <td id=\"T_7853aac6_64c6_11eb_b430_0242ac110004row4_col0\" class=\"data row4 col0\" >HGT</td>\n",
       "                        <td id=\"T_7853aac6_64c6_11eb_b430_0242ac110004row4_col1\" class=\"data row4 col1\" >91.69%</td>\n",
       "                        <td id=\"T_7853aac6_64c6_11eb_b430_0242ac110004row4_col2\" class=\"data row4 col2\" >92.09%</td>\n",
       "                        <td id=\"T_7853aac6_64c6_11eb_b430_0242ac110004row4_col3\" class=\"data row4 col3\" >91.21%</td>\n",
       "            </tr>\n",
       "    </tbody></table>"
      ],
      "text/plain": [
       "<pandas.io.formats.style.Styler at 0x7f4e2d798198>"
      ]
     },
     "execution_count": 16,
     "metadata": {},
     "output_type": "execute_result"
    }
   ],
   "source": [
    "summary_table_weight={}\n",
    "summary_table_weight['']=['MLP', 'GCN', 'GAT', 'Graphsage', 'HGT']\n",
    "summary_table_weight['precision (weight)']=[0.5315, 0.9126, 0.9142,0.9145, 0.9169]\n",
    "summary_table_weight['recall (weight)']=[0.7290, 0.9178, 0.9174,0.9183, 0.9209]\n",
    "summary_table_weight['f1-score (weight)']=[0.6148, 0.9062, 0.9055,0.9078, 0.9121]\n",
    "summary_table_weight=pd.DataFrame(summary_table_weight)\n",
    "summary_table_weight.style.format({'precision (weight)':'{:.2%}', 'recall (weight)':'{:.2%}', 'f1-score (weight)':'{:.2%}'})"
   ]
  },
  {
   "cell_type": "code",
   "execution_count": null,
   "metadata": {},
   "outputs": [],
   "source": []
  }
 ],
 "metadata": {
  "kernelspec": {
   "display_name": "Python 3",
   "language": "python",
   "name": "python3"
  },
  "language_info": {
   "codemirror_mode": {
    "name": "ipython",
    "version": 3
   },
   "file_extension": ".py",
   "mimetype": "text/x-python",
   "name": "python",
   "nbconvert_exporter": "python",
   "pygments_lexer": "ipython3",
   "version": "3.6.7"
  }
 },
 "nbformat": 4,
 "nbformat_minor": 4
}
