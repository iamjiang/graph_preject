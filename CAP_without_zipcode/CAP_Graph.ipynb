{
 "cells": [
  {
   "cell_type": "code",
   "execution_count": 1,
   "metadata": {},
   "outputs": [],
   "source": [
    "# !pip install --quiet --pre --upgrade dgl-cu101\n",
    "# !pip install --quiet torch==1.6.0"
   ]
  },
  {
   "cell_type": "code",
   "execution_count": 3,
   "metadata": {},
   "outputs": [
    {
     "name": "stderr",
     "output_type": "stream",
     "text": [
      "0it [00:00, ?it/s]"
     ]
    },
    {
     "name": "stdout",
     "output_type": "stream",
     "text": [
      "torch version       1.6.0               \n",
      "DGL version         0.6a210131          \n"
     ]
    },
    {
     "name": "stderr",
     "output_type": "stream",
     "text": [
      "\n"
     ]
    }
   ],
   "source": [
    "import os\n",
    "import numpy as np\n",
    "import pandas as pd\n",
    "import scipy.sparse as sp\n",
    "import time\n",
    "import torch\n",
    "import torch.nn as nn\n",
    "import torch.nn.functional as F\n",
    "import dgl\n",
    "import dgl.function as fn\n",
    "from dgl.nn.pytorch import GATConv\n",
    "# from bipartite_gatconv import BipartiteGATConv\n",
    "from collections import defaultdict\n",
    "from tqdm import tqdm\n",
    "tqdm().pandas()\n",
    "import pickle\n",
    "import seaborn as sns\n",
    "from sklearn.preprocessing import LabelEncoder\n",
    "from sklearn.model_selection import train_test_split\n",
    "\n",
    "import matplotlib.pyplot as plt\n",
    "%matplotlib inline\n",
    "plt.rcParams['figure.figsize']=(5.0,4.0)\n",
    "plt.rcParams['image.interpolation']='nearest'\n",
    "plt.rcParams['image.cmap']='gray'\n",
    "import warnings\n",
    "warnings.filterwarnings('ignore')\n",
    "\n",
    "data_dir=\"/workspace/cjiang/eagle_project/CAP_graph/dataset/\"\n",
    "root_dir=\"/workspace/cjiang/eagle_project/CAP_graph/CAP_without_zipcode/\"\n",
    "\n",
    "os.chdir(root_dir)\n",
    "\n",
    "print(\"{:<20}{:<20}\".format(\"torch version\",torch.__version__))\n",
    "print(\"{:<20}{:<20}\".format(\"DGL version\",dgl.__version__))\n"
   ]
  },
  {
   "cell_type": "markdown",
   "metadata": {},
   "source": [
    "#### Load Dataset"
   ]
  },
  {
   "cell_type": "code",
   "execution_count": 4,
   "metadata": {},
   "outputs": [],
   "source": [
    "def read_csv(data_dir, file):\n",
    "    start=time.time()\n",
    "    df=pd.read_csv(os.path.join(data_dir,file))\n",
    "    df.drop_duplicates(inplace=True)\n",
    "    end=time.time()\n",
    "    print(\"Dataloading running time is {:0.4f}\".format(end-start))\n",
    "    print(\"The Shape of Dataset is {}\".format(df.shape))\n",
    "    return df\n",
    "\n",
    "def to_pickle(data_dir,file_in,file_out):\n",
    "    start=time.time()\n",
    "    file_in.to_pickle(os.path.join(data_dir,file_out))\n",
    "    end=time.time()\n",
    "    print(\"pickle time is {:0.4f}\".format(end-start))\n",
    "    \n",
    "def read_pickle(data_dir,file):\n",
    "    start=time.time()\n",
    "    df=pd.read_pickle(os.path.join(data_dir,file))\n",
    "    end=time.time()\n",
    "    print(\"loading time is {:0.4f}\".format(end-start))\n",
    "    print(\"The Shape of Dataset is {}\".format(df.shape))\n",
    "    return df"
   ]
  },
  {
   "cell_type": "code",
   "execution_count": 5,
   "metadata": {},
   "outputs": [
    {
     "name": "stdout",
     "output_type": "stream",
     "text": [
      "loading time is 5.2505\n",
      "The Shape of Dataset is (45782901, 3)\n"
     ]
    }
   ],
   "source": [
    "# Pers_Edges=read_csv(data_dir, 'Pers_Edges.csv')\n",
    "# to_pickle(data_dir,Pers_Edges,'Pers_Edges_pickle')\n",
    "Pers_Edges=read_pickle(data_dir,'Pers_Edges_pickle')"
   ]
  },
  {
   "cell_type": "code",
   "execution_count": 6,
   "metadata": {},
   "outputs": [
    {
     "name": "stdout",
     "output_type": "stream",
     "text": [
      "loading time is 1.8708\n",
      "The Shape of Dataset is (20819095, 3)\n"
     ]
    }
   ],
   "source": [
    "# Busi_Edges=read_csv(data_dir, 'Busi_Edges.csv')\n",
    "# to_pickle(data_dir,Busi_Edges,'Busi_Edges_pickle')\n",
    "Busi_Edges=read_pickle(data_dir,'Busi_Edges_pickle')"
   ]
  },
  {
   "cell_type": "code",
   "execution_count": 5,
   "metadata": {},
   "outputs": [],
   "source": [
    "# zipcode_Edges=read_csv(data_dir, 'zipcode_Edges.csv')\n",
    "# to_pickle(data_dir,zipcode_Edges,'zipcode_Edges_pickle')\n",
    "# zipcode_Edges=read_pickle(data_dir,'zipcode_Edges_pickle')"
   ]
  },
  {
   "cell_type": "code",
   "execution_count": 7,
   "metadata": {},
   "outputs": [
    {
     "name": "stdout",
     "output_type": "stream",
     "text": [
      "loading time is 4.4591\n",
      "The Shape of Dataset is (35635860, 3)\n"
     ]
    }
   ],
   "source": [
    "# Product_Edges=read_csv(data_dir, 'Product_Edges.csv')\n",
    "# to_pickle(data_dir,Product_Edges,'Product_Edges_pickle')\n",
    "Product_Edges=read_pickle(data_dir,'Product_Edges_pickle')"
   ]
  },
  {
   "cell_type": "code",
   "execution_count": 8,
   "metadata": {},
   "outputs": [
    {
     "name": "stdout",
     "output_type": "stream",
     "text": [
      "loading time is 35.1528\n",
      "The Shape of Dataset is (27884332, 29)\n"
     ]
    }
   ],
   "source": [
    "# vertices=read_csv(data_dir, 'vertices_clean.csv')\n",
    "# to_pickle(data_dir,vertices,'vertices_pickle')\n",
    "vertices=read_pickle(data_dir,'vertices_pickle')"
   ]
  },
  {
   "cell_type": "markdown",
   "metadata": {},
   "source": [
    "#### Transform product edge data and create product bit vector"
   ]
  },
  {
   "cell_type": "code",
   "execution_count": 9,
   "metadata": {},
   "outputs": [],
   "source": [
    "Product_Edges=Product_Edges[Product_Edges[\"dst\"].isin([\"P_AUTO\",\"P_HOME\",\"P_RENT\"])]"
   ]
  },
  {
   "cell_type": "code",
   "execution_count": 10,
   "metadata": {},
   "outputs": [],
   "source": [
    "def map_prod(LIST):\n",
    "    if (LIST.count(\"P_AUTO\")==1) and (LIST.count(\"P_HOME\")==1) and (LIST.count(\"P_RENT\")==1):\n",
    "        return [1,1,1,\"111\"]\n",
    "    elif (LIST.count(\"P_AUTO\")==1) and (LIST.count(\"P_HOME\")==1) and (LIST.count(\"P_RENT\")==0):\n",
    "        return [1,1,0,\"110\"]\n",
    "    elif (LIST.count(\"P_AUTO\")==1) and (LIST.count(\"P_HOME\")==0) and (LIST.count(\"P_RENT\")==1):\n",
    "        return [1,0,1,\"101\"]\n",
    "    elif (LIST.count(\"P_AUTO\")==0) and (LIST.count(\"P_HOME\")==1) and (LIST.count(\"P_RENT\")==1):\n",
    "        return [0,1,1,\"011\"]\n",
    "    elif (LIST.count(\"P_AUTO\")==1) and (LIST.count(\"P_HOME\")==0) and (LIST.count(\"P_RENT\")==0):\n",
    "        return [1,0,0,\"100\"]\n",
    "    elif (LIST.count(\"P_AUTO\")==0) and (LIST.count(\"P_HOME\")==1) and (LIST.count(\"P_RENT\")==0):\n",
    "        return [0,1,0,\"010\"]\n",
    "    elif (LIST.count(\"P_AUTO\")==0) and (LIST.count(\"P_HOME\")==0) and (LIST.count(\"P_RENT\")==1):\n",
    "        return [0,0,1,\"001\"]\n",
    "    elif (LIST.count(\"P_AUTO\")==0) and (LIST.count(\"P_HOME\")==0) and (LIST.count(\"P_RENT\")==0):\n",
    "        return [0,0,0,\"000\"]"
   ]
  },
  {
   "cell_type": "code",
   "execution_count": 11,
   "metadata": {},
   "outputs": [],
   "source": [
    "# import numba as nb\n",
    "# @nb.jit(nopython=True)\n",
    "def Flatten_Product(Product_Edges):\n",
    "    Product_Edges.sort_values(by=\"src\",inplace=True)\n",
    "    src, _, dst=np.array(Product_Edges).transpose()\n",
    "    row=np.unique(src).shape[0]\n",
    "    col=np.unique(dst).shape[0]\n",
    "    Flatten_df=np.zeros([row,col+2],dtype=int)   ### usaa_number,  P_AUTO,  P_HOME,  P_RENT,  Product_bit_Vector\n",
    "    \n",
    "    uniq_v, uniq_e=np.unique(Product_Edges[\"src\"],return_inverse=True)\n",
    "    _, idx=np.unique(uniq_e,return_index=True)\n",
    "\n",
    "    for i in tqdm(np.arange(len(uniq_v))):\n",
    "        \n",
    "        if i!=len(uniq_v)-1:\n",
    "            Flatten_df[i][0]=list(set(Product_Edges[idx[i]:idx[i+1]].src.astype(int)))[0]\n",
    "            Flatten_df[i][1:5]=map_prod(list(set(Product_Edges[idx[i]:idx[i+1]].dst)))\n",
    "        else:\n",
    "            Flatten_df[i][0]=list(set(Product_Edges[idx[i]:].src.astype(int)))[0]\n",
    "            Flatten_df[i][1:5]=map_prod(list(set(Product_Edges[idx[i]:].dst)))\n",
    "    \n",
    "    Flatten_df=pd.DataFrame(Flatten_df,columns=[\"USAA_Number\",\"P_AUTO\",\"P_HOME\",\"P_RENT\",\"Prod_Trace\"])\n",
    "    Flatten_df[\"Prod_Trace\"]=Flatten_df[\"Prod_Trace\"].apply(lambda x : '{0:0>3}'.format(x)) ## add the leading zero in some prod_trace\n",
    "    \n",
    "    return Flatten_df"
   ]
  },
  {
   "cell_type": "code",
   "execution_count": 12,
   "metadata": {},
   "outputs": [
    {
     "name": "stderr",
     "output_type": "stream",
     "text": [
      "100%|██████████| 7383666/7383666 [1:22:07<00:00, 1498.40it/s]\n"
     ]
    }
   ],
   "source": [
    "Flatten_df=Flatten_Product(Product_Edges)"
   ]
  },
  {
   "cell_type": "code",
   "execution_count": 9,
   "metadata": {},
   "outputs": [
    {
     "name": "stdout",
     "output_type": "stream",
     "text": [
      "loading time is 1.4688\n",
      "The Shape of Dataset is (7383666, 5)\n"
     ]
    }
   ],
   "source": [
    "# to_pickle(data_dir,Flatten_df,'Flatten_Product_pickle')\n",
    "Flatten_Product_pickle=read_pickle(data_dir,'Flatten_Product_pickle')"
   ]
  },
  {
   "cell_type": "code",
   "execution_count": 9,
   "metadata": {},
   "outputs": [
    {
     "data": {
      "text/html": [
       "<style  type=\"text/css\" >\n",
       "</style><table id=\"T_03ba1b62_6257_11eb_8b34_0242ac110005\" ><thead>    <tr>        <th class=\"blank level0\" ></th>        <th class=\"col_heading level0 col0\" >product</th>        <th class=\"col_heading level0 col1\" >count</th>        <th class=\"col_heading level0 col2\" >percentage</th>    </tr></thead><tbody>\n",
       "                <tr>\n",
       "                        <th id=\"T_03ba1b62_6257_11eb_8b34_0242ac110005level0_row0\" class=\"row_heading level0 row0\" >0</th>\n",
       "                        <td id=\"T_03ba1b62_6257_11eb_8b34_0242ac110005row0_col0\" class=\"data row0 col0\" >110</td>\n",
       "                        <td id=\"T_03ba1b62_6257_11eb_8b34_0242ac110005row0_col1\" class=\"data row0 col1\" >2,938,245</td>\n",
       "                        <td id=\"T_03ba1b62_6257_11eb_8b34_0242ac110005row0_col2\" class=\"data row0 col2\" >39.79%</td>\n",
       "            </tr>\n",
       "            <tr>\n",
       "                        <th id=\"T_03ba1b62_6257_11eb_8b34_0242ac110005level0_row1\" class=\"row_heading level0 row1\" >1</th>\n",
       "                        <td id=\"T_03ba1b62_6257_11eb_8b34_0242ac110005row1_col0\" class=\"data row1 col0\" >100</td>\n",
       "                        <td id=\"T_03ba1b62_6257_11eb_8b34_0242ac110005row1_col1\" class=\"data row1 col1\" >2,435,787</td>\n",
       "                        <td id=\"T_03ba1b62_6257_11eb_8b34_0242ac110005row1_col2\" class=\"data row1 col2\" >32.99%</td>\n",
       "            </tr>\n",
       "            <tr>\n",
       "                        <th id=\"T_03ba1b62_6257_11eb_8b34_0242ac110005level0_row2\" class=\"row_heading level0 row2\" >2</th>\n",
       "                        <td id=\"T_03ba1b62_6257_11eb_8b34_0242ac110005row2_col0\" class=\"data row2 col0\" >101</td>\n",
       "                        <td id=\"T_03ba1b62_6257_11eb_8b34_0242ac110005row2_col1\" class=\"data row2 col1\" >1,461,264</td>\n",
       "                        <td id=\"T_03ba1b62_6257_11eb_8b34_0242ac110005row2_col2\" class=\"data row2 col2\" >19.79%</td>\n",
       "            </tr>\n",
       "            <tr>\n",
       "                        <th id=\"T_03ba1b62_6257_11eb_8b34_0242ac110005level0_row3\" class=\"row_heading level0 row3\" >3</th>\n",
       "                        <td id=\"T_03ba1b62_6257_11eb_8b34_0242ac110005row3_col0\" class=\"data row3 col0\" >001</td>\n",
       "                        <td id=\"T_03ba1b62_6257_11eb_8b34_0242ac110005row3_col1\" class=\"data row3 col1\" >262,009</td>\n",
       "                        <td id=\"T_03ba1b62_6257_11eb_8b34_0242ac110005row3_col2\" class=\"data row3 col2\" >3.55%</td>\n",
       "            </tr>\n",
       "            <tr>\n",
       "                        <th id=\"T_03ba1b62_6257_11eb_8b34_0242ac110005level0_row4\" class=\"row_heading level0 row4\" >4</th>\n",
       "                        <td id=\"T_03ba1b62_6257_11eb_8b34_0242ac110005row4_col0\" class=\"data row4 col0\" >010</td>\n",
       "                        <td id=\"T_03ba1b62_6257_11eb_8b34_0242ac110005row4_col1\" class=\"data row4 col1\" >226,935</td>\n",
       "                        <td id=\"T_03ba1b62_6257_11eb_8b34_0242ac110005row4_col2\" class=\"data row4 col2\" >3.07%</td>\n",
       "            </tr>\n",
       "            <tr>\n",
       "                        <th id=\"T_03ba1b62_6257_11eb_8b34_0242ac110005level0_row5\" class=\"row_heading level0 row5\" >5</th>\n",
       "                        <td id=\"T_03ba1b62_6257_11eb_8b34_0242ac110005row5_col0\" class=\"data row5 col0\" >111</td>\n",
       "                        <td id=\"T_03ba1b62_6257_11eb_8b34_0242ac110005row5_col1\" class=\"data row5 col1\" >56,659</td>\n",
       "                        <td id=\"T_03ba1b62_6257_11eb_8b34_0242ac110005row5_col2\" class=\"data row5 col2\" >0.77%</td>\n",
       "            </tr>\n",
       "            <tr>\n",
       "                        <th id=\"T_03ba1b62_6257_11eb_8b34_0242ac110005level0_row6\" class=\"row_heading level0 row6\" >6</th>\n",
       "                        <td id=\"T_03ba1b62_6257_11eb_8b34_0242ac110005row6_col0\" class=\"data row6 col0\" >011</td>\n",
       "                        <td id=\"T_03ba1b62_6257_11eb_8b34_0242ac110005row6_col1\" class=\"data row6 col1\" >2,767</td>\n",
       "                        <td id=\"T_03ba1b62_6257_11eb_8b34_0242ac110005row6_col2\" class=\"data row6 col2\" >0.04%</td>\n",
       "            </tr>\n",
       "    </tbody></table>"
      ],
      "text/plain": [
       "<pandas.io.formats.style.Styler at 0x7f55b0d5cf98>"
      ]
     },
     "execution_count": 9,
     "metadata": {},
     "output_type": "execute_result"
    }
   ],
   "source": [
    "tempt1=pd.DataFrame(Flatten_Product_pickle[\"Prod_Trace\"].value_counts()).reset_index().rename(columns={'index':'product','Prod_Trace':'count'})\n",
    "tempt2=pd.DataFrame(Flatten_Product_pickle[\"Prod_Trace\"].value_counts(normalize=True)).reset_index().rename(columns={'index':'product','Prod_Trace':'percentage'})\n",
    "tempt1.merge(tempt2, on=\"product\", how=\"inner\").style.format({'count':'{:,}','percentage':'{:.2%}'})"
   ]
  },
  {
   "cell_type": "code",
   "execution_count": 10,
   "metadata": {},
   "outputs": [
    {
     "name": "stdout",
     "output_type": "stream",
     "text": [
      "Pers_Edges Dataframe:\n",
      "        src     rel       dst\n",
      "0  50777622  Parent  53997959\n",
      "1  50777622  Parent  57122393\n",
      "\n",
      "Busi_Edges Dataframe:\n",
      "        src             rel       dst\n",
      "0  50777622  Busi_rel_Other  57122393\n",
      "1  50777622         SPONSOR  53995390\n",
      "\n",
      "Product_Edges Dataframe:\n",
      "   USAA_Number  P_AUTO  P_HOME  P_RENT Prod_Trace\n",
      "0     50777622       1       1       0        110\n",
      "1     50777628       1       1       0        110\n"
     ]
    }
   ],
   "source": [
    "print(\"Pers_Edges Dataframe:\")\n",
    "print(Pers_Edges.head(2))\n",
    "print()\n",
    "print(\"Busi_Edges Dataframe:\")\n",
    "print(Busi_Edges.head(2))\n",
    "# print()\n",
    "# print(\"zipcode_Edges Dataframe:\")\n",
    "# print(zipcode_Edges.head(2))\n",
    "print()\n",
    "print(\"Product_Edges Dataframe:\")\n",
    "print(Flatten_Product_pickle.head(2))"
   ]
  },
  {
   "cell_type": "markdown",
   "metadata": {},
   "source": [
    "#### Create bi-directional relationship"
   ]
  },
  {
   "cell_type": "code",
   "execution_count": 10,
   "metadata": {},
   "outputs": [],
   "source": [
    "def datashow(dataframe):\n",
    "    tempt1=pd.DataFrame(dataframe.rel.value_counts()).reset_index().rename(columns={'index':'rels','rel':'count'})\n",
    "    tempt2=pd.DataFrame(dataframe.rel.value_counts(normalize=True)).reset_index().rename(columns={'index':'rels','rel':'percentage'})\n",
    "    return tempt1.merge(tempt2, on=\"rels\", how=\"inner\").style.format({'count':'{:,}','percentage':'{:.2%}'})\n",
    "\n",
    "def make_bidirectional(dataframe, rel_types, rev_rel_types):\n",
    "    \"\"\"\n",
    "    dataframe :    triplet(src, rel, dst)\n",
    "    rel_types:     relationship to be inversed bidirectiohally\n",
    "    rev_rel_types: the inversed relationship name\n",
    "    \"\"\"\n",
    "    np_df=np.array(dataframe)\n",
    "    src,rel,dst=np_df.transpose()\n",
    "    rel_v2=rel.copy()\n",
    "    for idx, val in enumerate(rel_types):\n",
    "        rel_v2[rel==val]=rev_rel_types[idx]\n",
    "        \n",
    "    src,dst=np.concatenate((src,dst)), np.concatenate((dst, src))\n",
    "    rel=np.concatenate((rel, rel_v2))\n",
    "    \n",
    "    DF=pd.DataFrame(sorted(zip(src, rel, dst)),columns=['src','rel','dst'])\n",
    "    DF.drop_duplicates(inplace=True)\n",
    "    \n",
    "    return DF"
   ]
  },
  {
   "cell_type": "code",
   "execution_count": 12,
   "metadata": {},
   "outputs": [
    {
     "data": {
      "text/html": [
       "<style  type=\"text/css\" >\n",
       "</style><table id=\"T_07ddac68_6257_11eb_8b34_0242ac110005\" ><thead>    <tr>        <th class=\"blank level0\" ></th>        <th class=\"col_heading level0 col0\" >rels</th>        <th class=\"col_heading level0 col1\" >count</th>        <th class=\"col_heading level0 col2\" >percentage</th>    </tr></thead><tbody>\n",
       "                <tr>\n",
       "                        <th id=\"T_07ddac68_6257_11eb_8b34_0242ac110005level0_row0\" class=\"row_heading level0 row0\" >0</th>\n",
       "                        <td id=\"T_07ddac68_6257_11eb_8b34_0242ac110005row0_col0\" class=\"data row0 col0\" >SPONSOR</td>\n",
       "                        <td id=\"T_07ddac68_6257_11eb_8b34_0242ac110005row0_col1\" class=\"data row0 col1\" >15,958,685</td>\n",
       "                        <td id=\"T_07ddac68_6257_11eb_8b34_0242ac110005row0_col2\" class=\"data row0 col2\" >76.65%</td>\n",
       "            </tr>\n",
       "            <tr>\n",
       "                        <th id=\"T_07ddac68_6257_11eb_8b34_0242ac110005level0_row1\" class=\"row_heading level0 row1\" >1</th>\n",
       "                        <td id=\"T_07ddac68_6257_11eb_8b34_0242ac110005row1_col0\" class=\"data row1 col0\" >AUTO_RELATED</td>\n",
       "                        <td id=\"T_07ddac68_6257_11eb_8b34_0242ac110005row1_col1\" class=\"data row1 col1\" >4,121,995</td>\n",
       "                        <td id=\"T_07ddac68_6257_11eb_8b34_0242ac110005row1_col2\" class=\"data row1 col2\" >19.80%</td>\n",
       "            </tr>\n",
       "            <tr>\n",
       "                        <th id=\"T_07ddac68_6257_11eb_8b34_0242ac110005level0_row2\" class=\"row_heading level0 row2\" >2</th>\n",
       "                        <td id=\"T_07ddac68_6257_11eb_8b34_0242ac110005row2_col0\" class=\"data row2 col0\" >Busi_rel_Other</td>\n",
       "                        <td id=\"T_07ddac68_6257_11eb_8b34_0242ac110005row2_col1\" class=\"data row2 col1\" >738,415</td>\n",
       "                        <td id=\"T_07ddac68_6257_11eb_8b34_0242ac110005row2_col2\" class=\"data row2 col2\" >3.55%</td>\n",
       "            </tr>\n",
       "    </tbody></table>"
      ],
      "text/plain": [
       "<pandas.io.formats.style.Styler at 0x7f55ad16c710>"
      ]
     },
     "execution_count": 12,
     "metadata": {},
     "output_type": "execute_result"
    }
   ],
   "source": [
    "datashow(Busi_Edges)"
   ]
  },
  {
   "cell_type": "code",
   "execution_count": 13,
   "metadata": {},
   "outputs": [
    {
     "name": "stdout",
     "output_type": "stream",
     "text": [
      "Busi_rel_Other                Busi_rel_Other                \n",
      "SPONSOR                       SPONSEE                       \n",
      "AUTO_RELATED                  AUTO_RELATED                  \n"
     ]
    }
   ],
   "source": [
    "rel_types=Busi_Edges.rel.unique().tolist()  ## ['Busi_rel_Other', 'SPONSOR', 'AUTO_RELATED']\n",
    "rev_rel_types=['Busi_rel_Other','SPONSEE','AUTO_RELATED']\n",
    "for idx, val in enumerate(rel_types):\n",
    "    print(\"{:<30}{:<30}\".format(val, rev_rel_types[idx]))"
   ]
  },
  {
   "cell_type": "code",
   "execution_count": 11,
   "metadata": {},
   "outputs": [
    {
     "name": "stdout",
     "output_type": "stream",
     "text": [
      "CPU times: user 2min 28s, sys: 2min 19s, total: 4min 47s\n",
      "Wall time: 4min 33s\n"
     ]
    }
   ],
   "source": [
    "%%time\n",
    "rel_types=Busi_Edges.rel.unique().tolist()  ## ['Busi_rel_Other', 'SPONSOR', 'AUTO_RELATED']\n",
    "rev_rel_types=['Busi_rel_Other','SPONSEE','AUTO_RELATED']\n",
    "Busi_Edges_bi=make_bidirectional(Busi_Edges, rel_types, rev_rel_types)"
   ]
  },
  {
   "cell_type": "code",
   "execution_count": 15,
   "metadata": {},
   "outputs": [
    {
     "data": {
      "text/html": [
       "<style  type=\"text/css\" >\n",
       "</style><table id=\"T_63c9dad8_6257_11eb_8b34_0242ac110005\" ><thead>    <tr>        <th class=\"blank level0\" ></th>        <th class=\"col_heading level0 col0\" >rels</th>        <th class=\"col_heading level0 col1\" >count</th>        <th class=\"col_heading level0 col2\" >percentage</th>    </tr></thead><tbody>\n",
       "                <tr>\n",
       "                        <th id=\"T_63c9dad8_6257_11eb_8b34_0242ac110005level0_row0\" class=\"row_heading level0 row0\" >0</th>\n",
       "                        <td id=\"T_63c9dad8_6257_11eb_8b34_0242ac110005row0_col0\" class=\"data row0 col0\" >SPONSEE</td>\n",
       "                        <td id=\"T_63c9dad8_6257_11eb_8b34_0242ac110005row0_col1\" class=\"data row0 col1\" >15,958,685</td>\n",
       "                        <td id=\"T_63c9dad8_6257_11eb_8b34_0242ac110005row0_col2\" class=\"data row0 col2\" >38.93%</td>\n",
       "            </tr>\n",
       "            <tr>\n",
       "                        <th id=\"T_63c9dad8_6257_11eb_8b34_0242ac110005level0_row1\" class=\"row_heading level0 row1\" >1</th>\n",
       "                        <td id=\"T_63c9dad8_6257_11eb_8b34_0242ac110005row1_col0\" class=\"data row1 col0\" >SPONSOR</td>\n",
       "                        <td id=\"T_63c9dad8_6257_11eb_8b34_0242ac110005row1_col1\" class=\"data row1 col1\" >15,958,685</td>\n",
       "                        <td id=\"T_63c9dad8_6257_11eb_8b34_0242ac110005row1_col2\" class=\"data row1 col2\" >38.93%</td>\n",
       "            </tr>\n",
       "            <tr>\n",
       "                        <th id=\"T_63c9dad8_6257_11eb_8b34_0242ac110005level0_row2\" class=\"row_heading level0 row2\" >2</th>\n",
       "                        <td id=\"T_63c9dad8_6257_11eb_8b34_0242ac110005row2_col0\" class=\"data row2 col0\" >AUTO_RELATED</td>\n",
       "                        <td id=\"T_63c9dad8_6257_11eb_8b34_0242ac110005row2_col1\" class=\"data row2 col1\" >8,056,456</td>\n",
       "                        <td id=\"T_63c9dad8_6257_11eb_8b34_0242ac110005row2_col2\" class=\"data row2 col2\" >19.65%</td>\n",
       "            </tr>\n",
       "            <tr>\n",
       "                        <th id=\"T_63c9dad8_6257_11eb_8b34_0242ac110005level0_row3\" class=\"row_heading level0 row3\" >3</th>\n",
       "                        <td id=\"T_63c9dad8_6257_11eb_8b34_0242ac110005row3_col0\" class=\"data row3 col0\" >Busi_rel_Other</td>\n",
       "                        <td id=\"T_63c9dad8_6257_11eb_8b34_0242ac110005row3_col1\" class=\"data row3 col1\" >1,022,064</td>\n",
       "                        <td id=\"T_63c9dad8_6257_11eb_8b34_0242ac110005row3_col2\" class=\"data row3 col2\" >2.49%</td>\n",
       "            </tr>\n",
       "    </tbody></table>"
      ],
      "text/plain": [
       "<pandas.io.formats.style.Styler at 0x7f55ad23c6a0>"
      ]
     },
     "execution_count": 15,
     "metadata": {},
     "output_type": "execute_result"
    }
   ],
   "source": [
    "datashow(Busi_Edges_bi)"
   ]
  },
  {
   "cell_type": "code",
   "execution_count": 15,
   "metadata": {},
   "outputs": [],
   "source": [
    "# datashow(zipcode_Edges)\n",
    "# zipcode_Edges['dst'].unique().shape[0]\n",
    "\n",
    "# rel_types=zipcode_Edges.rel.unique().tolist()  ## ['Located_In']\n",
    "# rev_rel_types=[\"Location_of\"]\n",
    "# zipcode_Edges_bi=make_bidirectional(zipcode_Edges, rel_types, rev_rel_types)\n",
    "\n",
    "# datashow(zipcode_Edges_bi)"
   ]
  },
  {
   "cell_type": "code",
   "execution_count": 16,
   "metadata": {},
   "outputs": [
    {
     "data": {
      "text/html": [
       "<style  type=\"text/css\" >\n",
       "</style><table id=\"T_6caee04e_6257_11eb_8b34_0242ac110005\" ><thead>    <tr>        <th class=\"blank level0\" ></th>        <th class=\"col_heading level0 col0\" >rels</th>        <th class=\"col_heading level0 col1\" >count</th>        <th class=\"col_heading level0 col2\" >percentage</th>    </tr></thead><tbody>\n",
       "                <tr>\n",
       "                        <th id=\"T_6caee04e_6257_11eb_8b34_0242ac110005level0_row0\" class=\"row_heading level0 row0\" >0</th>\n",
       "                        <td id=\"T_6caee04e_6257_11eb_8b34_0242ac110005row0_col0\" class=\"data row0 col0\" >Spouse</td>\n",
       "                        <td id=\"T_6caee04e_6257_11eb_8b34_0242ac110005row0_col1\" class=\"data row0 col1\" >15,424,898</td>\n",
       "                        <td id=\"T_6caee04e_6257_11eb_8b34_0242ac110005row0_col2\" class=\"data row0 col2\" >33.69%</td>\n",
       "            </tr>\n",
       "            <tr>\n",
       "                        <th id=\"T_6caee04e_6257_11eb_8b34_0242ac110005level0_row1\" class=\"row_heading level0 row1\" >1</th>\n",
       "                        <td id=\"T_6caee04e_6257_11eb_8b34_0242ac110005row1_col0\" class=\"data row1 col0\" >Child</td>\n",
       "                        <td id=\"T_6caee04e_6257_11eb_8b34_0242ac110005row1_col1\" class=\"data row1 col1\" >11,018,879</td>\n",
       "                        <td id=\"T_6caee04e_6257_11eb_8b34_0242ac110005row1_col2\" class=\"data row1 col2\" >24.07%</td>\n",
       "            </tr>\n",
       "            <tr>\n",
       "                        <th id=\"T_6caee04e_6257_11eb_8b34_0242ac110005level0_row2\" class=\"row_heading level0 row2\" >2</th>\n",
       "                        <td id=\"T_6caee04e_6257_11eb_8b34_0242ac110005row2_col0\" class=\"data row2 col0\" >Parent</td>\n",
       "                        <td id=\"T_6caee04e_6257_11eb_8b34_0242ac110005row2_col1\" class=\"data row2 col1\" >10,980,501</td>\n",
       "                        <td id=\"T_6caee04e_6257_11eb_8b34_0242ac110005row2_col2\" class=\"data row2 col2\" >23.98%</td>\n",
       "            </tr>\n",
       "            <tr>\n",
       "                        <th id=\"T_6caee04e_6257_11eb_8b34_0242ac110005level0_row3\" class=\"row_heading level0 row3\" >3</th>\n",
       "                        <td id=\"T_6caee04e_6257_11eb_8b34_0242ac110005row3_col0\" class=\"data row3 col0\" >Ex-Spouse</td>\n",
       "                        <td id=\"T_6caee04e_6257_11eb_8b34_0242ac110005row3_col1\" class=\"data row3 col1\" >3,622,554</td>\n",
       "                        <td id=\"T_6caee04e_6257_11eb_8b34_0242ac110005row3_col2\" class=\"data row3 col2\" >7.91%</td>\n",
       "            </tr>\n",
       "            <tr>\n",
       "                        <th id=\"T_6caee04e_6257_11eb_8b34_0242ac110005level0_row4\" class=\"row_heading level0 row4\" >4</th>\n",
       "                        <td id=\"T_6caee04e_6257_11eb_8b34_0242ac110005row4_col0\" class=\"data row4 col0\" >Pers_rel_Other</td>\n",
       "                        <td id=\"T_6caee04e_6257_11eb_8b34_0242ac110005row4_col1\" class=\"data row4 col1\" >1,829,526</td>\n",
       "                        <td id=\"T_6caee04e_6257_11eb_8b34_0242ac110005row4_col2\" class=\"data row4 col2\" >4.00%</td>\n",
       "            </tr>\n",
       "            <tr>\n",
       "                        <th id=\"T_6caee04e_6257_11eb_8b34_0242ac110005level0_row5\" class=\"row_heading level0 row5\" >5</th>\n",
       "                        <td id=\"T_6caee04e_6257_11eb_8b34_0242ac110005row5_col0\" class=\"data row5 col0\" >Step-Child</td>\n",
       "                        <td id=\"T_6caee04e_6257_11eb_8b34_0242ac110005row5_col1\" class=\"data row5 col1\" >1,148,701</td>\n",
       "                        <td id=\"T_6caee04e_6257_11eb_8b34_0242ac110005row5_col2\" class=\"data row5 col2\" >2.51%</td>\n",
       "            </tr>\n",
       "            <tr>\n",
       "                        <th id=\"T_6caee04e_6257_11eb_8b34_0242ac110005level0_row6\" class=\"row_heading level0 row6\" >6</th>\n",
       "                        <td id=\"T_6caee04e_6257_11eb_8b34_0242ac110005row6_col0\" class=\"data row6 col0\" >Step-Parent</td>\n",
       "                        <td id=\"T_6caee04e_6257_11eb_8b34_0242ac110005row6_col1\" class=\"data row6 col1\" >1,148,623</td>\n",
       "                        <td id=\"T_6caee04e_6257_11eb_8b34_0242ac110005row6_col2\" class=\"data row6 col2\" >2.51%</td>\n",
       "            </tr>\n",
       "            <tr>\n",
       "                        <th id=\"T_6caee04e_6257_11eb_8b34_0242ac110005level0_row7\" class=\"row_heading level0 row7\" >7</th>\n",
       "                        <td id=\"T_6caee04e_6257_11eb_8b34_0242ac110005row7_col0\" class=\"data row7 col0\" >Brother_Sister</td>\n",
       "                        <td id=\"T_6caee04e_6257_11eb_8b34_0242ac110005row7_col1\" class=\"data row7 col1\" >609,219</td>\n",
       "                        <td id=\"T_6caee04e_6257_11eb_8b34_0242ac110005row7_col2\" class=\"data row7 col2\" >1.33%</td>\n",
       "            </tr>\n",
       "    </tbody></table>"
      ],
      "text/plain": [
       "<pandas.io.formats.style.Styler at 0x7f55a402f198>"
      ]
     },
     "execution_count": 16,
     "metadata": {},
     "output_type": "execute_result"
    }
   ],
   "source": [
    "datashow(Pers_Edges)"
   ]
  },
  {
   "cell_type": "code",
   "execution_count": 12,
   "metadata": {},
   "outputs": [
    {
     "name": "stdout",
     "output_type": "stream",
     "text": [
      "Parent                        Child                         \n",
      "Spouse                        Spouse                        \n",
      "Child                         Parent                        \n",
      "Ex-Spouse                     Ex-Spouse                     \n",
      "Pers_rel_Other                Pers_rel_Other                \n",
      "Brother_Sister                Brother_Sister                \n",
      "Step-Parent                   Step-Child                    \n",
      "Step-Child                    Step-Parent                   \n"
     ]
    }
   ],
   "source": [
    "rel_types=Pers_Edges.rel.unique().tolist()  \n",
    "rev_rel_types=['Child','Spouse','Parent','Ex-Spouse','Pers_rel_Other','Brother_Sister','Step-Child','Step-Parent']\n",
    "for idx, val in enumerate(rel_types):\n",
    "    print(\"{:<30}{:<30}\".format(val, rev_rel_types[idx]))"
   ]
  },
  {
   "cell_type": "code",
   "execution_count": 13,
   "metadata": {},
   "outputs": [
    {
     "name": "stdout",
     "output_type": "stream",
     "text": [
      "CPU times: user 5min 56s, sys: 6min 50s, total: 12min 47s\n",
      "Wall time: 12min 26s\n"
     ]
    }
   ],
   "source": [
    "%%time\n",
    "Pers_Edges_bi=make_bidirectional(Pers_Edges, rel_types, rev_rel_types)"
   ]
  },
  {
   "cell_type": "code",
   "execution_count": 19,
   "metadata": {},
   "outputs": [
    {
     "data": {
      "text/html": [
       "<style  type=\"text/css\" >\n",
       "</style><table id=\"T_5bfe0fd0_6258_11eb_8b34_0242ac110005\" ><thead>    <tr>        <th class=\"blank level0\" ></th>        <th class=\"col_heading level0 col0\" >rels</th>        <th class=\"col_heading level0 col1\" >count</th>        <th class=\"col_heading level0 col2\" >percentage</th>    </tr></thead><tbody>\n",
       "                <tr>\n",
       "                        <th id=\"T_5bfe0fd0_6258_11eb_8b34_0242ac110005level0_row0\" class=\"row_heading level0 row0\" >0</th>\n",
       "                        <td id=\"T_5bfe0fd0_6258_11eb_8b34_0242ac110005row0_col0\" class=\"data row0 col0\" >Spouse</td>\n",
       "                        <td id=\"T_5bfe0fd0_6258_11eb_8b34_0242ac110005row0_col1\" class=\"data row0 col1\" >15,485,971</td>\n",
       "                        <td id=\"T_5bfe0fd0_6258_11eb_8b34_0242ac110005row0_col2\" class=\"data row0 col2\" >33.56%</td>\n",
       "            </tr>\n",
       "            <tr>\n",
       "                        <th id=\"T_5bfe0fd0_6258_11eb_8b34_0242ac110005level0_row1\" class=\"row_heading level0 row1\" >1</th>\n",
       "                        <td id=\"T_5bfe0fd0_6258_11eb_8b34_0242ac110005row1_col0\" class=\"data row1 col0\" >Child</td>\n",
       "                        <td id=\"T_5bfe0fd0_6258_11eb_8b34_0242ac110005row1_col1\" class=\"data row1 col1\" >11,067,385</td>\n",
       "                        <td id=\"T_5bfe0fd0_6258_11eb_8b34_0242ac110005row1_col2\" class=\"data row1 col2\" >23.98%</td>\n",
       "            </tr>\n",
       "            <tr>\n",
       "                        <th id=\"T_5bfe0fd0_6258_11eb_8b34_0242ac110005level0_row2\" class=\"row_heading level0 row2\" >2</th>\n",
       "                        <td id=\"T_5bfe0fd0_6258_11eb_8b34_0242ac110005row2_col0\" class=\"data row2 col0\" >Parent</td>\n",
       "                        <td id=\"T_5bfe0fd0_6258_11eb_8b34_0242ac110005row2_col1\" class=\"data row2 col1\" >11,067,385</td>\n",
       "                        <td id=\"T_5bfe0fd0_6258_11eb_8b34_0242ac110005row2_col2\" class=\"data row2 col2\" >23.98%</td>\n",
       "            </tr>\n",
       "            <tr>\n",
       "                        <th id=\"T_5bfe0fd0_6258_11eb_8b34_0242ac110005level0_row3\" class=\"row_heading level0 row3\" >3</th>\n",
       "                        <td id=\"T_5bfe0fd0_6258_11eb_8b34_0242ac110005row3_col0\" class=\"data row3 col0\" >Ex-Spouse</td>\n",
       "                        <td id=\"T_5bfe0fd0_6258_11eb_8b34_0242ac110005row3_col1\" class=\"data row3 col1\" >3,682,614</td>\n",
       "                        <td id=\"T_5bfe0fd0_6258_11eb_8b34_0242ac110005row3_col2\" class=\"data row3 col2\" >7.98%</td>\n",
       "            </tr>\n",
       "            <tr>\n",
       "                        <th id=\"T_5bfe0fd0_6258_11eb_8b34_0242ac110005level0_row4\" class=\"row_heading level0 row4\" >4</th>\n",
       "                        <td id=\"T_5bfe0fd0_6258_11eb_8b34_0242ac110005row4_col0\" class=\"data row4 col0\" >Pers_rel_Other</td>\n",
       "                        <td id=\"T_5bfe0fd0_6258_11eb_8b34_0242ac110005row4_col1\" class=\"data row4 col1\" >1,892,856</td>\n",
       "                        <td id=\"T_5bfe0fd0_6258_11eb_8b34_0242ac110005row4_col2\" class=\"data row4 col2\" >4.10%</td>\n",
       "            </tr>\n",
       "            <tr>\n",
       "                        <th id=\"T_5bfe0fd0_6258_11eb_8b34_0242ac110005level0_row5\" class=\"row_heading level0 row5\" >5</th>\n",
       "                        <td id=\"T_5bfe0fd0_6258_11eb_8b34_0242ac110005row5_col0\" class=\"data row5 col0\" >Step-Child</td>\n",
       "                        <td id=\"T_5bfe0fd0_6258_11eb_8b34_0242ac110005row5_col1\" class=\"data row5 col1\" >1,165,991</td>\n",
       "                        <td id=\"T_5bfe0fd0_6258_11eb_8b34_0242ac110005row5_col2\" class=\"data row5 col2\" >2.53%</td>\n",
       "            </tr>\n",
       "            <tr>\n",
       "                        <th id=\"T_5bfe0fd0_6258_11eb_8b34_0242ac110005level0_row6\" class=\"row_heading level0 row6\" >6</th>\n",
       "                        <td id=\"T_5bfe0fd0_6258_11eb_8b34_0242ac110005row6_col0\" class=\"data row6 col0\" >Step-Parent</td>\n",
       "                        <td id=\"T_5bfe0fd0_6258_11eb_8b34_0242ac110005row6_col1\" class=\"data row6 col1\" >1,165,991</td>\n",
       "                        <td id=\"T_5bfe0fd0_6258_11eb_8b34_0242ac110005row6_col2\" class=\"data row6 col2\" >2.53%</td>\n",
       "            </tr>\n",
       "            <tr>\n",
       "                        <th id=\"T_5bfe0fd0_6258_11eb_8b34_0242ac110005level0_row7\" class=\"row_heading level0 row7\" >7</th>\n",
       "                        <td id=\"T_5bfe0fd0_6258_11eb_8b34_0242ac110005row7_col0\" class=\"data row7 col0\" >Brother_Sister</td>\n",
       "                        <td id=\"T_5bfe0fd0_6258_11eb_8b34_0242ac110005row7_col1\" class=\"data row7 col1\" >618,666</td>\n",
       "                        <td id=\"T_5bfe0fd0_6258_11eb_8b34_0242ac110005row7_col2\" class=\"data row7 col2\" >1.34%</td>\n",
       "            </tr>\n",
       "    </tbody></table>"
      ],
      "text/plain": [
       "<pandas.io.formats.style.Styler at 0x7f55a402f160>"
      ]
     },
     "execution_count": 19,
     "metadata": {},
     "output_type": "execute_result"
    }
   ],
   "source": [
    "datashow(Pers_Edges_bi)"
   ]
  },
  {
   "cell_type": "markdown",
   "metadata": {},
   "source": [
    "#### Construct a Heterogeneous Graph"
   ]
  },
  {
   "cell_type": "markdown",
   "metadata": {},
   "source": [
    "#### re-label source nodes and destination nodes for each node type"
   ]
  },
  {
   "cell_type": "code",
   "execution_count": 14,
   "metadata": {},
   "outputs": [
    {
     "name": "stdout",
     "output_type": "stream",
     "text": [
      "CPU times: user 6min 18s, sys: 35.6 s, total: 6min 54s\n",
      "Wall time: 6min 52s\n"
     ]
    }
   ],
   "source": [
    "%%time\n",
    "#### relabel the nodes of USAA Member such that they are continous integers from 0 to max\n",
    "src_pers, _ ,dst_pers=np.array(Pers_Edges_bi).transpose()\n",
    "src_busi, _ ,dst_busi=np.array(Busi_Edges_bi).transpose()\n",
    "# src_zipcode, _ ,dst_zipcode=np.array(zipcode_Edges_bi[zipcode_Edges_bi['rel']==\"Located_In\"]).transpose()\n",
    "\n",
    "all_usaanr=np.concatenate((src_pers,dst_pers,src_busi,dst_busi))\n",
    "uniq_usaanr = np.unique(all_usaanr)\n",
    "# uniq_zipcode = np.unique(dst_zipcode)\n",
    "\n",
    "uniq_usaanr.sort()\n",
    "# uniq_zipcode.sort()\n",
    "usaanr_map = {id:idx for idx, id in enumerate(uniq_usaanr)}\n",
    "# zipcode_map = {id:idx for idx, id in enumerate(uniq_zipcode)}"
   ]
  },
  {
   "cell_type": "code",
   "execution_count": 21,
   "metadata": {},
   "outputs": [
    {
     "name": "stdout",
     "output_type": "stream",
     "text": [
      "24561910\n",
      "24561909\n",
      "24561909\n"
     ]
    }
   ],
   "source": [
    "Pers_Edges_bi['src'] = list(map(usaanr_map.get, Pers_Edges_bi['src']))\n",
    "Pers_Edges_bi['dst'] = list(map(usaanr_map.get, Pers_Edges_bi['dst']))\n",
    "print(len(usaanr_map))\n",
    "print(Pers_Edges_bi['src'].unique().max())\n",
    "print(Pers_Edges_bi['dst'].unique().max())"
   ]
  },
  {
   "cell_type": "code",
   "execution_count": 22,
   "metadata": {},
   "outputs": [
    {
     "name": "stdout",
     "output_type": "stream",
     "text": [
      "24561910\n",
      "24561909\n",
      "24561909\n"
     ]
    }
   ],
   "source": [
    "Busi_Edges_bi['src'] = list(map(usaanr_map.get, Busi_Edges_bi['src']))\n",
    "Busi_Edges_bi['dst'] = list(map(usaanr_map.get, Busi_Edges_bi['dst']))\n",
    "print(len(usaanr_map))\n",
    "print(Busi_Edges_bi['src'].unique().max())\n",
    "print(Busi_Edges_bi['dst'].unique().max())"
   ]
  },
  {
   "cell_type": "code",
   "execution_count": 23,
   "metadata": {},
   "outputs": [],
   "source": [
    "# zipcode_Edges_v1=zipcode_Edges_bi[zipcode_Edges_bi['rel']==\"Located_In\"]\n",
    "# zipcode_Edges_v1['src'] = list(map(usaanr_map.get, zipcode_Edges_v1['src']))\n",
    "# zipcode_Edges_v1['dst'] = list(map(zipcode_map.get, zipcode_Edges_v1['dst']))\n",
    "\n",
    "# zipcode_Edges_v2=zipcode_Edges_bi[zipcode_Edges_bi['rel']==\"Location_of\"]\n",
    "# zipcode_Edges_v2['src'] = list(map(zipcode_map.get, zipcode_Edges_v2['src']))\n",
    "# zipcode_Edges_v2['dst'] = list(map(usaanr_map.get, zipcode_Edges_v2['dst']))\n",
    "\n",
    "# zipcode_Edges_bi=zipcode_Edges_v1.append(zipcode_Edges_v2,ignore_index=True)\n",
    "# print(len(usaanr_map))\n",
    "# print(zipcode_Edges_bi['src'].unique().max())\n",
    "# print(len(zipcode_map))\n",
    "# print(zipcode_Edges_bi['dst'].unique().max())"
   ]
  },
  {
   "cell_type": "markdown",
   "metadata": {},
   "source": [
    "#### Re-label Edges types"
   ]
  },
  {
   "cell_type": "code",
   "execution_count": 27,
   "metadata": {},
   "outputs": [],
   "source": [
    "# relation_encoder=LabelEncoder()\n",
    "# relation_encoder.fit(pd.concat([Pers_Edges['rel'],Busi_Edges['rel'],zipcode_Edges['rel']]))"
   ]
  },
  {
   "cell_type": "code",
   "execution_count": 24,
   "metadata": {},
   "outputs": [
    {
     "name": "stdout",
     "output_type": "stream",
     "text": [
      "CPU times: user 43.7 s, sys: 5.86 s, total: 49.6 s\n",
      "Wall time: 49.3 s\n"
     ]
    }
   ],
   "source": [
    "%%time\n",
    "pers_rel_nums = {\"rel\":     {\"Parent\": 0, \"Child\": 1, \"Spouse\": 2,\"Ex-Spouse\": 3,\"Brother_Sister\": 4, \"Step-Parent\": 5, \"Step-Child\": 6, \"Pers_rel_Other\": 7}}\n",
    "busi_rel_nums = {\"rel\":     {\"SPONSOR\": 8, \"SPONSEE\": 9, \"AUTO_RELATED\": 10,\"Busi_rel_Other\":11}}\n",
    "# zipcode_rel_nums = {\"rel\":     {\"Located_In\": 12,\"Location_of\": 13}}\n",
    "\n",
    "# start=time.time()\n",
    "Pers_Edges_bi.replace(pers_rel_nums, inplace=True)\n",
    "Busi_Edges_bi.replace(busi_rel_nums, inplace=True)\n",
    "# zipcode_Edges_bi.replace(zipcode_rel_nums, inplace=True)\n",
    "\n",
    "# end=time.time()\n",
    "# print(\"running time is {:0.4f}\".format(end-start))"
   ]
  },
  {
   "cell_type": "code",
   "execution_count": 25,
   "metadata": {},
   "outputs": [
    {
     "name": "stdout",
     "output_type": "stream",
     "text": [
      "[0 2 1 3 7 4 5 6]\n",
      "[10 11  8  9]\n"
     ]
    }
   ],
   "source": [
    "print(Pers_Edges_bi['rel'].unique())\n",
    "print(Busi_Edges_bi['rel'].unique())\n",
    "# print(zipcode_Edges_bi['rel'].unique())"
   ]
  },
  {
   "cell_type": "code",
   "execution_count": 26,
   "metadata": {},
   "outputs": [],
   "source": [
    "data_dict=dict()\n",
    "\n",
    "### Personal Relationship ###\n",
    "rel=np.array(Pers_Edges_bi['rel'])\n",
    "src_pers=np.array(Pers_Edges_bi['src'])\n",
    "dst_pers=np.array(Pers_Edges_bi['dst'])\n",
    "\n",
    "data_dict.update({('usaanr', 'Parent', 'usaanr')  :         (src_pers[rel==0], dst_pers[rel==0])})\n",
    "data_dict.update({('usaanr', 'Child', 'usaanr')   :         (src_pers[rel==1], dst_pers[rel==1])})\n",
    "data_dict.update({('usaanr', 'Spouse', 'usaanr')  :         (src_pers[rel==2], dst_pers[rel==2])})\n",
    "data_dict.update({('usaanr', 'Ex-Spouse', 'usaanr')  :      (src_pers[rel==3], dst_pers[rel==3])})\n",
    "data_dict.update({('usaanr', 'Brother_Sister', 'usaanr')  : (src_pers[rel==4], dst_pers[rel==4])})\n",
    "data_dict.update({('usaanr', 'Step-Parent', 'usaanr')     : (src_pers[rel==5], dst_pers[rel==5])})\n",
    "data_dict.update({('usaanr', 'Step-Child', 'usaanr')    :   (src_pers[rel==6], dst_pers[rel==6])})\n",
    "data_dict.update({('usaanr', 'Pers_rel_Other', 'usaanr')  : (src_pers[rel==7], dst_pers[rel==7])})\n",
    "\n",
    "### Business Relationship ###\n",
    "rel=np.array(Busi_Edges_bi['rel'])\n",
    "src_busi=np.array(Busi_Edges_bi['src'])\n",
    "dst_busi=np.array(Busi_Edges_bi['dst'])\n",
    "\n",
    "data_dict.update({('usaanr', 'SPONSOR', 'usaanr')    :      (src_busi[rel==8], dst_busi[rel==8])})\n",
    "data_dict.update({('usaanr', 'SPONSEE', 'usaanr')    :      (src_busi[rel==9], dst_busi[rel==9])})\n",
    "data_dict.update({('usaanr', 'AUTO_RELATED', 'usaanr')   :  (src_busi[rel==10], dst_busi[rel==10])})\n",
    "data_dict.update({('usaanr', 'Busi_rel_Other', 'usaanr') :  (src_busi[rel==11], dst_busi[rel==11])})\n",
    "\n",
    "### zipcode relationship ###\n",
    "# zipcode_Edges_v1=zipcode_Edges_bi[zipcode_Edges_bi['rel']==12]\n",
    "# src_v1=np.array(zipcode_Edges_v1['src'])\n",
    "# dst_v1=np.array(zipcode_Edges_v1['dst'])\n",
    "\n",
    "# zipcode_Edges_v2=zipcode_Edges_bi[zipcode_Edges_bi['rel']==13]\n",
    "# src_v2=np.array(zipcode_Edges_v2['src'])\n",
    "# dst_v2=np.array(zipcode_Edges_v2['dst'])\n",
    "\n",
    "# data_dict.update({('usaanr', 'Located_In', 'zipcode')  :   (src_v1, dst_v1)})\n",
    "# data_dict.update({('zipcode', 'Location_of','usaanr')  :   (src_v2, dst_v2)})"
   ]
  },
  {
   "cell_type": "code",
   "execution_count": 27,
   "metadata": {},
   "outputs": [
    {
     "name": "stdout",
     "output_type": "stream",
     "text": [
      "running time is 0.6430\n"
     ]
    }
   ],
   "source": [
    "start=time.time()\n",
    "g = dgl.heterograph(data_dict)\n",
    "end=time.time()\n",
    "print(\"running time is {:0.4f}\".format(end-start))"
   ]
  },
  {
   "cell_type": "code",
   "execution_count": 4,
   "metadata": {},
   "outputs": [],
   "source": [
    "def graph_show(G):\n",
    "    print('*'*50)\n",
    "    print(\"Node_types: \" , G.ntypes)\n",
    "    print(\"Edge_types: \" , G.etypes)\n",
    "    print('*'*50)\n",
    "    print(\"Canonical Etypes of Graph is:\\n\")\n",
    "    for srctype, etype, dsttype in G.canonical_etypes:\n",
    "        print(\"{:<20}{:<20}{:<20}\".format(srctype, etype, dsttype))\n",
    "    print('*'*50)\n",
    "    Total_ntype_num=0\n",
    "    for i in G.ntypes:\n",
    "        print(f\"number of ntype={i:<20}  {G.number_of_nodes(i):<15,}\")\n",
    "        Total_ntype_num+=G.number_of_nodes(i)\n",
    "    print('*'*50)\n",
    "    print(\"Total number of nodes is {:,}\".format(Total_ntype_num))\n",
    "    print('*'*50)\n",
    "    Total_edge_num=0\n",
    "    for j in G.etypes:\n",
    "        print(f\"number of etype={j:<20}  {G.number_of_edges(j):<15,}\")\n",
    "        Total_edge_num+=G.number_of_edges(j)\n",
    "    print('*'*50)\n",
    "    print(\"Total number of edges is {:,}\".format(Total_edge_num))\n",
    "    print('*'*50)\n",
    "    for nty in G.ntypes:\n",
    "        if G.nodes[nty].data!={}:\n",
    "            print('*'*50)\n",
    "            print(f\"The attributes for the node type={nty}\")\n",
    "            print('*'*50)\n",
    "            for key, scheme in G.node_attr_schemes(ntype=nty).items():\n",
    "                print(\"{:<40}{}\".format(key,G.nodes[nty].data[key].shape))"
   ]
  },
  {
   "cell_type": "code",
   "execution_count": 29,
   "metadata": {},
   "outputs": [
    {
     "name": "stdout",
     "output_type": "stream",
     "text": [
      "**************************************************\n",
      "Node_types:  ['usaanr']\n",
      "Edge_types:  ['AUTO_RELATED', 'Brother_Sister', 'Busi_rel_Other', 'Child', 'Ex-Spouse', 'Parent', 'Pers_rel_Other', 'SPONSEE', 'SPONSOR', 'Spouse', 'Step-Child', 'Step-Parent']\n",
      "**************************************************\n",
      "Canonical Etypes of Graph is:\n",
      "\n",
      "usaanr              AUTO_RELATED        usaanr              \n",
      "usaanr              Brother_Sister      usaanr              \n",
      "usaanr              Busi_rel_Other      usaanr              \n",
      "usaanr              Child               usaanr              \n",
      "usaanr              Ex-Spouse           usaanr              \n",
      "usaanr              Parent              usaanr              \n",
      "usaanr              Pers_rel_Other      usaanr              \n",
      "usaanr              SPONSEE             usaanr              \n",
      "usaanr              SPONSOR             usaanr              \n",
      "usaanr              Spouse              usaanr              \n",
      "usaanr              Step-Child          usaanr              \n",
      "usaanr              Step-Parent         usaanr              \n",
      "**************************************************\n",
      "number of ntype=usaanr                24,561,910     \n",
      "**************************************************\n",
      "Total number of nodes is 24,561,910\n",
      "**************************************************\n",
      "number of etype=AUTO_RELATED          8,056,456      \n",
      "number of etype=Brother_Sister        618,666        \n",
      "number of etype=Busi_rel_Other        1,022,064      \n",
      "number of etype=Child                 11,067,385     \n",
      "number of etype=Ex-Spouse             3,682,614      \n",
      "number of etype=Parent                11,067,385     \n",
      "number of etype=Pers_rel_Other        1,892,856      \n",
      "number of etype=SPONSEE               15,958,685     \n",
      "number of etype=SPONSOR               15,958,685     \n",
      "number of etype=Spouse                15,485,971     \n",
      "number of etype=Step-Child            1,165,991      \n",
      "number of etype=Step-Parent           1,165,991      \n",
      "**************************************************\n",
      "Total number of edges is 87,142,749\n",
      "**************************************************\n"
     ]
    }
   ],
   "source": [
    "graph_show(g)"
   ]
  },
  {
   "cell_type": "markdown",
   "metadata": {},
   "source": [
    "#### Adding features/attributes to the nodes of USAA Members\n",
    "The CAP dataset has some features for USAA Member.\n",
    "\n",
    "* usaayr:  USAA Number Issue Year\n",
    "* AGE / AGE BUCKET\n",
    "* ORIGEL :  Original Eligibility\n",
    "* ELIG2 : Current Eligibility\n",
    "* cmpyelig: Company Eligibility\n",
    "* Segment: Alpha ~ Juliet\n",
    "* SEX\n",
    "* MARST : Marriage Status\n",
    "* MILST : Military Status\n",
    "* MLIST_OrigStat: Original Military Status\n",
    "* ENLPAYGD: Military Pay Grade\n",
    "* BRANCH: Military BRANCH of Service\n",
    "* ACTCORP : Corporate Active Status\n",
    "* STATE\n",
    "* Segment: Alpha to Juliet\n",
    "* ZIPCD: zipcode\n",
    "\n",
    "\n",
    "We use label encoding for all categorial variables. <br>\n",
    "In addition, there is a node data \"type\" that indicates the node type of usaa member, zipcode in the heterogenous graph. <br>\n",
    "The nodes of zipcode don't have the same features as the node of member. "
   ]
  },
  {
   "cell_type": "code",
   "execution_count": 29,
   "metadata": {},
   "outputs": [
    {
     "data": {
      "text/plain": [
       "Index(['usaanr', 'USAAISSUSDT', 'usaayr', 'AGE', 'AGE_BAND', 'ORIGEL', 'ELIG2',\n",
       "       'cmpyelig', 'SEX', 'MARST', 'PERSST', 'DEATHSDT', 'BRANCH', 'MILST',\n",
       "       'MLIST_OrigStat', 'enl1stsdt', 'COMMSDT', 'ENLPAYGD', 'ACTCORP',\n",
       "       'ZIPCD', 'STATE', 'Segment', 'AUT_POL_ANN_PRM_AMT',\n",
       "       'HO_FIRE_POL_PRM_AMT', 'REN_POL_PRM_AMT', 'UMB_POL_PRM_AMT',\n",
       "       'VPP_POL_PRM_AMT', 'TOT_PRM_AMT', 'PROD_TRACE'],\n",
       "      dtype='object')"
      ]
     },
     "execution_count": 29,
     "metadata": {},
     "output_type": "execute_result"
    }
   ],
   "source": [
    "vertices.columns"
   ]
  },
  {
   "cell_type": "code",
   "execution_count": 34,
   "metadata": {},
   "outputs": [
    {
     "name": "stdout",
     "output_type": "stream",
     "text": [
      "size of original vertices 27,884,332     \n",
      "size of updated vertices 24,561,910     \n"
     ]
    }
   ],
   "source": [
    "if g.number_of_nodes(ntype=\"usaanr\")==vertices.shape[0]:\n",
    "    vertices_v2=vertices\n",
    "else:\n",
    "    vertices_v2=vertices[vertices['usaanr'].isin(all_usaanr)]\n",
    "print(\"{:<20} {:<15,}\".format(\"size of original vertices\",vertices.shape[0]))\n",
    "print(\"{:<20} {:<15,}\".format(\"size of updated vertices\",vertices_v2.shape[0]))\n",
    "\n",
    "# assert g.number_of_nodes(ntype=\"usaanr\")==vertices.shape[0], \"the shape of feature data is not equal to the number of USAA member\""
   ]
  },
  {
   "cell_type": "markdown",
   "metadata": {},
   "source": [
    "#### sort the vertices dataframe based on the order of nodes in graph"
   ]
  },
  {
   "cell_type": "code",
   "execution_count": 36,
   "metadata": {},
   "outputs": [
    {
     "name": "stdout",
     "output_type": "stream",
     "text": [
      "loading time is 38.8307\n",
      "The Shape of Dataset is (24561910, 29)\n"
     ]
    }
   ],
   "source": [
    "vertices_v2['usaanr'] = list(map(usaanr_map.get, vertices_v2['usaanr']))\n",
    "vertices_v2.sort_values(by=[\"usaanr\"],inplace=True)\n",
    "\n",
    "root_dir=\"/workspace/cjiang/eagle_project/CAP_graph/CAP_wihtout_zipcode/\"\n",
    "to_pickle(root_dir,vertices_v2,'vertices_reindex')\n",
    "vertices=read_pickle(root_dir,'vertices_reindex')"
   ]
  },
  {
   "cell_type": "markdown",
   "metadata": {},
   "source": [
    "#### Create node type feature\n",
    "The reason I create node type feature is to embedding the node USAA Member , product and zipcode separately. Unlike the node of usaanr,  the nodes of zipcode don't have other features except for node type"
   ]
  },
  {
   "cell_type": "code",
   "execution_count": 35,
   "metadata": {},
   "outputs": [],
   "source": [
    "#### Nodes type feature\n",
    "# g.nodes['usaanr'].data['type'] = torch.zeros(size=[g.number_of_nodes(ntype='usaanr'),1]).long()\n",
    "# g.nodes['zipcode'].data['type'] = torch.ones(size=[g.number_of_nodes(ntype='zipcode'),1]).long()"
   ]
  },
  {
   "cell_type": "code",
   "execution_count": 37,
   "metadata": {},
   "outputs": [],
   "source": [
    "#### Bin the numerical variable\n",
    "def Bin_Numerical(args,b):\n",
    "#     if args==0:\n",
    "#         return str(0)\n",
    "    for i in range(len(b)-1):\n",
    "        if args>=b[i] and args<=b[i+1]:\n",
    "#             return str((int(b[i]), int(b[i+1])))\n",
    "            return int(i)"
   ]
  },
  {
   "cell_type": "code",
   "execution_count": 38,
   "metadata": {},
   "outputs": [
    {
     "name": "stderr",
     "output_type": "stream",
     "text": [
      "100%|██████████| 15/15 [03:20<00:00, 13.39s/it]\n"
     ]
    }
   ],
   "source": [
    "feat=['usaayr','AGE_BAND','ORIGEL', 'ELIG2', 'cmpyelig','SEX', 'MARST','BRANCH','ENLPAYGD','MILST',\n",
    "       'MLIST_OrigStat','ACTCORP', 'STATE', 'Segment','ZIPCD']\n",
    "vertices_feat=vertices.loc[:,feat]\n",
    "\n",
    "# for col in vertices_feat:\n",
    "#     if col !='usaanr':\n",
    "#         vertices_feat[col]=vertices_feat[col].astype('str')\n",
    "    \n",
    "class_le=LabelEncoder()\n",
    "\n",
    "for i in tqdm(range(len(vertices_feat.columns)),position=0,leave=True):\n",
    "    col=vertices_feat.columns[i]\n",
    "    vertices_feat[col]=vertices_feat[col].astype('str')\n",
    "    vertices_feat[col]=class_le.fit_transform(vertices_feat[col])\n",
    "\n",
    "# for col in vertices_feat.columns:\n",
    "#     if vertices_feat[col].dtype==\"object\" and col !='usaanr':\n",
    "#         vertices_feat[col]=class_le.fit_transform(vertices_feat[col])"
   ]
  },
  {
   "cell_type": "code",
   "execution_count": 39,
   "metadata": {},
   "outputs": [],
   "source": [
    "for col in vertices_feat.columns:\n",
    "    g.nodes['usaanr'].data[col]= torch.tensor( np.expand_dims(np.array(vertices_feat[col]), 1) )"
   ]
  },
  {
   "cell_type": "markdown",
   "metadata": {},
   "source": [
    "#### create label"
   ]
  },
  {
   "cell_type": "code",
   "execution_count": 23,
   "metadata": {},
   "outputs": [
    {
     "data": {
      "text/html": [
       "<div>\n",
       "<style scoped>\n",
       "    .dataframe tbody tr th:only-of-type {\n",
       "        vertical-align: middle;\n",
       "    }\n",
       "\n",
       "    .dataframe tbody tr th {\n",
       "        vertical-align: top;\n",
       "    }\n",
       "\n",
       "    .dataframe thead th {\n",
       "        text-align: right;\n",
       "    }\n",
       "</style>\n",
       "<table border=\"1\" class=\"dataframe\">\n",
       "  <thead>\n",
       "    <tr style=\"text-align: right;\">\n",
       "      <th></th>\n",
       "      <th>USAA_Number</th>\n",
       "      <th>P_AUTO</th>\n",
       "      <th>P_HOME</th>\n",
       "      <th>P_RENT</th>\n",
       "      <th>Prod_Trace</th>\n",
       "    </tr>\n",
       "  </thead>\n",
       "  <tbody>\n",
       "    <tr>\n",
       "      <th>0</th>\n",
       "      <td>50777622</td>\n",
       "      <td>1</td>\n",
       "      <td>1</td>\n",
       "      <td>0</td>\n",
       "      <td>110</td>\n",
       "    </tr>\n",
       "    <tr>\n",
       "      <th>1</th>\n",
       "      <td>50777628</td>\n",
       "      <td>1</td>\n",
       "      <td>1</td>\n",
       "      <td>0</td>\n",
       "      <td>110</td>\n",
       "    </tr>\n",
       "  </tbody>\n",
       "</table>\n",
       "</div>"
      ],
      "text/plain": [
       "   USAA_Number  P_AUTO  P_HOME  P_RENT Prod_Trace\n",
       "0     50777622       1       1       0        110\n",
       "1     50777628       1       1       0        110"
      ]
     },
     "execution_count": 23,
     "metadata": {},
     "output_type": "execute_result"
    }
   ],
   "source": [
    "Flatten_Product_pickle.head(2)"
   ]
  },
  {
   "cell_type": "code",
   "execution_count": 24,
   "metadata": {},
   "outputs": [
    {
     "data": {
      "text/plain": [
       "7383666"
      ]
     },
     "execution_count": 24,
     "metadata": {},
     "output_type": "execute_result"
    }
   ],
   "source": [
    "Flatten_Product_pickle.shape[0]"
   ]
  },
  {
   "cell_type": "code",
   "execution_count": 25,
   "metadata": {},
   "outputs": [
    {
     "data": {
      "text/plain": [
       "24561121"
      ]
     },
     "execution_count": 25,
     "metadata": {},
     "output_type": "execute_result"
    }
   ],
   "source": [
    "prod_df=Flatten_Product_pickle[Flatten_Product_pickle[\"USAA_Number\"].isin(all_usaanr)]\n",
    "prod_df=prod_df.loc[:,[\"USAA_Number\",\"Prod_Trace\"]].rename(columns={\"USAA_Number\":\"usaanr\"})\n",
    "prod_df['usaanr'] = list(map(usaanr_map.get, prod_df['usaanr']))\n",
    "prod_df['usaanr'].unique().max()"
   ]
  },
  {
   "cell_type": "code",
   "execution_count": 30,
   "metadata": {},
   "outputs": [
    {
     "name": "stdout",
     "output_type": "stream",
     "text": [
      "loading time is 31.8726\n",
      "The Shape of Dataset is (24561910, 29)\n"
     ]
    }
   ],
   "source": [
    "vertices=read_pickle(root_dir,'vertices_reindex')"
   ]
  },
  {
   "cell_type": "code",
   "execution_count": 31,
   "metadata": {},
   "outputs": [],
   "source": [
    "vertices_v1=vertices.merge(prod_df, on='usaanr', how=\"left\").loc[:,['usaanr',\"Prod_Trace\"]]"
   ]
  },
  {
   "cell_type": "code",
   "execution_count": 32,
   "metadata": {},
   "outputs": [
    {
     "data": {
      "text/plain": [
       "NaN    17906619\n",
       "110     2790185\n",
       "100     2123313\n",
       "101     1257366\n",
       "001      222153\n",
       "010      206359\n",
       "111       53393\n",
       "011        2522\n",
       "Name: Prod_Trace, dtype: int64"
      ]
     },
     "execution_count": 32,
     "metadata": {},
     "output_type": "execute_result"
    }
   ],
   "source": [
    "vertices_v1[\"Prod_Trace\"].value_counts(dropna=False)"
   ]
  },
  {
   "cell_type": "code",
   "execution_count": 33,
   "metadata": {},
   "outputs": [],
   "source": [
    "vertices_v1.fillna(value={\"Prod_Trace\":\"000\"},inplace=True)\n",
    "vertices_v1.sort_values(by=[\"usaanr\"],inplace=True)\n",
    "# vertices_v1[\"Prod_Trace\"].value_counts(dropna=False)                          "
   ]
  },
  {
   "cell_type": "code",
   "execution_count": 34,
   "metadata": {},
   "outputs": [
    {
     "data": {
      "text/html": [
       "<style  type=\"text/css\" >\n",
       "</style><table id=\"T_2da203f4_6518_11eb_91ab_0242ac110006\" ><thead>    <tr>        <th class=\"blank level0\" ></th>        <th class=\"col_heading level0 col0\" >product</th>        <th class=\"col_heading level0 col1\" >count</th>        <th class=\"col_heading level0 col2\" >percentage</th>    </tr></thead><tbody>\n",
       "                <tr>\n",
       "                        <th id=\"T_2da203f4_6518_11eb_91ab_0242ac110006level0_row0\" class=\"row_heading level0 row0\" >0</th>\n",
       "                        <td id=\"T_2da203f4_6518_11eb_91ab_0242ac110006row0_col0\" class=\"data row0 col0\" >000</td>\n",
       "                        <td id=\"T_2da203f4_6518_11eb_91ab_0242ac110006row0_col1\" class=\"data row0 col1\" >17,906,619</td>\n",
       "                        <td id=\"T_2da203f4_6518_11eb_91ab_0242ac110006row0_col2\" class=\"data row0 col2\" >72.90%</td>\n",
       "            </tr>\n",
       "            <tr>\n",
       "                        <th id=\"T_2da203f4_6518_11eb_91ab_0242ac110006level0_row1\" class=\"row_heading level0 row1\" >1</th>\n",
       "                        <td id=\"T_2da203f4_6518_11eb_91ab_0242ac110006row1_col0\" class=\"data row1 col0\" >110</td>\n",
       "                        <td id=\"T_2da203f4_6518_11eb_91ab_0242ac110006row1_col1\" class=\"data row1 col1\" >2,790,185</td>\n",
       "                        <td id=\"T_2da203f4_6518_11eb_91ab_0242ac110006row1_col2\" class=\"data row1 col2\" >11.36%</td>\n",
       "            </tr>\n",
       "            <tr>\n",
       "                        <th id=\"T_2da203f4_6518_11eb_91ab_0242ac110006level0_row2\" class=\"row_heading level0 row2\" >2</th>\n",
       "                        <td id=\"T_2da203f4_6518_11eb_91ab_0242ac110006row2_col0\" class=\"data row2 col0\" >100</td>\n",
       "                        <td id=\"T_2da203f4_6518_11eb_91ab_0242ac110006row2_col1\" class=\"data row2 col1\" >2,123,313</td>\n",
       "                        <td id=\"T_2da203f4_6518_11eb_91ab_0242ac110006row2_col2\" class=\"data row2 col2\" >8.64%</td>\n",
       "            </tr>\n",
       "            <tr>\n",
       "                        <th id=\"T_2da203f4_6518_11eb_91ab_0242ac110006level0_row3\" class=\"row_heading level0 row3\" >3</th>\n",
       "                        <td id=\"T_2da203f4_6518_11eb_91ab_0242ac110006row3_col0\" class=\"data row3 col0\" >101</td>\n",
       "                        <td id=\"T_2da203f4_6518_11eb_91ab_0242ac110006row3_col1\" class=\"data row3 col1\" >1,257,366</td>\n",
       "                        <td id=\"T_2da203f4_6518_11eb_91ab_0242ac110006row3_col2\" class=\"data row3 col2\" >5.12%</td>\n",
       "            </tr>\n",
       "            <tr>\n",
       "                        <th id=\"T_2da203f4_6518_11eb_91ab_0242ac110006level0_row4\" class=\"row_heading level0 row4\" >4</th>\n",
       "                        <td id=\"T_2da203f4_6518_11eb_91ab_0242ac110006row4_col0\" class=\"data row4 col0\" >001</td>\n",
       "                        <td id=\"T_2da203f4_6518_11eb_91ab_0242ac110006row4_col1\" class=\"data row4 col1\" >222,153</td>\n",
       "                        <td id=\"T_2da203f4_6518_11eb_91ab_0242ac110006row4_col2\" class=\"data row4 col2\" >0.90%</td>\n",
       "            </tr>\n",
       "            <tr>\n",
       "                        <th id=\"T_2da203f4_6518_11eb_91ab_0242ac110006level0_row5\" class=\"row_heading level0 row5\" >5</th>\n",
       "                        <td id=\"T_2da203f4_6518_11eb_91ab_0242ac110006row5_col0\" class=\"data row5 col0\" >010</td>\n",
       "                        <td id=\"T_2da203f4_6518_11eb_91ab_0242ac110006row5_col1\" class=\"data row5 col1\" >206,359</td>\n",
       "                        <td id=\"T_2da203f4_6518_11eb_91ab_0242ac110006row5_col2\" class=\"data row5 col2\" >0.84%</td>\n",
       "            </tr>\n",
       "            <tr>\n",
       "                        <th id=\"T_2da203f4_6518_11eb_91ab_0242ac110006level0_row6\" class=\"row_heading level0 row6\" >6</th>\n",
       "                        <td id=\"T_2da203f4_6518_11eb_91ab_0242ac110006row6_col0\" class=\"data row6 col0\" >111</td>\n",
       "                        <td id=\"T_2da203f4_6518_11eb_91ab_0242ac110006row6_col1\" class=\"data row6 col1\" >53,393</td>\n",
       "                        <td id=\"T_2da203f4_6518_11eb_91ab_0242ac110006row6_col2\" class=\"data row6 col2\" >0.22%</td>\n",
       "            </tr>\n",
       "            <tr>\n",
       "                        <th id=\"T_2da203f4_6518_11eb_91ab_0242ac110006level0_row7\" class=\"row_heading level0 row7\" >7</th>\n",
       "                        <td id=\"T_2da203f4_6518_11eb_91ab_0242ac110006row7_col0\" class=\"data row7 col0\" >011</td>\n",
       "                        <td id=\"T_2da203f4_6518_11eb_91ab_0242ac110006row7_col1\" class=\"data row7 col1\" >2,522</td>\n",
       "                        <td id=\"T_2da203f4_6518_11eb_91ab_0242ac110006row7_col2\" class=\"data row7 col2\" >0.01%</td>\n",
       "            </tr>\n",
       "    </tbody></table>"
      ],
      "text/plain": [
       "<pandas.io.formats.style.Styler at 0x7f79ed177ef0>"
      ]
     },
     "execution_count": 34,
     "metadata": {},
     "output_type": "execute_result"
    }
   ],
   "source": [
    "tempt1=pd.DataFrame(vertices_v1[\"Prod_Trace\"].value_counts()).reset_index().rename(columns={'index':'product','Prod_Trace':'count'})\n",
    "tempt2=pd.DataFrame(vertices_v1[\"Prod_Trace\"].value_counts(normalize=True)).reset_index().rename(columns={'index':'product','Prod_Trace':'percentage'})\n",
    "tempt1.merge(tempt2, on=\"product\", how=\"inner\").style.format({'count':'{:,}','percentage':'{:.2%}'})"
   ]
  },
  {
   "cell_type": "code",
   "execution_count": 47,
   "metadata": {},
   "outputs": [
    {
     "data": {
      "text/plain": [
       "{'000': 0,\n",
       " '001': 1,\n",
       " '010': 2,\n",
       " '011': 3,\n",
       " '100': 4,\n",
       " '101': 5,\n",
       " '110': 6,\n",
       " '111': 7}"
      ]
     },
     "execution_count": 47,
     "metadata": {},
     "output_type": "execute_result"
    }
   ],
   "source": [
    "Prod_Trace = vertices_v1[\"Prod_Trace\"].unique()\n",
    "Prod_Trace.sort()\n",
    "product_map = {id:idx for idx, id in enumerate(Prod_Trace)}\n",
    "product_map"
   ]
  },
  {
   "cell_type": "code",
   "execution_count": 48,
   "metadata": {},
   "outputs": [],
   "source": [
    "vertices_v1['Prod_Trace'] = list(map(product_map.get, vertices_v1['Prod_Trace']))\n",
    "node_labels=torch.tensor(np.expand_dims(np.array(vertices_v1.loc[:,\"Prod_Trace\"]),1))"
   ]
  },
  {
   "cell_type": "code",
   "execution_count": 28,
   "metadata": {},
   "outputs": [
    {
     "data": {
      "text/plain": [
       "6655291"
      ]
     },
     "execution_count": 28,
     "metadata": {},
     "output_type": "execute_result"
    }
   ],
   "source": [
    "prod_df.shape[0]"
   ]
  },
  {
   "cell_type": "markdown",
   "metadata": {},
   "source": [
    "#### Create training(80%), validation(10%) and test(10%) mask based on each category of product"
   ]
  },
  {
   "cell_type": "code",
   "execution_count": 50,
   "metadata": {},
   "outputs": [],
   "source": [
    "def mask_func(train_idx,all_idx):\n",
    "    train_idx=pd.DataFrame({\"idx\":train_idx})\n",
    "    all_idx=pd.DataFrame({\"idx\":all_idx})\n",
    "    all_index = all_idx.set_index(['idx']).index\n",
    "    train_index = train_idx.set_index(['idx']).index\n",
    "    mask = all_index.isin(train_index)\n",
    "    return mask"
   ]
  },
  {
   "cell_type": "code",
   "execution_count": 51,
   "metadata": {},
   "outputs": [
    {
     "name": "stderr",
     "output_type": "stream",
     "text": [
      "100%|██████████| 8/8 [00:02<00:00,  2.71it/s]\n"
     ]
    }
   ],
   "source": [
    "train_idx=[]\n",
    "val_idx=[]\n",
    "test_idx=[]\n",
    "\n",
    "LABEL=node_labels.numpy().squeeze()\n",
    "IDX=np.arange(LABEL.shape[0])\n",
    "prod_list=np.unique(LABEL).tolist()\n",
    "for i in tqdm(range(len(prod_list)),position=0,leave=True):\n",
    "    _idx=IDX[LABEL==prod_list[i]]\n",
    "    np.random.seed(101)\n",
    "    np.random.shuffle(_idx)\n",
    "    test_idx.extend(_idx[:len(_idx)//10])\n",
    "    val_idx.extend(_idx[len(_idx)//10 : len(_idx)//5])\n",
    "    train_idx.extend(_idx[len(_idx)//5:])"
   ]
  },
  {
   "cell_type": "code",
   "execution_count": 52,
   "metadata": {},
   "outputs": [
    {
     "name": "stdout",
     "output_type": "stream",
     "text": [
      "dimension of training mask    19,649,532\n",
      "dimension of val mask         2,456,191 \n",
      "dimension of test mask        2,456,187 \n"
     ]
    }
   ],
   "source": [
    "all_idx=np.arange(g.number_of_nodes(ntype=\"usaanr\"))\n",
    "\n",
    "test_idx=np.array(test_idx)\n",
    "val_idx=np.array(val_idx)\n",
    "train_idx=np.array(train_idx)\n",
    "\n",
    "train_mask=mask_func(train_idx,all_idx)\n",
    "val_mask=mask_func(val_idx,all_idx)\n",
    "test_mask=mask_func(test_idx,all_idx)\n",
    "\n",
    "train_mask=torch.tensor(train_mask,dtype=bool)\n",
    "val_mask=torch.tensor(val_mask,dtype=bool)\n",
    "test_mask=torch.tensor(test_mask,dtype=bool)\n",
    "\n",
    "print(\"{:<30}{:<10,}\".format(\"dimension of training mask\", torch.sum(train_mask).item()))\n",
    "print(\"{:<30}{:<10,}\".format(\"dimension of val mask\", torch.sum(val_mask).item()))\n",
    "print(\"{:<30}{:<10,}\".format(\"dimension of test mask\", torch.sum(test_mask).item()))"
   ]
  },
  {
   "cell_type": "code",
   "execution_count": 53,
   "metadata": {},
   "outputs": [
    {
     "data": {
      "text/html": [
       "<style  type=\"text/css\" >\n",
       "</style><table id=\"T_74aa4224_625d_11eb_8b34_0242ac110005\" ><thead>    <tr>        <th class=\"blank level0\" ></th>        <th class=\"col_heading level0 col0\" >product</th>        <th class=\"col_heading level0 col1\" >count</th>    </tr></thead><tbody>\n",
       "                <tr>\n",
       "                        <th id=\"T_74aa4224_625d_11eb_8b34_0242ac110005level0_row0\" class=\"row_heading level0 row0\" >0</th>\n",
       "                        <td id=\"T_74aa4224_625d_11eb_8b34_0242ac110005row0_col0\" class=\"data row0 col0\" >0</td>\n",
       "                        <td id=\"T_74aa4224_625d_11eb_8b34_0242ac110005row0_col1\" class=\"data row0 col1\" >14,325,296</td>\n",
       "            </tr>\n",
       "            <tr>\n",
       "                        <th id=\"T_74aa4224_625d_11eb_8b34_0242ac110005level0_row1\" class=\"row_heading level0 row1\" >1</th>\n",
       "                        <td id=\"T_74aa4224_625d_11eb_8b34_0242ac110005row1_col0\" class=\"data row1 col0\" >6</td>\n",
       "                        <td id=\"T_74aa4224_625d_11eb_8b34_0242ac110005row1_col1\" class=\"data row1 col1\" >2,232,148</td>\n",
       "            </tr>\n",
       "            <tr>\n",
       "                        <th id=\"T_74aa4224_625d_11eb_8b34_0242ac110005level0_row2\" class=\"row_heading level0 row2\" >2</th>\n",
       "                        <td id=\"T_74aa4224_625d_11eb_8b34_0242ac110005row2_col0\" class=\"data row2 col0\" >4</td>\n",
       "                        <td id=\"T_74aa4224_625d_11eb_8b34_0242ac110005row2_col1\" class=\"data row2 col1\" >1,698,651</td>\n",
       "            </tr>\n",
       "            <tr>\n",
       "                        <th id=\"T_74aa4224_625d_11eb_8b34_0242ac110005level0_row3\" class=\"row_heading level0 row3\" >3</th>\n",
       "                        <td id=\"T_74aa4224_625d_11eb_8b34_0242ac110005row3_col0\" class=\"data row3 col0\" >5</td>\n",
       "                        <td id=\"T_74aa4224_625d_11eb_8b34_0242ac110005row3_col1\" class=\"data row3 col1\" >1,005,893</td>\n",
       "            </tr>\n",
       "            <tr>\n",
       "                        <th id=\"T_74aa4224_625d_11eb_8b34_0242ac110005level0_row4\" class=\"row_heading level0 row4\" >4</th>\n",
       "                        <td id=\"T_74aa4224_625d_11eb_8b34_0242ac110005row4_col0\" class=\"data row4 col0\" >1</td>\n",
       "                        <td id=\"T_74aa4224_625d_11eb_8b34_0242ac110005row4_col1\" class=\"data row4 col1\" >177,723</td>\n",
       "            </tr>\n",
       "            <tr>\n",
       "                        <th id=\"T_74aa4224_625d_11eb_8b34_0242ac110005level0_row5\" class=\"row_heading level0 row5\" >5</th>\n",
       "                        <td id=\"T_74aa4224_625d_11eb_8b34_0242ac110005row5_col0\" class=\"data row5 col0\" >2</td>\n",
       "                        <td id=\"T_74aa4224_625d_11eb_8b34_0242ac110005row5_col1\" class=\"data row5 col1\" >165,088</td>\n",
       "            </tr>\n",
       "            <tr>\n",
       "                        <th id=\"T_74aa4224_625d_11eb_8b34_0242ac110005level0_row6\" class=\"row_heading level0 row6\" >6</th>\n",
       "                        <td id=\"T_74aa4224_625d_11eb_8b34_0242ac110005row6_col0\" class=\"data row6 col0\" >7</td>\n",
       "                        <td id=\"T_74aa4224_625d_11eb_8b34_0242ac110005row6_col1\" class=\"data row6 col1\" >42,715</td>\n",
       "            </tr>\n",
       "            <tr>\n",
       "                        <th id=\"T_74aa4224_625d_11eb_8b34_0242ac110005level0_row7\" class=\"row_heading level0 row7\" >7</th>\n",
       "                        <td id=\"T_74aa4224_625d_11eb_8b34_0242ac110005row7_col0\" class=\"data row7 col0\" >3</td>\n",
       "                        <td id=\"T_74aa4224_625d_11eb_8b34_0242ac110005row7_col1\" class=\"data row7 col1\" >2,018</td>\n",
       "            </tr>\n",
       "    </tbody></table>"
      ],
      "text/plain": [
       "<pandas.io.formats.style.Styler at 0x7f51dc2e0dd8>"
      ]
     },
     "execution_count": 53,
     "metadata": {},
     "output_type": "execute_result"
    }
   ],
   "source": [
    "pd.DataFrame(vertices_v1.iloc[train_idx][\"Prod_Trace\"].value_counts(dropna=False)).reset_index().\\\n",
    "rename(columns={'index':'product','Prod_Trace':'count'}).style.format({'count':'{:,}'})"
   ]
  },
  {
   "cell_type": "code",
   "execution_count": 54,
   "metadata": {},
   "outputs": [
    {
     "data": {
      "text/html": [
       "<style  type=\"text/css\" >\n",
       "</style><table id=\"T_74c68f38_625d_11eb_8b34_0242ac110005\" ><thead>    <tr>        <th class=\"blank level0\" ></th>        <th class=\"col_heading level0 col0\" >product</th>        <th class=\"col_heading level0 col1\" >count</th>    </tr></thead><tbody>\n",
       "                <tr>\n",
       "                        <th id=\"T_74c68f38_625d_11eb_8b34_0242ac110005level0_row0\" class=\"row_heading level0 row0\" >0</th>\n",
       "                        <td id=\"T_74c68f38_625d_11eb_8b34_0242ac110005row0_col0\" class=\"data row0 col0\" >0</td>\n",
       "                        <td id=\"T_74c68f38_625d_11eb_8b34_0242ac110005row0_col1\" class=\"data row0 col1\" >1,790,662</td>\n",
       "            </tr>\n",
       "            <tr>\n",
       "                        <th id=\"T_74c68f38_625d_11eb_8b34_0242ac110005level0_row1\" class=\"row_heading level0 row1\" >1</th>\n",
       "                        <td id=\"T_74c68f38_625d_11eb_8b34_0242ac110005row1_col0\" class=\"data row1 col0\" >6</td>\n",
       "                        <td id=\"T_74c68f38_625d_11eb_8b34_0242ac110005row1_col1\" class=\"data row1 col1\" >279,019</td>\n",
       "            </tr>\n",
       "            <tr>\n",
       "                        <th id=\"T_74c68f38_625d_11eb_8b34_0242ac110005level0_row2\" class=\"row_heading level0 row2\" >2</th>\n",
       "                        <td id=\"T_74c68f38_625d_11eb_8b34_0242ac110005row2_col0\" class=\"data row2 col0\" >4</td>\n",
       "                        <td id=\"T_74c68f38_625d_11eb_8b34_0242ac110005row2_col1\" class=\"data row2 col1\" >212,331</td>\n",
       "            </tr>\n",
       "            <tr>\n",
       "                        <th id=\"T_74c68f38_625d_11eb_8b34_0242ac110005level0_row3\" class=\"row_heading level0 row3\" >3</th>\n",
       "                        <td id=\"T_74c68f38_625d_11eb_8b34_0242ac110005row3_col0\" class=\"data row3 col0\" >5</td>\n",
       "                        <td id=\"T_74c68f38_625d_11eb_8b34_0242ac110005row3_col1\" class=\"data row3 col1\" >125,737</td>\n",
       "            </tr>\n",
       "            <tr>\n",
       "                        <th id=\"T_74c68f38_625d_11eb_8b34_0242ac110005level0_row4\" class=\"row_heading level0 row4\" >4</th>\n",
       "                        <td id=\"T_74c68f38_625d_11eb_8b34_0242ac110005row4_col0\" class=\"data row4 col0\" >1</td>\n",
       "                        <td id=\"T_74c68f38_625d_11eb_8b34_0242ac110005row4_col1\" class=\"data row4 col1\" >22,215</td>\n",
       "            </tr>\n",
       "            <tr>\n",
       "                        <th id=\"T_74c68f38_625d_11eb_8b34_0242ac110005level0_row5\" class=\"row_heading level0 row5\" >5</th>\n",
       "                        <td id=\"T_74c68f38_625d_11eb_8b34_0242ac110005row5_col0\" class=\"data row5 col0\" >2</td>\n",
       "                        <td id=\"T_74c68f38_625d_11eb_8b34_0242ac110005row5_col1\" class=\"data row5 col1\" >20,636</td>\n",
       "            </tr>\n",
       "            <tr>\n",
       "                        <th id=\"T_74c68f38_625d_11eb_8b34_0242ac110005level0_row6\" class=\"row_heading level0 row6\" >6</th>\n",
       "                        <td id=\"T_74c68f38_625d_11eb_8b34_0242ac110005row6_col0\" class=\"data row6 col0\" >7</td>\n",
       "                        <td id=\"T_74c68f38_625d_11eb_8b34_0242ac110005row6_col1\" class=\"data row6 col1\" >5,339</td>\n",
       "            </tr>\n",
       "            <tr>\n",
       "                        <th id=\"T_74c68f38_625d_11eb_8b34_0242ac110005level0_row7\" class=\"row_heading level0 row7\" >7</th>\n",
       "                        <td id=\"T_74c68f38_625d_11eb_8b34_0242ac110005row7_col0\" class=\"data row7 col0\" >3</td>\n",
       "                        <td id=\"T_74c68f38_625d_11eb_8b34_0242ac110005row7_col1\" class=\"data row7 col1\" >252</td>\n",
       "            </tr>\n",
       "    </tbody></table>"
      ],
      "text/plain": [
       "<pandas.io.formats.style.Styler at 0x7f51dbeca8d0>"
      ]
     },
     "execution_count": 54,
     "metadata": {},
     "output_type": "execute_result"
    }
   ],
   "source": [
    "pd.DataFrame(vertices_v1.iloc[val_idx][\"Prod_Trace\"].value_counts(dropna=False)).reset_index().\\\n",
    "rename(columns={'index':'product','Prod_Trace':'count'}).style.format({'count':'{:,}'})"
   ]
  },
  {
   "cell_type": "code",
   "execution_count": 55,
   "metadata": {},
   "outputs": [
    {
     "data": {
      "text/html": [
       "<style  type=\"text/css\" >\n",
       "</style><table id=\"T_74dc97ce_625d_11eb_8b34_0242ac110005\" ><thead>    <tr>        <th class=\"blank level0\" ></th>        <th class=\"col_heading level0 col0\" >product</th>        <th class=\"col_heading level0 col1\" >count</th>    </tr></thead><tbody>\n",
       "                <tr>\n",
       "                        <th id=\"T_74dc97ce_625d_11eb_8b34_0242ac110005level0_row0\" class=\"row_heading level0 row0\" >0</th>\n",
       "                        <td id=\"T_74dc97ce_625d_11eb_8b34_0242ac110005row0_col0\" class=\"data row0 col0\" >0</td>\n",
       "                        <td id=\"T_74dc97ce_625d_11eb_8b34_0242ac110005row0_col1\" class=\"data row0 col1\" >1,790,661</td>\n",
       "            </tr>\n",
       "            <tr>\n",
       "                        <th id=\"T_74dc97ce_625d_11eb_8b34_0242ac110005level0_row1\" class=\"row_heading level0 row1\" >1</th>\n",
       "                        <td id=\"T_74dc97ce_625d_11eb_8b34_0242ac110005row1_col0\" class=\"data row1 col0\" >6</td>\n",
       "                        <td id=\"T_74dc97ce_625d_11eb_8b34_0242ac110005row1_col1\" class=\"data row1 col1\" >279,018</td>\n",
       "            </tr>\n",
       "            <tr>\n",
       "                        <th id=\"T_74dc97ce_625d_11eb_8b34_0242ac110005level0_row2\" class=\"row_heading level0 row2\" >2</th>\n",
       "                        <td id=\"T_74dc97ce_625d_11eb_8b34_0242ac110005row2_col0\" class=\"data row2 col0\" >4</td>\n",
       "                        <td id=\"T_74dc97ce_625d_11eb_8b34_0242ac110005row2_col1\" class=\"data row2 col1\" >212,331</td>\n",
       "            </tr>\n",
       "            <tr>\n",
       "                        <th id=\"T_74dc97ce_625d_11eb_8b34_0242ac110005level0_row3\" class=\"row_heading level0 row3\" >3</th>\n",
       "                        <td id=\"T_74dc97ce_625d_11eb_8b34_0242ac110005row3_col0\" class=\"data row3 col0\" >5</td>\n",
       "                        <td id=\"T_74dc97ce_625d_11eb_8b34_0242ac110005row3_col1\" class=\"data row3 col1\" >125,736</td>\n",
       "            </tr>\n",
       "            <tr>\n",
       "                        <th id=\"T_74dc97ce_625d_11eb_8b34_0242ac110005level0_row4\" class=\"row_heading level0 row4\" >4</th>\n",
       "                        <td id=\"T_74dc97ce_625d_11eb_8b34_0242ac110005row4_col0\" class=\"data row4 col0\" >1</td>\n",
       "                        <td id=\"T_74dc97ce_625d_11eb_8b34_0242ac110005row4_col1\" class=\"data row4 col1\" >22,215</td>\n",
       "            </tr>\n",
       "            <tr>\n",
       "                        <th id=\"T_74dc97ce_625d_11eb_8b34_0242ac110005level0_row5\" class=\"row_heading level0 row5\" >5</th>\n",
       "                        <td id=\"T_74dc97ce_625d_11eb_8b34_0242ac110005row5_col0\" class=\"data row5 col0\" >2</td>\n",
       "                        <td id=\"T_74dc97ce_625d_11eb_8b34_0242ac110005row5_col1\" class=\"data row5 col1\" >20,635</td>\n",
       "            </tr>\n",
       "            <tr>\n",
       "                        <th id=\"T_74dc97ce_625d_11eb_8b34_0242ac110005level0_row6\" class=\"row_heading level0 row6\" >6</th>\n",
       "                        <td id=\"T_74dc97ce_625d_11eb_8b34_0242ac110005row6_col0\" class=\"data row6 col0\" >7</td>\n",
       "                        <td id=\"T_74dc97ce_625d_11eb_8b34_0242ac110005row6_col1\" class=\"data row6 col1\" >5,339</td>\n",
       "            </tr>\n",
       "            <tr>\n",
       "                        <th id=\"T_74dc97ce_625d_11eb_8b34_0242ac110005level0_row7\" class=\"row_heading level0 row7\" >7</th>\n",
       "                        <td id=\"T_74dc97ce_625d_11eb_8b34_0242ac110005row7_col0\" class=\"data row7 col0\" >3</td>\n",
       "                        <td id=\"T_74dc97ce_625d_11eb_8b34_0242ac110005row7_col1\" class=\"data row7 col1\" >252</td>\n",
       "            </tr>\n",
       "    </tbody></table>"
      ],
      "text/plain": [
       "<pandas.io.formats.style.Styler at 0x7f51dc50c0b8>"
      ]
     },
     "execution_count": 55,
     "metadata": {},
     "output_type": "execute_result"
    }
   ],
   "source": [
    "pd.DataFrame(vertices_v1.iloc[test_idx][\"Prod_Trace\"].value_counts(dropna=False)).reset_index().\\\n",
    "rename(columns={'index':'product','Prod_Trace':'count'}).style.format({'count':'{:,}'})"
   ]
  },
  {
   "cell_type": "code",
   "execution_count": 56,
   "metadata": {},
   "outputs": [],
   "source": [
    "g.nodes[\"usaanr\"].data[\"train_mask\"]=train_mask.unsqueeze(1)\n",
    "g.nodes[\"usaanr\"].data[\"val_mask\"]=val_mask.unsqueeze(1)\n",
    "g.nodes[\"usaanr\"].data[\"test_mask\"]=test_mask.unsqueeze(1)"
   ]
  },
  {
   "cell_type": "markdown",
   "metadata": {},
   "source": [
    "#### Save Graph"
   ]
  },
  {
   "cell_type": "code",
   "execution_count": 57,
   "metadata": {},
   "outputs": [
    {
     "name": "stdout",
     "output_type": "stream",
     "text": [
      "It took 21.1254 seconds to save graph database\n"
     ]
    }
   ],
   "source": [
    "graph_dir=\"/workspace/cjiang/eagle_project/CAP_graph/CAP_wihtout_zipcode/\"\n",
    "start=time.time()\n",
    "with open(os.path.join(graph_dir,\"CAP_Graph\"),\"wb\") as f:\n",
    "    pickle.dump((g,node_labels),f)\n",
    "end=time.time()\n",
    "print(\"It took {:0.4f} seconds to save graph database\".format(end-start))"
   ]
  },
  {
   "cell_type": "code",
   "execution_count": 2,
   "metadata": {},
   "outputs": [
    {
     "name": "stdout",
     "output_type": "stream",
     "text": [
      "It took 8.6530 seconds to load graph database\n"
     ]
    }
   ],
   "source": [
    "graph_dir=\"/workspace/cjiang/eagle_project/CAP_graph/CAP_wihtout_zipcode/\"\n",
    "start=time.time()\n",
    "with open(os.path.join(graph_dir,\"CAP_Graph\"),\"rb\") as f:\n",
    "    G,node_labels=pickle.load(f)\n",
    "end=time.time()\n",
    "print(\"It took {:0.4f} seconds to load graph database\".format(end-start))"
   ]
  },
  {
   "cell_type": "code",
   "execution_count": 6,
   "metadata": {},
   "outputs": [
    {
     "name": "stdout",
     "output_type": "stream",
     "text": [
      "**************************************************\n",
      "Node_types:  ['usaanr']\n",
      "Edge_types:  ['AUTO_RELATED', 'Brother_Sister', 'Busi_rel_Other', 'Child', 'Ex-Spouse', 'Parent', 'Pers_rel_Other', 'SPONSEE', 'SPONSOR', 'Spouse', 'Step-Child', 'Step-Parent']\n",
      "**************************************************\n",
      "Canonical Etypes of Graph is:\n",
      "\n",
      "usaanr              AUTO_RELATED        usaanr              \n",
      "usaanr              Brother_Sister      usaanr              \n",
      "usaanr              Busi_rel_Other      usaanr              \n",
      "usaanr              Child               usaanr              \n",
      "usaanr              Ex-Spouse           usaanr              \n",
      "usaanr              Parent              usaanr              \n",
      "usaanr              Pers_rel_Other      usaanr              \n",
      "usaanr              SPONSEE             usaanr              \n",
      "usaanr              SPONSOR             usaanr              \n",
      "usaanr              Spouse              usaanr              \n",
      "usaanr              Step-Child          usaanr              \n",
      "usaanr              Step-Parent         usaanr              \n",
      "**************************************************\n",
      "number of ntype=usaanr                24,561,910     \n",
      "**************************************************\n",
      "Total number of nodes is 24,561,910\n",
      "**************************************************\n",
      "number of etype=AUTO_RELATED          8,056,456      \n",
      "number of etype=Brother_Sister        618,666        \n",
      "number of etype=Busi_rel_Other        1,022,064      \n",
      "number of etype=Child                 11,067,385     \n",
      "number of etype=Ex-Spouse             3,682,614      \n",
      "number of etype=Parent                11,067,385     \n",
      "number of etype=Pers_rel_Other        1,892,856      \n",
      "number of etype=SPONSEE               15,958,685     \n",
      "number of etype=SPONSOR               15,958,685     \n",
      "number of etype=Spouse                15,485,971     \n",
      "number of etype=Step-Child            1,165,991      \n",
      "number of etype=Step-Parent           1,165,991      \n",
      "**************************************************\n",
      "Total number of edges is 87,142,749\n",
      "**************************************************\n",
      "**************************************************\n",
      "The attributes for the node type=usaanr\n",
      "**************************************************\n",
      "usaayr                                  torch.Size([24561910, 1])\n",
      "AGE_BAND                                torch.Size([24561910, 1])\n",
      "ORIGEL                                  torch.Size([24561910, 1])\n",
      "ELIG2                                   torch.Size([24561910, 1])\n",
      "cmpyelig                                torch.Size([24561910, 1])\n",
      "SEX                                     torch.Size([24561910, 1])\n",
      "MARST                                   torch.Size([24561910, 1])\n",
      "BRANCH                                  torch.Size([24561910, 1])\n",
      "ENLPAYGD                                torch.Size([24561910, 1])\n",
      "MILST                                   torch.Size([24561910, 1])\n",
      "MLIST_OrigStat                          torch.Size([24561910, 1])\n",
      "ACTCORP                                 torch.Size([24561910, 1])\n",
      "STATE                                   torch.Size([24561910, 1])\n",
      "Segment                                 torch.Size([24561910, 1])\n",
      "ZIPCD                                   torch.Size([24561910, 1])\n",
      "train_mask                              torch.Size([24561910, 1])\n",
      "val_mask                                torch.Size([24561910, 1])\n",
      "test_mask                               torch.Size([24561910, 1])\n"
     ]
    }
   ],
   "source": [
    "graph_show(G)"
   ]
  },
  {
   "cell_type": "code",
   "execution_count": 67,
   "metadata": {},
   "outputs": [
    {
     "data": {
      "text/plain": [
       "tensor([[0., 0.],\n",
       "        [0., 0.],\n",
       "        [0., 0.]])"
      ]
     },
     "execution_count": 67,
     "metadata": {},
     "output_type": "execute_result"
    }
   ],
   "source": [
    "torch.empty(3,2)"
   ]
  },
  {
   "cell_type": "code",
   "execution_count": 71,
   "metadata": {},
   "outputs": [
    {
     "name": "stdout",
     "output_type": "stream",
     "text": [
      "The number of zero in-degree nodes is 0          \n"
     ]
    }
   ],
   "source": [
    "C=torch.empty(G.num_nodes('usaanr'))\n",
    "for etype in G.etypes:\n",
    "    C+=G.in_degrees(etype=etype)\n",
    "print(\"{:<35}{:<10,} \".format(\"The number of zero in-degree nodes is \",torch.sum(C==0)))"
   ]
  },
  {
   "cell_type": "markdown",
   "metadata": {},
   "source": [
    "#### Find metapaths in the generated heterogeneous graph"
   ]
  },
  {
   "cell_type": "code",
   "execution_count": 7,
   "metadata": {},
   "outputs": [
    {
     "data": {
      "text/plain": [
       "<bound method DGLHeteroGraph.metagraph of Graph(num_nodes={'usaanr': 24561910},\n",
       "      num_edges={('usaanr', 'AUTO_RELATED', 'usaanr'): 8056456, ('usaanr', 'Brother_Sister', 'usaanr'): 618666, ('usaanr', 'Busi_rel_Other', 'usaanr'): 1022064, ('usaanr', 'Child', 'usaanr'): 11067385, ('usaanr', 'Ex-Spouse', 'usaanr'): 3682614, ('usaanr', 'Parent', 'usaanr'): 11067385, ('usaanr', 'Pers_rel_Other', 'usaanr'): 1892856, ('usaanr', 'SPONSEE', 'usaanr'): 15958685, ('usaanr', 'SPONSOR', 'usaanr'): 15958685, ('usaanr', 'Spouse', 'usaanr'): 15485971, ('usaanr', 'Step-Child', 'usaanr'): 1165991, ('usaanr', 'Step-Parent', 'usaanr'): 1165991},\n",
       "      metagraph=[('usaanr', 'usaanr', 'AUTO_RELATED'), ('usaanr', 'usaanr', 'Brother_Sister'), ('usaanr', 'usaanr', 'Busi_rel_Other'), ('usaanr', 'usaanr', 'Child'), ('usaanr', 'usaanr', 'Ex-Spouse'), ('usaanr', 'usaanr', 'Parent'), ('usaanr', 'usaanr', 'Pers_rel_Other'), ('usaanr', 'usaanr', 'SPONSEE'), ('usaanr', 'usaanr', 'SPONSOR'), ('usaanr', 'usaanr', 'Spouse'), ('usaanr', 'usaanr', 'Step-Child'), ('usaanr', 'usaanr', 'Step-Parent')])>"
      ]
     },
     "execution_count": 7,
     "metadata": {},
     "output_type": "execute_result"
    }
   ],
   "source": [
    "G.metagraph"
   ]
  },
  {
   "cell_type": "code",
   "execution_count": 8,
   "metadata": {},
   "outputs": [],
   "source": [
    "import itertools\n",
    "\n",
    "def get_all_possible_metapaths(g, K):\n",
    "    possible_metapaths = []\n",
    "    metagraph = g.metagraph\n",
    "    # Iterate over all possible K-length sequences of all canonical edge types\n",
    "    for metapath in itertools.product(g.canonical_etypes, repeat=K):\n",
    "        # Check if the sequence indeed connects and forms a metapath.\n",
    "        # If the destination node type of an edge type is not the same as the source\n",
    "        # node type of the next edge type, then the sequence is not a valid metapath.\n",
    "        is_valid = True\n",
    "        previous_ntype = None\n",
    "        for srctype, etype, dsttype in metapath:\n",
    "            if previous_ntype is not None and srctype != previous_ntype:\n",
    "                is_valid = False\n",
    "                break\n",
    "            previous_ntype = dsttype\n",
    "\n",
    "        if is_valid:\n",
    "            possible_metapaths.append(metapath)\n",
    "    filtered_metapaths = []\n",
    "    for metapath in possible_metapaths:\n",
    "        result_g = dgl.metapath_reachable_graph(g, metapath)\n",
    "        if result_g.number_of_edges() > 0:\n",
    "            filtered_metapaths.append(metapath)\n",
    "    return filtered_metapaths\n",
    "\n",
    "def pretty_print_metapath(metapath):\n",
    "    # This function just pretty-prints the metapath\n",
    "    item_list = sum([['(' + etype[1] + ')', etype[2]] for etype in metapath], [])\n",
    "    item_list.insert(0, metapath[0][0])\n",
    "    return ' -- '.join(item_list)"
   ]
  },
  {
   "cell_type": "code",
   "execution_count": 9,
   "metadata": {},
   "outputs": [
    {
     "name": "stdout",
     "output_type": "stream",
     "text": [
      "### Length 1 metapaths ###\n",
      "usaanr -- (AUTO_RELATED) -- usaanr\n",
      "usaanr -- (Brother_Sister) -- usaanr\n",
      "usaanr -- (Busi_rel_Other) -- usaanr\n",
      "usaanr -- (Child) -- usaanr\n",
      "usaanr -- (Ex-Spouse) -- usaanr\n",
      "usaanr -- (Parent) -- usaanr\n",
      "usaanr -- (Pers_rel_Other) -- usaanr\n",
      "usaanr -- (SPONSEE) -- usaanr\n",
      "usaanr -- (SPONSOR) -- usaanr\n",
      "usaanr -- (Spouse) -- usaanr\n",
      "usaanr -- (Step-Child) -- usaanr\n",
      "usaanr -- (Step-Parent) -- usaanr\n",
      "### Length 2 metapaths ###\n",
      "usaanr -- (AUTO_RELATED) -- usaanr -- (AUTO_RELATED) -- usaanr\n",
      "usaanr -- (AUTO_RELATED) -- usaanr -- (Brother_Sister) -- usaanr\n",
      "usaanr -- (AUTO_RELATED) -- usaanr -- (Busi_rel_Other) -- usaanr\n",
      "usaanr -- (AUTO_RELATED) -- usaanr -- (Child) -- usaanr\n",
      "usaanr -- (AUTO_RELATED) -- usaanr -- (Ex-Spouse) -- usaanr\n",
      "usaanr -- (AUTO_RELATED) -- usaanr -- (Parent) -- usaanr\n",
      "usaanr -- (AUTO_RELATED) -- usaanr -- (Pers_rel_Other) -- usaanr\n",
      "usaanr -- (AUTO_RELATED) -- usaanr -- (SPONSEE) -- usaanr\n",
      "usaanr -- (AUTO_RELATED) -- usaanr -- (SPONSOR) -- usaanr\n",
      "usaanr -- (AUTO_RELATED) -- usaanr -- (Spouse) -- usaanr\n",
      "usaanr -- (AUTO_RELATED) -- usaanr -- (Step-Child) -- usaanr\n",
      "usaanr -- (AUTO_RELATED) -- usaanr -- (Step-Parent) -- usaanr\n",
      "usaanr -- (Brother_Sister) -- usaanr -- (AUTO_RELATED) -- usaanr\n",
      "usaanr -- (Brother_Sister) -- usaanr -- (Brother_Sister) -- usaanr\n",
      "usaanr -- (Brother_Sister) -- usaanr -- (Busi_rel_Other) -- usaanr\n",
      "usaanr -- (Brother_Sister) -- usaanr -- (Child) -- usaanr\n",
      "usaanr -- (Brother_Sister) -- usaanr -- (Ex-Spouse) -- usaanr\n",
      "usaanr -- (Brother_Sister) -- usaanr -- (Parent) -- usaanr\n",
      "usaanr -- (Brother_Sister) -- usaanr -- (Pers_rel_Other) -- usaanr\n",
      "usaanr -- (Brother_Sister) -- usaanr -- (SPONSEE) -- usaanr\n",
      "usaanr -- (Brother_Sister) -- usaanr -- (SPONSOR) -- usaanr\n",
      "usaanr -- (Brother_Sister) -- usaanr -- (Spouse) -- usaanr\n",
      "usaanr -- (Brother_Sister) -- usaanr -- (Step-Child) -- usaanr\n",
      "usaanr -- (Brother_Sister) -- usaanr -- (Step-Parent) -- usaanr\n",
      "usaanr -- (Busi_rel_Other) -- usaanr -- (AUTO_RELATED) -- usaanr\n",
      "usaanr -- (Busi_rel_Other) -- usaanr -- (Brother_Sister) -- usaanr\n",
      "usaanr -- (Busi_rel_Other) -- usaanr -- (Busi_rel_Other) -- usaanr\n",
      "usaanr -- (Busi_rel_Other) -- usaanr -- (Child) -- usaanr\n",
      "usaanr -- (Busi_rel_Other) -- usaanr -- (Ex-Spouse) -- usaanr\n",
      "usaanr -- (Busi_rel_Other) -- usaanr -- (Parent) -- usaanr\n",
      "usaanr -- (Busi_rel_Other) -- usaanr -- (Pers_rel_Other) -- usaanr\n",
      "usaanr -- (Busi_rel_Other) -- usaanr -- (SPONSEE) -- usaanr\n",
      "usaanr -- (Busi_rel_Other) -- usaanr -- (SPONSOR) -- usaanr\n",
      "usaanr -- (Busi_rel_Other) -- usaanr -- (Spouse) -- usaanr\n",
      "usaanr -- (Busi_rel_Other) -- usaanr -- (Step-Child) -- usaanr\n",
      "usaanr -- (Busi_rel_Other) -- usaanr -- (Step-Parent) -- usaanr\n",
      "usaanr -- (Child) -- usaanr -- (AUTO_RELATED) -- usaanr\n",
      "usaanr -- (Child) -- usaanr -- (Brother_Sister) -- usaanr\n",
      "usaanr -- (Child) -- usaanr -- (Busi_rel_Other) -- usaanr\n",
      "usaanr -- (Child) -- usaanr -- (Child) -- usaanr\n",
      "usaanr -- (Child) -- usaanr -- (Ex-Spouse) -- usaanr\n",
      "usaanr -- (Child) -- usaanr -- (Parent) -- usaanr\n",
      "usaanr -- (Child) -- usaanr -- (Pers_rel_Other) -- usaanr\n",
      "usaanr -- (Child) -- usaanr -- (SPONSEE) -- usaanr\n",
      "usaanr -- (Child) -- usaanr -- (SPONSOR) -- usaanr\n",
      "usaanr -- (Child) -- usaanr -- (Spouse) -- usaanr\n",
      "usaanr -- (Child) -- usaanr -- (Step-Child) -- usaanr\n",
      "usaanr -- (Child) -- usaanr -- (Step-Parent) -- usaanr\n",
      "usaanr -- (Ex-Spouse) -- usaanr -- (AUTO_RELATED) -- usaanr\n",
      "usaanr -- (Ex-Spouse) -- usaanr -- (Brother_Sister) -- usaanr\n",
      "usaanr -- (Ex-Spouse) -- usaanr -- (Busi_rel_Other) -- usaanr\n",
      "usaanr -- (Ex-Spouse) -- usaanr -- (Child) -- usaanr\n",
      "usaanr -- (Ex-Spouse) -- usaanr -- (Ex-Spouse) -- usaanr\n",
      "usaanr -- (Ex-Spouse) -- usaanr -- (Parent) -- usaanr\n",
      "usaanr -- (Ex-Spouse) -- usaanr -- (Pers_rel_Other) -- usaanr\n",
      "usaanr -- (Ex-Spouse) -- usaanr -- (SPONSEE) -- usaanr\n",
      "usaanr -- (Ex-Spouse) -- usaanr -- (SPONSOR) -- usaanr\n",
      "usaanr -- (Ex-Spouse) -- usaanr -- (Spouse) -- usaanr\n",
      "usaanr -- (Ex-Spouse) -- usaanr -- (Step-Child) -- usaanr\n",
      "usaanr -- (Ex-Spouse) -- usaanr -- (Step-Parent) -- usaanr\n",
      "usaanr -- (Parent) -- usaanr -- (AUTO_RELATED) -- usaanr\n",
      "usaanr -- (Parent) -- usaanr -- (Brother_Sister) -- usaanr\n",
      "usaanr -- (Parent) -- usaanr -- (Busi_rel_Other) -- usaanr\n",
      "usaanr -- (Parent) -- usaanr -- (Child) -- usaanr\n",
      "usaanr -- (Parent) -- usaanr -- (Ex-Spouse) -- usaanr\n",
      "usaanr -- (Parent) -- usaanr -- (Parent) -- usaanr\n",
      "usaanr -- (Parent) -- usaanr -- (Pers_rel_Other) -- usaanr\n",
      "usaanr -- (Parent) -- usaanr -- (SPONSEE) -- usaanr\n",
      "usaanr -- (Parent) -- usaanr -- (SPONSOR) -- usaanr\n",
      "usaanr -- (Parent) -- usaanr -- (Spouse) -- usaanr\n",
      "usaanr -- (Parent) -- usaanr -- (Step-Child) -- usaanr\n",
      "usaanr -- (Parent) -- usaanr -- (Step-Parent) -- usaanr\n",
      "usaanr -- (Pers_rel_Other) -- usaanr -- (AUTO_RELATED) -- usaanr\n",
      "usaanr -- (Pers_rel_Other) -- usaanr -- (Brother_Sister) -- usaanr\n",
      "usaanr -- (Pers_rel_Other) -- usaanr -- (Busi_rel_Other) -- usaanr\n",
      "usaanr -- (Pers_rel_Other) -- usaanr -- (Child) -- usaanr\n",
      "usaanr -- (Pers_rel_Other) -- usaanr -- (Ex-Spouse) -- usaanr\n",
      "usaanr -- (Pers_rel_Other) -- usaanr -- (Parent) -- usaanr\n",
      "usaanr -- (Pers_rel_Other) -- usaanr -- (Pers_rel_Other) -- usaanr\n",
      "usaanr -- (Pers_rel_Other) -- usaanr -- (SPONSEE) -- usaanr\n",
      "usaanr -- (Pers_rel_Other) -- usaanr -- (SPONSOR) -- usaanr\n",
      "usaanr -- (Pers_rel_Other) -- usaanr -- (Spouse) -- usaanr\n",
      "usaanr -- (Pers_rel_Other) -- usaanr -- (Step-Child) -- usaanr\n",
      "usaanr -- (Pers_rel_Other) -- usaanr -- (Step-Parent) -- usaanr\n",
      "usaanr -- (SPONSEE) -- usaanr -- (AUTO_RELATED) -- usaanr\n",
      "usaanr -- (SPONSEE) -- usaanr -- (Brother_Sister) -- usaanr\n",
      "usaanr -- (SPONSEE) -- usaanr -- (Busi_rel_Other) -- usaanr\n",
      "usaanr -- (SPONSEE) -- usaanr -- (Child) -- usaanr\n",
      "usaanr -- (SPONSEE) -- usaanr -- (Ex-Spouse) -- usaanr\n",
      "usaanr -- (SPONSEE) -- usaanr -- (Parent) -- usaanr\n",
      "usaanr -- (SPONSEE) -- usaanr -- (Pers_rel_Other) -- usaanr\n",
      "usaanr -- (SPONSEE) -- usaanr -- (SPONSEE) -- usaanr\n",
      "usaanr -- (SPONSEE) -- usaanr -- (SPONSOR) -- usaanr\n",
      "usaanr -- (SPONSEE) -- usaanr -- (Spouse) -- usaanr\n",
      "usaanr -- (SPONSEE) -- usaanr -- (Step-Child) -- usaanr\n",
      "usaanr -- (SPONSEE) -- usaanr -- (Step-Parent) -- usaanr\n",
      "usaanr -- (SPONSOR) -- usaanr -- (AUTO_RELATED) -- usaanr\n",
      "usaanr -- (SPONSOR) -- usaanr -- (Brother_Sister) -- usaanr\n",
      "usaanr -- (SPONSOR) -- usaanr -- (Busi_rel_Other) -- usaanr\n",
      "usaanr -- (SPONSOR) -- usaanr -- (Child) -- usaanr\n",
      "usaanr -- (SPONSOR) -- usaanr -- (Ex-Spouse) -- usaanr\n",
      "usaanr -- (SPONSOR) -- usaanr -- (Parent) -- usaanr\n",
      "usaanr -- (SPONSOR) -- usaanr -- (Pers_rel_Other) -- usaanr\n",
      "usaanr -- (SPONSOR) -- usaanr -- (SPONSEE) -- usaanr\n",
      "usaanr -- (SPONSOR) -- usaanr -- (SPONSOR) -- usaanr\n",
      "usaanr -- (SPONSOR) -- usaanr -- (Spouse) -- usaanr\n",
      "usaanr -- (SPONSOR) -- usaanr -- (Step-Child) -- usaanr\n",
      "usaanr -- (SPONSOR) -- usaanr -- (Step-Parent) -- usaanr\n",
      "usaanr -- (Spouse) -- usaanr -- (AUTO_RELATED) -- usaanr\n",
      "usaanr -- (Spouse) -- usaanr -- (Brother_Sister) -- usaanr\n",
      "usaanr -- (Spouse) -- usaanr -- (Busi_rel_Other) -- usaanr\n",
      "usaanr -- (Spouse) -- usaanr -- (Child) -- usaanr\n",
      "usaanr -- (Spouse) -- usaanr -- (Ex-Spouse) -- usaanr\n",
      "usaanr -- (Spouse) -- usaanr -- (Parent) -- usaanr\n",
      "usaanr -- (Spouse) -- usaanr -- (Pers_rel_Other) -- usaanr\n",
      "usaanr -- (Spouse) -- usaanr -- (SPONSEE) -- usaanr\n",
      "usaanr -- (Spouse) -- usaanr -- (SPONSOR) -- usaanr\n",
      "usaanr -- (Spouse) -- usaanr -- (Spouse) -- usaanr\n",
      "usaanr -- (Spouse) -- usaanr -- (Step-Child) -- usaanr\n",
      "usaanr -- (Spouse) -- usaanr -- (Step-Parent) -- usaanr\n",
      "usaanr -- (Step-Child) -- usaanr -- (AUTO_RELATED) -- usaanr\n",
      "usaanr -- (Step-Child) -- usaanr -- (Brother_Sister) -- usaanr\n",
      "usaanr -- (Step-Child) -- usaanr -- (Busi_rel_Other) -- usaanr\n",
      "usaanr -- (Step-Child) -- usaanr -- (Child) -- usaanr\n",
      "usaanr -- (Step-Child) -- usaanr -- (Ex-Spouse) -- usaanr\n",
      "usaanr -- (Step-Child) -- usaanr -- (Parent) -- usaanr\n",
      "usaanr -- (Step-Child) -- usaanr -- (Pers_rel_Other) -- usaanr\n",
      "usaanr -- (Step-Child) -- usaanr -- (SPONSEE) -- usaanr\n",
      "usaanr -- (Step-Child) -- usaanr -- (SPONSOR) -- usaanr\n",
      "usaanr -- (Step-Child) -- usaanr -- (Spouse) -- usaanr\n",
      "usaanr -- (Step-Child) -- usaanr -- (Step-Child) -- usaanr\n",
      "usaanr -- (Step-Child) -- usaanr -- (Step-Parent) -- usaanr\n",
      "usaanr -- (Step-Parent) -- usaanr -- (AUTO_RELATED) -- usaanr\n",
      "usaanr -- (Step-Parent) -- usaanr -- (Brother_Sister) -- usaanr\n",
      "usaanr -- (Step-Parent) -- usaanr -- (Busi_rel_Other) -- usaanr\n",
      "usaanr -- (Step-Parent) -- usaanr -- (Child) -- usaanr\n",
      "usaanr -- (Step-Parent) -- usaanr -- (Ex-Spouse) -- usaanr\n",
      "usaanr -- (Step-Parent) -- usaanr -- (Parent) -- usaanr\n",
      "usaanr -- (Step-Parent) -- usaanr -- (Pers_rel_Other) -- usaanr\n",
      "usaanr -- (Step-Parent) -- usaanr -- (SPONSEE) -- usaanr\n",
      "usaanr -- (Step-Parent) -- usaanr -- (SPONSOR) -- usaanr\n",
      "usaanr -- (Step-Parent) -- usaanr -- (Spouse) -- usaanr\n",
      "usaanr -- (Step-Parent) -- usaanr -- (Step-Child) -- usaanr\n",
      "usaanr -- (Step-Parent) -- usaanr -- (Step-Parent) -- usaanr\n"
     ]
    }
   ],
   "source": [
    "for K in range(1, 3):\n",
    "    print('### Length', K, 'metapaths ###')\n",
    "    possible_metapaths = get_all_possible_metapaths(G, K)\n",
    "    # print the metapaths\n",
    "    for metapath in possible_metapaths:\n",
    "        print(pretty_print_metapath(metapath))"
   ]
  },
  {
   "cell_type": "code",
   "execution_count": 10,
   "metadata": {},
   "outputs": [
    {
     "name": "stdout",
     "output_type": "stream",
     "text": [
      "Total number of metapath(length 2) is 144\n"
     ]
    }
   ],
   "source": [
    "print(\"Total number of metapath(length 2) is {}\".format(len(possible_metapaths)))"
   ]
  },
  {
   "cell_type": "code",
   "execution_count": null,
   "metadata": {},
   "outputs": [],
   "source": []
  }
 ],
 "metadata": {
  "kernelspec": {
   "display_name": "Python 3",
   "language": "python",
   "name": "python3"
  },
  "language_info": {
   "codemirror_mode": {
    "name": "ipython",
    "version": 3
   },
   "file_extension": ".py",
   "mimetype": "text/x-python",
   "name": "python",
   "nbconvert_exporter": "python",
   "pygments_lexer": "ipython3",
   "version": "3.6.7"
  }
 },
 "nbformat": 4,
 "nbformat_minor": 4
}
